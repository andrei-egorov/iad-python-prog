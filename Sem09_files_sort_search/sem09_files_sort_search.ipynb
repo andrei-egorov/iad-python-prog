{
 "cells": [
  {
   "cell_type": "markdown",
   "id": "1a1e3705-4310-4e90-ad63-5e5266087eb0",
   "metadata": {},
   "source": [
    "# Семинар 10. Файлы, поиск, сортировка"
   ]
  },
  {
   "cell_type": "markdown",
   "id": "4cdf1bc0-1110-478c-8c15-bd9bee1893cf",
   "metadata": {},
   "source": [
    "Сегодня мы поговорим про работу с файлами, поиск и сортировку"
   ]
  },
  {
   "cell_type": "markdown",
   "id": "5600d4cf-f225-4524-ab20-06ab5290c1f4",
   "metadata": {
    "id": "leoKGxykfpEo"
   },
   "source": [
    "# Работа с файлами"
   ]
  },
  {
   "cell_type": "markdown",
   "id": "e9a7aa0f-c01f-46fc-8649-91b3d4890e2f",
   "metadata": {
    "id": "gH-vAI9TfpEt"
   },
   "source": [
    "Для открытия файлов в python используется встроенная команда open:"
   ]
  },
  {
   "cell_type": "code",
   "execution_count": null,
   "id": "2509e8d1-fee4-432e-9a1b-781314af1119",
   "metadata": {
    "id": "eoshX7KSfpEu",
    "tags": []
   },
   "outputs": [],
   "source": [
    "f = open('input.txt')"
   ]
  },
  {
   "cell_type": "code",
   "execution_count": null,
   "id": "6ce7b233-dac3-4716-8b69-c615a13e76f5",
   "metadata": {
    "colab": {
     "base_uri": "https://localhost:8080/"
    },
    "id": "hYKaNKCrKngn",
    "outputId": "8c790121-3d85-4408-ee0b-fdc70a67548b"
   },
   "outputs": [
    {
     "data": {
      "text/plain": [
       "<_io.TextIOWrapper name='input.txt' mode='r' encoding='UTF-8'>"
      ]
     },
     "execution_count": 3,
     "metadata": {},
     "output_type": "execute_result"
    }
   ],
   "source": [
    "f"
   ]
  },
  {
   "cell_type": "markdown",
   "id": "a7b2f0ef-e2fb-4fe5-8e7a-c9d90995973d",
   "metadata": {
    "id": "eYlnOJgsfpEw"
   },
   "source": [
    "Функция open() принимает 2 основных аргумента:\n",
    "- первый аргумент file - это имя файла, т.е. путь к файлу, который мы хотим открыть, путь может быть как абсолютный, так и относительный, как и в ОС Windows.\n",
    "- второй аргумент mode - это режим работы с файлом: для чтения, записи, перезаписи и пр."
   ]
  },
  {
   "cell_type": "markdown",
   "id": "2e24857b-0663-4552-ac13-d6008b3d1788",
   "metadata": {
    "id": "_OGU0KeMfpEx"
   },
   "source": [
    "Обозначение режимов работы с фалом:\n",
    "- 'r'\tоткрытие на чтение (является значением по умолчанию).\n",
    "- 'w'\tоткрытие на запись, содержимое файла удаляется, создается новый пустой файл.\n",
    "- 'x'\tоткрытие на запись, если файла не существует, иначе исключение.\n",
    "- 'a'\tоткрытие на дозапись, информация добавляется в конец файла.\n",
    "- 'b'\tоткрытие в двоичном режиме.\n",
    "- 't'\tоткрытие в текстовом режиме.\n",
    "- '+'\tоткрытие на чтение и запись."
   ]
  },
  {
   "cell_type": "markdown",
   "id": "98f67e51-1faf-4606-838c-41cadbe8d874",
   "metadata": {
    "id": "mVJazS4ffpEx"
   },
   "source": [
    "В python файл представляется идентификатором и вся дальнейшая работа с этим файлом связана с его идентификатором:"
   ]
  },
  {
   "cell_type": "code",
   "execution_count": null,
   "id": "3b9d9fe4-e34c-4622-9ee2-c4672b65fbec",
   "metadata": {
    "colab": {
     "base_uri": "https://localhost:8080/"
    },
    "id": "23px6MQGfpEy",
    "outputId": "a255007e-a5a7-46b5-b69d-283ed9673447"
   },
   "outputs": [
    {
     "name": "stdout",
     "output_type": "stream",
     "text": [
      "<_io.TextIOWrapper name='input 1.txt' mode='r' encoding='UTF-8'>\n"
     ]
    }
   ],
   "source": [
    "f = open('input.txt', 'r')\n",
    "print(f)"
   ]
  },
  {
   "cell_type": "markdown",
   "id": "54a73201-e7b7-418d-98b3-c028472e91bf",
   "metadata": {
    "id": "QP2wg3WqfpEz"
   },
   "source": [
    "# Чтение из файла"
   ]
  },
  {
   "cell_type": "markdown",
   "id": "0d9f1699-d7f4-470f-a89d-d8e91fb35340",
   "metadata": {
    "id": "ylXq2hWofpE0"
   },
   "source": [
    "Существует 3 основных способа чтения информации из текстового файла:"
   ]
  },
  {
   "cell_type": "markdown",
   "id": "a3ca8aed-986a-491a-bfd5-d48f6e7b66af",
   "metadata": {
    "id": "M2lpCjoCfpE1"
   },
   "source": [
    "1. Чтение всей информации целиком с помощью функции read()"
   ]
  },
  {
   "cell_type": "code",
   "execution_count": null,
   "id": "c41ca10d-8aaf-4f3f-9f2b-7d9726ac2a7e",
   "metadata": {
    "id": "b_npCmNGK9gg"
   },
   "outputs": [],
   "source": [
    "f = open('input.txt', 'r')"
   ]
  },
  {
   "cell_type": "code",
   "execution_count": null,
   "id": "53db2ff2-8e2a-4808-8272-41d36e92db3a",
   "metadata": {
    "colab": {
     "base_uri": "https://localhost:8080/"
    },
    "id": "Y34Wt4WhfpE1",
    "outputId": "b0defbc8-6b8f-4ceb-9c32-561608edcd42"
   },
   "outputs": [
    {
     "name": "stdout",
     "output_type": "stream",
     "text": [
      "1\n",
      "2\n",
      "3\n",
      "4\n",
      "5\n",
      "6\n",
      "7\n",
      "8\n",
      "9\n",
      "0\n"
     ]
    }
   ],
   "source": [
    "msg = f.read()\n",
    "print(msg)"
   ]
  },
  {
   "cell_type": "markdown",
   "id": "9940b66d-69e4-45c6-b688-4d2cce7872c7",
   "metadata": {
    "id": "1fN4cWrcfpE2"
   },
   "source": [
    "2. Чтение информации построчно с помощью цикла for"
   ]
  },
  {
   "cell_type": "code",
   "execution_count": null,
   "id": "2550237f-75cc-4021-ad6d-5fbe0e142c83",
   "metadata": {
    "colab": {
     "base_uri": "https://localhost:8080/"
    },
    "id": "2HnzhdAPfpE2",
    "outputId": "9547e09a-9b86-464b-f5c0-91f7f7a0407a"
   },
   "outputs": [
    {
     "name": "stdout",
     "output_type": "stream",
     "text": [
      "1\n",
      "2\n",
      "3\n",
      "4\n",
      "5\n",
      "6\n",
      "7\n",
      "8\n",
      "9\n",
      "0"
     ]
    }
   ],
   "source": [
    "f = open('input.txt', 'r')\n",
    "for line in f:\n",
    "    print(line, end='')"
   ]
  },
  {
   "cell_type": "markdown",
   "id": "37b1cc30-4de8-41f2-8349-2288c0d4ac84",
   "metadata": {
    "id": "dkVQcpSdfpE2"
   },
   "source": [
    "В выводе присутствуют все переводы строк, как и в файле. Дополнительные переводы строк обусловлены стандартным поведением функции print()."
   ]
  },
  {
   "cell_type": "markdown",
   "id": "71a64f77-24ab-4ca2-96cc-d2c402767a58",
   "metadata": {
    "id": "CI9onG2ZfpE3"
   },
   "source": [
    "3. Чтение всех строк одним списком с помощью функции readlines()"
   ]
  },
  {
   "cell_type": "code",
   "execution_count": null,
   "id": "01630fe5-2276-4c89-be96-2fa3b3855f74",
   "metadata": {
    "colab": {
     "base_uri": "https://localhost:8080/"
    },
    "id": "t5wvgb3RfpE3",
    "outputId": "6d7847c1-53bc-4945-d4ae-65a86f5085e2"
   },
   "outputs": [
    {
     "name": "stdout",
     "output_type": "stream",
     "text": [
      "Hello World!\n",
      "1\n",
      "2\n",
      "3\n",
      "4\n",
      "5\n",
      "\n"
     ]
    }
   ],
   "source": [
    "f = open('input 1.txt', 'r')\n",
    "lines = f.readlines()\n",
    "for i in range(len(lines)):\n",
    "    print(lines[i],end='')"
   ]
  },
  {
   "cell_type": "markdown",
   "id": "24e1ca97-beaa-46b9-950d-b7318b012bcd",
   "metadata": {
    "id": "3O-cORMbfpE4"
   },
   "source": [
    "Существует также функция readline(), позволяющая считать лишь одну строчку а не все сразу."
   ]
  },
  {
   "cell_type": "markdown",
   "id": "73a6b02a-6d8e-4b2f-8dea-66e6de938fdd",
   "metadata": {
    "id": "2d2FcAzTfpE4"
   },
   "source": [
    "# Запись в файл"
   ]
  },
  {
   "cell_type": "markdown",
   "id": "3e727558-9528-49ba-8918-1538c31330d5",
   "metadata": {
    "id": "u627ybp8fpE4"
   },
   "source": [
    "Первым делом для записи в файл его нужно открыть в режиме записи:"
   ]
  },
  {
   "cell_type": "code",
   "execution_count": null,
   "id": "b3c385ae-f615-480f-b4ff-037501c7a2c5",
   "metadata": {
    "colab": {
     "base_uri": "https://localhost:8080/"
    },
    "id": "Sb5yCgYdfpE4",
    "outputId": "c13db34c-1016-4ed0-c8e5-b3147ec402dd"
   },
   "outputs": [
    {
     "name": "stdout",
     "output_type": "stream",
     "text": [
      "<_io.TextIOWrapper name='output.txt' mode='w' encoding='UTF-8'>\n"
     ]
    }
   ],
   "source": [
    "f = open('output.txt', 'w')\n",
    "print(f)"
   ]
  },
  {
   "cell_type": "code",
   "execution_count": null,
   "id": "c7c465b2-fb40-4d62-9fec-7a4f128a8561",
   "metadata": {
    "id": "pCuJq4EKLVqO"
   },
   "outputs": [],
   "source": [
    "f.close()"
   ]
  },
  {
   "cell_type": "markdown",
   "id": "f6d8c8e2-b6ae-4259-a8da-dc4a29f0f622",
   "metadata": {
    "id": "MjfmQuTdfpE5"
   },
   "source": [
    "1. Запись в файл с помощью метода write:"
   ]
  },
  {
   "cell_type": "code",
   "execution_count": null,
   "id": "77c37c4d-dcf0-4dd8-959b-4930856cc6d7",
   "metadata": {
    "id": "nC4J3mFpfpE5"
   },
   "outputs": [],
   "source": [
    "f = open('output.txt', 'a')\n",
    "msg = \"\\nWrite to file again and again\"\n",
    "f.write(msg)\n",
    "f.close()"
   ]
  },
  {
   "cell_type": "code",
   "execution_count": null,
   "id": "7690f455-311f-42a9-b454-8e9a3275eb4b",
   "metadata": {
    "id": "DP3YlM1mL2h_"
   },
   "outputs": [],
   "source": [
    "f = open(\"print_output_example.txt\", 'w')"
   ]
  },
  {
   "cell_type": "markdown",
   "id": "099c0b44-70df-4480-84fe-aafcd7ff65da",
   "metadata": {
    "id": "RhjcecZyfpE5"
   },
   "source": [
    "Функции write принимает строковый аргумент - данные для записи, и возвращает число записанных символов."
   ]
  },
  {
   "cell_type": "markdown",
   "id": "41656865-798f-46aa-8ecc-14f87bb02e38",
   "metadata": {
    "id": "mn8USMXsfpE5"
   },
   "source": [
    "2. Запись в файл с помощью метода print:"
   ]
  },
  {
   "cell_type": "code",
   "execution_count": null,
   "id": "b7deca61-b874-43a8-bd76-63efdcac49a2",
   "metadata": {
    "id": "qmcfOF-rfpE6"
   },
   "outputs": [],
   "source": [
    "msg = \"Write with print\"\n",
    "print(msg, file=f)"
   ]
  },
  {
   "cell_type": "markdown",
   "id": "0125bf28-0880-4467-a90b-4f9ca4508c55",
   "metadata": {
    "id": "ByZJeGcofpE6"
   },
   "source": [
    "После чтения/записи не забывайте закрывать файлы:"
   ]
  },
  {
   "cell_type": "code",
   "execution_count": null,
   "id": "e15b911e-fdcf-46a4-a23c-7cf41b5aabbd",
   "metadata": {
    "id": "mINzEa2ifpE6"
   },
   "outputs": [],
   "source": [
    "f.close()"
   ]
  },
  {
   "cell_type": "markdown",
   "id": "696d4f72-fb28-4156-aa4f-a984d4313d4e",
   "metadata": {
    "id": "uRm4JfUIfpE6"
   },
   "source": [
    "# With ... as - менеджер контекста"
   ]
  },
  {
   "cell_type": "markdown",
   "id": "22d05299-a829-47ee-a35b-846840e52aa1",
   "metadata": {
    "id": "uLv3QmKXfpE6"
   },
   "source": [
    "Конструкция with ... as используется для оборачивания блока инструкций.  Гарантирует выполнение завершающих действий (например, закрытие файла) вне зависимости от того, произошло исключение внутри блока кода или нет.\n",
    "Синтаксис конструкции with ... as:"
   ]
  },
  {
   "cell_type": "code",
   "execution_count": null,
   "id": "d8d62c65-e9f2-41ce-b989-e088bfc33876",
   "metadata": {
    "id": "oIFEsYfcfpE7",
    "tags": []
   },
   "outputs": [],
   "source": [
    "\"with\" expression [\"as\" target] (\",\" expression [\"as\" target])* \":\"\n",
    "    suite"
   ]
  },
  {
   "cell_type": "markdown",
   "id": "a60819f0-9b45-4438-9e4c-d527ae44dbaa",
   "metadata": {
    "id": "dozDD42-fpE7"
   },
   "source": [
    "Что происходит при выполнении данного блока:\n",
    "\n",
    "1) Вначале вычисляется **<expression>**, которое должно возвращать объект, поддерживающий протокол и имеющий два метода: __enter__() и __exit__()\n",
    "\n",
    "2) Выполняется метод __enter__. Если конструкция with включает в себя слово as, то возвращаемое методом __enter__ значение записывается в переменную. Если переменная не указана, возвращаемое значение игнорируется.\n",
    "\n",
    "3) Вызывается метод __exit__, причём неважно, выполнилось ли suite или произошло исключение. В этот метод передаются параметры исключения, если оно произошло, или  None, если исключения не было."
   ]
  },
  {
   "cell_type": "markdown",
   "id": "a5a051ec-6c7a-4a93-9f3e-cc2323f9a700",
   "metadata": {
    "id": "f5NhoKQ9fpE7"
   },
   "source": [
    "Если в конструкции with - as было несколько выражений, то это эквивалентно нескольким вложенным конструкциям:"
   ]
  },
  {
   "cell_type": "code",
   "execution_count": null,
   "id": "ef998937-31d5-4a65-9168-812101f72f96",
   "metadata": {
    "id": "gTC5GIQsfpE7",
    "tags": []
   },
   "outputs": [],
   "source": [
    "with A() as a, B() as b:\n",
    "    suite"
   ]
  },
  {
   "cell_type": "markdown",
   "id": "b02bcb40-2a84-4932-885d-3e5c1d7a60dc",
   "metadata": {
    "id": "EueNY-XFfpE8"
   },
   "source": [
    "эквивалентно"
   ]
  },
  {
   "cell_type": "code",
   "execution_count": null,
   "id": "2ab69f51-c01a-49d1-9f5d-259607b0b5fd",
   "metadata": {
    "id": "1oxwn799fpE8",
    "tags": []
   },
   "outputs": [],
   "source": [
    "with A() as a:\n",
    "    with B() as b:\n",
    "        suite"
   ]
  },
  {
   "cell_type": "markdown",
   "id": "a06f556d-ea69-40c6-8973-059a3259c575",
   "metadata": {
    "id": "klKD1smmfpE8"
   },
   "source": [
    "Для чего применяется конструкция with ... as? Для гарантии того, что критические функции выполнятся в любом случае. Самый распространённый пример использования этой конструкции - открытие файлов, такой способ гарантирует закрытие файла в любом случае."
   ]
  },
  {
   "cell_type": "code",
   "execution_count": null,
   "id": "31aa5f07-6002-4f83-9b54-9f3335d13613",
   "metadata": {
    "id": "6FzFbyJIfpE8"
   },
   "outputs": [],
   "source": [
    "with open('output.txt','w') as f:\n",
    "    f.write('Write without close')"
   ]
  },
  {
   "cell_type": "code",
   "execution_count": null,
   "id": "65fd0f77-2c9e-4417-8eb5-10e9eba347a4",
   "metadata": {},
   "outputs": [],
   "source": []
  },
  {
   "cell_type": "markdown",
   "id": "2ce3543a-e832-4f09-a133-07365ad7dd63",
   "metadata": {
    "id": "GreteToae0NP"
   },
   "source": [
    "# Алгоритмы поиска"
   ]
  },
  {
   "cell_type": "markdown",
   "id": "7c0836c2-076c-4c84-a272-45c2ff515235",
   "metadata": {
    "id": "O5xIw7Dee0Nf"
   },
   "source": [
    "**Поиск** - задача нахождения определенного элемента (или ближайшего к нему) в массиве."
   ]
  },
  {
   "cell_type": "markdown",
   "id": "c620e2fd-ead4-470b-a8d5-17f1ad6d7c41",
   "metadata": {
    "id": "rlEW0plEe0Nq"
   },
   "source": [
    "1) Линейный поиск"
   ]
  },
  {
   "cell_type": "markdown",
   "id": "8bbc37b9-07a5-4d46-a8c2-54f2db3429c3",
   "metadata": {
    "id": "WfgobXnOe0Ns"
   },
   "source": [
    "При линейном поиске последовательно просматривается каждый элемент массива."
   ]
  },
  {
   "cell_type": "code",
   "execution_count": null,
   "id": "cae796b3-6a3a-4d0f-9043-56f2a5fec206",
   "metadata": {
    "id": "aHO5B6Cse0Nt"
   },
   "outputs": [],
   "source": [
    "def search(A,key):\n",
    "    for i in range(len(A)):\n",
    "        if A[i]==key:\n",
    "            return True\n",
    "    else:\n",
    "        return False\n"
   ]
  },
  {
   "cell_type": "markdown",
   "id": "7eae097d-b6db-46df-b953-4a46b2600932",
   "metadata": {
    "id": "QNbCi4MKe0Nw"
   },
   "source": [
    "Функция search(A,key) возвращает False только, если искомого элемента key не было обнаружено в списке. Поскольку в худжем случае необходимо просмотреть все элементы, то сложность алгоритма линейного поиска - O(n) - линейная."
   ]
  },
  {
   "cell_type": "code",
   "execution_count": null,
   "id": "f6cece86-6f74-4531-bf47-4703ecc8192d",
   "metadata": {
    "id": "a43uAkP5e0Nx",
    "outputId": "4a965c22-93fd-4e78-c18d-a56ec9923520"
   },
   "outputs": [
    {
     "data": {
      "text/plain": [
       "True"
      ]
     },
     "execution_count": 24,
     "metadata": {},
     "output_type": "execute_result"
    }
   ],
   "source": [
    "A = [4,2,7,3,1,5,6]\n",
    "search(A,7)"
   ]
  },
  {
   "cell_type": "markdown",
   "id": "e9756966-b903-4f9e-b5df-601c40d19de3",
   "metadata": {
    "id": "sxQNWxW_e0N0"
   },
   "source": [
    "**Упражнение**: модифицировать функцию так, чтобы она возвращала индекс искомого элемента в массиве и -1, если вхождения не обнаружено."
   ]
  },
  {
   "cell_type": "markdown",
   "id": "c3a602db-e864-4989-9f2f-231f25b11239",
   "metadata": {
    "id": "_8-qcD0ge0N1"
   },
   "source": [
    "2) Бинарный поиск"
   ]
  },
  {
   "cell_type": "markdown",
   "id": "8a535782-07ea-4e07-a5d2-1cb23e967737",
   "metadata": {
    "id": "mx7JOSCHe0N7"
   },
   "source": [
    "В случае, если список элементов изначально отсортирован, искомый элемент можно найти и быстрее чем за O(n). Идея бинарного поиска заключается в последовательном делении массива пополам и выборе той половины, в которой находится искомый элемент."
   ]
  },
  {
   "cell_type": "code",
   "execution_count": null,
   "id": "a852e74d-6c46-47c7-aae3-497077ded2b3",
   "metadata": {
    "id": "EKPl1eroe0N7"
   },
   "outputs": [],
   "source": [
    "def binary_search(A,key):\n",
    "    left = -1\n",
    "    right = len(A)\n",
    "    while right > left + 1:\n",
    "        middle = (left + right) // 2\n",
    "        if A[middle] == key:\n",
    "            return True\n",
    "        elif A[middle] < key:\n",
    "            left = middle\n",
    "        elif A[middle] > key:\n",
    "            right = middle\n",
    "    else:\n",
    "        return False\n"
   ]
  },
  {
   "cell_type": "markdown",
   "id": "6f0a43bb-ee50-4375-a8cf-a7ca30e03879",
   "metadata": {
    "id": "nZ-UWYWOe0N8"
   },
   "source": [
    "Алгоритм останавливается, когда left и right указывают на два соседних элемента. Таким образом, сложность алгоритма бинарного поиска - O(log(n)) - логарифмическая."
   ]
  },
  {
   "cell_type": "code",
   "execution_count": null,
   "id": "97cb9bbd-4a5c-47da-a61b-28a89e019e4b",
   "metadata": {
    "id": "oZX39SkUe0N-",
    "outputId": "1e90bbf4-3638-492e-b5c2-d9af127f06d0"
   },
   "outputs": [
    {
     "data": {
      "text/plain": [
       "True"
      ]
     },
     "execution_count": 26,
     "metadata": {},
     "output_type": "execute_result"
    }
   ],
   "source": [
    "A = [1,2,3,4,5,6,7]\n",
    "binary_search(A,3)"
   ]
  },
  {
   "cell_type": "markdown",
   "id": "0d441d83-c23c-4671-88d2-0f09a7bc8189",
   "metadata": {
    "id": "uszsLaabe0N-"
   },
   "source": [
    "**Упражнение**: модифицировать функцию так, чтобы она возвращала индекс искомого элемента в массиве и -1, если вхождения не обнаружено."
   ]
  },
  {
   "cell_type": "markdown",
   "id": "2d8a375d-7910-4a9c-8a5d-8bfe73706de3",
   "metadata": {
    "id": "RdxLDvKfe0N-"
   },
   "source": [
    "# Алгоритмы сортировки"
   ]
  },
  {
   "cell_type": "markdown",
   "id": "3e28341b-0e13-469c-a3aa-a2d042549051",
   "metadata": {
    "id": "vLmme5dTe0N_"
   },
   "source": [
    "**Сортировка** - задача упорядочивания элементов в массиве.\n",
    "\n",
    "Как можно сравнивать:\n",
    "\n",
    "*Вычислительная сложность* (лучший, худший, средний случай); также можно измерить количество перестановок для \"in-place\" алгоритмов.<br>\n",
    "*Использование памяти*. В частности, \"in-place\" алгоритмы работают за O(1) по памяти.<br>\n",
    "*Рекурсивность* - рекурсивен ли алгоритм или нет; некоторые могут совмещенными (merge sort).<br>\n",
    "*Стабильность* - сохраняет ли алгоритм порядок записей с одинаковыми ключами.<br>\n",
    "*Адаптивность* - влияет ли предварительная сортировка на время выполнения.<br>\n",
    "*Общий метод* - обменные (пузырьком, быстрая), выбором (сортировка кучей), вставками (вставками), слиянием (слиянием), без сравнений (подсчетом), гибридные (timsort), непрактичные и прочее."
   ]
  },
  {
   "cell_type": "markdown",
   "id": "daf74646-6b2c-48c5-ab1c-66c412bc47c5",
   "metadata": {
    "id": "m0xCwusne0N_"
   },
   "source": [
    "1) Сортировка выбором"
   ]
  },
  {
   "cell_type": "markdown",
   "id": "70001f1c-eb9d-4c4c-816e-a286cd028f1a",
   "metadata": {
    "id": "fpunotBXe0N_"
   },
   "source": [
    "Сортировка выбором - один из наиболее наивных подходов к сортировке, в нем последовательно ищется наименьший элемент массива и ставится в начало, затем ищется наименьший из оставшихся элементов и ставится на следующее место и т.д."
   ]
  },
  {
   "cell_type": "code",
   "execution_count": null,
   "id": "4382a4ca-798f-4601-b0fa-162e4708167f",
   "metadata": {
    "id": "jB3Bp2OTe0N_"
   },
   "outputs": [],
   "source": [
    "def selection_sort(A):\n",
    "    for i in range(len(A)-1):\n",
    "        min_id = i\n",
    "        for j in range(i+1,len(A)):\n",
    "            if A[j] < A[min_id]:\n",
    "                min_id = j\n",
    "        A[i], A[min_id] = A[min_id], A[i]\n",
    "        print(A)\n",
    "    return A"
   ]
  },
  {
   "cell_type": "markdown",
   "id": "b2717719-b0b4-42b7-b22e-e455ce2999ed",
   "metadata": {
    "id": "9GfqulZAe0N_"
   },
   "source": [
    "На каждом шаге поэлементного цикла for линейным поиском решается задача поиска минимального элемента, следовательно, общая сложность алгоритма - O(n^2) - квадратичная."
   ]
  },
  {
   "cell_type": "code",
   "execution_count": null,
   "id": "8781f037-2e71-4c91-9ee0-f7a999954ad8",
   "metadata": {
    "colab": {
     "base_uri": "https://localhost:8080/"
    },
    "id": "Ty1cW9Fee0OA",
    "outputId": "08bb3dab-32a4-4c76-caaa-015a7c7cc062"
   },
   "outputs": [
    {
     "name": "stdout",
     "output_type": "stream",
     "text": [
      "[1, 2, 7, 3, 4, 5, 6]\n",
      "[1, 2, 7, 3, 4, 5, 6]\n",
      "[1, 2, 3, 7, 4, 5, 6]\n",
      "[1, 2, 3, 4, 7, 5, 6]\n",
      "[1, 2, 3, 4, 5, 7, 6]\n",
      "[1, 2, 3, 4, 5, 6, 7]\n"
     ]
    },
    {
     "data": {
      "text/plain": [
       "[1, 2, 3, 4, 5, 6, 7]"
      ]
     },
     "execution_count": 2,
     "metadata": {},
     "output_type": "execute_result"
    }
   ],
   "source": [
    "A = [4,2,7,3,1,5,6]\n",
    "selection_sort(A)"
   ]
  },
  {
   "cell_type": "markdown",
   "id": "71075c0f-8fea-4b90-9506-2d9442e44078",
   "metadata": {
    "id": "A7hzkW6Ae0OA"
   },
   "source": [
    "2) Сортировка \"пузырёк\""
   ]
  },
  {
   "cell_type": "markdown",
   "id": "5a3a3f99-40ba-41e3-94d2-d2560f187c44",
   "metadata": {
    "id": "1iNx-VGne0OA"
   },
   "source": [
    "Пузырьковая сортировка предполагает последовательное переприсваивание соседних неупорядоченных элементов до тех пор, пока наибольший элемент не окажется в самом конце списка.  "
   ]
  },
  {
   "cell_type": "code",
   "execution_count": null,
   "id": "8198f3d0-940b-4867-90e4-5520db59e229",
   "metadata": {
    "id": "Lh5xBcADe0OB"
   },
   "outputs": [],
   "source": [
    "def bubble_sort(A):\n",
    "    for i in range(len(A)):\n",
    "        for j in range(len(A)-i-1):\n",
    "            if A[j] > A[j+1]:\n",
    "                A[j],A[j+1] = A[j+1],A[j]\n",
    "        print(A)\n",
    "    return A"
   ]
  },
  {
   "cell_type": "markdown",
   "id": "5daf5b8a-ab1f-4e23-b162-459d79470ab7",
   "metadata": {
    "id": "rWXG-k25e0OB"
   },
   "source": [
    "На каждом шаге алгоритма наибольший элемент \"всплывает\" в конец массива, таким образом, после завершения алгоритма весь массив отсортируется по неубыванию. Сложность алгоритма сортировки пузырьком - O(n^2)."
   ]
  },
  {
   "cell_type": "code",
   "execution_count": null,
   "id": "47f6433b-f058-4ee5-92fb-8a33916bf8ea",
   "metadata": {
    "colab": {
     "base_uri": "https://localhost:8080/"
    },
    "id": "v5oJqvSNe0OB",
    "outputId": "b7148841-b14a-453d-d7f4-18d57e60fba5"
   },
   "outputs": [
    {
     "name": "stdout",
     "output_type": "stream",
     "text": [
      "[2, 4, 3, 1, 5, 6, 7]\n",
      "[2, 3, 1, 4, 5, 6, 7]\n",
      "[2, 1, 3, 4, 5, 6, 7]\n",
      "[1, 2, 3, 4, 5, 6, 7]\n",
      "[1, 2, 3, 4, 5, 6, 7]\n",
      "[1, 2, 3, 4, 5, 6, 7]\n",
      "[1, 2, 3, 4, 5, 6, 7]\n"
     ]
    },
    {
     "data": {
      "text/plain": [
       "[1, 2, 3, 4, 5, 6, 7]"
      ]
     },
     "execution_count": 4,
     "metadata": {},
     "output_type": "execute_result"
    }
   ],
   "source": [
    "A = [4,2,7,3,1,5,6]\n",
    "bubble_sort(A)"
   ]
  },
  {
   "cell_type": "markdown",
   "id": "361aa8b0-007c-4918-90e3-a4fa478ca274",
   "metadata": {
    "id": "SsEOJDlEe0OC"
   },
   "source": [
    "3) Сортировка вставками"
   ]
  },
  {
   "cell_type": "markdown",
   "id": "9160eaf4-4b4b-4a4f-af03-9abe7f11c230",
   "metadata": {
    "id": "JwbadRn4e0OC"
   },
   "source": [
    "Начиная со второго каждый следующий элемент массива вставляется в уже отсортированное начало путем поиска подходящей позиции, а все элементы справа от этой позиции сдвигаются вправо."
   ]
  },
  {
   "cell_type": "code",
   "execution_count": null,
   "id": "de7cd656-254f-403d-991b-be9b39c09e37",
   "metadata": {
    "id": "59ZS6jdBe0OG"
   },
   "outputs": [],
   "source": [
    "def insertion_sort(A):\n",
    "    for i in range(1,len(A)):\n",
    "        new = A[i]\n",
    "        j = i-1\n",
    "        while j>=0 and A[j] > new:\n",
    "            A[j+1] = A[j]\n",
    "            j = j - 1\n",
    "        else:\n",
    "            A[j+1] = new\n",
    "        print(A)\n",
    "    return A"
   ]
  },
  {
   "cell_type": "markdown",
   "id": "01648150-297a-46f0-908f-9c3f62968681",
   "metadata": {
    "id": "No2lvhyUe0OG"
   },
   "source": [
    "В лучшем случае, т.е. когда массив изначально упорядочен, сложность алгоритма сортировки вставками линейная - O(n), однако в худшем случе, когда массив изначально отсортирован в обратном порядке, сложность возрастает до квадратичной - O(n^2). Поэтому сортировка вставками эффективна лишь для упорядоченных и почти упорядоченных наборов данных."
   ]
  },
  {
   "cell_type": "code",
   "execution_count": null,
   "id": "cb80620d-5148-477f-8657-d59d16f665e7",
   "metadata": {
    "colab": {
     "base_uri": "https://localhost:8080/"
    },
    "id": "syikLZGKe0OH",
    "outputId": "65b53ffb-bc5c-4840-a130-7fe5bf3317d1"
   },
   "outputs": [
    {
     "name": "stdout",
     "output_type": "stream",
     "text": [
      "[2, 4, 7, 3, 1, 5, 6]\n",
      "[2, 4, 7, 3, 1, 5, 6]\n",
      "[2, 3, 4, 7, 1, 5, 6]\n",
      "[1, 2, 3, 4, 7, 5, 6]\n",
      "[1, 2, 3, 4, 5, 7, 6]\n",
      "[1, 2, 3, 4, 5, 6, 7]\n"
     ]
    },
    {
     "data": {
      "text/plain": [
       "[1, 2, 3, 4, 5, 6, 7]"
      ]
     },
     "execution_count": 6,
     "metadata": {},
     "output_type": "execute_result"
    }
   ],
   "source": [
    "A = [4,2,7,3,1,5,6]\n",
    "insertion_sort(A)"
   ]
  },
  {
   "cell_type": "markdown",
   "id": "64dd9ddc-9c93-49f6-b7ea-dde5560e1b19",
   "metadata": {
    "id": "8EfJ7FGKe0OL"
   },
   "source": [
    "4) Сортировка слиянием"
   ]
  },
  {
   "cell_type": "markdown",
   "id": "bd34efb1-8b5e-4883-ab92-8e1ac05beeba",
   "metadata": {
    "id": "PcrcD1HHe0OL"
   },
   "source": [
    "Сортировка слиянием основана на идее, что два отсортированных списка можно слить в один отсортированный список за линейное время, равное суммарной длине этих списков."
   ]
  },
  {
   "cell_type": "code",
   "execution_count": null,
   "id": "3db65176-b8ca-4e21-9c72-cfcd3c039b71",
   "metadata": {
    "id": "fVUErFrue0OL"
   },
   "outputs": [],
   "source": [
    "def merge(A,B):\n",
    "    res = list()\n",
    "    i,j = 0,0\n",
    "    while i < len(A) and j < len(B):\n",
    "        if A[i] < B[j]:\n",
    "            res.append(A[i])\n",
    "            i = i + 1\n",
    "        else:\n",
    "            res.append(B[j])\n",
    "            j = j + 1\n",
    "        print(res)\n",
    "    res.extend(A[i:])\n",
    "    res.extend(B[j:])\n",
    "    return res"
   ]
  },
  {
   "cell_type": "markdown",
   "id": "a6229f54-69ae-4fe0-8ddd-67907b7a5cb8",
   "metadata": {
    "id": "w8Uthfake0OL"
   },
   "source": [
    "Изначально сравниваются два первых элемента списков A и B, меньший из них сразу записывается в ответ, а соответствующий ему индекс сдвигается на следующий элемент. Таким образом, за один проход по списку A и списку B создается новый массив из всех элементов."
   ]
  },
  {
   "cell_type": "code",
   "execution_count": null,
   "id": "ea804ce1-353b-447e-9d34-95c9ef77f1da",
   "metadata": {
    "colab": {
     "base_uri": "https://localhost:8080/"
    },
    "id": "SPwSQiDBe0OM",
    "outputId": "8a43a2a4-3c45-47d9-ed8e-81ef42b6d994"
   },
   "outputs": [
    {
     "name": "stdout",
     "output_type": "stream",
     "text": [
      "[1]\n",
      "[1, 2]\n",
      "[1, 2, 3]\n",
      "[1, 2, 3, 4]\n",
      "[1, 2, 3, 4, 5]\n",
      "[1, 2, 3, 4, 5, 6]\n"
     ]
    },
    {
     "data": {
      "text/plain": [
       "[1, 2, 3, 4, 5, 6, 7]"
      ]
     },
     "execution_count": 6,
     "metadata": {},
     "output_type": "execute_result"
    }
   ],
   "source": [
    "A = [1,3,5,7]\n",
    "B = [2,4,6]\n",
    "merge(A,B)"
   ]
  },
  {
   "cell_type": "markdown",
   "id": "da75b21e-71b9-434e-9237-0f982d62be8e",
   "metadata": {
    "id": "3Cm07-6Qe0OM"
   },
   "source": [
    "Перейдем теперь непосредственно к сортировке слиянием."
   ]
  },
  {
   "cell_type": "code",
   "execution_count": null,
   "id": "04aa3639-b50b-46c7-b593-a368aa6421e1",
   "metadata": {
    "id": "ko0x_aWPe0OM"
   },
   "outputs": [],
   "source": [
    "def merge_sort(A):\n",
    "    if len(A)==1:\n",
    "        return A\n",
    "    else:\n",
    "        Left = A[:len(A)//2]\n",
    "        Right = A[len(A)//2:]\n",
    "        return merge(merge_sort(Left),merge_sort(Right))"
   ]
  },
  {
   "cell_type": "markdown",
   "id": "2555bf15-a6bd-4d45-a491-879964ae6658",
   "metadata": {
    "id": "eBOWfjste0OM"
   },
   "source": [
    "Исходный список делится пополам, каждая часть сортируется отдельно этой же рекурсивной функцией, затем результат каждой из сортировок сливается с помощью функции merge()."
   ]
  },
  {
   "cell_type": "code",
   "execution_count": null,
   "id": "081e9f69-a0d6-484c-9f20-7ad662751197",
   "metadata": {
    "colab": {
     "base_uri": "https://localhost:8080/"
    },
    "id": "I_AKFOgke0ON",
    "outputId": "4abc5943-b5bc-445e-c943-9fa65257bf3e"
   },
   "outputs": [
    {
     "name": "stdout",
     "output_type": "stream",
     "text": [
      "[2]\n",
      "[2]\n",
      "[2, 4]\n",
      "[1]\n",
      "[5]\n",
      "[1]\n",
      "[1, 3]\n",
      "[1]\n",
      "[1, 2]\n",
      "[1, 2, 3]\n",
      "[1, 2, 3, 4]\n",
      "[1, 2, 3, 4, 5]\n",
      "[1, 2, 3, 4, 5, 6]\n"
     ]
    },
    {
     "data": {
      "text/plain": [
       "[1, 2, 3, 4, 5, 6, 7]"
      ]
     },
     "execution_count": 9,
     "metadata": {},
     "output_type": "execute_result"
    }
   ],
   "source": [
    "A = [4,2,7,3,1,5,6]\n",
    "merge_sort(A)"
   ]
  },
  {
   "cell_type": "markdown",
   "id": "a9edc212-9293-4b60-8301-8055b12d9458",
   "metadata": {
    "id": "_baoz0dme0ON"
   },
   "source": [
    "Аналогично бинарному поиску, количество делений пополам определяется логарифмом от длины массива, но при каждом делении дополнительно выполняется слияние списков, следовательно итоговая сложность алгоритма - O(n*log(n))."
   ]
  },
  {
   "cell_type": "markdown",
   "id": "20ec4cad-61c4-4d36-bdfb-824baa642f10",
   "metadata": {
    "id": "PeGlDLs6e0ON"
   },
   "source": [
    "5) Быстрая сортировка (Qsort)\n",
    "\n",
    "- https://ru.wikipedia.org/wiki/Быстрая_сортировка\n",
    "- https://habrahabr.ru/sandbox/29775/\n",
    "\n",
    "Является стандартной встроенной сортировкой в C++."
   ]
  },
  {
   "cell_type": "markdown",
   "id": "c09231e8-0dc1-4aec-ba61-c1bc61fd2888",
   "metadata": {
    "id": "dY26B58Ce0ON"
   },
   "source": [
    "6) Гибридная сортировка Тима Петерсона (Timsort)\n",
    "\n",
    "- https://ru.wikipedia.org/wiki/Timsort\n",
    "- https://habrahabr.ru/company/infopulse/blog/133303/\n",
    "\n",
    "Является стандартной встроенной сортировкой в python."
   ]
  },
  {
   "cell_type": "markdown",
   "id": "ef7aa624-7b05-4cb4-aa72-0996a643f99e",
   "metadata": {
    "id": "clXDnWTye0ON"
   },
   "source": [
    "# Задачи"
   ]
  },
  {
   "cell_type": "markdown",
   "id": "d5f9b4ba-d56e-4d45-8987-112b32c490dc",
   "metadata": {
    "id": "VO_GZINce0OR"
   },
   "source": [
    "C. Ближайшее число"
   ]
  },
  {
   "cell_type": "code",
   "execution_count": null,
   "id": "dbd7ff79-a081-4a13-84b6-093efdaf8012",
   "metadata": {
    "colab": {
     "base_uri": "https://localhost:8080/"
    },
    "id": "ftYvRjACe0OR",
    "outputId": "c11e22b7-77db-45ad-a7c6-8104222d4099"
   },
   "outputs": [
    {
     "name": "stdout",
     "output_type": "stream",
     "text": [
      "4\n",
      "5\n",
      "4\n",
      "5\n"
     ]
    }
   ],
   "source": [
    "n = int(input())\n",
    "A = [int(x) for x in input().split()]\n",
    "key = int(input())\n",
    "delta = abs(A[0]-key)\n",
    "res_i = 0\n",
    "for i in range(1,len(A)):\n",
    "    if abs(A[i]-key)<delta:\n",
    "        delta = abs(A[i]-key)\n",
    "        res_i = i\n",
    "print(A[res_i])"
   ]
  },
  {
   "cell_type": "markdown",
   "id": "48f74c9a-3654-4de1-8d2e-3a982c4e31ea",
   "metadata": {
    "id": "PiVBGutIe0OS"
   },
   "source": [
    "H. Сортировка"
   ]
  },
  {
   "cell_type": "code",
   "execution_count": null,
   "id": "db32250e-ef0f-4642-ba3a-44a8f38c02f6",
   "metadata": {
    "id": "42N_Ymjve0OS",
    "outputId": "73a9d166-5495-45ae-ce30-fda61540abdc"
   },
   "outputs": [
    {
     "name": "stdout",
     "output_type": "stream",
     "text": [
      "4\n",
      "3 2 1 5\n",
      "1 2 3 5\n"
     ]
    }
   ],
   "source": [
    "n = int(input())\n",
    "A = [int(x) for x in input().split()]\n",
    "A.sort()\n",
    "print(*A)"
   ]
  },
  {
   "cell_type": "markdown",
   "id": "4e5b4b9b-8816-44f3-ae84-de9bd54d17f7",
   "metadata": {
    "id": "r92NcpFae0OS"
   },
   "source": [
    "H. Сортировка (через файлы)"
   ]
  },
  {
   "cell_type": "code",
   "execution_count": null,
   "id": "4e1ba240-d774-4dbe-afda-d14231adeeea",
   "metadata": {
    "id": "spHlwdzQe0OS"
   },
   "outputs": [],
   "source": [
    "f = open('input.txt','r')\n",
    "n = int(f.readline().strip())\n",
    "A = [int(x) for x in f.readline().strip().split()]\n",
    "f.close()\n",
    "A.sort()\n",
    "#print(*A)\n",
    "\n",
    "f = open('output.txt','w')\n",
    "res = ' '.join([str(x) for x in A])\n",
    "f.write(res)\n",
    "f.close()"
   ]
  },
  {
   "cell_type": "code",
   "execution_count": null,
   "id": "2c8f45ec-3a1d-4a54-a054-ad9c8236da14",
   "metadata": {
    "id": "lqOwMVKs-l8o"
   },
   "outputs": [],
   "source": []
  },
  {
   "cell_type": "code",
   "execution_count": null,
   "id": "3fbaaf14-f929-46de-8ccb-6c785cdaa1a0",
   "metadata": {},
   "outputs": [],
   "source": []
  }
 ],
 "metadata": {
  "kernelspec": {
   "display_name": "Python 3 (ipykernel)",
   "language": "python",
   "name": "python3"
  },
  "language_info": {
   "codemirror_mode": {
    "name": "ipython",
    "version": 3
   },
   "file_extension": ".py",
   "mimetype": "text/x-python",
   "name": "python",
   "nbconvert_exporter": "python",
   "pygments_lexer": "ipython3",
   "version": "3.9.7"
  }
 },
 "nbformat": 4,
 "nbformat_minor": 5
}
