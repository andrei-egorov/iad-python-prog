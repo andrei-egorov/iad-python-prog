{
 "cells": [
  {
   "cell_type": "markdown",
   "id": "e7f033cc-2552-4d60-8759-6b6e8743f4fe",
   "metadata": {},
   "source": [
    "# Семинар 6. Элементы функционального программирования"
   ]
  },
  {
   "cell_type": "markdown",
   "id": "be141b4c-0a22-4e1f-a986-1acabd037924",
   "metadata": {},
   "source": [
    "На этом семинаре мы наконец-то перейдем к элементам функционального програм."
   ]
  },
  {
   "cell_type": "markdown",
   "id": "450d3f2e-a3ac-4ff8-8dbb-0543d1335d51",
   "metadata": {},
   "source": [
    "**Задание функций**\n",
    "1. Позиционные и именованные аргументы\n",
    "2. Args, kwargs\n",
    "3. Значения по умолчанию (в контексте типов данных)\n",
    "4. Return и pass\n",
    "5. Области видимости\n",
    "6. del\n",
    "\n",
    "**Элементы функционального программирования**\n",
    "1. Немного теории\n",
    "2. Анонимные функции\n",
    "3. Рекурсия\n",
    "4. Декораторы\n",
    "5. Итераторы\n",
    "6. Генераторы\n",
    "7. Функции для ФП; functools\n",
    "8. Обратная сторона лямбды"
   ]
  },
  {
   "cell_type": "markdown",
   "id": "5bd99153",
   "metadata": {},
   "source": [
    "## Задание функций"
   ]
  },
  {
   "cell_type": "markdown",
   "id": "18fad17b",
   "metadata": {},
   "source": [
    "В чем разница между параметрами и аргументами?"
   ]
  },
  {
   "cell_type": "markdown",
   "id": "6d8b897e-c9b7-48dd-9126-51262cc80281",
   "metadata": {},
   "source": [
    "### Позиционные и именованные параметры"
   ]
  },
  {
   "cell_type": "markdown",
   "id": "9fadb925",
   "metadata": {},
   "source": [
    "Что знаете про них?\n",
    "\n",
    "Имейте в виду, что возможен следующий синтаксис:"
   ]
  },
  {
   "cell_type": "code",
   "execution_count": null,
   "id": "9a9b75f7-f31a-4529-a18c-c1b1114fbdd6",
   "metadata": {},
   "outputs": [],
   "source": [
    "def foo(a, b, /, c, d, ∗, e, f):\n",
    "    print(a, b, c, d, e, f)"
   ]
  },
  {
   "cell_type": "markdown",
   "id": "8f6f033b",
   "metadata": {},
   "source": [
    "### args/kwargs"
   ]
  },
  {
   "cell_type": "markdown",
   "id": "ecf88c7b-ceae-4ef6-a36a-36f78e9f2a30",
   "metadata": {},
   "source": [
    "Вопрос: пример функции, которая принимает неограниченное количество параметров?\n",
    "\n",
    "Задание: задайте функцию, которая принимает на вход переменное количество аргументов и распечатывает их"
   ]
  },
  {
   "cell_type": "code",
   "execution_count": null,
   "id": "2bca38cd",
   "metadata": {},
   "outputs": [],
   "source": [
    "###YOUR CODE###"
   ]
  },
  {
   "cell_type": "markdown",
   "id": "1cedd8ed-011e-4708-be6f-5c6afc63165a",
   "metadata": {},
   "source": [
    "Что происходит \"под капотом\"? Аргументы просто распаковываются из списка. `Args`, `kwargs` - просто соглашение, можно назвать как угодно. Обязательно являются последними в списке параметров, поскольку \"вбирают в себя\" все оставшиеся аргументы."
   ]
  },
  {
   "cell_type": "markdown",
   "id": "81c7c16b-f064-4760-a4b3-67feb67670fc",
   "metadata": {},
   "source": [
    "Вопрос: задайте функцию, которая принимает на вход исключительно именованные аргументы"
   ]
  },
  {
   "cell_type": "code",
   "execution_count": null,
   "id": "c73c20ee-30e0-40af-85b1-f15baac750a1",
   "metadata": {},
   "outputs": [],
   "source": [
    "###YOUR CODE###"
   ]
  },
  {
   "cell_type": "markdown",
   "id": "0b2d38b4-cf2c-4c4a-817d-63a6e50a73e3",
   "metadata": {},
   "source": [
    "### Изменяемые типы в качестве значений по умолчанию"
   ]
  },
  {
   "cell_type": "markdown",
   "id": "d03bf75e-7b6a-4307-8c8a-9cc093f3a312",
   "metadata": {},
   "source": [
    "Рекомендуется избегать значении по умолчанию изменяемых типов. \n",
    "\n",
    "Вопрос: сформулируйте, пожалуйста, проблему. "
   ]
  },
  {
   "cell_type": "code",
   "execution_count": null,
   "id": "dc04e734-8e60-45ae-994e-f55cca0e26d0",
   "metadata": {},
   "outputs": [],
   "source": [
    "def my_function(value, default=[]):\n",
    "    default.append(value)\n",
    "    return default\n",
    "\n",
    "x = my_function(0)\n",
    "print(x)\n",
    "y = my_function(1)\n",
    "print(y)\n",
    "print(x)"
   ]
  },
  {
   "cell_type": "markdown",
   "id": "c4fbbaea-b49c-49d4-b9cc-82d1450628b4",
   "metadata": {},
   "source": [
    "Проблемы можно избежать, если использовать изменяемые типы данных в качестве значений по умолчанию, или использовать уникальный объект для идентификации установленного по умолчанию значения:"
   ]
  },
  {
   "cell_type": "code",
   "execution_count": null,
   "id": "9eb888fd-ea28-43e1-8c5b-99000cc72929",
   "metadata": {},
   "outputs": [],
   "source": [
    "def my_function(\n",
    "    value,\n",
    "    default=(UNDEFINED := object())\n",
    "):\n",
    "\n",
    "    if default is UNDEFINED: \n",
    "        default = []\n",
    "    default.append(value) \n",
    "    return default\n",
    "\n",
    "x=my_function(0)\n",
    "y=my_function(1)\n",
    "print(y)\n",
    "print(x)"
   ]
  },
  {
   "cell_type": "markdown",
   "id": "ec1c5921-2fe8-4bd5-b086-6e1137e0a096",
   "metadata": {},
   "source": [
    "В данном примере UNDEFINED - это уникальный объект в области видимости функции. Если аргумент задается по умолчанию, условие выполняется, и переменная заменяется новым списком, что гарантирует его уникальность."
   ]
  },
  {
   "cell_type": "code",
   "execution_count": null,
   "id": "5059765e-2bf7-4237-8e2d-61e6b2678425",
   "metadata": {},
   "outputs": [],
   "source": []
  },
  {
   "cell_type": "markdown",
   "id": "ff7e0dc3",
   "metadata": {},
   "source": [
    "### Return"
   ]
  },
  {
   "cell_type": "markdown",
   "id": "3908d66b-44bc-46e8-b21d-1088996a7871",
   "metadata": {},
   "source": [
    "Вопрос: что происходит, если не прописываем return?"
   ]
  },
  {
   "cell_type": "markdown",
   "id": "20d56ecd",
   "metadata": {},
   "source": []
  },
  {
   "cell_type": "markdown",
   "id": "a72c0244-e31c-461e-800d-d37390ed8104",
   "metadata": {},
   "source": [
    "Обязательно ли return один?"
   ]
  },
  {
   "cell_type": "code",
   "execution_count": null,
   "id": "50903055-ce16-4797-b88c-4457e9257933",
   "metadata": {},
   "outputs": [],
   "source": []
  },
  {
   "cell_type": "markdown",
   "id": "6e83a78f",
   "metadata": {},
   "source": [
    "### Pass"
   ]
  },
  {
   "cell_type": "markdown",
   "id": "52fb5583",
   "metadata": {},
   "source": [
    "Pass - это заглушка, которая делает буквально ничего. Бывает нужна, когда синтаксис требует присутствие, допустим, метода в классе, но никакой функционал за ним мы (пока) не хотим реализовывать. Троеточие `...` является аналогом pass."
   ]
  },
  {
   "cell_type": "code",
   "execution_count": null,
   "id": "c0e1d56e-3d56-4546-80d8-02a4667e7f34",
   "metadata": {},
   "outputs": [],
   "source": [
    "class student:\n",
    "    pass\n",
    "def fun():\n",
    "    pass\n",
    "def fun2()\n",
    "    ..."
   ]
  },
  {
   "cell_type": "markdown",
   "id": "41268c96",
   "metadata": {
    "tags": []
   },
   "source": [
    "### Область видимости"
   ]
  },
  {
   "cell_type": "markdown",
   "id": "49b4e83d-dd10-4c41-bd11-47d984807666",
   "metadata": {},
   "source": [
    "Область видимости - часть программы, в которой имя переменной может быть использовано."
   ]
  },
  {
   "cell_type": "markdown",
   "id": "78264315-8ef3-4788-881e-6830112d4b04",
   "metadata": {},
   "source": [
    "Области видимости в Питоне выстраиваются в иерархию LEGB: Local, Enclosed, Global, Built-in. Разберемся с этим, памятуя, что 1) переменные определяются в тот момент, когда им присваивается значение 2) функции и методы могут быть вложены в другие функции и методы."
   ]
  },
  {
   "cell_type": "markdown",
   "id": "129855da-5da7-42e6-93ee-698e0fc37884",
   "metadata": {},
   "source": [
    "• `Local`: переменая является локальной, если она является параметром функции, или ей присваивается значение в рамках данной функции, и при этом она явным образом не объявлена глобальной или нелокальной.<br>\n",
    "• `Enclosed` (альтернативно `nonlocal`): переменная  ссылается на переменную внешней функции, при этом (1) не происходит присвоения значения этой переменной или же (2) для переменной внутри функции прописано `nonlocal` выражение.<br>\n",
    "• `Global`: переменная объявлена на верхнем уровне программы (не внутри функции или метода), и на нее могут быть отсылки из любой части программы. Переменная внутри функции может ссылаться на глобальную переменную, если (1) ей не присваивается значение ни в этой функции, ни во внешней к ней (при наличии), или (2) для переменной прописано `global` выражение.<br>\n",
    "• `Built-in`: переменная, которая не была нигде объявлена, является встроенной (например, `list`, `print`, `divmod`). \n",
    "\n",
    "Если используемая переменная является nonlocal (enclosed) или global, хорошей практикой является объявить ее как таковую, даже если ей не присваивается значение внутри этой функции."
   ]
  },
  {
   "cell_type": "markdown",
   "id": "638ffbbc-29bf-42e8-8823-219d8ee74cb2",
   "metadata": {},
   "source": [
    "Область видимости переменной, если она отличная от дефолтной, объявляется путем следующего синтаксиса:"
   ]
  },
  {
   "cell_type": "code",
   "execution_count": null,
   "id": "3097a62b-5bce-4691-b10a-ba1d350c3a95",
   "metadata": {},
   "outputs": [],
   "source": [
    "global var1, …, varN \n",
    "nonlocal var1, …, varN"
   ]
  },
  {
   "cell_type": "markdown",
   "id": "9877af47-9633-4f8f-9781-0d82dde03eb0",
   "metadata": {},
   "source": [
    "Такое объявление должно предшествовать любому использованию переменной."
   ]
  },
  {
   "cell_type": "markdown",
   "id": "ade74720-3255-4be9-892d-728b5133ff75",
   "metadata": {},
   "source": [
    "Как только функция заканчивает работу, локальная переменная уничтожается"
   ]
  },
  {
   "cell_type": "code",
   "execution_count": null,
   "id": "ec485852-7985-49cc-9412-6e5988ab3897",
   "metadata": {},
   "outputs": [],
   "source": [
    "def f():\n",
    "    print(a)\n",
    "    if False:\n",
    "        a = 0\n",
    "a = 1\n",
    "f()"
   ]
  },
  {
   "cell_type": "code",
   "execution_count": null,
   "id": "8c7b5d7d-9d5a-4fa4-b6d6-1e16966d5bb9",
   "metadata": {},
   "outputs": [],
   "source": [
    "def f():\n",
    "    global a #дает доступ к глобальным функциям, даже если не были определены\n",
    "    a = 1\n",
    "    print(a, end=' ')\n",
    "a = 0\n",
    "f()\n",
    "print(a)"
   ]
  },
  {
   "cell_type": "markdown",
   "id": "d5a3078c-3937-42d3-a23b-d2f6ed5706ad",
   "metadata": {},
   "source": [
    "Хотелось бы заострить внимение на том, что **использование глобальных переменных внутри функций - очень плохо!**\n",
    "\n",
    "Почему?\n",
    "\n",
    "Избегайте глобальных переменных в функции (добавляйте дополнительные параметры и тд)\n",
    "\n",
    "NB: иногда к глобальным переменным добавляют префикс _ в качестве соглашения"
   ]
  },
  {
   "cell_type": "markdown",
   "id": "da4264e8-6537-49ed-97b9-1db04ed80d1f",
   "metadata": {},
   "source": [
    "#### non-local"
   ]
  },
  {
   "cell_type": "markdown",
   "id": "50d6e483-2ebc-4cca-b084-e8b155a3d8d2",
   "metadata": {},
   "source": [
    "Локальной могут быть не только переменные, но и функции, и non-local часто возникает в этом контексте. По умолчанию, вложенная функция имеет доступ к, но не может менять переменные внешней функции. Однако если вложенная функция объявляет переменную nonlocal, она может как получить к ней доступ, так и изменить."
   ]
  },
  {
   "cell_type": "code",
   "execution_count": null,
   "id": "c3380d65-83d0-40ff-a0c4-beee7e75f5e6",
   "metadata": {},
   "outputs": [],
   "source": [
    "global_greet = \"Hello\"\n",
    "def outer_function():\n",
    "    nonlocal_greet = \"Hi\"\n",
    "    def inner_function():\n",
    "        nonlocal nonlocal_greet\n",
    "        global global_greet\n",
    "        nonlocal_greet = \"Hi\"\n",
    "        global_greet = \"Hey\"\n",
    "    inner_function()\n",
    "    print(nonlocal_greet, global_greet)\n",
    "outer_function()"
   ]
  },
  {
   "cell_type": "markdown",
   "id": "cd65c3f0",
   "metadata": {},
   "source": [
    "### del\n",
    "\n",
    "В целом, чтобы удалить объект, нужно вызвать деструктор. В Питоне его роль выполняет метод `__del__()`. В Питоне реализован автоматический сборщик мусора, который очищает память от ненужных объектов, вызывая del, когда все ссылки на объект удаляются. Можно вызвать его и принудительно. Отвязанный от ссылок объект == удаленный."
   ]
  },
  {
   "cell_type": "code",
   "execution_count": null,
   "id": "af8732af-a137-40b4-ab78-d13b07e32f31",
   "metadata": {},
   "outputs": [],
   "source": []
  },
  {
   "cell_type": "markdown",
   "id": "70af3835-7670-464d-b8ce-147135cd6f71",
   "metadata": {},
   "source": [
    "## Функциональное программирование"
   ]
  },
  {
   "cell_type": "markdown",
   "id": "be5a7837-afe6-41a2-b4f9-dcb447d35ed9",
   "metadata": {},
   "source": [
    "### Немного теории"
   ]
  },
  {
   "cell_type": "markdown",
   "id": "2f88075e-b4c1-43b2-8144-8748c0bb666f",
   "metadata": {},
   "source": [
    "Вопрос: что знаете про ФП?"
   ]
  },
  {
   "cell_type": "markdown",
   "id": "fb5b6a3a-6a9e-43ca-b58b-de0966b8c5f9",
   "metadata": {},
   "source": []
  },
  {
   "cell_type": "markdown",
   "id": "ee8f5705",
   "metadata": {},
   "source": [
    "Определять можно по-разному, но как правило, определения пересекаются по следующим аспектам:<br>\n",
    "\n",
    "• Функции являются объектами, и к ним можно относиться как к любым другим значениям.<br>\n",
    "• Переменные поддерживают лишь единственное присвоение (являются константами) - после присвоения значения они далее не меняются.<br>\n",
    "• Функции являются чистыми - значение, возвращаемое функцией, зависит только от переданных ей аргументов. Данный подход исключает возможность использования глобальных переменных или любых других внешних факторов, таких как system clock.<br>"
   ]
  },
  {
   "cell_type": "code",
   "execution_count": null,
   "id": "403c84c5-2953-489b-a288-22b89a602299",
   "metadata": {},
   "outputs": [],
   "source": [
    "def remove_last_item(mylist):\n",
    "    \"\"\"Removes the last item from a list.\"\"\"\n",
    "    mylist.pop(-1)\n",
    "    \n",
    "def butlast(mylist):\n",
    "\"\"\"Like butlast in Lisp; returns the list without the last element.\"\"\"\n",
    "    return mylist[:-1]"
   ]
  },
  {
   "cell_type": "markdown",
   "id": "b5492031-7b45-4fa9-bce7-5566fc618389",
   "metadata": {},
   "source": [
    "Преимущества:<br>\n",
    "\n",
    "• Формальная доказуемость<br>\n",
    "• Модульность<br>\n",
    "• Краткость<br>\n",
    "• Абсолютно безопасные параллельные вычисления<br>\n",
    "• Легко тестировать - на тот же вход одинаковый выход"
   ]
  },
  {
   "cell_type": "markdown",
   "id": "061c1a76-49f4-4c87-b34a-fffdcbce901b",
   "metadata": {},
   "source": [
    "Рассмотрим поподробнее первый аспект определения - что функции являются объектами. \n",
    "\n",
    "Следующая функция ищет максимальное значение в (непустом) списке:"
   ]
  },
  {
   "cell_type": "code",
   "execution_count": null,
   "id": "7b744a22",
   "metadata": {},
   "outputs": [],
   "source": [
    "def biggest(values): \n",
    "    big = values[0]\n",
    "    for v in values: \n",
    "        if v > big: \n",
    "            big = v\n",
    "    return big"
   ]
  },
  {
   "cell_type": "markdown",
   "id": "3b063c9a",
   "metadata": {},
   "source": [
    "Как мы выяснили, `>` работает также и для строк. Однако для всего остального (например, найти самую длинную строку) нам придется задавать новую функцию, причем почти идентичную старой\n",
    "\n",
    "Вместо этого мы можем заменить `>` обобщенным тестом:"
   ]
  },
  {
   "cell_type": "code",
   "execution_count": null,
   "id": "cc794a35",
   "metadata": {},
   "outputs": [],
   "source": [
    "def most(values, more): \n",
    "    best = values[0] \n",
    "    for v in values:\n",
    "        if more(v, best): \n",
    "            best=v\n",
    "    return best\n",
    "\n",
    "def larger(a, b): \n",
    "    return a > b"
   ]
  },
  {
   "cell_type": "markdown",
   "id": "441b3b5c",
   "metadata": {},
   "source": [
    "И вызвать функцию most следующим образом:"
   ]
  },
  {
   "cell_type": "code",
   "execution_count": null,
   "id": "a72c1854",
   "metadata": {},
   "outputs": [],
   "source": [
    "most([1, 6, 1, 8, 0], larger)"
   ]
  },
  {
   "cell_type": "markdown",
   "id": "4bfcdf31",
   "metadata": {},
   "source": [
    "или так, в случае нахождения самой длинной строки:"
   ]
  },
  {
   "cell_type": "code",
   "execution_count": null,
   "id": "aa7f2a7f",
   "metadata": {},
   "outputs": [],
   "source": [
    "def longer(a, b):\n",
    "    return len(a) > len(b)\n",
    "\n",
    "most([\"a\", \"generic\", \"list\"], longer)"
   ]
  },
  {
   "cell_type": "markdown",
   "id": "1b46949e",
   "metadata": {},
   "source": [
    "В результате может возникнуть множество небольших функций наподобие `larger` и `longer`. Питон располагает конструкцией, которую можно назвать функцией-литералом, анонимной функцией, или лямбда-функцией (так как исторически вводятся при помощи ключевого слова `lambda`). Они предназначены для однократного использования там, где были введены. Сигнатура состоит из `lambda`, переменные (любое количество), двоеточие, и одно-единственное выражение. В данном случае результат выражения имеет булев тип, но мог бы иметь любой другой:"
   ]
  },
  {
   "cell_type": "code",
   "execution_count": null,
   "id": "5a0dfc90",
   "metadata": {},
   "outputs": [],
   "source": [
    "lambda a, b: len(a) > len(b)"
   ]
  },
  {
   "cell_type": "markdown",
   "id": "7efea5f4",
   "metadata": {},
   "source": [
    "Используем теперь следующим образом:"
   ]
  },
  {
   "cell_type": "code",
   "execution_count": null,
   "id": "716e1dee",
   "metadata": {},
   "outputs": [],
   "source": [
    "print(most([\"a\", \"generic\", \"list\"], lambda a, b: len(a) > len(b)))"
   ]
  },
  {
   "cell_type": "markdown",
   "id": "7d19efa0",
   "metadata": {},
   "source": []
  },
  {
   "cell_type": "markdown",
   "id": "a8e8743c-cb78-4a94-a49e-39c0b74b49d2",
   "metadata": {},
   "source": [
    "#### Деанонимизация"
   ]
  },
  {
   "cell_type": "markdown",
   "id": "b896e50b-6f7a-47b5-ab4b-f7cd047d7449",
   "metadata": {},
   "source": [
    "При желании анонимную функцию можно легко \"деанонимизировать\":"
   ]
  },
  {
   "cell_type": "code",
   "execution_count": null,
   "id": "d0e7a4e0-dc4e-4127-8003-e8eb847a5d67",
   "metadata": {},
   "outputs": [],
   "source": [
    "square = lambda x: x**2\n",
    "square(5)"
   ]
  },
  {
   "cell_type": "code",
   "execution_count": null,
   "id": "7c6d42da-7717-4c97-aadf-e5ff0ed5e55f",
   "metadata": {},
   "outputs": [],
   "source": [
    "func = lambda x, y, z: x + y + z\n",
    "func(2, 3, 4)"
   ]
  },
  {
   "cell_type": "markdown",
   "id": "86842f26-407d-4de3-9345-f5cf3291135f",
   "metadata": {},
   "source": [
    "Задание: напишите анонимную функцию, которая возвращает несколько значений"
   ]
  },
  {
   "cell_type": "code",
   "execution_count": null,
   "id": "dfce2e95-0e89-4190-a857-a5645441cd8d",
   "metadata": {},
   "outputs": [],
   "source": [
    "###YOUR CODE HERE###"
   ]
  },
  {
   "cell_type": "markdown",
   "id": "4eb24370-31c3-419f-926c-c6e45bb622b0",
   "metadata": {},
   "source": [
    "Задание: отсортируйте массив по возрастанию абсолютных значений при помощи анонимной функции"
   ]
  },
  {
   "cell_type": "code",
   "execution_count": null,
   "id": "031fc0f3-915a-4c83-8ba5-b7d1e6546fc9",
   "metadata": {},
   "outputs": [],
   "source": [
    "a = [1, 3, -2, 4, -5]"
   ]
  },
  {
   "cell_type": "code",
   "execution_count": null,
   "id": "e17333cc-2c9d-4221-b546-ab7790153705",
   "metadata": {},
   "outputs": [],
   "source": [
    "###YOUR CODE HERE###"
   ]
  },
  {
   "cell_type": "code",
   "execution_count": null,
   "id": "b0466605-206a-411d-bc38-4565c882ac38",
   "metadata": {},
   "outputs": [],
   "source": []
  },
  {
   "cell_type": "markdown",
   "id": "6048bdc9-18ae-4131-870a-4e0c893f0e84",
   "metadata": {},
   "source": [
    "### В этом же контексте поговорим про рекурсию..."
   ]
  },
  {
   "cell_type": "markdown",
   "id": "8c424040-64d0-43ce-887d-e6080412eb01",
   "metadata": {},
   "source": [
    "Рекурсия - запуск функции из самой себя."
   ]
  },
  {
   "cell_type": "code",
   "execution_count": null,
   "id": "2e55f190-b35a-4128-b249-9627cf65f64a",
   "metadata": {},
   "outputs": [],
   "source": [
    "n = int(input())\n",
    "fact = 1\n",
    "i = 2\n",
    "while i <= n:\n",
    "    fact *= i\n",
    "    i += 1\n",
    "    print(fact)"
   ]
  },
  {
   "cell_type": "code",
   "execution_count": null,
   "id": "78dc60d0-0050-4f3e-a0c5-053e4b1f4a22",
   "metadata": {},
   "outputs": [],
   "source": [
    "def factorial(n):\n",
    "    if n == 0 :\n",
    "        return 1\n",
    "    return n*factorial(n - 1)\n",
    "\n",
    "n = int(input())\n",
    "print(factorial(n))"
   ]
  },
  {
   "cell_type": "markdown",
   "id": "0a2cc217-2f5a-4d21-b322-e044e1837558",
   "metadata": {},
   "source": [
    "Задание: реализуйте печать цифр от 0 до 10 при помощи рекурсии (без использования `for`)"
   ]
  },
  {
   "cell_type": "code",
   "execution_count": null,
   "id": "a21d6721-f0b7-43d2-be3d-b8a7ecbbecfd",
   "metadata": {},
   "outputs": [],
   "source": [
    "###YOUR CODE HERE###"
   ]
  },
  {
   "cell_type": "code",
   "execution_count": null,
   "id": "e2e94680-9aa4-4bbf-b386-d8be35c0cbbc",
   "metadata": {},
   "outputs": [],
   "source": []
  },
  {
   "cell_type": "markdown",
   "id": "7892cb16-7cc5-4111-a443-a48ccdba57e7",
   "metadata": {
    "tags": []
   },
   "source": [
    "### ... и декораторы"
   ]
  },
  {
   "cell_type": "markdown",
   "id": "4e020c7a-28e5-45c4-a0ce-e45379bb5ecb",
   "metadata": {},
   "source": [
    "Декораторы позволяют модифицировать поведение объекта, \"обернув\" ее в функцию. Объектом в нашем контексте выступает другая функция. Функция-декоратор, таким, образом, принимает исходную в качестве аргумента, и возвращает новую функцию, которая заменяет ее. Для удобства используется синтаксис `@decorator`, размещаемый непосредственно перед декорируемой функцией; decorator при этом - название функции-декоратора."
   ]
  },
  {
   "cell_type": "code",
   "execution_count": null,
   "id": "bb4ea92b-f526-4eb1-aa65-143ff85ddfdf",
   "metadata": {},
   "outputs": [],
   "source": [
    "def my_decorator(fn):\n",
    "    def wrapper():\n",
    "        print(\"entering the function...\")\n",
    "        fn()\n",
    "    print(\"exiting the function...\")\n",
    "    return wrapper\n",
    "\n",
    "@my_decorator\n",
    "def my_function():\n",
    "    print(\"inside the function...\")\n",
    "\n",
    "my_function()"
   ]
  },
  {
   "cell_type": "markdown",
   "id": "a16982fc-db7c-4bac-a517-1d576909feaf",
   "metadata": {},
   "source": [
    "Декораторы можно применять последовательно, \"наслаивая\" друг на друга:"
   ]
  },
  {
   "cell_type": "code",
   "execution_count": null,
   "id": "c8813245-d22b-4fb5-be04-7cfc80696d96",
   "metadata": {},
   "outputs": [],
   "source": [
    "def decorator_1(fn):\n",
    "    def wrapper():\n",
    "        print(\"entering decorator 1...\")\n",
    "        fn()\n",
    "        print(\"exiting decorator 1...\")\n",
    "    return wrapper\n",
    "\n",
    "def decorator_2(fn):\n",
    "    def wrapper():\n",
    "        print(\"entering decorator 2...\")\n",
    "        fn()\n",
    "        print(\"exiting decorator 2...\")\n",
    "    return wrapper\n",
    "\n",
    "def decorator_3(fn):\n",
    "    def wrapper():\n",
    "        print(\"entering decorator 3...\")\n",
    "        fn()\n",
    "        print(\"exiting decorator 3...\")\n",
    "    return wrapper\n",
    "\n",
    "@decorator_1\n",
    "@decorator_2\n",
    "@decorator_3\n",
    "def my_function():\n",
    "    print(\"inside the function.\")\n",
    "\n",
    "my_function()"
   ]
  },
  {
   "cell_type": "markdown",
   "id": "8854bb8b-428a-4e67-abdc-85138a814bbc",
   "metadata": {},
   "source": [
    "В конечном итоге необходимо понимать, что декораторы являются \"синтаксическим сахаром\", делая код элегантнее, но не добавляя новой функциональности:"
   ]
  },
  {
   "cell_type": "code",
   "execution_count": null,
   "id": "c472ae09-0f28-4aa8-a588-be63baf8e08b",
   "metadata": {},
   "outputs": [],
   "source": [
    "def dec(fn):\n",
    "    def wrapper():\n",
    "        fn()\n",
    "    return wrapper\n",
    "\n",
    "# конструкция ниже...\n",
    "@dec\n",
    "def fn():\n",
    "    pass\n",
    "\n",
    "# эквивалентна следующей...\n",
    "fn = dec(fn)"
   ]
  },
  {
   "cell_type": "markdown",
   "id": "dec38dd1",
   "metadata": {
    "tags": []
   },
   "source": [
    "### Итераторы и генераторы"
   ]
  },
  {
   "cell_type": "markdown",
   "id": "6496b6b0-cdb5-4a64-90c9-c391121cfaa3",
   "metadata": {},
   "source": [
    "Вопрос: в чем разница между `iterable` и `iterator`?\n",
    "\n",
    "Ответ: `iterable` (перебираемые объекты) - это объекты, к которым можно получить последовательный доступ. Например, `range`:"
   ]
  },
  {
   "cell_type": "code",
   "execution_count": null,
   "id": "b8af629e-bfe4-4f5b-928d-519e04dc1ec9",
   "metadata": {},
   "outputs": [],
   "source": [
    "print(tuple(range(10)))"
   ]
  },
  {
   "cell_type": "markdown",
   "id": "57a2bb9b",
   "metadata": {},
   "source": [
    "Задание: напишите проверку на то, является ли объект перебираемым"
   ]
  },
  {
   "cell_type": "code",
   "execution_count": null,
   "id": "9250cdd4",
   "metadata": {},
   "outputs": [],
   "source": [
    "arr = ['i', 'love', 'working', 'with', 'Python']\n",
    "b = 45.7\n",
    "\n",
    "###YOUR CODE###"
   ]
  },
  {
   "cell_type": "markdown",
   "id": "791d7e1e-64b4-4ff5-afe5-86be1d30929d",
   "metadata": {},
   "source": [
    "### Итераторы"
   ]
  },
  {
   "cell_type": "markdown",
   "id": "f1ddf116-70ef-4fb0-a03c-fb3fd6dd550d",
   "metadata": {},
   "source": [
    "Итератор - объект, который отслеживат свое местонахождение в итерируемым объекте, и по запросу выдает следующее значение. Можно создать итератор по списку; далее можем вызывать `next(it)`, пока не получим исключение `StopIteration`"
   ]
  },
  {
   "cell_type": "code",
   "execution_count": null,
   "id": "8a1ea962-4cef-406f-9188-5f99d977b0ab",
   "metadata": {},
   "outputs": [],
   "source": [
    "it = iter([2, 3, 5])"
   ]
  },
  {
   "cell_type": "markdown",
   "id": "90d2331c-c1c9-4dc4-b37a-8fa39b6bb14a",
   "metadata": {},
   "source": [
    "Чтобы вручную реализовать итерацию при помощи итератора: \n",
    "\n",
    "• Класс iterable объекта должен содержать метод  `__iter__` для создания и возрата нового итератора\n",
    "\n",
    "• Класс итератора должен содержать два метода:<br> \n",
    "• метод `__init__` , который принимает `iterable` в качестве аргумента и производит остальные необходимые при инициализации вычисления;<br>\n",
    "• метод `__next__` чтобы найти или вычислить следующее значение. Когда возвращать больше нечего, должен выбрасывать исключение `StopIteration`."
   ]
  },
  {
   "cell_type": "code",
   "execution_count": null,
   "id": "f506f142-8988-4a2e-9c1c-9c8d79b25a8d",
   "metadata": {},
   "outputs": [],
   "source": [
    "class MyList(): \n",
    "    def __init__(self, ls): \n",
    "        self.ls = ls \n",
    "        \n",
    "    def __iter__(self): \n",
    "        return Reverser(self.ls) \n",
    "\n",
    "class Reverser(): \n",
    "    def __init__(self, ls): \n",
    "        self.ls = ls \n",
    "        self.index = len(self.ls) \n",
    "    \n",
    "    def __next__(self): \n",
    "        self.index = self.index - 1\n",
    "        if self.index >= 0: \n",
    "            return self.ls[self.index] \n",
    "        raise StopIteration"
   ]
  },
  {
   "cell_type": "markdown",
   "id": "a406cd48-ec92-4884-8714-9143178ac29f",
   "metadata": {},
   "source": [
    "Как мы видим, итератор использует свои внутренние переменные для отслеживания своей позиции относительно объекта, по которому мы итерируемся. Поэтому он никак не модифицирует этот самый объект, и на нем может быть запущено сразу несколько итераторов параллельно."
   ]
  },
  {
   "cell_type": "markdown",
   "id": "42fb0cda-c03c-45e8-b8b9-edb86955978c",
   "metadata": {},
   "source": [
    "В цикле for может быть использована с любым итератором. В цикле `for`, исключение `StopIteration` не приводит к ошибке, а просто приводит к выходу из цикла."
   ]
  },
  {
   "cell_type": "code",
   "execution_count": null,
   "id": "8dc8e8d3-43c0-4caf-af02-6b380077387d",
   "metadata": {},
   "outputs": [],
   "source": [
    "ls = MyList([1, 2, 3, 4]) \n",
    "\n",
    "for e in ls: \n",
    "    print(e)"
   ]
  },
  {
   "cell_type": "markdown",
   "id": "6f01ce19-4446-4eec-be42-a0f474cbb654",
   "metadata": {},
   "source": [
    "Задание со звездочкой: реализуйте цикл for при помощи итератора"
   ]
  },
  {
   "cell_type": "code",
   "execution_count": null,
   "id": "a48bcf26-9ce0-43f1-9bcb-3db47f3e5d66",
   "metadata": {},
   "outputs": [],
   "source": [
    "###YOUR CODE###"
   ]
  },
  {
   "cell_type": "markdown",
   "id": "24c1aa88-c006-4836-9e46-f2b4b08ce959",
   "metadata": {},
   "source": [
    "Итератор не может быть \"переиспользован\", или \"перезагружен\" - после того, как он выбросит `StopIteration`, мы можем только создать новый."
   ]
  },
  {
   "cell_type": "markdown",
   "id": "c72243b2-c486-451a-8c7a-2902682d76c0",
   "metadata": {},
   "source": [
    "### Генераторы"
   ]
  },
  {
   "cell_type": "markdown",
   "id": "69139dc6-777c-4d28-b1c3-95961593eea0",
   "metadata": {},
   "source": [
    "Генераторы похожи на итераторы. Он генерирует значения по-одному, но при этом не обязательно привязан к какому-то объекту.\n",
    "\n",
    "Генератор можно задать почти как списочное включение, вместо квадратных скобок используя круглые, и использовать везде, где можно использовать итератор:"
   ]
  },
  {
   "cell_type": "code",
   "execution_count": null,
   "id": "7510e4be-1ab0-4efb-bd26-1639cb17c015",
   "metadata": {},
   "outputs": [],
   "source": [
    "word = 'generator'\n",
    "gen = (c for c in word if c in 'aeiou')\n",
    "for i in gen:\n",
    "    print(i, end=' ')"
   ]
  },
  {
   "cell_type": "markdown",
   "id": "a040a9bb-8e3f-4af9-adc1-8dce54c62f8b",
   "metadata": {},
   "source": [
    "Как и итератор, после полного цикла он принимает пустое значение и больше ничего не вернет."
   ]
  },
  {
   "cell_type": "code",
   "execution_count": null,
   "id": "fd3c1d7d-4c18-459d-8994-f5a56b80690c",
   "metadata": {},
   "outputs": [],
   "source": [
    "for i in gen:\n",
    "    print(i, end=' ')"
   ]
  },
  {
   "cell_type": "markdown",
   "id": "28f02fea-13cb-4ddf-9119-75dd44e5c0f6",
   "metadata": {},
   "source": [
    "Смысл генератора чуть более проясняется на примере написания функций, которые ведут себя генераторы. В них вместо return мы используем yield"
   ]
  },
  {
   "cell_type": "code",
   "execution_count": null,
   "id": "4ac6c4e1-5697-4015-a491-5065b87906a2",
   "metadata": {},
   "outputs": [],
   "source": [
    "def powers_of_two():\n",
    "    n = 2\n",
    "    for i in range(0, 5):\n",
    "        yield n\n",
    "        n *= 2"
   ]
  },
  {
   "cell_type": "markdown",
   "id": "c16d8dd0-d17b-42e7-b34b-0667645bb91f",
   "metadata": {},
   "source": [
    "При вызове функции возвращается не число, а генератор, который мы затем можем использовать"
   ]
  },
  {
   "cell_type": "code",
   "execution_count": null,
   "id": "b99e6044-bd15-4e7a-b134-35549b207cac",
   "metadata": {},
   "outputs": [],
   "source": [
    "gen = powers_of_two()\n",
    "for n in gen:\n",
    "    print(n)"
   ]
  },
  {
   "cell_type": "markdown",
   "id": "9f4b3c1c-41c7-4b0f-a592-e96edd5e38ff",
   "metadata": {},
   "source": [
    "Генерируем следующее значение, и обрабатываем исключение"
   ]
  },
  {
   "cell_type": "code",
   "execution_count": null,
   "id": "0519400d-37e8-417d-809c-5ed9ad152650",
   "metadata": {},
   "outputs": [],
   "source": [
    "gen = powers_of_two()\n",
    "while True:\n",
    "    try:\n",
    "        print(next(gen))\n",
    "    except StopIteration:\n",
    "        break"
   ]
  },
  {
   "cell_type": "markdown",
   "id": "a04d3f41-d7c4-45fa-94dd-d100a3400b84",
   "metadata": {},
   "source": [
    "Что тут происходит:<br>\n",
    "• Вызов `gen = powers_of_two()` возвращает генератор и кладет в переменную gen.<br>\n",
    "• Первый вызов `next(gen)` исполнит код генератора до `yield` и вернет необходимое значение, как обычный `return`. Однако вдобавок генератор запомнит свое состояние.<br>\n",
    "• Следующий вызов `next(gen)` вернет исполнение в генераторе с предыдуюего состояния, то есть сразу после `yield`. Все значения локальных переменных будут восстановлены - как будто бы `yield` не происходил. В нашем примере, цикл for продолжит исполнение.<br>\n",
    "• Можно использовать `yield` несколько раз.<br>\n",
    "• В конце - все так же `StopIteration`."
   ]
  },
  {
   "cell_type": "markdown",
   "id": "b0064350",
   "metadata": {},
   "source": [
    "#### Генераторы и память"
   ]
  },
  {
   "cell_type": "code",
   "execution_count": null,
   "id": "dd5cd321",
   "metadata": {},
   "outputs": [],
   "source": [
    "import sys\n",
    "\n",
    "# проверяем расход памяти\n",
    "def memory_size(_, code):\n",
    "    size = sys.getsizeof(code)\n",
    "    return f'{_}: allocated memory is {size} bytes'\n",
    "\n",
    "print(memory_size('generator', (num**2 for num in range(10000))))\n",
    "print(memory_size('list comprehension', [num**2 for num in range(10000)]))"
   ]
  },
  {
   "cell_type": "markdown",
   "id": "93cdbeac",
   "metadata": {},
   "source": [
    "Генераторы позволяют нам работать с большими датасетами с минимальными затратами памяти."
   ]
  },
  {
   "cell_type": "code",
   "execution_count": null,
   "id": "9b1ff146-a1ee-41c1-af85-22b7fc63eac7",
   "metadata": {},
   "outputs": [],
   "source": []
  },
  {
   "cell_type": "markdown",
   "id": "fb1d86b9",
   "metadata": {
    "tags": []
   },
   "source": [
    "### Прочие функциональные инструменты"
   ]
  },
  {
   "cell_type": "markdown",
   "id": "1dec2f41",
   "metadata": {},
   "source": [
    "Питон располагает рядом встроенных инструментов:\n",
    "\n",
    "`map(function, iterable)` применяет функцию к каждому элементу в перечиляемом объекте и возвращает перечисляемый объект `map`"
   ]
  },
  {
   "cell_type": "code",
   "execution_count": null,
   "id": "5235f5c5",
   "metadata": {},
   "outputs": [],
   "source": [
    "print(map(lambda x: x + \"bzz!\", [\"I think\", \"I'm good\"]))\n",
    "list(map(lambda x: x + \"bzz!\", [\"I think\", \"I'm good\"]))"
   ]
  },
  {
   "cell_type": "markdown",
   "id": "fca94e5a",
   "metadata": {},
   "source": [
    "`filter(function or None, iterable)` отбирает элементы из перечисляемого объекта на основании результата применения к ним функции, и возвращает перечисляемый объект `filter`"
   ]
  },
  {
   "cell_type": "code",
   "execution_count": null,
   "id": "a8bba30a",
   "metadata": {},
   "outputs": [],
   "source": [
    "print(filter(lambda x: x.startswith(\"I \"), [\"I think\", \"I'm good\"]))\n",
    "list(filter(lambda x: x.startswith(\"I \"), [\"I think\", \"I'm good\"]))"
   ]
  },
  {
   "cell_type": "markdown",
   "id": "ed5ba0b9",
   "metadata": {},
   "source": [
    "`zip(iter1 [,iter2 [...]])` принимает на вход последовательности одной длины, и поэлементно собирает их в последовательность кортежей. Полезно, например, если нам нужно объединить список ключей и список значений в словарь. Возвращает перечисляемый объект `zip`"
   ]
  },
  {
   "cell_type": "code",
   "execution_count": null,
   "id": "861106b0",
   "metadata": {},
   "outputs": [],
   "source": [
    "keys = [\"foobar\", \"barzz\", \"ba!\"]\n",
    "print(zip(keys, map(len, keys)))\n",
    "print(list(zip(keys, map(len, keys))))\n",
    "print(dict(zip(keys, map(len, keys))))"
   ]
  },
  {
   "cell_type": "markdown",
   "id": "ea8523f6",
   "metadata": {},
   "source": [
    "`functools.reduce(binaryFunction, iterable)` применяет бинарную функцию к первым двум элементам перечисляемого объекта. Затем операция последовательно повторяется по отношению к результату применения функции и следующему элементу, пока перечисляемый объект не свернется в одно результирующее значение. (NB: `reduce` необходимо импортировать из библиотеки `functools`)."
   ]
  },
  {
   "cell_type": "code",
   "execution_count": null,
   "id": "10227a7a",
   "metadata": {},
   "outputs": [],
   "source": [
    "my_list = [3,1,4,1,6]\n",
    "from functools import reduce\n",
    "reduce(lambda x,y:x+y,my_list)"
   ]
  },
  {
   "cell_type": "markdown",
   "id": "e85111a5",
   "metadata": {},
   "source": [
    "`any(iterable)` и `all(iterable)` возвращают булево значение в зависимости от значений на элементах перечисляегого объекта. Они эквивалентны следующему:"
   ]
  },
  {
   "cell_type": "code",
   "execution_count": null,
   "id": "fbad9a49",
   "metadata": {},
   "outputs": [],
   "source": [
    "def all(iterable):\n",
    "    for x in iterable:\n",
    "        if not x:\n",
    "            return False\n",
    "    return True"
   ]
  },
  {
   "cell_type": "code",
   "execution_count": null,
   "id": "09c96cfe",
   "metadata": {},
   "outputs": [],
   "source": [
    "def any(iterable):\n",
    "    for x in iterable:\n",
    "        if x:\n",
    "            return True\n",
    "    return False"
   ]
  },
  {
   "cell_type": "markdown",
   "id": "f9412bbb",
   "metadata": {},
   "source": [
    "Их удобно применять в том случае, если нужно проверить, соответствуют ли все / хоть один элемент в перечисляемом объекте условию:"
   ]
  },
  {
   "cell_type": "code",
   "execution_count": null,
   "id": "81d8d192",
   "metadata": {},
   "outputs": [],
   "source": [
    "mylist = [0, 1, 3, -1]\n",
    "if all(map(lambda x: x > 0, mylist)):\n",
    "    print(\"All items are greater than 0\")\n",
    "if any(map(lambda x: x > 0, mylist)):\n",
    "    print(\"At least one item is greater than 0\")"
   ]
  },
  {
   "cell_type": "code",
   "execution_count": null,
   "id": "7d08f9e8",
   "metadata": {},
   "outputs": [],
   "source": []
  },
  {
   "cell_type": "markdown",
   "id": "e831d4d1",
   "metadata": {},
   "source": [
    "### Вернемся к списочным включениям в этом контексте"
   ]
  },
  {
   "cell_type": "markdown",
   "id": "a26641fb",
   "metadata": {},
   "source": [
    "Как мы выяснили, списочные включения - это отличный способ задания списков. Стоит отметить, что списки, которые заданы при помощи включений, ни в чем не опираются на состояние программы, и потому вписываются в парадигму функционального программирования (и именно в силу этого является столь элегантным и легким к восприятию приемом)."
   ]
  },
  {
   "cell_type": "markdown",
   "id": "d8313d76",
   "metadata": {},
   "source": [
    "Задание: напишите эквивалент `filter` и `map` при помощи списочного включения:"
   ]
  },
  {
   "cell_type": "code",
   "execution_count": null,
   "id": "58b23cb9-51af-4f46-8f91-dfb1c8f4723f",
   "metadata": {},
   "outputs": [],
   "source": []
  },
  {
   "cell_type": "markdown",
   "id": "277792df",
   "metadata": {},
   "source": [
    "`map`"
   ]
  },
  {
   "cell_type": "code",
   "execution_count": null,
   "id": "4b92f408",
   "metadata": {},
   "outputs": [],
   "source": [
    "###YOUR CODE###"
   ]
  },
  {
   "cell_type": "markdown",
   "id": "91b184ab",
   "metadata": {},
   "source": [
    "`filter`"
   ]
  },
  {
   "cell_type": "code",
   "execution_count": null,
   "id": "f09e35f7",
   "metadata": {},
   "outputs": [],
   "source": [
    "###YOUR CODE###"
   ]
  },
  {
   "cell_type": "code",
   "execution_count": null,
   "id": "430b5b22",
   "metadata": {},
   "outputs": [],
   "source": []
  },
  {
   "cell_type": "markdown",
   "id": "88a7ef89-4813-4d14-8751-ea8464962cf5",
   "metadata": {},
   "source": [
    "### Обратная сторона лямбды"
   ]
  },
  {
   "cell_type": "markdown",
   "id": "94bb7ebc-c70a-4741-8e3b-c280bbeed099",
   "metadata": {},
   "source": [
    "Подоплека: когда мы работаем со списками, часто встает задача найти первый элемент, удовлетворяющий определенному условию. Обычно эта задача решается при помощи конструкции наподобие следующей:"
   ]
  },
  {
   "cell_type": "code",
   "execution_count": null,
   "id": "6271b348",
   "metadata": {},
   "outputs": [],
   "source": [
    "def first_positive_number(numbers):\n",
    "    for n in numbers:\n",
    "        if n > 0:\n",
    "    return n"
   ]
  },
  {
   "cell_type": "markdown",
   "id": "63537011-2730-4261-9550-e37fd37627e7",
   "metadata": {},
   "source": [
    "В функциональном стиле можно переписать так:"
   ]
  },
  {
   "cell_type": "code",
   "execution_count": null,
   "id": "f699bc7a",
   "metadata": {},
   "outputs": [],
   "source": [
    "def first(predicate, items):\n",
    "    for item in items:\n",
    "        if predicate(item):\n",
    "    return item\n",
    "\n",
    "first(lambda x: x > 0, [-1, 0, 1, 2])"
   ]
  },
  {
   "cell_type": "code",
   "execution_count": null,
   "id": "e0a63589",
   "metadata": {},
   "outputs": [],
   "source": [
    "# Less efficient\n",
    "list(filter(lambda x: x > 0, [-1, 0, 1, 2]))[0]\n",
    "# Efficient\n",
    "next(filter(lambda x: x > 0, [-1, 0, 1, 2]))"
   ]
  },
  {
   "cell_type": "markdown",
   "id": "7141c364-4354-401e-a066-fea043b2e8a4",
   "metadata": {},
   "source": [
    "Вопрос: какую вы видите проблему с первым вариантом?"
   ]
  },
  {
   "cell_type": "markdown",
   "id": "4db558b1-cb1c-4f2d-8615-34daf8245255",
   "metadata": {},
   "source": [
    "Можно немного упростить себе жизнь, воспользовавшись небольшой полезной библиотекой first:"
   ]
  },
  {
   "cell_type": "code",
   "execution_count": null,
   "id": "a7caa4a7",
   "metadata": {},
   "outputs": [],
   "source": [
    "from first import first\n",
    "\n",
    "a = first([0, False, None, [], (), 42])\n",
    "b = first([-1, 0, 1, 2])\n",
    "c = first([-1, 0, 1, 2], key=lambda x: x > 0)\n",
    "print(a, b, c)"
   ]
  },
  {
   "cell_type": "markdown",
   "id": "9d6c1714-e5a4-42b2-b0f8-d1f143e28421",
   "metadata": {},
   "source": [
    "Здесь мы используем именованный аргумент `key` с тем, чтобы передать в него функцию, которая поочередно оценивает каждый аргумент на соответствие условию.\n",
    "\n",
    "Как можно увидеть, в семинаре мы повсеместно используем для подобных случаев `lambda`. Вообще говоря, `lambda` была включена в Python в первую очередь для удобства использования функциональных `map()` и `filter()`, который в противном случае потребовали бы определять новую функцию каждый раз когда нужно проверить какое-то новое условие."
   ]
  },
  {
   "cell_type": "code",
   "execution_count": null,
   "id": "1096f9b1",
   "metadata": {},
   "outputs": [],
   "source": [
    "import operator\n",
    "from first import first\n",
    "\n",
    "def greater_than_zero(number):\n",
    "    return number > 0\n",
    "\n",
    "first([-1, 0, 1, 2], key=greater_than_zero)"
   ]
  },
  {
   "cell_type": "markdown",
   "id": "8de47a63-8387-44a8-8b8d-eafc314ced2f",
   "metadata": {},
   "source": [
    "Код выше работает аналогично предыдущей ячейке, но он гораздо более громоздкий. Если, например, нам понадобится найти первое число в последовательности, которое превосходит, скажем, 42, то нам бы пришлось определять соответствующую отдельную функцию вместо того, чтобы определить ее в одной строке с вызовом `first`.\n",
    "\n",
    "Несмотря на всю полезность в подобных ситуациях, `lambda` не лишена проблем. Самое очевидное, мы не можем таким образом передать в ключ функцию длиной более одной строчки кода. Однако означает ли это, что в этой ситуации у нас нет другого выхода, кроме как определять отдельную функцию? Не совсем.\n",
    "\n",
    "`functools.partial` предоставляет альтернативу лямбда-выражению, причем даже более гибкую. Эта конструкция позволяет создать функцию-обертку с интересной особенностью: вместо того, чтобы менять поведение функции, мы взамен меняем аргументы, которые она получает на вход. Например:"
   ]
  },
  {
   "cell_type": "code",
   "execution_count": null,
   "id": "f0bf0abf",
   "metadata": {},
   "outputs": [],
   "source": [
    "from functools import partial\n",
    "from first import first\n",
    "\n",
    "def greater_than(number, min=0):\n",
    "    return number > min\n",
    "\n",
    "first([-1, 0, 1, 2], key=partial(greater_than, min=42))"
   ]
  },
  {
   "cell_type": "markdown",
   "id": "c24b95c5-015d-4ffc-b0fa-381ecb4eba68",
   "metadata": {},
   "source": [
    "Теперь наша функция `greater_than` по умолчанию работает как прежняя, но вдобавок мы можем указать значение, с которым мы сравниваем передаваемый в нее аргумент. В данном случае, мы передаем в `functools.partial` нашу исходную функцию и значение, которым мы переопределим `min`, и в результате получим новую функцию, которая сравнивает числа на входе с 42, ровно как мы и хотели бы. Другими словами, мы можем задать функцию, и затем кастомизировать ее при помощи `functools.partial` так, как нам необходимо в данной ситуации.\n",
    "\n",
    "Строго говоря, в данном конкретном случае наша запись все еще избыточна, ведь все, что мы делаем, это сравнение двух чисел. В Питон присутствует специальный модуль `operator` для подобного рода простых операций:"
   ]
  },
  {
   "cell_type": "code",
   "execution_count": null,
   "id": "68abaa0b",
   "metadata": {},
   "outputs": [],
   "source": [
    "import operator\n",
    "from functools import partial\n",
    "from first import first\n",
    "\n",
    "first([-1, 0, 1, 2], key=partial(operator.le, 0))"
   ]
  },
  {
   "cell_type": "markdown",
   "id": "43e61fd0-9c5d-45fb-960f-013691562c94",
   "metadata": {},
   "source": [
    "Как мы можем убедиться, `functools.partial` работает и с позиционными аргументами тоже. В данном примере `operator.le(a, b)` принимает на вход два числа и возвращает булево значение в зависимости от того, больше или равно первое второму или нет. Ноль, который мы передаем в `functools.partial`, уходит в переменную `a`, в то время как то, что уходит в функцию, которую мы получаем на выходе из `functools.partial`, уходит в `b`. Таким образом, используя `le` (а не `ge`, как могло бы показаться), наш пример работает должным образом без необходимости в лямбда-выражении и задании каких-либо дополнительных функций."
   ]
  },
  {
   "cell_type": "markdown",
   "id": "7128def5-82f3-473b-a8d0-608bc3230f8e",
   "metadata": {},
   "source": [
    "`functools.partial` особенно полезна в качестве замены `lambda` - которую, к слову сказать, даже планировали убрать из третьей версии Пайтон! - и считается предпочтительной альтернативой. Лямбда-выражения являются некоторой аномалией ввиду ограничения на длину в одну стоку. С другой стороны, `functools.partial` предоставляет удобную обертку вокруг исходной функции."
   ]
  },
  {
   "cell_type": "markdown",
   "id": "5aef1386-501b-4a78-b9fa-85b181bf486d",
   "metadata": {},
   "source": [
    "Вообще говоря, модуль `itertools` в составе Python Standard Library содержит целый ряд полезных функций, которые неплохо держать в уме. Очень часто можно встретить примеры, когда разработчики прописывают свои версии данных функций... называя вещи своими именами, изобретают велосипед, когда есть отличные готовые реализации:\n",
    "\n",
    "• `chain(*iterables)` итерация по элементам перечисляемого объекта без явного построения промежуточного списка всех элементов<br>\n",
    "• `combinations(iterable, r)` генерирует все комбинации длины `r` из данного перечисляемого объекта<br>\n",
    "• `compress(data, selectors)` применяет булеву маску из `selectors` к данным и возвращает только те значения из них, где соответствующие элемент селектора истинен<br>\n",
    "• `count(start, step)` генерирует бесконечную последовательность значений, начиная со `start` и увеличиваясь на `step` на каждом вызове<br>\n",
    "• `cycle(iterable)` циклически перебирает элементы в перечисляемом объекте<br>\n",
    "• `dropwhile(predicate, iterable)` отфильтровывает элементы перечисляемого объекта с начала и до момента когда предикат оценится как ложный<br>\n",
    "• `groupby(iterable, keyfunc)` создает итератор, который группирует элементы по результату, который возвращает на них функция `keyfunc`<br>\n",
    "• `permutations(iterable[, r])` возвращает последовательные перестановки элементов перечисляемого объекта длины `r`<br>\n",
    "• `product(*iterables)` возвращает перечисляемый объект декартова произведения перечисляемых объектов без задействования вложенных циклов<br>\n",
    "• `takewhile(predicate, iterable)` возвращает элементы перечисляемого объекта с начала и до момента когда предикат оценится как ложный<br>\n",
    "\n",
    "Наибольшую мощь эти функции приобретают в комбинации с модулем `operator`; сочетание `itertools` и `operator` может заменить собой `lambda` практически во всех ситуациях:"
   ]
  },
  {
   "cell_type": "code",
   "execution_count": 58,
   "id": "0b636553",
   "metadata": {},
   "outputs": [
    {
     "name": "stdout",
     "output_type": "stream",
     "text": [
      "[('bar', <itertools._grouper object at 0x7fd225800640>), ('baz', <itertools._grouper object at 0x7fd225800d30>)]\n"
     ]
    },
    {
     "data": {
      "text/plain": [
       "[('bar', []), ('baz', [])]"
      ]
     },
     "execution_count": 58,
     "metadata": {},
     "output_type": "execute_result"
    }
   ],
   "source": [
    "import itertools\n",
    "\n",
    "a = [{'foo': 'bar'}, {'foo': 'bar', 'x': 42}, {'foo': 'baz', 'y': 43}]\n",
    "\n",
    "import operator\n",
    "\n",
    "print(list(itertools.groupby(a, operator.itemgetter('foo'))))\n",
    "[(key, list(group)) for key, group in list(itertools.groupby(a, operator.itemgetter('foo')))]"
   ]
  },
  {
   "cell_type": "markdown",
   "id": "bacc80f9-3dca-47ec-aad3-b481317935ce",
   "metadata": {},
   "source": [
    "В данном случае можно было бы воспользоваться конструкцией `lambda x: x['foo']`, однако использование `operator` позволяет совсем отказаться от лямбда-выражения."
   ]
  }
 ],
 "metadata": {
  "kernelspec": {
   "display_name": "Python 3 (ipykernel)",
   "language": "python",
   "name": "python3"
  },
  "language_info": {
   "codemirror_mode": {
    "name": "ipython",
    "version": 3
   },
   "file_extension": ".py",
   "mimetype": "text/x-python",
   "name": "python",
   "nbconvert_exporter": "python",
   "pygments_lexer": "ipython3",
   "version": "3.9.7"
  }
 },
 "nbformat": 4,
 "nbformat_minor": 5
}
