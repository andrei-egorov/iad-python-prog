{
 "cells": [
  {
   "cell_type": "markdown",
   "id": "e7f033cc-2552-4d60-8759-6b6e8743f4fe",
   "metadata": {},
   "source": [
    "# Семинар 3. Нетривиальные конструкции языка (продолжение)"
   ]
  },
  {
   "cell_type": "markdown",
   "id": "be141b4c-0a22-4e1f-a986-1acabd037924",
   "metadata": {},
   "source": [
    "На этом семинаре мы продолжим обсуждать некоторые не столь очевидные конструкции языка, плавно переходя к функциям."
   ]
  },
  {
   "cell_type": "markdown",
   "id": "450d3f2e-a3ac-4ff8-8dbb-0543d1335d51",
   "metadata": {},
   "source": [
    "**(Продолжение)**\n",
    "\n",
    "Структуры данных<br>\n",
    "1. Изменяемые и неизменяемые объекты, копирование\n",
    "2. Множество\n",
    "3. Список\n",
    "4. Кортежи\n",
    "5. Словарь\n",
    "\n",
    "Итераторы и генераторы\n",
    "1. Итераторы\n",
    "2. Генераторы\n",
    "\n",
    "Переменные\n",
    "1. Del\n",
    "2. Области действия\n",
    "\n",
    "**Функции и элементы функционального программирования**\n",
    "\n",
    "Задание функций\n",
    "1. Позиционные и именованные аргументы\n",
    "2. Args, kwargs\n",
    "3. Значения по умолчанию (в контексте типов данных)\n",
    "4. Return и pass\n",
    "\n",
    "Элементы функционального программирования\n",
    "1. Немного теории\n",
    "2. Анонимные функции\n",
    "3. Декораторы"
   ]
  },
  {
   "cell_type": "markdown",
   "id": "30185f3b-537e-4c56-bba7-a14782ac5550",
   "metadata": {},
   "source": [
    "## Структуры данных"
   ]
  },
  {
   "cell_type": "markdown",
   "id": "19a7a5a5-eeba-481a-9442-8f3850edecf3",
   "metadata": {},
   "source": [
    "### Изменяемые и неизменяемые объекты (напоминание)"
   ]
  },
  {
   "cell_type": "markdown",
   "id": "aaff4f5f-220b-42a5-938a-5f3d9788a30d",
   "metadata": {},
   "source": [
    "Помним о том, что список - это ссылка на список ссылок"
   ]
  },
  {
   "cell_type": "code",
   "execution_count": null,
   "id": "c8040f03-9510-4106-a38a-9066b4257fb6",
   "metadata": {},
   "outputs": [],
   "source": [
    "a = [1, 2]\n",
    "b = a\n",
    "b[0] = 3\n",
    "print(a)"
   ]
  },
  {
   "cell_type": "code",
   "execution_count": null,
   "id": "a0591f8f-33ef-4561-8c22-0c3cca0439c4",
   "metadata": {},
   "outputs": [],
   "source": [
    "a = [1, 2]\n",
    "b = [1, 2]\n",
    "a[0] = 3\n",
    "print(b)\n",
    "print(id(a))\n",
    "print(id(b))"
   ]
  },
  {
   "cell_type": "code",
   "execution_count": null,
   "id": "e6fdc024-e798-42f9-b020-37e7656df8cc",
   "metadata": {},
   "outputs": [],
   "source": [
    "a = [1, 2]\n",
    "b = a\n",
    "a = [3, 4]\n",
    "print(b)"
   ]
  },
  {
   "cell_type": "code",
   "execution_count": null,
   "id": "2eb35c58-c877-4f5a-b9b8-7ef205cbad7c",
   "metadata": {},
   "outputs": [],
   "source": [
    "def replaceFirst(myList):\n",
    "    myList[0] = 'x'\n",
    "\n",
    "nowList = list('abcdef')\n",
    "replaceFirst(nowList)\n",
    "print(nowList)"
   ]
  },
  {
   "cell_type": "code",
   "execution_count": null,
   "id": "a015686f-9d71-479c-8f47-15dac2940410",
   "metadata": {},
   "outputs": [],
   "source": [
    "def reverseList(funcList):\n",
    "    funcList = funcList[::-1]\n",
    "    \n",
    "mainList = list('abc')\n",
    "reverseList(mainList)\n",
    "print(mainList)"
   ]
  },
  {
   "cell_type": "markdown",
   "id": "da561f87",
   "metadata": {},
   "source": [
    "### Копии"
   ]
  },
  {
   "cell_type": "markdown",
   "id": "65c6977c-ab0b-4142-ae4d-41d1eeb3665a",
   "metadata": {},
   "source": [
    "Если мы хотим скопировать изменяемый объект, мы можем воспользоваться методом .copy"
   ]
  },
  {
   "cell_type": "code",
   "execution_count": null,
   "id": "33c3ad76-ecb0-46c1-adcc-59885e517463",
   "metadata": {},
   "outputs": [],
   "source": [
    "a = [[1, 2], [2, 3]]"
   ]
  },
  {
   "cell_type": "markdown",
   "id": "344ad92b-3154-44d1-9368-f110ef5c3dba",
   "metadata": {},
   "source": [
    "Вопрос: зачем же нам может понадобиться что-то еще?"
   ]
  },
  {
   "cell_type": "code",
   "execution_count": null,
   "id": "ed25d1ff-07a9-4426-92e0-02bd1a798db4",
   "metadata": {},
   "outputs": [],
   "source": [
    "import copy\n",
    "shallow_copy = copy.copy(a)"
   ]
  },
  {
   "cell_type": "code",
   "execution_count": null,
   "id": "8a5ffc72",
   "metadata": {},
   "outputs": [],
   "source": [
    "id(a), id(shallow_copy)"
   ]
  },
  {
   "cell_type": "code",
   "execution_count": null,
   "id": "e771ed52",
   "metadata": {},
   "outputs": [],
   "source": [
    "id(a[0]), id(shallow_copy[0])"
   ]
  },
  {
   "cell_type": "code",
   "execution_count": null,
   "id": "4df62445-bc7d-477b-80f0-1dd4683bbd05",
   "metadata": {},
   "outputs": [],
   "source": [
    "deep_copy = copy.deepcopy(a)"
   ]
  },
  {
   "cell_type": "code",
   "execution_count": null,
   "id": "94b09cde-bf2a-460f-991c-620f5f96eaee",
   "metadata": {},
   "outputs": [],
   "source": [
    "id(a[0]), id(deep_copy[0])"
   ]
  },
  {
   "cell_type": "markdown",
   "id": "64a2edca-8b27-4a63-a5b7-93fd7684652a",
   "metadata": {},
   "source": [
    "### Множество"
   ]
  },
  {
   "cell_type": "markdown",
   "id": "4e569a2a",
   "metadata": {},
   "source": [
    "Множество - набор уникальных значений. Выполнится ли код внизу?"
   ]
  },
  {
   "cell_type": "code",
   "execution_count": null,
   "id": "884cf99a",
   "metadata": {},
   "outputs": [],
   "source": [
    "s = {10, \"ten\", \"X\"}"
   ]
  },
  {
   "cell_type": "markdown",
   "id": "0d8660f3-8ebb-481f-a587-0477fd8647ac",
   "metadata": {},
   "source": [
    "Что будет с порядком, если преобразовать в множество и обратно?"
   ]
  },
  {
   "cell_type": "code",
   "execution_count": null,
   "id": "df8f10cb",
   "metadata": {},
   "outputs": [],
   "source": []
  },
  {
   "cell_type": "markdown",
   "id": "9c67eb18",
   "metadata": {},
   "source": [
    "Для множеств доступны привычные нам математические операции"
   ]
  },
  {
   "cell_type": "markdown",
   "id": "5502f7a2-7586-49c8-915c-52614b0e6a1e",
   "metadata": {},
   "source": [
    ".union() - объединение"
   ]
  },
  {
   "cell_type": "code",
   "execution_count": null,
   "id": "9936d2f2-ec88-4023-b09b-60f7101df363",
   "metadata": {},
   "outputs": [],
   "source": [
    "s1={1,2,3}\n",
    "s2={2,3,4}\n",
    "s1.union(s2)"
   ]
  },
  {
   "cell_type": "markdown",
   "id": "791ea916-788d-4215-aec4-f2a74bbca5bf",
   "metadata": {},
   "source": [
    ".intersection() - пересечение"
   ]
  },
  {
   "cell_type": "code",
   "execution_count": null,
   "id": "7cdb0e98-ca8f-415a-b97b-ac5cfc17dbf8",
   "metadata": {},
   "outputs": [],
   "source": [
    "s1={1,2,3}\n",
    "s2={2,3,4}\n",
    "s1.intersection(s2)"
   ]
  },
  {
   "cell_type": "markdown",
   "id": "96fe0773-5697-4239-95b1-18d5b7a866e6",
   "metadata": {},
   "source": [
    ".difference() - разность<br>\n",
    ".symmetric_difference() - симметрическая разность"
   ]
  },
  {
   "cell_type": "code",
   "execution_count": null,
   "id": "83d0d89d-cc89-421d-bb9f-d3900a954bc3",
   "metadata": {},
   "outputs": [],
   "source": [
    "s1={1,2,3}\n",
    "s2={2,3,4}\n",
    "s1.symmetric_difference(s2)"
   ]
  },
  {
   "cell_type": "markdown",
   "id": "9f5adbf1-ac37-409c-b1b9-8e144b176306",
   "metadata": {},
   "source": [
    ".isdisjoint() - возвращает True, если множества не содержат общих элементов"
   ]
  },
  {
   "cell_type": "code",
   "execution_count": null,
   "id": "cc670109-35a9-4ef3-b35f-fae86f24e1bf",
   "metadata": {},
   "outputs": [],
   "source": [
    "{1,2,3}\n",
    "{4,5,6}\n",
    "s1.isdisjoint(s2)"
   ]
  },
  {
   "cell_type": "markdown",
   "id": "dcf04477-e510-41ae-a2c8-27277db720e7",
   "metadata": {},
   "source": [
    ".issubset() - проверка на подмножество<br>\n",
    ".issuperset() - проверка надмножество"
   ]
  },
  {
   "cell_type": "code",
   "execution_count": null,
   "id": "865d939b-adfe-423b-be7c-5bb6a71c1fac",
   "metadata": {},
   "outputs": [],
   "source": [
    "s1={1,2,3}\n",
    "s2={1,2,3,4,5,6}\n",
    "s1.issubset(s2)"
   ]
  },
  {
   "cell_type": "code",
   "execution_count": null,
   "id": "d5d24bd5-1b99-467d-b9cd-09b29b3313af",
   "metadata": {},
   "outputs": [],
   "source": [
    "s1={1,2,3,4,5,6}\n",
    "s2={1,2,3}\n",
    "s1.issuperset(s2)"
   ]
  },
  {
   "cell_type": "markdown",
   "id": "addc0ffc",
   "metadata": {},
   "source": [
    "Задание: найдите разные значения"
   ]
  },
  {
   "cell_type": "code",
   "execution_count": null,
   "id": "60d24c8e",
   "metadata": {},
   "outputs": [],
   "source": [
    "a = [9, 3, 6, 7, 8, 4]\n",
    "b = [9, 3, 7, 5, 2, 1]\n",
    "###YOUR CODE###"
   ]
  },
  {
   "cell_type": "markdown",
   "id": "d42d503c-a635-4fe0-b7ed-f5a1349d5ad6",
   "metadata": {},
   "source": [
    "### Список"
   ]
  },
  {
   "cell_type": "markdown",
   "id": "3a036ca9-15a9-4755-a691-9377d9f7621a",
   "metadata": {},
   "source": [
    "Аналог массива в других языках программирования"
   ]
  },
  {
   "cell_type": "markdown",
   "id": "7e6e1aa8-7f48-4658-a7dd-6b119d1ac50c",
   "metadata": {},
   "source": [
    "#### enumerate()"
   ]
  },
  {
   "cell_type": "markdown",
   "id": "bb78891c",
   "metadata": {},
   "source": [
    "Когда необходимо вывести каждый элемент вместе с его порядковым индексом:"
   ]
  },
  {
   "cell_type": "code",
   "execution_count": null,
   "id": "7a718f5c-159f-400c-b09a-c4927f967de0",
   "metadata": {},
   "outputs": [],
   "source": [
    "my_list = ['a', 'b']"
   ]
  },
  {
   "cell_type": "code",
   "execution_count": null,
   "id": "fe7607cd-b52a-4253-a85c-64cf324ae8a1",
   "metadata": {},
   "outputs": [],
   "source": [
    "for i in range(0, len(my_list)): \n",
    "    print(my_list[i], \"is at\", i)"
   ]
  },
  {
   "cell_type": "markdown",
   "id": "27753d3f-f388-457d-b65c-8ed1935d7e25",
   "metadata": {},
   "source": [
    "Конечно, такую операцию надо делать при помощи enumerate, которая вернет кортежи (индекс, значение):"
   ]
  },
  {
   "cell_type": "code",
   "execution_count": null,
   "id": "aafe194a-e33e-427e-a42c-1e1a6238f37e",
   "metadata": {},
   "outputs": [],
   "source": [
    "for index, value in enumerate(my_list): \n",
    "    print(value, \"is at\", index)"
   ]
  },
  {
   "cell_type": "markdown",
   "id": "a567a7ed",
   "metadata": {},
   "source": [
    "#### extend и append"
   ]
  },
  {
   "cell_type": "code",
   "execution_count": null,
   "id": "8f7a48b0",
   "metadata": {},
   "outputs": [],
   "source": [
    "numbers1 = [1, 2, 3]\n",
    "numbers2 = [4, 5, 6]\n",
    "numbers1.append(numbers2)\n",
    "print(numbers1)"
   ]
  },
  {
   "cell_type": "code",
   "execution_count": null,
   "id": "705e958b",
   "metadata": {},
   "outputs": [],
   "source": [
    "numbers1 = [1, 2, 3]\n",
    "numbers2 = [4, 5, 6]\n",
    "numbers1.extend(numbers2)\n",
    "print(numbers1)"
   ]
  },
  {
   "cell_type": "markdown",
   "id": "d5a1f597-f590-4754-8fea-516ebea0b298",
   "metadata": {},
   "source": [
    "#### Сортировка и \"разворот\""
   ]
  },
  {
   "cell_type": "code",
   "execution_count": null,
   "id": "3b036fee-7461-4771-bf42-abd3056a9a36",
   "metadata": {},
   "outputs": [],
   "source": [
    "x = ['aa', 'b', 'a', 'ab']"
   ]
  },
  {
   "cell_type": "markdown",
   "id": "6d331119-23fe-48cc-93a2-c439e1461b0f",
   "metadata": {},
   "source": [
    "Вопрос: как можно развернуть список?"
   ]
  },
  {
   "cell_type": "code",
   "execution_count": null,
   "id": "9f2d1b8e-ffe4-4777-91fd-01ca07030045",
   "metadata": {},
   "outputs": [],
   "source": [
    "###YOUR CODE###"
   ]
  },
  {
   "cell_type": "markdown",
   "id": "93149517-ae68-4428-aa5f-a11570382918",
   "metadata": {},
   "source": [
    "Вопрос: как можно отсортировать список?"
   ]
  },
  {
   "cell_type": "code",
   "execution_count": null,
   "id": "9dad965e-9d74-45f5-baa2-2740437c9559",
   "metadata": {},
   "outputs": [],
   "source": [
    "###YOUR CODE###"
   ]
  },
  {
   "cell_type": "markdown",
   "id": "2f30cb0d-ea98-4eb8-ba8c-1017a38dae6c",
   "metadata": {},
   "source": [
    "Что меняет значение по ссылке, а что создает новый список?"
   ]
  },
  {
   "cell_type": "markdown",
   "id": "54954c85-7739-4802-bce2-ac718d9bbac2",
   "metadata": {},
   "source": [
    "#### Многомерный список"
   ]
  },
  {
   "cell_type": "markdown",
   "id": "58601151-7274-47aa-a97c-8e36b0e7b162",
   "metadata": {},
   "source": [
    "Вопрос: а создайте-ка двумерный список"
   ]
  },
  {
   "cell_type": "code",
   "execution_count": null,
   "id": "08ddbccb",
   "metadata": {},
   "outputs": [],
   "source": [
    "###YOUR CODE###"
   ]
  },
  {
   "cell_type": "markdown",
   "id": "3c52b0f9",
   "metadata": {},
   "source": []
  },
  {
   "cell_type": "code",
   "execution_count": null,
   "id": "def8e520-a5f6-4096-a4ea-6d828570c53d",
   "metadata": {},
   "outputs": [],
   "source": [
    "###YOUR CODE###"
   ]
  },
  {
   "cell_type": "markdown",
   "id": "9c69e88c",
   "metadata": {},
   "source": [
    "...А теперь используйте следующую конструкцию, чтобы развернуть:"
   ]
  },
  {
   "cell_type": "code",
   "execution_count": null,
   "id": "2887c562",
   "metadata": {},
   "outputs": [],
   "source": [
    "nested_list = [[2, 4, 6], [8, 10, 12]]\n",
    "new_list = sum(nested_list, [])\n",
    "print(new_list)"
   ]
  },
  {
   "cell_type": "markdown",
   "id": "0267855a",
   "metadata": {},
   "source": [
    "Еще вернемся к этому вопросу позже"
   ]
  },
  {
   "cell_type": "markdown",
   "id": "03b6f4ce",
   "metadata": {
    "tags": []
   },
   "source": [
    "#### Списковые включения"
   ]
  },
  {
   "cell_type": "markdown",
   "id": "5e2effef",
   "metadata": {},
   "source": [
    "Пока лишь беглое знакомство, более детально вернемся в разговоре про функциональное программирование"
   ]
  },
  {
   "cell_type": "markdown",
   "id": "2e2903e8-00a3-47a9-b70c-6f938bd1005e",
   "metadata": {},
   "source": [
    "Сигнатура:"
   ]
  },
  {
   "cell_type": "code",
   "execution_count": null,
   "id": "183a627d-9fff-416a-b1f5-e6db752dada8",
   "metadata": {},
   "outputs": [],
   "source": [
    "[item for item in iterable if condition]\n",
    "[item if condition else other for item in iterable]"
   ]
  },
  {
   "cell_type": "markdown",
   "id": "4b8d4341-5c05-4321-9682-ea30113e7ed3",
   "metadata": {},
   "source": [
    "Например:"
   ]
  },
  {
   "cell_type": "code",
   "execution_count": null,
   "id": "0c3aa342-f9bb-40dc-8119-5920f6faaaba",
   "metadata": {
    "tags": []
   },
   "outputs": [],
   "source": [
    "[2 ∗ x for x in [1, 2, 3]]"
   ]
  },
  {
   "cell_type": "markdown",
   "id": "866aed4a-e9e2-4c60-8112-5665499f8794",
   "metadata": {},
   "source": [
    "Задание 1: Отфильтруйте значения больше 1"
   ]
  },
  {
   "cell_type": "code",
   "execution_count": null,
   "id": "c4f1345f-d1d5-4257-a785-bcfd37555459",
   "metadata": {},
   "outputs": [],
   "source": [
    "###YOUR CODE###"
   ]
  },
  {
   "cell_type": "markdown",
   "id": "78d08ab1-caab-42ef-a898-42fa3a6b553c",
   "metadata": {},
   "source": [
    "Задание 2: Сформируйте список слов, которые не начинаются с or"
   ]
  },
  {
   "cell_type": "code",
   "execution_count": null,
   "id": "7933e320-4f99-43ff-ab43-1518beb9bf5c",
   "metadata": {},
   "outputs": [],
   "source": [
    "my_tuple = (\"hello world?\", \"world!\", \"or not\")\n",
    "\n",
    "###YOUR CODE###"
   ]
  },
  {
   "cell_type": "markdown",
   "id": "779d4605",
   "metadata": {},
   "source": [
    "Задание 3: А теперь решите задачу про разницу списков при помощи comprehensions"
   ]
  },
  {
   "cell_type": "code",
   "execution_count": null,
   "id": "e41222b5",
   "metadata": {},
   "outputs": [],
   "source": [
    "###YOUR CODE###"
   ]
  },
  {
   "cell_type": "markdown",
   "id": "c0426dcc",
   "metadata": {},
   "source": [
    "### Кортежи"
   ]
  },
  {
   "cell_type": "markdown",
   "id": "2b2ecd3c-d055-467d-9aaa-2605964785f4",
   "metadata": {},
   "source": [
    "Кортежи - сравнительно небольшой неизменный ряд значений с фиксированным порядком. Например, координата."
   ]
  },
  {
   "cell_type": "code",
   "execution_count": null,
   "id": "08069c1e-177d-43ad-8cc3-8cb4498e617e",
   "metadata": {},
   "outputs": [],
   "source": [
    "(20 // 7 ==2 and 20 % 7 == 6)"
   ]
  },
  {
   "cell_type": "markdown",
   "id": "092ac8e9-bf4b-4edb-8820-dc78bd8d6bb1",
   "metadata": {},
   "source": [
    "Можно сделать проще:"
   ]
  },
  {
   "cell_type": "code",
   "execution_count": null,
   "id": "d56dfe0c-465f-4fd9-8743-daace250d825",
   "metadata": {},
   "outputs": [],
   "source": [
    "divmod(20, 7)"
   ]
  },
  {
   "cell_type": "markdown",
   "id": "9946b174-1b61-495a-82d8-eba1c4a6534f",
   "metadata": {},
   "source": [
    "Хотел бы обратить внимение на то, как выглядит кортеж из одного элементы: (3,)"
   ]
  },
  {
   "cell_type": "code",
   "execution_count": null,
   "id": "18ff8857-d8ec-4b79-a0e1-5bf9d3f9a5e1",
   "metadata": {},
   "outputs": [],
   "source": [
    "print((1,2,3)[2])\n",
    "print((1,2,3)[2:])"
   ]
  },
  {
   "cell_type": "markdown",
   "id": "82e39047-5836-4df7-ac64-37e6e79b36ed",
   "metadata": {},
   "source": [
    "Что выдаст код?"
   ]
  },
  {
   "cell_type": "code",
   "execution_count": null,
   "id": "5ba19df2-64c2-467a-9850-44264cb7ce19",
   "metadata": {},
   "outputs": [],
   "source": [
    "a = (1, 2, 3)\n",
    "b = (4, 5, 6)\n",
    "print(a + b)\n",
    "print(a*2)"
   ]
  },
  {
   "cell_type": "markdown",
   "id": "d690ca09-a4eb-45ab-9608-1aac01dff916",
   "metadata": {
    "tags": []
   },
   "source": [
    "#### Распаковка и упаковка"
   ]
  },
  {
   "cell_type": "markdown",
   "id": "c1f80047",
   "metadata": {},
   "source": [
    "Распаковка, строго говоря, это процесс присваивания, в котором кортеж, составленный из отдельных переменных находится в левой части выражения. Справа должен находиться кортеж такой же длины:"
   ]
  },
  {
   "cell_type": "markdown",
   "id": "4fd26871-cc9d-472d-afc8-e59a0395f3b9",
   "metadata": {},
   "source": [
    "a, b, c = x"
   ]
  },
  {
   "cell_type": "markdown",
   "id": "2ce7c28d-356f-4d8f-849e-7cf456b4791e",
   "metadata": {},
   "source": [
    "Создание кортежа - упаковка. Если в одном выражении присваивания происходит и упаковка, и распаковка, то сначала выполняется упаковка, затем распаковка.\n",
    "\n",
    "Вопрос: что выдаст следующий код?"
   ]
  },
  {
   "cell_type": "code",
   "execution_count": null,
   "id": "44e57997-1776-4402-a403-a8b5c1ed0bee",
   "metadata": {},
   "outputs": [],
   "source": [
    "a, b, c = 1, 2, 3\n",
    "a, b, c = c, b, a\n",
    "print(a, b, c)"
   ]
  },
  {
   "cell_type": "markdown",
   "id": "06f6f4cd",
   "metadata": {},
   "source": [
    "#### Оператор распаковки"
   ]
  },
  {
   "cell_type": "markdown",
   "id": "73403778-a19d-4d6f-8704-2591dd481e83",
   "metadata": {},
   "source": [
    "Оператор распаковки позволяет нам распаковать список и присвоить его элементы различным переменным. Что это значит? Проще понять на примерах:"
   ]
  },
  {
   "cell_type": "code",
   "execution_count": null,
   "id": "e52e4fd8-49f2-443e-8173-9f93f778b18c",
   "metadata": {},
   "outputs": [],
   "source": [
    "x = [1, 2]\n",
    "[a, b] = x\n",
    "x"
   ]
  },
  {
   "cell_type": "code",
   "execution_count": null,
   "id": "e8ed4959-b286-4dc0-acaf-580046b27312",
   "metadata": {},
   "outputs": [],
   "source": [
    "*new, = x\n",
    "new[0]"
   ]
  },
  {
   "cell_type": "code",
   "execution_count": null,
   "id": "4abef7f8-c98a-4d6a-9add-c67d7dcaaba5",
   "metadata": {},
   "outputs": [],
   "source": [
    "*new = x\n",
    "new[0]"
   ]
  },
  {
   "cell_type": "code",
   "execution_count": null,
   "id": "e0bf4f39",
   "metadata": {},
   "outputs": [],
   "source": [
    "names = ['John', 'Mary', 'Lisa', 'Rose']\n",
    "boy_name, *girls_name = names\n",
    "print(boy_name)\n",
    "print(girls_name)"
   ]
  },
  {
   "cell_type": "code",
   "execution_count": null,
   "id": "fa72c06b",
   "metadata": {},
   "outputs": [],
   "source": [
    "names = ('Rose', 'Mary', 'Lisa', 'John')\n",
    "*girls, boy = names\n",
    "print(boy)\n",
    "print(girls)"
   ]
  },
  {
   "cell_type": "markdown",
   "id": "560ac5e4-8e7e-4b16-b3e8-288ca04bccbc",
   "metadata": {},
   "source": [
    "### Словари"
   ]
  },
  {
   "cell_type": "markdown",
   "id": "a62b6cd9-01ee-414e-8834-cd33894b71b7",
   "metadata": {},
   "source": [
    "#### Доступ к содержимому словаря"
   ]
  },
  {
   "cell_type": "markdown",
   "id": "d53ce52b",
   "metadata": {},
   "source": [
    "Ключом к словарю может быть только неизменяемый объект!\n",
    "\n",
    "Полезные методы:"
   ]
  },
  {
   "cell_type": "markdown",
   "id": "3d30edac",
   "metadata": {},
   "source": [
    "• phones.get(key) работает почти как phones[key], однако если ключ не существует, возвращает None.<br>\n",
    "• phones.get(key, default_value) возвращает default_value если ключ не существует."
   ]
  },
  {
   "cell_type": "markdown",
   "id": "4df6bbac-3cfe-4a05-a8a7-9a804d21f79d",
   "metadata": {},
   "source": [
    "#### Итерирование по словарю"
   ]
  },
  {
   "cell_type": "markdown",
   "id": "5baf33a7",
   "metadata": {
    "tags": []
   },
   "source": [
    "Вопрос: что будет содержаться в списке, если мы преобразуем в него словарь?<br>\n",
    "Вопрос: какие структуры можно, наоборот, преобразовать в словать?\n",
    "\n",
    "A: You can convert a list, set, or tuple to a dict only if the elements are grouped in twos, for example, a list of 2-tuples (tuples with two elements).<br>"
   ]
  },
  {
   "cell_type": "markdown",
   "id": "f9b454d8-3097-46ef-a9a9-7d75dcf6aa8a",
   "metadata": {},
   "source": [
    "Вопрос: как итерироваться по парам ключ-значение?"
   ]
  },
  {
   "cell_type": "code",
   "execution_count": null,
   "id": "1de6c242-40eb-4750-b60a-0d3b04435e22",
   "metadata": {},
   "outputs": [],
   "source": [
    "###YOUR CODE###"
   ]
  },
  {
   "cell_type": "markdown",
   "id": "947ba923-94b5-4887-ac8f-639a0933894f",
   "metadata": {},
   "source": [
    "Есть метод .items:"
   ]
  },
  {
   "cell_type": "code",
   "execution_count": null,
   "id": "2ea548de-d1f5-457a-a9a8-1e6bc84bdd8c",
   "metadata": {},
   "outputs": [],
   "source": [
    "for t in my_dict.items():\n",
    "    print(t) # prints (key, value) tuples"
   ]
  },
  {
   "cell_type": "markdown",
   "id": "01b95821-66fe-4720-9481-7de316f2cd2b",
   "metadata": {},
   "source": [
    "Нюанс: items возвращает не список, а некоторый `dynamic view object`, поэтому переприсваивание значений внутри цикла может выдать неспецифицированное поведение"
   ]
  },
  {
   "cell_type": "markdown",
   "id": "9dc1a96b-bf88-46e1-9644-a9f4a9e32203",
   "metadata": {},
   "source": [
    "Еще один способ - распаковать прямо в цикле кортежи ключ-значение:"
   ]
  },
  {
   "cell_type": "code",
   "execution_count": null,
   "id": "2fc62cea-98df-4bfb-95ae-b9faa2085b8c",
   "metadata": {},
   "outputs": [],
   "source": [
    "for k, v in my_dict.items(): \n",
    "    print(k, \"is\", v)"
   ]
  },
  {
   "cell_type": "markdown",
   "id": "06f531bf",
   "metadata": {},
   "source": [
    "Для словарей также возможны включения.\n",
    "\n",
    "Задание: сделать новый словарь, где каждое значение будет поделено на два"
   ]
  },
  {
   "cell_type": "code",
   "execution_count": null,
   "id": "67af721a",
   "metadata": {},
   "outputs": [],
   "source": [
    "dict1 = {'Grade': 70, 'Weight': 45, 'Width': 89}\n",
    "\n",
    "###YOUR CODE###"
   ]
  },
  {
   "cell_type": "markdown",
   "id": "dec38dd1",
   "metadata": {},
   "source": [
    "## Итераторы и генераторы"
   ]
  },
  {
   "cell_type": "markdown",
   "id": "6496b6b0-cdb5-4a64-90c9-c391121cfaa3",
   "metadata": {},
   "source": [
    "Вопрос: в чем разница между iterable и iterator?\n",
    "\n",
    "Ответ: iterable (перебираемые объекты) - это объекты, к которым можно получить последовательный доступ. Например, range"
   ]
  },
  {
   "cell_type": "code",
   "execution_count": null,
   "id": "b8af629e-bfe4-4f5b-928d-519e04dc1ec9",
   "metadata": {},
   "outputs": [],
   "source": [
    "print(tuple(range(10)))"
   ]
  },
  {
   "cell_type": "markdown",
   "id": "57a2bb9b",
   "metadata": {},
   "source": [
    "Задание: напишите проверку на то, является ли объект перебираемым"
   ]
  },
  {
   "cell_type": "code",
   "execution_count": null,
   "id": "9250cdd4",
   "metadata": {},
   "outputs": [],
   "source": [
    "arr = ['i', 'love', 'working', 'with', 'Python']\n",
    "b = 45.7\n",
    "\n",
    "###YOUR CODE###"
   ]
  },
  {
   "cell_type": "markdown",
   "id": "791d7e1e-64b4-4ff5-afe5-86be1d30929d",
   "metadata": {},
   "source": [
    "### Итераторы"
   ]
  },
  {
   "cell_type": "markdown",
   "id": "f1ddf116-70ef-4fb0-a03c-fb3fd6dd550d",
   "metadata": {},
   "source": [
    "Итератор - объект, который отслеживат свое местонахождение в итерируемым объекте, и по запросу выдает следующее значение. Можно создать итератор по списку; далее можем вызывать next(it), пока не получим исключение StopIteration"
   ]
  },
  {
   "cell_type": "code",
   "execution_count": null,
   "id": "8a1ea962-4cef-406f-9188-5f99d977b0ab",
   "metadata": {},
   "outputs": [],
   "source": [
    "it = iter([2, 3, 5])"
   ]
  },
  {
   "cell_type": "markdown",
   "id": "90d2331c-c1c9-4dc4-b37a-8fa39b6bb14a",
   "metadata": {},
   "source": [
    "Чтобы вручную реализовать итерацию при помощи итератора: \n",
    "\n",
    "• Класс iterable объекта должен содержать метод  __iter__ для создания и возрата нового итератора\n",
    "\n",
    "• Класс итератора должен содержать два метода:<br> \n",
    "• метод __init__ , который принимает iterable в качестве аргумента и производит остальные необходимые при инициализации вычисления;<br>\n",
    "• метод __next__ чтобы найти или вычислить следующее значение. Когда возвращать больше нечего, должен выбрасывать исключение StopIteration."
   ]
  },
  {
   "cell_type": "code",
   "execution_count": null,
   "id": "f506f142-8988-4a2e-9c1c-9c8d79b25a8d",
   "metadata": {},
   "outputs": [],
   "source": [
    "class MyList(): \n",
    "    def __init__(self, ls): \n",
    "        self.ls = ls \n",
    "        \n",
    "    def __iter__(self): \n",
    "        return Reverser(self.ls) \n",
    "\n",
    "class Reverser(): \n",
    "    def __init__(self, ls): \n",
    "        self.ls = ls \n",
    "        self.index = len(self.ls) \n",
    "    \n",
    "    def __next__(self): \n",
    "        self.index = self.index - 1\n",
    "        if self.index >= 0: \n",
    "            return self.ls[self.index] \n",
    "        raise StopIteration"
   ]
  },
  {
   "cell_type": "markdown",
   "id": "a406cd48-ec92-4884-8714-9143178ac29f",
   "metadata": {},
   "source": [
    "Как мы видим, итератор использует свои внутренние переменные для отслеживания своей позиции относительно объекта, по которому мы итерируемся. Поэтому он никак не модифицирует этот самый объект, и на нем может быть запущено сразу несколько итераторов параллельно."
   ]
  },
  {
   "cell_type": "markdown",
   "id": "42fb0cda-c03c-45e8-b8b9-edb86955978c",
   "metadata": {},
   "source": [
    "В цикле for может быть использована с любым итератором. В цикле for, исключение StopIteration не приводит к ошибке, а просто приводит к выходу из цикла."
   ]
  },
  {
   "cell_type": "code",
   "execution_count": null,
   "id": "8dc8e8d3-43c0-4caf-af02-6b380077387d",
   "metadata": {},
   "outputs": [],
   "source": [
    "ls = MyList([1, 2, 3, 4]) \n",
    "\n",
    "for e in ls: \n",
    "    print(e)"
   ]
  },
  {
   "cell_type": "markdown",
   "id": "6f01ce19-4446-4eec-be42-a0f474cbb654",
   "metadata": {},
   "source": [
    "Задание со звездочкой: реализуйте цикл for при помощи итератора"
   ]
  },
  {
   "cell_type": "code",
   "execution_count": null,
   "id": "a48bcf26-9ce0-43f1-9bcb-3db47f3e5d66",
   "metadata": {},
   "outputs": [],
   "source": [
    "###YOUR CODE###"
   ]
  },
  {
   "cell_type": "markdown",
   "id": "24c1aa88-c006-4836-9e46-f2b4b08ce959",
   "metadata": {},
   "source": [
    "Итератор не может быть \"переиспользован\", или \"перезагружен\" - после того, как он выбросит \"StopIteration\", мы можем только создать новый."
   ]
  },
  {
   "cell_type": "markdown",
   "id": "c72243b2-c486-451a-8c7a-2902682d76c0",
   "metadata": {},
   "source": [
    "### Генераторы"
   ]
  },
  {
   "cell_type": "markdown",
   "id": "69139dc6-777c-4d28-b1c3-95961593eea0",
   "metadata": {},
   "source": [
    "Генераторы похожи на итераторы. Он генерирует значения по-одному, но при этом не обязательно привязан к какому-то объекту.\n",
    "\n",
    "Генератор можно задать почти как списочное включение, вместо квадратных скобок используя круглые, и использовать везде, где можно использовать итератор:"
   ]
  },
  {
   "cell_type": "code",
   "execution_count": null,
   "id": "7510e4be-1ab0-4efb-bd26-1639cb17c015",
   "metadata": {},
   "outputs": [],
   "source": [
    "word = 'generator'\n",
    "gen = (c for c in word if c in 'aeiou')\n",
    "for i in gen:\n",
    "    print(i, end=' ')"
   ]
  },
  {
   "cell_type": "markdown",
   "id": "a040a9bb-8e3f-4af9-adc1-8dce54c62f8b",
   "metadata": {},
   "source": [
    "Как и итератор, после полного цикла он принимает пустое значение и больше ничего не вернет."
   ]
  },
  {
   "cell_type": "code",
   "execution_count": null,
   "id": "fd3c1d7d-4c18-459d-8994-f5a56b80690c",
   "metadata": {},
   "outputs": [],
   "source": [
    "for i in gen:\n",
    "    print(i, end=' ')"
   ]
  },
  {
   "cell_type": "markdown",
   "id": "28f02fea-13cb-4ddf-9119-75dd44e5c0f6",
   "metadata": {},
   "source": [
    "Смысл генератора чуть более проясняется на примере написания функций, которые ведут себя генераторы. В них вместо return мы используем yield"
   ]
  },
  {
   "cell_type": "code",
   "execution_count": null,
   "id": "4ac6c4e1-5697-4015-a491-5065b87906a2",
   "metadata": {},
   "outputs": [],
   "source": [
    "def powers_of_two():\n",
    "    n = 2\n",
    "    for i in range(0, 5):\n",
    "        yield n\n",
    "        n *= 2"
   ]
  },
  {
   "cell_type": "markdown",
   "id": "c16d8dd0-d17b-42e7-b34b-0667645bb91f",
   "metadata": {},
   "source": [
    "При вызове функции возвращается не число, а генератор, который мы затем можем использовать"
   ]
  },
  {
   "cell_type": "code",
   "execution_count": null,
   "id": "b99e6044-bd15-4e7a-b134-35549b207cac",
   "metadata": {},
   "outputs": [],
   "source": [
    "gen = powers_of_two()\n",
    "for n in gen:\n",
    "    print(n)"
   ]
  },
  {
   "cell_type": "markdown",
   "id": "9f4b3c1c-41c7-4b0f-a592-e96edd5e38ff",
   "metadata": {},
   "source": [
    "Генерируем следующее значение, и обрабатываем исключение"
   ]
  },
  {
   "cell_type": "code",
   "execution_count": null,
   "id": "0519400d-37e8-417d-809c-5ed9ad152650",
   "metadata": {},
   "outputs": [],
   "source": [
    "gen = powers_of_two()\n",
    "while True:\n",
    "    try:\n",
    "        print(next(gen))\n",
    "    except StopIteration:\n",
    "        break"
   ]
  },
  {
   "cell_type": "markdown",
   "id": "a04d3f41-d7c4-45fa-94dd-d100a3400b84",
   "metadata": {},
   "source": [
    "Что тут происходит:<br>\n",
    "• Вызов gen = powers_of_two() возвращает генератор и кладет в переменную gen.<br>\n",
    "• Первый вызов next(gen) исполнит код генератора до yield и вернет необходимое значение, как обычный return. Однако вдобавок генератор запомнит свое состояние.<br>\n",
    "• Следующий вызов next(gen) вернет исполнение в генераторе с предыдуюего состояния, то есть сразу после yield. Все значения локальных переменных будут восстановлены - как будто бы yield не происходил. В нашем примере, цикл for продолжит исполнение.<br>\n",
    "• Можно использовать yield несколько раз.<br>\n",
    "• В конце - все так же StopIteration."
   ]
  },
  {
   "cell_type": "markdown",
   "id": "b0064350",
   "metadata": {},
   "source": [
    "#### Генераторы и память"
   ]
  },
  {
   "cell_type": "code",
   "execution_count": null,
   "id": "dd5cd321",
   "metadata": {},
   "outputs": [],
   "source": [
    "import sys\n",
    "\n",
    "# проверяем расход памяти\n",
    "def memory_size(_, code):\n",
    "    size = sys.getsizeof(code)\n",
    "    return f'{_}: allocated memory is {size} bytes'\n",
    "\n",
    "print(memory_size('generator', (num**2 for num in range(10000))))\n",
    "print(memory_size('list comprehension', [num**2 for num in range(10000)]))"
   ]
  },
  {
   "cell_type": "markdown",
   "id": "133b6d73-7475-4439-be66-cd0d55ce0a43",
   "metadata": {},
   "source": [
    "## Переменные"
   ]
  },
  {
   "cell_type": "markdown",
   "id": "cd65c3f0",
   "metadata": {},
   "source": [
    "### del\n",
    "\n",
    "В целом, чтобы удалить объект, нужно вызвать деструктор. В Питоне его роль выполняет метод `__del__()`. В Питоне реализован автоматический сборщик мусора, который очищает память от ненужных объектов, вызывая del, когда все ссылки на объект удаляются. Можно вызвать его и принудительно. Отвязанный от ссылок объект == удаленный.\n",
    "\n",
    "Вопрос: напомните, что создает новую ссылку на объект?<br>"
   ]
  },
  {
   "cell_type": "markdown",
   "id": "41268c96",
   "metadata": {
    "tags": []
   },
   "source": [
    "### Область видимости"
   ]
  },
  {
   "cell_type": "markdown",
   "id": "49b4e83d-dd10-4c41-bd11-47d984807666",
   "metadata": {},
   "source": [
    "Область видимости - часть программы, в которой имя переменной может быть использовано."
   ]
  },
  {
   "cell_type": "markdown",
   "id": "78264315-8ef3-4788-881e-6830112d4b04",
   "metadata": {},
   "source": [
    "Области видимости в Питоне выстраиваются в иерархию LEGB: Local, Enclosed, Global, Built-in. Разберемся с этим, памятуя, что 1) переменные определяются в тот момент, когда им присваивается значение 2) функции и методы могут быть вложены в другие функции и методы."
   ]
  },
  {
   "cell_type": "markdown",
   "id": "129855da-5da7-42e6-93ee-698e0fc37884",
   "metadata": {},
   "source": [
    "• Local: A variable is local to a function if it is a parameter, or if it is assigned a value within that function and not explicitly declared to be global or nonlocal.<br>\n",
    "• Enclosed: A variable in a function can refer to a variable declared in an enclosing function, provided either (1) the\n",
    "variable is not assigned a value in this function or (2) it is declared in a nonlocal statement.<br>\n",
    "• Global: A variable declared at the top level (not in a function or method) is global, and can be referenced\n",
    "throughout the program. A variable in a function can refer to a global variable, provided either (1) the variable is not assigned a value in this function or in an enclosing function or (2) it is declared in a global statement.<br>\n",
    "• Built-in: A variable not declared otherwise in the program might be a built-in variable. Some examples are list,\n",
    "print, and divmod. \n",
    "\n",
    "Если используемая переменная является nonlocal (enclosed) или global, хорошей практикой является объявить ее как таковую, даже если ей не присваивается значение внутри этой функции."
   ]
  },
  {
   "cell_type": "markdown",
   "id": "638ffbbc-29bf-42e8-8823-219d8ee74cb2",
   "metadata": {},
   "source": [
    "Область видимости переменной, если она отличная от дефолтной, объявляется путем следующего синтаксиса:"
   ]
  },
  {
   "cell_type": "code",
   "execution_count": null,
   "id": "3097a62b-5bce-4691-b10a-ba1d350c3a95",
   "metadata": {},
   "outputs": [],
   "source": [
    "global var1, …, varN \n",
    "nonlocal var1, …, varN"
   ]
  },
  {
   "cell_type": "markdown",
   "id": "9877af47-9633-4f8f-9781-0d82dde03eb0",
   "metadata": {},
   "source": [
    "Такое объявление должно предшествовать любому использованию переменной."
   ]
  },
  {
   "cell_type": "markdown",
   "id": "ade74720-3255-4be9-892d-728b5133ff75",
   "metadata": {},
   "source": [
    "Как только функция заканчивает работу, локальная переменная уничтожается"
   ]
  },
  {
   "cell_type": "code",
   "execution_count": null,
   "id": "ec485852-7985-49cc-9412-6e5988ab3897",
   "metadata": {},
   "outputs": [],
   "source": [
    "def f():\n",
    "    print(a)\n",
    "    if False:\n",
    "        a = 0\n",
    "a = 1\n",
    "f()"
   ]
  },
  {
   "cell_type": "code",
   "execution_count": null,
   "id": "8c7b5d7d-9d5a-4fa4-b6d6-1e16966d5bb9",
   "metadata": {},
   "outputs": [],
   "source": [
    "def f():\n",
    "    global a #дает доступ к глобальным функциям, даже если не были определены\n",
    "    a = 1\n",
    "    print(a, end=' ')\n",
    "a = 0\n",
    "f()\n",
    "print(a)"
   ]
  },
  {
   "cell_type": "markdown",
   "id": "d5a3078c-3937-42d3-a23b-d2f6ed5706ad",
   "metadata": {},
   "source": [
    "Хотелось бы заострить внимение на том, что **использование глобальных переменных внутри функций - очень плохо!**\n",
    "\n",
    "Почему?"
   ]
  },
  {
   "cell_type": "markdown",
   "id": "da4264e8-6537-49ed-97b9-1db04ed80d1f",
   "metadata": {},
   "source": [
    "#### non-local"
   ]
  },
  {
   "cell_type": "markdown",
   "id": "50d6e483-2ebc-4cca-b084-e8b155a3d8d2",
   "metadata": {},
   "source": [
    "Локальной могут быть не только переменные, но и функции, и non-local часто возникает в этом контексте. По умолчанию, вложенная функция имеет доступ к, но не может менять переменные внешней функции. Однако если вложенная функция объявляет переменную nonlocal, она может как получить к ней доступ, так и изменить."
   ]
  },
  {
   "cell_type": "code",
   "execution_count": null,
   "id": "c3380d65-83d0-40ff-a0c4-beee7e75f5e6",
   "metadata": {},
   "outputs": [],
   "source": [
    "global_greet = \"Hello\"\n",
    "def outer_function():\n",
    "    nonlocal_greet = \"Hi\"\n",
    "    def inner_function():\n",
    "        nonlocal nonlocal_greet\n",
    "        global global_greet\n",
    "        nonlocal_greet = \"Hi\"\n",
    "        global_greet = \"Hey\"\n",
    "    inner_function()\n",
    "    print(nonlocal_greet, global_greet)\n",
    "outer_function()"
   ]
  },
  {
   "cell_type": "markdown",
   "id": "5bd99153",
   "metadata": {},
   "source": [
    "# Функции"
   ]
  },
  {
   "cell_type": "markdown",
   "id": "a1c3454f-1de5-4a46-b3ff-b240f1570848",
   "metadata": {},
   "source": [
    "## Задание функций"
   ]
  },
  {
   "cell_type": "markdown",
   "id": "18fad17b",
   "metadata": {},
   "source": [
    "В чем разница между параметрами и аргументами?"
   ]
  },
  {
   "cell_type": "markdown",
   "id": "6d8b897e-c9b7-48dd-9126-51262cc80281",
   "metadata": {},
   "source": [
    "#### Позиционные и именованные параметры"
   ]
  },
  {
   "cell_type": "markdown",
   "id": "9fadb925",
   "metadata": {},
   "source": [
    "Что знаете про них?\n",
    "\n",
    "Имейте в виду, что возможен следующий синтаксис:"
   ]
  },
  {
   "cell_type": "code",
   "execution_count": null,
   "id": "9a9b75f7-f31a-4529-a18c-c1b1114fbdd6",
   "metadata": {},
   "outputs": [],
   "source": [
    "def foo(a, b, /, c, d, ∗, e, f):\n",
    "    print(a, b, c, d, e, f)"
   ]
  },
  {
   "cell_type": "markdown",
   "id": "8f6f033b",
   "metadata": {},
   "source": [
    "#### args/kwargs"
   ]
  },
  {
   "cell_type": "markdown",
   "id": "ecf88c7b-ceae-4ef6-a36a-36f78e9f2a30",
   "metadata": {},
   "source": [
    "Вопрос: пример функции, которая принимает неограниченное количество параметров?\n",
    "\n",
    "Задание: задайте функцию, которая принимает на вход переменное количество аргументов и распечатывает их"
   ]
  },
  {
   "cell_type": "code",
   "execution_count": null,
   "id": "2bca38cd",
   "metadata": {},
   "outputs": [],
   "source": [
    "###YOUR CODE###"
   ]
  },
  {
   "cell_type": "markdown",
   "id": "1cedd8ed-011e-4708-be6f-5c6afc63165a",
   "metadata": {},
   "source": [
    "Что происходит \"под капотом\"? Аргументы просто распаковываются из списка. Args, kwargs - просто соглашение, можно назвать как угодно. Обязательно являются последними в списке параметров, поскольку \"вбирают в себя\" все оставшиеся аргументы."
   ]
  },
  {
   "cell_type": "markdown",
   "id": "0b2d38b4-cf2c-4c4a-817d-63a6e50a73e3",
   "metadata": {},
   "source": [
    "#### Изменяемые типы в качестве значений по умолчанию"
   ]
  },
  {
   "cell_type": "markdown",
   "id": "d03bf75e-7b6a-4307-8c8a-9cc093f3a312",
   "metadata": {},
   "source": [
    "Рекомендуется избегать значении по умолчанию изменяемых типов. \n",
    "\n",
    "Вопрос: сформулируйте, пожалуйста, проблему. "
   ]
  },
  {
   "cell_type": "code",
   "execution_count": null,
   "id": "dc04e734-8e60-45ae-994e-f55cca0e26d0",
   "metadata": {},
   "outputs": [],
   "source": [
    "def my_function(value, default=[]):\n",
    "    default.append(value)\n",
    "    return default\n",
    "\n",
    "x = my_function(0)\n",
    "print(x)\n",
    "y = my_function(1)\n",
    "print(y)\n",
    "print(x)"
   ]
  },
  {
   "cell_type": "markdown",
   "id": "c4fbbaea-b49c-49d4-b9cc-82d1450628b4",
   "metadata": {},
   "source": [
    "Проблемы можно избежать, если использовать изменяемые типы данных в качестве значений по умолчанию, или использовать уникальный объект для идентификации установленного по умолчанию значения:"
   ]
  },
  {
   "cell_type": "code",
   "execution_count": null,
   "id": "9eb888fd-ea28-43e1-8c5b-99000cc72929",
   "metadata": {},
   "outputs": [],
   "source": [
    "def my_function(\n",
    "    value,\n",
    "    default=(UNDEFINED := object())\n",
    "):\n",
    "\n",
    "    if default is UNDEFINED: \n",
    "        default = []\n",
    "    default.append(value) \n",
    "    return default\n",
    "\n",
    "x=my_function(0)\n",
    "y=my_function(1)\n",
    "print(y)\n",
    "print(x)"
   ]
  },
  {
   "cell_type": "markdown",
   "id": "ec1c5921-2fe8-4bd5-b086-6e1137e0a096",
   "metadata": {},
   "source": [
    "В данном примере UNDEFINED - это уникальный объект в области видимости функции. Если аргумент задается по умолчанию, условие выполняется, и переменная заменяется новым списком, что гарантирует его уникальность."
   ]
  },
  {
   "cell_type": "code",
   "execution_count": null,
   "id": "5059765e-2bf7-4237-8e2d-61e6b2678425",
   "metadata": {},
   "outputs": [],
   "source": []
  },
  {
   "cell_type": "markdown",
   "id": "ff7e0dc3",
   "metadata": {},
   "source": [
    "#### Return"
   ]
  },
  {
   "cell_type": "markdown",
   "id": "3908d66b-44bc-46e8-b21d-1088996a7871",
   "metadata": {},
   "source": [
    "Вопрос: что происходит, если не прописываем return?"
   ]
  },
  {
   "cell_type": "markdown",
   "id": "20d56ecd",
   "metadata": {},
   "source": []
  },
  {
   "cell_type": "markdown",
   "id": "a72c0244-e31c-461e-800d-d37390ed8104",
   "metadata": {},
   "source": [
    "Обязательно ли return один?"
   ]
  },
  {
   "cell_type": "code",
   "execution_count": null,
   "id": "50903055-ce16-4797-b88c-4457e9257933",
   "metadata": {},
   "outputs": [],
   "source": []
  },
  {
   "cell_type": "markdown",
   "id": "6e83a78f",
   "metadata": {},
   "source": [
    "#### Pass"
   ]
  },
  {
   "cell_type": "markdown",
   "id": "52fb5583",
   "metadata": {},
   "source": [
    "Pass - это заглушка, которая делает буквально ничего. Бывает нужна, когда синтаксис требует присутствие, допустим, метода в классе, но никакой функционал за ним мы (пока) не хотим реализовывать. Троеточие `...` является аналогом pass."
   ]
  },
  {
   "cell_type": "code",
   "execution_count": null,
   "id": "c0e1d56e-3d56-4546-80d8-02a4667e7f34",
   "metadata": {},
   "outputs": [],
   "source": [
    "class student:\n",
    "    pass\n",
    "def fun():\n",
    "    pass\n",
    "def fun2()\n",
    "    ..."
   ]
  },
  {
   "cell_type": "code",
   "execution_count": null,
   "id": "b0466605-206a-411d-bc38-4565c882ac38",
   "metadata": {},
   "outputs": [],
   "source": []
  },
  {
   "cell_type": "markdown",
   "id": "70af3835-7670-464d-b8ce-147135cd6f71",
   "metadata": {},
   "source": [
    "## Функциональное программирование"
   ]
  },
  {
   "cell_type": "markdown",
   "id": "be5a7837-afe6-41a2-b4f9-dcb447d35ed9",
   "metadata": {},
   "source": [
    "### Немного теории"
   ]
  },
  {
   "cell_type": "markdown",
   "id": "2f88075e-b4c1-43b2-8144-8748c0bb666f",
   "metadata": {},
   "source": [
    "Вопрос: что знаете про это?"
   ]
  },
  {
   "cell_type": "code",
   "execution_count": null,
   "id": "882456bc-5c54-4403-b02c-dd8369c7a754",
   "metadata": {},
   "outputs": [],
   "source": []
  },
  {
   "cell_type": "markdown",
   "id": "b5492031-7b45-4fa9-bce7-5566fc618389",
   "metadata": {},
   "source": [
    "Преимущества:<br>\n",
    "\n",
    "• Формальная доказуемость<br>\n",
    "• Модульность<br>\n",
    "• Краткость<br>\n",
    "• Абсолютно безопасные параллельные вычисления<br>\n",
    "• Легко тестировать - на тот же вход одинаковый выход"
   ]
  },
  {
   "cell_type": "code",
   "execution_count": null,
   "id": "403c84c5-2953-489b-a288-22b89a602299",
   "metadata": {},
   "outputs": [],
   "source": [
    "def remove_last_item(mylist):\n",
    "    \"\"\"Removes the last item from a list.\"\"\"\n",
    "    mylist.pop(-1)  # This modifies mylist\n",
    "    \n",
    "def butlast(mylist):\n",
    "\"\"\"Like butlast in Lisp; returns the list without the last element.\"\"\"\n",
    "    return mylist[:-1]  # This returns a copy of mylist"
   ]
  },
  {
   "cell_type": "markdown",
   "id": "6048bdc9-18ae-4131-870a-4e0c893f0e84",
   "metadata": {},
   "source": [
    "### Рекурсия"
   ]
  },
  {
   "cell_type": "markdown",
   "id": "8c424040-64d0-43ce-887d-e6080412eb01",
   "metadata": {},
   "source": [
    "Рекурсия - запуск функции из самой себя."
   ]
  },
  {
   "cell_type": "code",
   "execution_count": null,
   "id": "2e55f190-b35a-4128-b249-9627cf65f64a",
   "metadata": {},
   "outputs": [],
   "source": [
    "n = int(input())\n",
    "fact = 1\n",
    "i = 2\n",
    "while i <= n:\n",
    "    fact *= i\n",
    "    i += 1\n",
    "    print(fact)"
   ]
  },
  {
   "cell_type": "code",
   "execution_count": null,
   "id": "78dc60d0-0050-4f3e-a0c5-053e4b1f4a22",
   "metadata": {},
   "outputs": [],
   "source": [
    "def factorial(n):\n",
    "    if n == 0 :\n",
    "        return 1\n",
    "    return n*factorial(n - 1)\n",
    "\n",
    "n = int(input())\n",
    "print(factorial(n))"
   ]
  },
  {
   "cell_type": "markdown",
   "id": "0a2cc217-2f5a-4d21-b322-e044e1837558",
   "metadata": {},
   "source": [
    "Задание: реализуйте печать цифр от 0 до 10 при помощи рекурсии (без использования for)"
   ]
  },
  {
   "cell_type": "code",
   "execution_count": null,
   "id": "a21d6721-f0b7-43d2-be3d-b8a7ecbbecfd",
   "metadata": {},
   "outputs": [],
   "source": [
    "###YOUR CODE HERE###"
   ]
  },
  {
   "cell_type": "code",
   "execution_count": null,
   "id": "e2e94680-9aa4-4bbf-b386-d8be35c0cbbc",
   "metadata": {},
   "outputs": [],
   "source": []
  },
  {
   "cell_type": "markdown",
   "id": "a8e8743c-cb78-4a94-a49e-39c0b74b49d2",
   "metadata": {},
   "source": [
    "### Анонимные функции"
   ]
  },
  {
   "cell_type": "markdown",
   "id": "1e30a122-73ac-4fa5-af37-5be5be6773fc",
   "metadata": {},
   "source": [
    "Вопрос: что вы знаете про них?\n",
    "\n",
    "Сигнатура:"
   ]
  },
  {
   "cell_type": "code",
   "execution_count": null,
   "id": "ab1a4881-5711-450d-bf56-74035924ed3c",
   "metadata": {},
   "outputs": [],
   "source": [
    "lambda x: x**2\n",
    "lambda x, y, z: x + y + z"
   ]
  },
  {
   "cell_type": "markdown",
   "id": "b896e50b-6f7a-47b5-ab4b-f7cd047d7449",
   "metadata": {},
   "source": [
    "Для удобства можно легко \"деанонимизировать\":"
   ]
  },
  {
   "cell_type": "code",
   "execution_count": null,
   "id": "d0e7a4e0-dc4e-4127-8003-e8eb847a5d67",
   "metadata": {},
   "outputs": [],
   "source": [
    "square = lambda x: x**2\n",
    "square(5)"
   ]
  },
  {
   "cell_type": "code",
   "execution_count": null,
   "id": "7c6d42da-7717-4c97-aadf-e5ff0ed5e55f",
   "metadata": {},
   "outputs": [],
   "source": [
    "func = lambda x, y, z: x + y + z\n",
    "func(2, 3, 4)"
   ]
  },
  {
   "cell_type": "markdown",
   "id": "86842f26-407d-4de3-9345-f5cf3291135f",
   "metadata": {},
   "source": [
    "Задание: напишите анонимную функцию, которая возвращает несколько значений"
   ]
  },
  {
   "cell_type": "code",
   "execution_count": null,
   "id": "dfce2e95-0e89-4190-a857-a5645441cd8d",
   "metadata": {},
   "outputs": [],
   "source": [
    "###YOUR CODE HERE###"
   ]
  },
  {
   "cell_type": "markdown",
   "id": "4eb24370-31c3-419f-926c-c6e45bb622b0",
   "metadata": {},
   "source": [
    "Задание: отсортируйте массив по возрастанию абсолютных значений при помощи анонимной функции"
   ]
  },
  {
   "cell_type": "code",
   "execution_count": null,
   "id": "031fc0f3-915a-4c83-8ba5-b7d1e6546fc9",
   "metadata": {},
   "outputs": [],
   "source": [
    "a = [1, 3, -2, 4, -5]"
   ]
  },
  {
   "cell_type": "code",
   "execution_count": null,
   "id": "e17333cc-2c9d-4221-b546-ab7790153705",
   "metadata": {},
   "outputs": [],
   "source": [
    "###YOUR CODE HERE###"
   ]
  },
  {
   "cell_type": "markdown",
   "id": "7892cb16-7cc5-4111-a443-a48ccdba57e7",
   "metadata": {
    "tags": []
   },
   "source": [
    "### Декораторы"
   ]
  },
  {
   "cell_type": "markdown",
   "id": "4e020c7a-28e5-45c4-a0ce-e45379bb5ecb",
   "metadata": {},
   "source": [
    "Декораторы позволяют модифицировать поведение объекта, \"обернув\" ее в функцию. Объектом в нашем контексте выступает другая функция. Функция-декоратор, таким, образом, принимает исходную в качестве аргумента, и возвращает новую функцию, которая заменяет ее. Для удобства используется синтаксис @decorator, размещаемый непосредственно перед декорируемой функцией; decorator при этом - название функции-декоратора."
   ]
  },
  {
   "cell_type": "code",
   "execution_count": null,
   "id": "bb4ea92b-f526-4eb1-aa65-143ff85ddfdf",
   "metadata": {},
   "outputs": [],
   "source": [
    "def my_decorator(fn):\n",
    "    def wrapper():\n",
    "        print(\"entering the function...\")\n",
    "        fn()\n",
    "    print(\"exiting the function...\")\n",
    "    return wrapper\n",
    "\n",
    "@my_decorator\n",
    "def my_function():\n",
    "    print(\"inside the function...\")\n",
    "\n",
    "my_function()"
   ]
  },
  {
   "cell_type": "markdown",
   "id": "a16982fc-db7c-4bac-a517-1d576909feaf",
   "metadata": {},
   "source": [
    "Декораторы можно применять последовательно, \"наслаивая\" друг на друга:"
   ]
  },
  {
   "cell_type": "code",
   "execution_count": null,
   "id": "c8813245-d22b-4fb5-be04-7cfc80696d96",
   "metadata": {},
   "outputs": [],
   "source": [
    "def decorator_1(fn):\n",
    "    def wrapper():\n",
    "        print(\"entering decorator 1...\")\n",
    "        fn()\n",
    "        print(\"exiting decorator 1...\")\n",
    "    return wrapper\n",
    "\n",
    "def decorator_2(fn):\n",
    "    def wrapper():\n",
    "        print(\"entering decorator 2...\")\n",
    "        fn()\n",
    "        print(\"exiting decorator 2...\")\n",
    "    return wrapper\n",
    "\n",
    "def decorator_3(fn):\n",
    "    def wrapper():\n",
    "        print(\"entering decorator 3...\")\n",
    "        fn()\n",
    "        print(\"exiting decorator 3...\")\n",
    "    return wrapper\n",
    "\n",
    "@decorator_1\n",
    "@decorator_2\n",
    "@decorator_3\n",
    "def my_function():\n",
    "    print(\"inside the function.\")\n",
    "\n",
    "my_function()"
   ]
  },
  {
   "cell_type": "markdown",
   "id": "8854bb8b-428a-4e67-abdc-85138a814bbc",
   "metadata": {},
   "source": [
    "В конечном итоге необходимо понимать, что декораторы являются \"синтаксическим сахаром\", делая код элегантнее, но не добавляя новой функциональности:"
   ]
  },
  {
   "cell_type": "code",
   "execution_count": null,
   "id": "c472ae09-0f28-4aa8-a588-be63baf8e08b",
   "metadata": {},
   "outputs": [],
   "source": [
    "def dec(fn):\n",
    "    def wrapper():\n",
    "        fn()\n",
    "        return wrapper\n",
    "\n",
    "# конструкция ниже...\n",
    "@dec\n",
    "def fn():\n",
    "    pass\n",
    "\n",
    "# эквивалентна следующей...\n",
    "fn = dec(fn)"
   ]
  },
  {
   "cell_type": "code",
   "execution_count": null,
   "id": "1beb7c08-f788-4178-b0aa-2b8dcfac3f93",
   "metadata": {},
   "outputs": [],
   "source": []
  }
 ],
 "metadata": {
  "kernelspec": {
   "display_name": "Python 3 (ipykernel)",
   "language": "python",
   "name": "python3"
  },
  "language_info": {
   "codemirror_mode": {
    "name": "ipython",
    "version": 3
   },
   "file_extension": ".py",
   "mimetype": "text/x-python",
   "name": "python",
   "nbconvert_exporter": "python",
   "pygments_lexer": "ipython3",
   "version": "3.9.7"
  }
 },
 "nbformat": 4,
 "nbformat_minor": 5
}
