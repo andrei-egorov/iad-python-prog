{
 "cells": [
  {
   "cell_type": "markdown",
   "id": "e7f033cc-2552-4d60-8759-6b6e8743f4fe",
   "metadata": {},
   "source": [
    "# Семинар 3. Нетривиальные конструкции языка"
   ]
  },
  {
   "cell_type": "markdown",
   "id": "be141b4c-0a22-4e1f-a986-1acabd037924",
   "metadata": {},
   "source": [
    "На этом семинаре мы обсудим знакомые вам в целом конструкции, возможно, с несколько новых ракурсов."
   ]
  },
  {
   "cell_type": "markdown",
   "id": "450d3f2e-a3ac-4ff8-8dbb-0543d1335d51",
   "metadata": {},
   "source": [
    "Литералы\n",
    "1. Вещественные числа\n",
    "2. Строки\n",
    "\n",
    "Операторы\n",
    "1. Полный список\n",
    "2. Присваивания\n",
    "3. Сравнения\n",
    "4. Логические\n",
    "\n",
    "Управляющие конструкции\n",
    "1. Циклы\n",
    "2. Исключения\n",
    "\n",
    "Структуры данных<br>\n",
    "1. Изменяемые и неизменяемые объекты, копирование\n",
    "2. Множество\n",
    "3. Список\n",
    "4. Кортежи\n",
    "5. Словарь\n",
    "\n",
    "Итераторы и генераторы\n",
    "1. Итераторы\n",
    "2. Генераторы\n",
    "\n",
    "Переменные\n",
    "1. Del\n",
    "2. Области действия\n",
    "\n",
    "Функции (затравка)\n",
    "1. Args, kwargs\n",
    "2. Return\n",
    "3. Pass"
   ]
  },
  {
   "cell_type": "markdown",
   "id": "64d2120c",
   "metadata": {},
   "source": [
    "## Литералы"
   ]
  },
  {
   "cell_type": "markdown",
   "id": "287d8b6b-c0d1-4a60-b21e-a6e4caa6e849",
   "metadata": {},
   "source": [
    "Вопрос: напомните, что представляют из себя литералы?"
   ]
  },
  {
   "cell_type": "markdown",
   "id": "6c3c778f-a2ca-4269-b43e-32eb4188ec13",
   "metadata": {},
   "source": [
    "### Вещественные числа"
   ]
  },
  {
   "cell_type": "markdown",
   "id": "03c94f12-4af6-4f81-a692-5ffaaffb9c90",
   "metadata": {},
   "source": [
    "В целом, если можно обойтись без них, нужно обойтись без них. Они проблемные, неточные и медленные"
   ]
  },
  {
   "cell_type": "code",
   "execution_count": null,
   "id": "83b3e21c-b40f-49d4-8e12-2907ca311c55",
   "metadata": {},
   "outputs": [],
   "source": [
    "x = 0.1 #степени двойки\n",
    "print('{0:.25f}'.format(x))"
   ]
  },
  {
   "cell_type": "markdown",
   "id": "9e66974e-8b89-459c-83d9-f2c507ed88f7",
   "metadata": {},
   "source": [
    "Как лучше с ними работать, если надо сравнить?"
   ]
  },
  {
   "cell_type": "code",
   "execution_count": null,
   "id": "5e6771c6-13b1-41c0-9d9a-c9bc12de8a21",
   "metadata": {},
   "outputs": [],
   "source": [
    "###YOUR CODE###"
   ]
  },
  {
   "cell_type": "markdown",
   "id": "3fad8383-b7cc-4902-9707-a5ebb179e4f5",
   "metadata": {},
   "source": [
    "Самое плохое, что погрешность зависит от самого числа (запятая ведь \"плавающая\"). Оценить можно так:"
   ]
  },
  {
   "cell_type": "code",
   "execution_count": null,
   "id": "56989d75-ddc9-42c6-8c70-fb8a53f1abe3",
   "metadata": {},
   "outputs": [],
   "source": [
    "x*2**(-54) "
   ]
  },
  {
   "cell_type": "markdown",
   "id": "80f1af6a",
   "metadata": {},
   "source": [
    "### Строки"
   ]
  },
  {
   "cell_type": "markdown",
   "id": "0ffc7683-eec1-49e1-8e77-2e466ec302e1",
   "metadata": {},
   "source": [
    "#### Срезы"
   ]
  },
  {
   "cell_type": "markdown",
   "id": "9d73757f-e31c-406f-820d-e289caca64e7",
   "metadata": {},
   "source": [
    "Вопрос: что выдаст следующий код?"
   ]
  },
  {
   "cell_type": "code",
   "execution_count": null,
   "id": "bdd7b41c-3ef0-4865-94cf-65027b40fc54",
   "metadata": {},
   "outputs": [],
   "source": [
    "'abc'[1:100]"
   ]
  },
  {
   "cell_type": "markdown",
   "id": "7b14fad0-97ca-41dd-8ef0-bbbe579f8843",
   "metadata": {},
   "source": [
    "#### F-строки"
   ]
  },
  {
   "cell_type": "markdown",
   "id": "06d5807b-aa88-4221-b212-d2b8790caf52",
   "metadata": {},
   "source": [
    "Есть три способа форматировать строку: \n",
    "- f-строки,\n",
    "- метод .format\n",
    "- %\n",
    "\n",
    "Рекомендованными являются f-строки.<br>\n",
    "\n",
    "Синтаксис: префикс f или F, затем любое выражение в {} заменяется его значением"
   ]
  },
  {
   "cell_type": "code",
   "execution_count": null,
   "id": "7ceb2f82-6f66-439a-a967-119c2295b5ee",
   "metadata": {},
   "outputs": [],
   "source": [
    "print(f'Area is {5∗7/2}.')"
   ]
  },
  {
   "cell_type": "markdown",
   "id": "75f0892e-da37-4a19-850c-0c8e0ad8bbbb",
   "metadata": {},
   "source": [
    "Небольшой фокус при использовании равенства"
   ]
  },
  {
   "cell_type": "code",
   "execution_count": null,
   "id": "b2ee153a-efb5-457e-98d0-19d0a7475acf",
   "metadata": {},
   "outputs": [],
   "source": [
    "print(f'Area is {5∗7/2=}.')"
   ]
  },
  {
   "cell_type": "markdown",
   "id": "db3f7ae1-b450-4a62-b89a-72fb53749534",
   "metadata": {},
   "source": [
    "Чтобы напечатать скобки, экранирование не сработает. Нужно их задваивать ('{{' или '}}')."
   ]
  },
  {
   "cell_type": "markdown",
   "id": "91c4bcc6-b753-4a1f-ad44-0cf79443ba38",
   "metadata": {},
   "source": [
    "Можно (и нужно) добавлять коды форматирования. Например, :9.3f означает число с плавающий запятой на 9 позициях с 3 знаками после запятой:"
   ]
  },
  {
   "cell_type": "code",
   "execution_count": null,
   "id": "38367e4b-7e30-42e0-8463-8d11c82d8f20",
   "metadata": {},
   "outputs": [],
   "source": [
    "print(f'Area is {5∗7/2:9.3f}.')"
   ]
  },
  {
   "cell_type": "markdown",
   "id": "ff4f3a7e-8e88-4baf-8e04-52245c15c851",
   "metadata": {},
   "source": [
    "Синтаксис кодов форматирования - не такая простая вещь, как может показаться на первый взгляд. Не будем углубляться, просто приведем несколько примеров для справки"
   ]
  },
  {
   "cell_type": "code",
   "execution_count": null,
   "id": "415f8749-a2c6-4b93-84b4-196cabac6b1b",
   "metadata": {},
   "outputs": [],
   "source": [
    "f'{\"abc\":6}' is 'abc '\n",
    "f'{\"abc\":>6}' is ' abc'\n",
    "f'{123:6d}' is ' 123'\n",
    "f'{123:<6d}' is '123 '\n",
    "f'{pi:6.2f}' is '3.14'\n",
    "f'{pi:<6.2f}' is '3.14 '"
   ]
  },
  {
   "cell_type": "markdown",
   "id": "75a0777a-1ae4-40bd-bc1a-de2fca159b80",
   "metadata": {},
   "source": [
    "Синтаксис метода format следующий: string.format(values). Как и в случае с f-строками, строка содержит фигурные скобки, но в них на этот раз в них могут находиться коды форматирования; переменные же передаются как аругменты"
   ]
  },
  {
   "cell_type": "code",
   "execution_count": null,
   "id": "4a979165-a513-4e13-83b0-13d12170eca4",
   "metadata": {},
   "outputs": [],
   "source": [
    "from math import pi\n",
    "print('pi is {:8.4f}'.format(pi))"
   ]
  },
  {
   "cell_type": "markdown",
   "id": "0d712741-018e-48f9-adc9-3d45671d1cf8",
   "metadata": {},
   "source": [
    "Кроме кодов форматирования в фигурные скобки можно передать индексы списка, который затем передадим в метод format:"
   ]
  },
  {
   "cell_type": "code",
   "execution_count": null,
   "id": "30c6b9a4-11b9-465a-a05d-1c170231fcbe",
   "metadata": {},
   "outputs": [],
   "source": [
    "'{1} {0} {1}'.format(1, 2)"
   ]
  },
  {
   "cell_type": "markdown",
   "id": "2cf29f4a-4b38-4d00-bb5e-ba84d4108b58",
   "metadata": {},
   "source": [
    "Последний метод чем-то напоминает устаревший и не рекомендуемый к использованию метод с помощью %:"
   ]
  },
  {
   "cell_type": "code",
   "execution_count": null,
   "id": "2a413638-99d8-4135-a346-c1ec8b954fa4",
   "metadata": {},
   "outputs": [],
   "source": [
    "'%s = %i' % ('x', 7) "
   ]
  },
  {
   "cell_type": "markdown",
   "id": "26a68bfc",
   "metadata": {},
   "source": [
    "## Операторы"
   ]
  },
  {
   "cell_type": "markdown",
   "id": "ea85ca61-dc73-4d11-82c4-68003284bde0",
   "metadata": {},
   "source": [
    "### Полный список операторов:"
   ]
  },
  {
   "cell_type": "markdown",
   "id": "23900342-8e66-4a9b-a03a-3909d3a9ad3d",
   "metadata": {},
   "source": [
    "Какие вы знаете операторы?"
   ]
  },
  {
   "cell_type": "markdown",
   "id": "e2b3b1bf-a225-475e-836b-781ede42c5de",
   "metadata": {},
   "source": [
    "Что делают?"
   ]
  },
  {
   "cell_type": "markdown",
   "id": "196aa0a5-2805-49f7-92ec-ed2bdaa35a5c",
   "metadata": {},
   "source": [
    "### Присваивание"
   ]
  },
  {
   "cell_type": "markdown",
   "id": "8ac518c5",
   "metadata": {},
   "source": [
    "#### Множественное присваивание"
   ]
  },
  {
   "cell_type": "code",
   "execution_count": null,
   "id": "bff09672-8fd3-4f5c-9704-b1352d6fe69d",
   "metadata": {},
   "outputs": [],
   "source": [
    "###YOUR CODE###"
   ]
  },
  {
   "cell_type": "markdown",
   "id": "fbfb1cce-e4c2-41a1-b349-b5ca16db48a1",
   "metadata": {},
   "source": [
    "#### Распаковка"
   ]
  },
  {
   "cell_type": "code",
   "execution_count": null,
   "id": "02794b2e-fd65-4e78-8060-a58ae958765f",
   "metadata": {},
   "outputs": [],
   "source": [
    "a = [1, 2]\n",
    "b = [3, 4, *a]\n",
    "b"
   ]
  },
  {
   "cell_type": "markdown",
   "id": "2acd9295-0887-4839-a268-51f484e36c55",
   "metadata": {},
   "source": [
    "Задача: объедините два словаря при помощи распаковки"
   ]
  },
  {
   "cell_type": "code",
   "execution_count": null,
   "id": "c4dc70b0-aa80-4811-a16a-695b578e91c3",
   "metadata": {},
   "outputs": [],
   "source": [
    "dict_one = {1: 2, 3: 4}\n",
    "dict_two = {5: 6}\n",
    "\n",
    "###YOUR CODE###"
   ]
  },
  {
   "cell_type": "markdown",
   "id": "e3d31fe4-c90f-425b-b9bc-b6d0d20ea0ed",
   "metadata": {},
   "source": [
    "#### Walrus"
   ]
  },
  {
   "cell_type": "markdown",
   "id": "c70dea72-0472-458c-8f9b-e8eabd1aa293",
   "metadata": {},
   "source": [
    "Присвоить значение переменной и вернуть это значение."
   ]
  },
  {
   "cell_type": "code",
   "execution_count": null,
   "id": "e6b78baa-3b04-4e95-9d88-ca3ab82a803c",
   "metadata": {},
   "outputs": [],
   "source": [
    "print(num = 15)"
   ]
  },
  {
   "cell_type": "code",
   "execution_count": null,
   "id": "b33243dd-45f4-4cf7-b9c2-ecdc7ddbe1d4",
   "metadata": {},
   "outputs": [],
   "source": [
    "print(num := 15)"
   ]
  },
  {
   "cell_type": "markdown",
   "id": "815b56a3-aa81-41ff-a5a8-e2f42aa0ccf4",
   "metadata": {},
   "source": [
    "### Сравнения"
   ]
  },
  {
   "cell_type": "markdown",
   "id": "a1b51146-7425-4dff-8178-f2fcb6790038",
   "metadata": {},
   "source": [
    "#### Цепочки сравнений"
   ]
  },
  {
   "cell_type": "markdown",
   "id": "92425d6c",
   "metadata": {
    "tags": []
   },
   "source": [
    "Можно ли вызвать такую конструкцию?"
   ]
  },
  {
   "cell_type": "code",
   "execution_count": null,
   "id": "2a355ea4-c11d-468d-a7f6-3fbbe437646d",
   "metadata": {},
   "outputs": [],
   "source": [
    "2<3<4>2"
   ]
  },
  {
   "cell_type": "markdown",
   "id": "0076cb36-02fd-492a-8bf8-6e1c19470147",
   "metadata": {},
   "source": [
    "#### Сравнение строк и списков"
   ]
  },
  {
   "cell_type": "code",
   "execution_count": null,
   "id": "09242c6b-1f74-4e12-9400-e746d51192a1",
   "metadata": {},
   "outputs": [],
   "source": [
    "[1, 2, 3] < [1, 2, 0]"
   ]
  },
  {
   "cell_type": "markdown",
   "id": "8289e2b2-efdc-4d72-a7fb-9bdf49b8b3c4",
   "metadata": {},
   "source": [
    "Сравнение списков - поэлементное, если списки равны по длине."
   ]
  },
  {
   "cell_type": "code",
   "execution_count": null,
   "id": "a16e5ac4-f55e-4668-96cc-ea048d56daf5",
   "metadata": {},
   "outputs": [],
   "source": [
    "'Ivanov' < 'Yakubov'"
   ]
  },
  {
   "cell_type": "markdown",
   "id": "7d834b35-01f0-4e48-a42f-c94835d7465a",
   "metadata": {},
   "source": [
    "Сравнение осуществляется в лексикографическом порядке."
   ]
  },
  {
   "cell_type": "markdown",
   "id": "2a19c4af-27d0-40ea-9ad8-4680a8925ba9",
   "metadata": {},
   "source": [
    "### Логические"
   ]
  },
  {
   "cell_type": "markdown",
   "id": "a22c03de-8f65-4316-870f-10de9e73bd82",
   "metadata": {},
   "source": [
    "#### bitwise vs logical"
   ]
  },
  {
   "cell_type": "markdown",
   "id": "d0a6a01d",
   "metadata": {},
   "source": [
    "Небольшое отступление: что вернет следующая строка?"
   ]
  },
  {
   "cell_type": "code",
   "execution_count": null,
   "id": "ea8dcdb0-a60e-4341-b636-c18ae28143cb",
   "metadata": {},
   "outputs": [],
   "source": [
    "bool(\"False\")"
   ]
  },
  {
   "cell_type": "markdown",
   "id": "1d4d10b4-1697-4eb3-8c66-82c97ce5b6a1",
   "metadata": {},
   "source": [
    "Более развернуто?"
   ]
  },
  {
   "cell_type": "markdown",
   "id": "278a5d84-c635-45bb-a23f-7927da82e6b4",
   "metadata": {},
   "source": [
    "Булевы операторы используются с булевыми значениями, в то время как побитовые операции используются с целыми числами.\n",
    "\n",
    "Важно: булевы операторы используют short-circuiting"
   ]
  },
  {
   "cell_type": "code",
   "execution_count": null,
   "id": "c49cd83d-2530-430e-bd92-89db2bc9fe7a",
   "metadata": {},
   "outputs": [],
   "source": [
    "True or 5//0==42"
   ]
  },
  {
   "cell_type": "markdown",
   "id": "c95806f5-c3bd-4230-89a7-270a548c1636",
   "metadata": {},
   "source": [
    "Может быть полезно для следующих конструкций:"
   ]
  },
  {
   "cell_type": "code",
   "execution_count": null,
   "id": "d611d3de-8b14-4f9f-8e22-00d121a19890",
   "metadata": {},
   "outputs": [],
   "source": [
    "if x is not None and x.foo == 42:\n",
    "    ..."
   ]
  },
  {
   "cell_type": "markdown",
   "id": "ac60419c-c4ed-4e78-b225-e4ef770178e0",
   "metadata": {},
   "source": [
    "В случае побитовых операций & вычислит обе части."
   ]
  },
  {
   "cell_type": "markdown",
   "id": "abc26fca-a4cb-4f85-aa10-3f52c884fefa",
   "metadata": {},
   "source": [
    "## Управляющие конструкции"
   ]
  },
  {
   "cell_type": "markdown",
   "id": "f9bde500-efe1-4a32-94f8-a036ec897de9",
   "metadata": {},
   "source": [
    "### Циклы"
   ]
  },
  {
   "cell_type": "markdown",
   "id": "0ed25425-b75a-4a57-8d7c-8bdc73521112",
   "metadata": {},
   "source": [
    "#### Else"
   ]
  },
  {
   "cell_type": "markdown",
   "id": "1746cfd1",
   "metadata": {},
   "source": [
    "Цикл в Питон может заканчиваться else, который выполняется, если цикл не завершает работу при помощи break или return."
   ]
  },
  {
   "cell_type": "markdown",
   "id": "03083995",
   "metadata": {
    "tags": []
   },
   "source": [
    "#### Break, continue (вредные привычки)\n",
    "\n",
    "`break`<br>\n",
    "• break в цикле - выходим из него<br>\n",
    "• break во вложенных циклах - выход только из внутреннего цикла<br>\n",
    "• break инвалидирует else\n",
    "\n",
    "`continue`<br>\n",
    "• continue - проброс в старт следующей итерации цикла (проверка в случае while, следующее значение в случае for)\n",
    "• continue во вложенных циклах применяется к внутреннему циклу"
   ]
  },
  {
   "cell_type": "code",
   "execution_count": null,
   "id": "63ec8244-bb4c-407b-8358-be419a04887e",
   "metadata": {},
   "outputs": [],
   "source": []
  },
  {
   "cell_type": "markdown",
   "id": "25b78c15",
   "metadata": {
    "tags": []
   },
   "source": [
    "#### Моржовый оператор в цикле"
   ]
  },
  {
   "cell_type": "code",
   "execution_count": null,
   "id": "49c30aca-94cc-487e-8112-ddfe08b82b22",
   "metadata": {},
   "outputs": [],
   "source": [
    "n=5\n",
    "while n > 0:\n",
    "    print(n)\n",
    "    n -= 1 \n",
    "    print(\"Blast off!\")"
   ]
  },
  {
   "cell_type": "markdown",
   "id": "699dc5f3-6672-4eed-9dc6-5ad1880ac65b",
   "metadata": {},
   "source": [
    "Вопрос: как можно переписать с использованием моржового оператора?"
   ]
  },
  {
   "cell_type": "code",
   "execution_count": null,
   "id": "a78349af-f36a-4aab-bcf1-5c42826c6865",
   "metadata": {},
   "outputs": [],
   "source": [
    "n=6 \n",
    "while(n:= n - 1) > 0:\n",
    "    print(n) \n",
    "    print(\"Blast off!\")"
   ]
  },
  {
   "cell_type": "markdown",
   "id": "1bd53419-6536-4159-a5d5-5a8fe5264ab4",
   "metadata": {},
   "source": [
    "### Исключения"
   ]
  },
  {
   "cell_type": "markdown",
   "id": "d5e03b76-0f0e-41e6-86ee-7b1c064f9dfb",
   "metadata": {},
   "source": [
    "#### try ... except"
   ]
  },
  {
   "cell_type": "code",
   "execution_count": null,
   "id": "bbd150df-63d7-40ce-a62e-fe3ed3f7df2f",
   "metadata": {},
   "outputs": [],
   "source": [
    "try:\n",
    "    raise ArithmeticError\n",
    "except (KeyError, ValueError):\n",
    "    print(\"handle Key and Value errors\")\n",
    "except ArithmeticError as err:\n",
    "    print(type(err))"
   ]
  },
  {
   "cell_type": "markdown",
   "id": "6b5c74fc",
   "metadata": {},
   "source": [
    "#### raise"
   ]
  },
  {
   "cell_type": "markdown",
   "id": "e7574025-3cc2-45b5-9d39-8ac964e5f1b2",
   "metadata": {},
   "source": [
    "• raise - вызов исключения, которое затем можно обработать при помощи try-except. Мы обсудили в прошлый раз встроенные типы исключения; можно задать свои.<br>\n",
    "• Синтаксис raise Exception(expression) позволяет добавить сообщение (аргумент expression).<br>\n",
    "• Добавление raise в except вызывает то же исключение повторно."
   ]
  },
  {
   "cell_type": "code",
   "execution_count": null,
   "id": "d57ecf68-c64f-456d-ad61-e23b4a5b0c74",
   "metadata": {},
   "outputs": [],
   "source": [
    "x = None\n",
    "if x is None:\n",
    "    raise ValueError(\"value 'x' should not be None\")"
   ]
  },
  {
   "cell_type": "markdown",
   "id": "9d15e641-029b-4807-b76b-9cebf05b6dce",
   "metadata": {},
   "source": [
    "#### else"
   ]
  },
  {
   "cell_type": "markdown",
   "id": "12faf4bf-ca2d-485d-a8cf-9147d5d25938",
   "metadata": {},
   "source": [
    "#### finally"
   ]
  },
  {
   "cell_type": "markdown",
   "id": "802a745a-45cf-424e-8d5d-71ea26ae4a40",
   "metadata": {},
   "source": [
    "Будет выполнено в любом случае"
   ]
  },
  {
   "cell_type": "markdown",
   "id": "30185f3b-537e-4c56-bba7-a14782ac5550",
   "metadata": {},
   "source": [
    "## Структуры данных"
   ]
  },
  {
   "cell_type": "markdown",
   "id": "19a7a5a5-eeba-481a-9442-8f3850edecf3",
   "metadata": {},
   "source": [
    "### Изменяемые и неизменяемые объекты (напоминание)"
   ]
  },
  {
   "cell_type": "markdown",
   "id": "aaff4f5f-220b-42a5-938a-5f3d9788a30d",
   "metadata": {},
   "source": [
    "Помним о том, что список - это ссылка на список ссылок"
   ]
  },
  {
   "cell_type": "code",
   "execution_count": null,
   "id": "c8040f03-9510-4106-a38a-9066b4257fb6",
   "metadata": {},
   "outputs": [],
   "source": [
    "a = [1, 2]\n",
    "b = a\n",
    "b[0] = 3\n",
    "print(a)"
   ]
  },
  {
   "cell_type": "code",
   "execution_count": null,
   "id": "a0591f8f-33ef-4561-8c22-0c3cca0439c4",
   "metadata": {},
   "outputs": [],
   "source": [
    "a = [1, 2]\n",
    "b = [1, 2]\n",
    "a[0] = 3\n",
    "print(b)"
   ]
  },
  {
   "cell_type": "code",
   "execution_count": null,
   "id": "e6fdc024-e798-42f9-b020-37e7656df8cc",
   "metadata": {},
   "outputs": [],
   "source": [
    "a = [1, 2]\n",
    "b = a\n",
    "a = [3, 4]\n",
    "print(b)"
   ]
  },
  {
   "cell_type": "code",
   "execution_count": null,
   "id": "2eb35c58-c877-4f5a-b9b8-7ef205cbad7c",
   "metadata": {},
   "outputs": [],
   "source": [
    "def replaceFirst(myList):\n",
    "    myList[0] = 'x'\n",
    "\n",
    "nowList = list('abcdef')\n",
    "replaceFirst(nowList)\n",
    "print(nowList)"
   ]
  },
  {
   "cell_type": "code",
   "execution_count": null,
   "id": "a015686f-9d71-479c-8f47-15dac2940410",
   "metadata": {},
   "outputs": [],
   "source": [
    "def reverseList(funcList):\n",
    "    funcList = funcList[::-1]\n",
    "    \n",
    "mainList = list('abc')\n",
    "reverseList(mainList)\n",
    "print(mainList)"
   ]
  },
  {
   "cell_type": "markdown",
   "id": "da561f87",
   "metadata": {},
   "source": [
    "### Копии"
   ]
  },
  {
   "cell_type": "markdown",
   "id": "65c6977c-ab0b-4142-ae4d-41d1eeb3665a",
   "metadata": {},
   "source": [
    "Если мы хотим скопировать изменяемый объект, мы можем воспользоваться методом .copy"
   ]
  },
  {
   "cell_type": "code",
   "execution_count": null,
   "id": "33c3ad76-ecb0-46c1-adcc-59885e517463",
   "metadata": {},
   "outputs": [],
   "source": [
    "a = [1, 2]\n",
    "b = a.copy()\n",
    "a[0] = 0\n",
    "b"
   ]
  },
  {
   "cell_type": "markdown",
   "id": "344ad92b-3154-44d1-9368-f110ef5c3dba",
   "metadata": {},
   "source": [
    "Вопрос: зачем же нам может понадобиться что-то еще?"
   ]
  },
  {
   "cell_type": "code",
   "execution_count": null,
   "id": "ed25d1ff-07a9-4426-92e0-02bd1a798db4",
   "metadata": {},
   "outputs": [],
   "source": [
    "import copy\n",
    "shallow_copy = copy.copy(my_list)"
   ]
  },
  {
   "cell_type": "code",
   "execution_count": null,
   "id": "4df62445-bc7d-477b-80f0-1dd4683bbd05",
   "metadata": {},
   "outputs": [],
   "source": [
    "deep_copy = copy.deepcopy(my_list)"
   ]
  },
  {
   "cell_type": "code",
   "execution_count": null,
   "id": "94b09cde-bf2a-460f-991c-620f5f96eaee",
   "metadata": {},
   "outputs": [],
   "source": []
  },
  {
   "cell_type": "markdown",
   "id": "64a2edca-8b27-4a63-a5b7-93fd7684652a",
   "metadata": {},
   "source": [
    "### Множество"
   ]
  },
  {
   "cell_type": "markdown",
   "id": "4e569a2a",
   "metadata": {},
   "source": [
    "Множество - набор уникальных значений. Выполнится ли код внизу?"
   ]
  },
  {
   "cell_type": "code",
   "execution_count": null,
   "id": "884cf99a",
   "metadata": {},
   "outputs": [],
   "source": [
    "s = {10, \"ten\", \"X\"}"
   ]
  },
  {
   "cell_type": "markdown",
   "id": "0d8660f3-8ebb-481f-a587-0477fd8647ac",
   "metadata": {},
   "source": [
    "Что будет с порядком, если преобразовать в множество и обратно?"
   ]
  },
  {
   "cell_type": "markdown",
   "id": "d42d503c-a635-4fe0-b7ed-f5a1349d5ad6",
   "metadata": {},
   "source": [
    "### Список"
   ]
  },
  {
   "cell_type": "markdown",
   "id": "3a036ca9-15a9-4755-a691-9377d9f7621a",
   "metadata": {},
   "source": [
    "Аналог массива в других языках программирования"
   ]
  },
  {
   "cell_type": "markdown",
   "id": "7e6e1aa8-7f48-4658-a7dd-6b119d1ac50c",
   "metadata": {},
   "source": [
    "#### enumerate()"
   ]
  },
  {
   "cell_type": "markdown",
   "id": "bb78891c",
   "metadata": {},
   "source": [
    "Когда необходимо вывести каждый элемент вместе с его порядковым индексом:"
   ]
  },
  {
   "cell_type": "code",
   "execution_count": null,
   "id": "7a718f5c-159f-400c-b09a-c4927f967de0",
   "metadata": {},
   "outputs": [],
   "source": [
    "my_list = ['a', 'b']"
   ]
  },
  {
   "cell_type": "code",
   "execution_count": null,
   "id": "fe7607cd-b52a-4253-a85c-64cf324ae8a1",
   "metadata": {},
   "outputs": [],
   "source": [
    "for i in range(0, len(my_list)): \n",
    "    print(my_list[i], \"is at\", i)"
   ]
  },
  {
   "cell_type": "markdown",
   "id": "27753d3f-f388-457d-b65c-8ed1935d7e25",
   "metadata": {},
   "source": [
    "Конечно, такую операцию надо делать при помощи enumerate, которая вернет кортежи (индекс, значение):"
   ]
  },
  {
   "cell_type": "code",
   "execution_count": null,
   "id": "aafe194a-e33e-427e-a42c-1e1a6238f37e",
   "metadata": {},
   "outputs": [],
   "source": [
    "for index, value in enumerate(my_list): \n",
    "    print(value, \"is at\", index)"
   ]
  },
  {
   "cell_type": "markdown",
   "id": "d5a1f597-f590-4754-8fea-516ebea0b298",
   "metadata": {},
   "source": [
    "#### Сортировка и \"разворот\""
   ]
  },
  {
   "cell_type": "code",
   "execution_count": null,
   "id": "3b036fee-7461-4771-bf42-abd3056a9a36",
   "metadata": {},
   "outputs": [],
   "source": [
    "x = ['aa', 'b', 'a', 'ab']"
   ]
  },
  {
   "cell_type": "markdown",
   "id": "6d331119-23fe-48cc-93a2-c439e1461b0f",
   "metadata": {},
   "source": [
    "Вопрос: как можно развернуть список?"
   ]
  },
  {
   "cell_type": "code",
   "execution_count": null,
   "id": "9f2d1b8e-ffe4-4777-91fd-01ca07030045",
   "metadata": {},
   "outputs": [],
   "source": [
    "###YOUR CODE###"
   ]
  },
  {
   "cell_type": "markdown",
   "id": "93149517-ae68-4428-aa5f-a11570382918",
   "metadata": {},
   "source": [
    "Вопрос: как можно отсортировать список?"
   ]
  },
  {
   "cell_type": "code",
   "execution_count": null,
   "id": "9dad965e-9d74-45f5-baa2-2740437c9559",
   "metadata": {},
   "outputs": [],
   "source": [
    "###YOUR CODE###"
   ]
  },
  {
   "cell_type": "markdown",
   "id": "2f30cb0d-ea98-4eb8-ba8c-1017a38dae6c",
   "metadata": {},
   "source": [
    "Что меняет значение по ссылке, а что создает новый список?"
   ]
  },
  {
   "cell_type": "markdown",
   "id": "54954c85-7739-4802-bce2-ac718d9bbac2",
   "metadata": {},
   "source": [
    "#### Многомерный список"
   ]
  },
  {
   "cell_type": "markdown",
   "id": "58601151-7274-47aa-a97c-8e36b0e7b162",
   "metadata": {},
   "source": [
    "Вопрос: а создайте-ка двумерный список"
   ]
  },
  {
   "cell_type": "code",
   "execution_count": null,
   "id": "08ddbccb",
   "metadata": {},
   "outputs": [],
   "source": [
    "###YOUR CODE###"
   ]
  },
  {
   "cell_type": "markdown",
   "id": "3c52b0f9",
   "metadata": {},
   "source": []
  },
  {
   "cell_type": "code",
   "execution_count": null,
   "id": "def8e520-a5f6-4096-a4ea-6d828570c53d",
   "metadata": {},
   "outputs": [],
   "source": [
    "###YOUR CODE###"
   ]
  },
  {
   "cell_type": "markdown",
   "id": "03b6f4ce",
   "metadata": {
    "tags": []
   },
   "source": [
    "#### Списковые включения"
   ]
  },
  {
   "cell_type": "markdown",
   "id": "5e2effef",
   "metadata": {},
   "source": [
    "Пока лишь беглое знакомство, более детально вернемся в разговоре про функциональное программирование"
   ]
  },
  {
   "cell_type": "markdown",
   "id": "2e2903e8-00a3-47a9-b70c-6f938bd1005e",
   "metadata": {},
   "source": [
    "Сигнатура:"
   ]
  },
  {
   "cell_type": "code",
   "execution_count": null,
   "id": "183a627d-9fff-416a-b1f5-e6db752dada8",
   "metadata": {},
   "outputs": [],
   "source": [
    "[item for item in iterable if condition]\n",
    "[item if condition else other for item in iterable]"
   ]
  },
  {
   "cell_type": "markdown",
   "id": "4b8d4341-5c05-4321-9682-ea30113e7ed3",
   "metadata": {},
   "source": [
    "Например:"
   ]
  },
  {
   "cell_type": "code",
   "execution_count": null,
   "id": "0c3aa342-f9bb-40dc-8119-5920f6faaaba",
   "metadata": {
    "tags": []
   },
   "outputs": [],
   "source": [
    "[2 ∗ x for x in [1, 2, 3]]"
   ]
  },
  {
   "cell_type": "markdown",
   "id": "866aed4a-e9e2-4c60-8112-5665499f8794",
   "metadata": {},
   "source": [
    "Задание 1: Отфильтруйте значения больше 1"
   ]
  },
  {
   "cell_type": "code",
   "execution_count": null,
   "id": "c4f1345f-d1d5-4257-a785-bcfd37555459",
   "metadata": {},
   "outputs": [],
   "source": [
    "###YOUR CODE###"
   ]
  },
  {
   "cell_type": "markdown",
   "id": "78d08ab1-caab-42ef-a898-42fa3a6b553c",
   "metadata": {},
   "source": [
    "Задание 2: Сформируйте список слов, которые не начинаются с or"
   ]
  },
  {
   "cell_type": "code",
   "execution_count": null,
   "id": "7933e320-4f99-43ff-ab43-1518beb9bf5c",
   "metadata": {},
   "outputs": [],
   "source": [
    "my_tuple = (\"hello world?\", \"world!\", \"or not\")\n",
    "\n",
    "###YOUR CODE###"
   ]
  },
  {
   "cell_type": "markdown",
   "id": "c0426dcc",
   "metadata": {},
   "source": [
    "### Кортежи"
   ]
  },
  {
   "cell_type": "markdown",
   "id": "2b2ecd3c-d055-467d-9aaa-2605964785f4",
   "metadata": {},
   "source": [
    "Кортежи - сравнительно небольшой неизменный ряд значений с фиксированным порядком. Например, координата."
   ]
  },
  {
   "cell_type": "code",
   "execution_count": null,
   "id": "08069c1e-177d-43ad-8cc3-8cb4498e617e",
   "metadata": {},
   "outputs": [],
   "source": [
    "(20 // 7 ==2 and 20 % 7 == 6)"
   ]
  },
  {
   "cell_type": "markdown",
   "id": "092ac8e9-bf4b-4edb-8820-dc78bd8d6bb1",
   "metadata": {},
   "source": [
    "Можно сделать проще:"
   ]
  },
  {
   "cell_type": "code",
   "execution_count": null,
   "id": "d56dfe0c-465f-4fd9-8743-daace250d825",
   "metadata": {},
   "outputs": [],
   "source": [
    "divmod(20, 7)"
   ]
  },
  {
   "cell_type": "markdown",
   "id": "9946b174-1b61-495a-82d8-eba1c4a6534f",
   "metadata": {},
   "source": [
    "Хотел бы обратить внимение на то, как выглядит кортеж из одного элементы: (3,)"
   ]
  },
  {
   "cell_type": "code",
   "execution_count": null,
   "id": "18ff8857-d8ec-4b79-a0e1-5bf9d3f9a5e1",
   "metadata": {},
   "outputs": [],
   "source": [
    "print((1,2,3)[2])\n",
    "print((1,2,3)[2:])"
   ]
  },
  {
   "cell_type": "markdown",
   "id": "82e39047-5836-4df7-ac64-37e6e79b36ed",
   "metadata": {},
   "source": [
    "Что выдаст код?"
   ]
  },
  {
   "cell_type": "code",
   "execution_count": null,
   "id": "5ba19df2-64c2-467a-9850-44264cb7ce19",
   "metadata": {},
   "outputs": [],
   "source": [
    "a = (1, 2, 3)\n",
    "b = (4, 5, 6)\n",
    "print(a + b)\n",
    "print(a*2)"
   ]
  },
  {
   "cell_type": "markdown",
   "id": "d690ca09-a4eb-45ab-9608-1aac01dff916",
   "metadata": {},
   "source": [
    "### Распаковка"
   ]
  },
  {
   "cell_type": "markdown",
   "id": "c1f80047",
   "metadata": {},
   "source": [
    "Чаще в контексте кортежей. Распаковка, строго говоря, это процесс присваивания, в котором кортеж, составленный из отдельных переменных находится в левой части выражения. Справа должен находиться кортеж такой же длины"
   ]
  },
  {
   "cell_type": "code",
   "execution_count": null,
   "id": "dab8f4a3-f8d3-4656-8177-c79ac3999793",
   "metadata": {},
   "outputs": [],
   "source": [
    "a,b,c = x"
   ]
  },
  {
   "cell_type": "markdown",
   "id": "2ce7c28d-356f-4d8f-849e-7cf456b4791e",
   "metadata": {},
   "source": [
    "Создание кортежа - упаковка. Если в одном выражении присваивания происходит и упаковка, и распаковка, то сначала выполняется упаковка, затем распаковка.\n",
    "\n",
    "Вопрос: что выдаст следующий код?"
   ]
  },
  {
   "cell_type": "code",
   "execution_count": null,
   "id": "44e57997-1776-4402-a403-a8b5c1ed0bee",
   "metadata": {},
   "outputs": [],
   "source": [
    "a, b, c = 1, 2, 3\n",
    "a, b, c = c, b, a\n",
    "print(a, b, c)"
   ]
  },
  {
   "cell_type": "markdown",
   "id": "560ac5e4-8e7e-4b16-b3e8-288ca04bccbc",
   "metadata": {},
   "source": [
    "### Словари"
   ]
  },
  {
   "cell_type": "markdown",
   "id": "a62b6cd9-01ee-414e-8834-cd33894b71b7",
   "metadata": {},
   "source": [
    "#### Доступ к содержимому словаря"
   ]
  },
  {
   "cell_type": "markdown",
   "id": "d53ce52b",
   "metadata": {},
   "source": [
    "Ключом к словарю может быть только неизменяемый объект!\n",
    "\n",
    "Полезные методы:"
   ]
  },
  {
   "cell_type": "markdown",
   "id": "3d30edac",
   "metadata": {},
   "source": [
    "• phones.get(key) работает почти как phones[key], однако если ключ не существует, возвращает None.<br>\n",
    "• phones.get(key, default_value) возвращает default_value если ключ не существует."
   ]
  },
  {
   "cell_type": "markdown",
   "id": "4df6bbac-3cfe-4a05-a8a7-9a804d21f79d",
   "metadata": {},
   "source": [
    "#### Итерирование по словарю"
   ]
  },
  {
   "cell_type": "markdown",
   "id": "5baf33a7",
   "metadata": {
    "tags": []
   },
   "source": [
    "Вопрос: что будет содержаться в списке, если мы преобразуем в него словарь?<br>\n",
    "Вопрос: какие структуры можно, наоборот, преобразовать в словать?\n",
    "\n",
    "A: You can convert a list, set, or tuple to a dict only if the elements are grouped in twos, for example, a list of 2-tuples (tuples with two elements).<br>"
   ]
  },
  {
   "cell_type": "markdown",
   "id": "f9b454d8-3097-46ef-a9a9-7d75dcf6aa8a",
   "metadata": {},
   "source": [
    "Вопрос: как итерироваться по парам ключ-значение?"
   ]
  },
  {
   "cell_type": "code",
   "execution_count": null,
   "id": "1de6c242-40eb-4750-b60a-0d3b04435e22",
   "metadata": {},
   "outputs": [],
   "source": [
    "###YOUR CODE###"
   ]
  },
  {
   "cell_type": "markdown",
   "id": "947ba923-94b5-4887-ac8f-639a0933894f",
   "metadata": {},
   "source": [
    "Есть метод .items:"
   ]
  },
  {
   "cell_type": "code",
   "execution_count": null,
   "id": "2ea548de-d1f5-457a-a9a8-1e6bc84bdd8c",
   "metadata": {},
   "outputs": [],
   "source": [
    "for t in my_dict.items():\n",
    "    print(t) # prints (key, value) tuples"
   ]
  },
  {
   "cell_type": "markdown",
   "id": "01b95821-66fe-4720-9481-7de316f2cd2b",
   "metadata": {},
   "source": [
    "Нюанс: items возвращает не список, а некоторый `dynamic view object`, поэтому переприсваивание значений внутри цикла может выдать неспецифицированное поведение"
   ]
  },
  {
   "cell_type": "markdown",
   "id": "9dc1a96b-bf88-46e1-9644-a9f4a9e32203",
   "metadata": {},
   "source": [
    "Еще один способ - распаковать прямо в цикле кортежи ключ-значение:"
   ]
  },
  {
   "cell_type": "code",
   "execution_count": null,
   "id": "2fc62cea-98df-4bfb-95ae-b9faa2085b8c",
   "metadata": {},
   "outputs": [],
   "source": [
    "for k, v in my_dict.items(): \n",
    "    print(k, \"is\", v)"
   ]
  },
  {
   "cell_type": "markdown",
   "id": "dec38dd1",
   "metadata": {},
   "source": [
    "## Итераторы и генераторы"
   ]
  },
  {
   "cell_type": "markdown",
   "id": "6496b6b0-cdb5-4a64-90c9-c391121cfaa3",
   "metadata": {},
   "source": [
    "Разница между iterable и iterator?\n",
    "\n",
    "iterable - это объекты, к которым можно получить последовательный доступ. Например, range"
   ]
  },
  {
   "cell_type": "code",
   "execution_count": null,
   "id": "b8af629e-bfe4-4f5b-928d-519e04dc1ec9",
   "metadata": {},
   "outputs": [],
   "source": [
    "print(tuple(range(10)))"
   ]
  },
  {
   "cell_type": "markdown",
   "id": "791d7e1e-64b4-4ff5-afe5-86be1d30929d",
   "metadata": {},
   "source": [
    "### Итераторы"
   ]
  },
  {
   "cell_type": "markdown",
   "id": "f1ddf116-70ef-4fb0-a03c-fb3fd6dd550d",
   "metadata": {},
   "source": [
    "Итератор - объект, который отслеживат свое местонахождение в итерируемым объекте, и по запросу выдает следующее значение. Можно создать итератор по списку; далее можем вызывать next(it), пока не получим исключение StopIteration"
   ]
  },
  {
   "cell_type": "code",
   "execution_count": null,
   "id": "8a1ea962-4cef-406f-9188-5f99d977b0ab",
   "metadata": {},
   "outputs": [],
   "source": [
    "it = iter([2, 3, 5])"
   ]
  },
  {
   "cell_type": "markdown",
   "id": "90d2331c-c1c9-4dc4-b37a-8fa39b6bb14a",
   "metadata": {},
   "source": [
    "Чтобы в ручную реализовать итерацию при помощи итератора: \n",
    "\n",
    "• Класс iterable объекта должен содержать метод  __iter__ для создания и возрата нового итератора\n",
    "\n",
    "• Класс итератора должен содержать два метода: \n",
    "• метод __init__ , который принимает iterable в качестве аргумента и производит остальные необходимые при инициализации вычисления; \n",
    "• метод __next__ чтобы найти или вычислить следующее значение. Когда возвращать больше нечего, должен выбрасывать исключение StopIteration. \n",
    " \n",
    "In this case, the class contains a __next__ method, and the __iter__ method just returns self. As a simple example, we can write an iterable class MyList which holds a list, and an iterator class Reverser which will iterate through the list in reverse order. "
   ]
  },
  {
   "cell_type": "code",
   "execution_count": null,
   "id": "f506f142-8988-4a2e-9c1c-9c8d79b25a8d",
   "metadata": {},
   "outputs": [],
   "source": [
    "class MyList(): \n",
    "    def __init__(self, ls): \n",
    "        self.ls = ls \n",
    "        \n",
    "    def __iter__(self): \n",
    "        return Reverser(self.ls) \n",
    "\n",
    "class Reverser(): \n",
    "    def __init__(self, ls): \n",
    "        self.ls = ls \n",
    "        self.index = len(self.ls) \n",
    "    \n",
    "    def __next__(self): \n",
    "        self.index = self.index - 1\n",
    "        if self.index >= 0: \n",
    "            return self.ls[self.index] \n",
    "        raise StopIteration"
   ]
  },
  {
   "cell_type": "markdown",
   "id": "a406cd48-ec92-4884-8714-9143178ac29f",
   "metadata": {},
   "source": [
    "Как мы видим, итератор использует свои внутренние переменные для отслеживания своей позиции относительно объекта, по которому мы итерируемся. Поэтому он никак не модифицирует этот самый объект, и на нем может быть запущено сразу несколько итераторов параллельно."
   ]
  },
  {
   "cell_type": "markdown",
   "id": "42fb0cda-c03c-45e8-b8b9-edb86955978c",
   "metadata": {},
   "source": [
    "В цикле for может быть использована с любым итератором. В цикле for, исключение StopIteration не приводит к ошибке, а просто приводит к выходу из цикла."
   ]
  },
  {
   "cell_type": "code",
   "execution_count": null,
   "id": "8dc8e8d3-43c0-4caf-af02-6b380077387d",
   "metadata": {},
   "outputs": [],
   "source": [
    "ls = MyList([1, 2, 3, 4]) \n",
    "\n",
    "for e in ls: \n",
    "    print(e)"
   ]
  },
  {
   "cell_type": "markdown",
   "id": "6f01ce19-4446-4eec-be42-a0f474cbb654",
   "metadata": {},
   "source": [
    "Задание со звездочкой: реализуйте цикл for при помощи итератора"
   ]
  },
  {
   "cell_type": "code",
   "execution_count": null,
   "id": "a48bcf26-9ce0-43f1-9bcb-3db47f3e5d66",
   "metadata": {},
   "outputs": [],
   "source": [
    "###YOUR CODE###"
   ]
  },
  {
   "cell_type": "markdown",
   "id": "24c1aa88-c006-4836-9e46-f2b4b08ce959",
   "metadata": {},
   "source": [
    "Итератор не может быть \"переиспользован\", или \"перезагружен\" - после того, как он выбросит \"StopIteration\", мы можем только создать новый."
   ]
  },
  {
   "cell_type": "markdown",
   "id": "c72243b2-c486-451a-8c7a-2902682d76c0",
   "metadata": {},
   "source": [
    "### Генераторы"
   ]
  },
  {
   "cell_type": "markdown",
   "id": "69139dc6-777c-4d28-b1c3-95961593eea0",
   "metadata": {},
   "source": [
    "Генераторы похожи на итераторы. Он генерирует значения по-одному, но при этом не обязательно привязан к какому-то объекту.\n",
    "\n",
    "Генератор можно задать почти как списочное включение, вместо квадратных скобок используя круглые, и использовать везде, где можно использовать итератор:"
   ]
  },
  {
   "cell_type": "code",
   "execution_count": null,
   "id": "7510e4be-1ab0-4efb-bd26-1639cb17c015",
   "metadata": {},
   "outputs": [],
   "source": [
    "word = 'generator'\n",
    "gen = (c for c in word if c in 'aeiou')\n",
    "for i in gen:\n",
    "    print(i, end=' ')"
   ]
  },
  {
   "cell_type": "markdown",
   "id": "a040a9bb-8e3f-4af9-adc1-8dce54c62f8b",
   "metadata": {},
   "source": [
    "Как и итератор, после полного цикла он принимает пустое значение и больше ничего не вернет."
   ]
  },
  {
   "cell_type": "code",
   "execution_count": null,
   "id": "fd3c1d7d-4c18-459d-8994-f5a56b80690c",
   "metadata": {},
   "outputs": [],
   "source": [
    "for i in gen:\n",
    "    print(i, end=' ')"
   ]
  },
  {
   "cell_type": "markdown",
   "id": "28f02fea-13cb-4ddf-9119-75dd44e5c0f6",
   "metadata": {},
   "source": [
    "Смысл генератора чуть более проясняется на примере написания функций, которые ведут себя генераторы. В них вместо return мы используем yield"
   ]
  },
  {
   "cell_type": "code",
   "execution_count": null,
   "id": "4ac6c4e1-5697-4015-a491-5065b87906a2",
   "metadata": {},
   "outputs": [],
   "source": [
    "def powers_of_two():\n",
    "    n = 2\n",
    "    for i in range(0, 5):\n",
    "        yield n\n",
    "        n *= 2"
   ]
  },
  {
   "cell_type": "markdown",
   "id": "c16d8dd0-d17b-42e7-b34b-0667645bb91f",
   "metadata": {},
   "source": [
    "При вызове функции возвращается не число, а генератор, который мы затем можем использовать"
   ]
  },
  {
   "cell_type": "code",
   "execution_count": null,
   "id": "b99e6044-bd15-4e7a-b134-35549b207cac",
   "metadata": {},
   "outputs": [],
   "source": [
    "gen = powers_of_two()\n",
    "for n in gen:\n",
    "    print(n)"
   ]
  },
  {
   "cell_type": "markdown",
   "id": "9f4b3c1c-41c7-4b0f-a592-e96edd5e38ff",
   "metadata": {},
   "source": [
    "Генерируем следующее значение, и обрабатываем исключение"
   ]
  },
  {
   "cell_type": "code",
   "execution_count": null,
   "id": "0519400d-37e8-417d-809c-5ed9ad152650",
   "metadata": {},
   "outputs": [],
   "source": [
    "gen = powers_of_two()\n",
    "while True:\n",
    "    try:\n",
    "        print(next(gen))\n",
    "    except StopIteration:\n",
    "        break"
   ]
  },
  {
   "cell_type": "markdown",
   "id": "a04d3f41-d7c4-45fa-94dd-d100a3400b84",
   "metadata": {},
   "source": [
    "Что тут происходит:<br>\n",
    "• Вызов gen = powers_of_two() возвращает генератор и кладет в переменную gen.<br>\n",
    "• Первый вызов next(gen) исполнит код генератора до yield и вернет необходимое значение, как обычный return. Однако вдобавок генератор запомнит свое состояние.<br>\n",
    "• Следующий вызов next(gen) вернет исполнение в генераторе с предыдуюего состояния, то есть сразу после yield. Все значения локальных переменных будут восстановлены - как будто бы yield не происходил. В нашем примере, цикл for продолжит исполнение.<br>\n",
    "• Можно использовать yield несколько раз.<br>\n",
    "• В конце - все так же StopIteration."
   ]
  },
  {
   "cell_type": "markdown",
   "id": "133b6d73-7475-4439-be66-cd0d55ce0a43",
   "metadata": {},
   "source": [
    "## Переменные"
   ]
  },
  {
   "cell_type": "markdown",
   "id": "cd65c3f0",
   "metadata": {},
   "source": [
    "### del\n",
    "\n",
    "В целом, чтобы удалить объект, нужно вызвать деструктор. В Питоне его роль выполняет метод `__del__()`. В Питоне реализован автоматический сборщик мусора, который очищает память от ненужных объектов, вызывая del, когда все ссылки на объект удаляются. Можно вызвать его и принудительно. Отвязанный от ссылок объект == удаленный.\n",
    "\n",
    "Вопрос: напомните, что создает новую ссылку на объект?<br>"
   ]
  },
  {
   "cell_type": "markdown",
   "id": "41268c96",
   "metadata": {
    "tags": []
   },
   "source": [
    "### Область видимости"
   ]
  },
  {
   "cell_type": "markdown",
   "id": "49b4e83d-dd10-4c41-bd11-47d984807666",
   "metadata": {},
   "source": [
    "Область видимости - часть программы, в которой имя переменной может быть использовано."
   ]
  },
  {
   "cell_type": "markdown",
   "id": "78264315-8ef3-4788-881e-6830112d4b04",
   "metadata": {},
   "source": [
    "Области видимости в Питоне выстраиваются в иерархию LEGB: Local, Enclosed, Global, Built-in. Разберемся с этим, памятуя, что 1) переменные определяются в тот момент, когда им присваивается значение 2) функции и методы могут быть вложены в другие функции и методы."
   ]
  },
  {
   "cell_type": "markdown",
   "id": "129855da-5da7-42e6-93ee-698e0fc37884",
   "metadata": {},
   "source": [
    "• Local: A variable is local to a function if it is a parameter, or if it is assigned a value within that function and not explicitly declared to be global or nonlocal.<br>\n",
    "• Enclosed: A variable in a function can refer to a variable declared in an enclosing function, provided either (1) the\n",
    "variable is not assigned a value in this function or (2) it is declared in a nonlocal statement.<br>\n",
    "• Global: A variable declared at the top level (not in a function or method) is global, and can be referenced\n",
    "throughout the program. A variable in a function can refer to a global variable, provided either (1) the variable is not assigned a value in this function or in an enclosing function or (2) it is declared in a global statement.<br>\n",
    "• Built-in: A variable not declared otherwise in the program might be a built-in variable. Some examples are list,\n",
    "print, and divmod. \n",
    "\n",
    "Если используемая переменная является nonlocal (enclosed) или global, хорошей практикой является объявить ее как таковую, даже если ей не присваивается значение внутри этой функции."
   ]
  },
  {
   "cell_type": "markdown",
   "id": "638ffbbc-29bf-42e8-8823-219d8ee74cb2",
   "metadata": {},
   "source": [
    "Область видимости переменной, если она отличная от дефолтной, объявляется путем следующего синтаксиса:"
   ]
  },
  {
   "cell_type": "code",
   "execution_count": null,
   "id": "3097a62b-5bce-4691-b10a-ba1d350c3a95",
   "metadata": {},
   "outputs": [],
   "source": [
    "global var1, …, varN \n",
    "nonlocal var1, …, varN"
   ]
  },
  {
   "cell_type": "markdown",
   "id": "9877af47-9633-4f8f-9781-0d82dde03eb0",
   "metadata": {},
   "source": [
    "Такое объявление должно предшествовать любому использованию переменной."
   ]
  },
  {
   "cell_type": "markdown",
   "id": "ade74720-3255-4be9-892d-728b5133ff75",
   "metadata": {},
   "source": [
    "Как только функция заканчивает работу, локальная переменная уничтожается"
   ]
  },
  {
   "cell_type": "code",
   "execution_count": null,
   "id": "ec485852-7985-49cc-9412-6e5988ab3897",
   "metadata": {},
   "outputs": [],
   "source": [
    "def f():\n",
    "    print(a)\n",
    "    if False:\n",
    "        a = 0\n",
    "a = 1\n",
    "f()"
   ]
  },
  {
   "cell_type": "code",
   "execution_count": null,
   "id": "8c7b5d7d-9d5a-4fa4-b6d6-1e16966d5bb9",
   "metadata": {},
   "outputs": [],
   "source": [
    "def f():\n",
    "    global a #дает доступ к глобальным функциям, даже если не были определены\n",
    "    a = 1\n",
    "    print(a, end=' ')\n",
    "a = 0\n",
    "f()\n",
    "print(a)"
   ]
  },
  {
   "cell_type": "markdown",
   "id": "d5a3078c-3937-42d3-a23b-d2f6ed5706ad",
   "metadata": {},
   "source": [
    "Хотелось бы заострить внимение на том, что **использование глобальных переменных внутри функций - очень плохо!**\n",
    "\n",
    "Почему?"
   ]
  },
  {
   "cell_type": "markdown",
   "id": "da4264e8-6537-49ed-97b9-1db04ed80d1f",
   "metadata": {},
   "source": [
    "#### non-local"
   ]
  },
  {
   "cell_type": "markdown",
   "id": "50d6e483-2ebc-4cca-b084-e8b155a3d8d2",
   "metadata": {},
   "source": [
    "Локальной могут быть не только переменные, но и функции, и non-local часто возникает в этом контексте. По умолчанию, вложенная функция имеет доступ к, но не может менять переменные внешней функции. Однако если вложенная функция объявляет переменную nonlocal, она может как получить к ней доступ, так и изменить."
   ]
  },
  {
   "cell_type": "code",
   "execution_count": null,
   "id": "c3380d65-83d0-40ff-a0c4-beee7e75f5e6",
   "metadata": {},
   "outputs": [],
   "source": [
    "global_greet = \"Hello\"\n",
    "def outer_function():\n",
    "    nonlocal_greet = \"Hi\"\n",
    "    def inner_function():\n",
    "        nonlocal nonlocal_greet\n",
    "        global global_greet\n",
    "        nonlocal_greet = \"Hi\"\n",
    "        global_greet = \"Hey\"\n",
    "    inner_function()\n",
    "    print(nonlocal_greet, global_greet)\n",
    "outer_function()"
   ]
  },
  {
   "cell_type": "markdown",
   "id": "5bd99153",
   "metadata": {},
   "source": [
    "## Функции"
   ]
  },
  {
   "cell_type": "markdown",
   "id": "18fad17b",
   "metadata": {},
   "source": [
    "Параметры/аргументы?"
   ]
  },
  {
   "cell_type": "markdown",
   "id": "6d8b897e-c9b7-48dd-9126-51262cc80281",
   "metadata": {},
   "source": [
    "#### Позиционные и именованные параметры"
   ]
  },
  {
   "cell_type": "markdown",
   "id": "9fadb925",
   "metadata": {},
   "source": [
    "Имейте в виду, что возможен следующий синтаксис:"
   ]
  },
  {
   "cell_type": "code",
   "execution_count": null,
   "id": "9a9b75f7-f31a-4529-a18c-c1b1114fbdd6",
   "metadata": {},
   "outputs": [],
   "source": [
    "def foo(a, b, /, c, d, ∗, e, f):\n",
    "    print(a, b, c, d, e, f)"
   ]
  },
  {
   "cell_type": "markdown",
   "id": "8f6f033b",
   "metadata": {},
   "source": [
    "#### args/kwargs"
   ]
  },
  {
   "cell_type": "markdown",
   "id": "ecf88c7b-ceae-4ef6-a36a-36f78e9f2a30",
   "metadata": {},
   "source": [
    "Вопрос: пример функции, которая принимает неограниченное количество параметров?\n",
    "\n",
    "Задание: задайте функцию, которая принимает на вход переменное количество аргументов и распечатывает их"
   ]
  },
  {
   "cell_type": "code",
   "execution_count": null,
   "id": "2bca38cd",
   "metadata": {},
   "outputs": [],
   "source": [
    "###YOUR CODE###"
   ]
  },
  {
   "cell_type": "markdown",
   "id": "1cedd8ed-011e-4708-be6f-5c6afc63165a",
   "metadata": {},
   "source": [
    "Что происходит \"под капотом\"? Аргументы просто распаковываются из списка. Args, kwargs - просто соглашение, можно назвать как угодно. Обязательно являются последними в списке параметров, поскольку \"вбирают в себя\" все оставшиеся аргументы."
   ]
  },
  {
   "cell_type": "markdown",
   "id": "ff7e0dc3",
   "metadata": {},
   "source": [
    "#### Return"
   ]
  },
  {
   "cell_type": "markdown",
   "id": "3908d66b-44bc-46e8-b21d-1088996a7871",
   "metadata": {},
   "source": [
    "Вопрос: что происходит, если не прописываем return?"
   ]
  },
  {
   "cell_type": "markdown",
   "id": "20d56ecd",
   "metadata": {},
   "source": []
  },
  {
   "cell_type": "markdown",
   "id": "6e83a78f",
   "metadata": {},
   "source": [
    "#### Pass"
   ]
  },
  {
   "cell_type": "markdown",
   "id": "52fb5583",
   "metadata": {},
   "source": [
    "Pass - это заглушка, которая делает буквально ничего. Бывает нужна, когда синтаксис требует присутствие, допустим, метода в классе, но никакой функционал за ним мы (пока) не хотим реализовывать. Троеточие `...` является аналогом pass."
   ]
  },
  {
   "cell_type": "code",
   "execution_count": null,
   "id": "c0e1d56e-3d56-4546-80d8-02a4667e7f34",
   "metadata": {},
   "outputs": [],
   "source": [
    "class student:\n",
    "    pass\n",
    "def fun():\n",
    "    pass\n",
    "def fun2()\n",
    "    ..."
   ]
  },
  {
   "cell_type": "code",
   "execution_count": null,
   "id": "77ccffe4",
   "metadata": {},
   "outputs": [],
   "source": []
  }
 ],
 "metadata": {
  "kernelspec": {
   "display_name": "Python 3 (ipykernel)",
   "language": "python",
   "name": "python3"
  },
  "language_info": {
   "codemirror_mode": {
    "name": "ipython",
    "version": 3
   },
   "file_extension": ".py",
   "mimetype": "text/x-python",
   "name": "python",
   "nbconvert_exporter": "python",
   "pygments_lexer": "ipython3",
   "version": "3.9.7"
  }
 },
 "nbformat": 4,
 "nbformat_minor": 5
}
