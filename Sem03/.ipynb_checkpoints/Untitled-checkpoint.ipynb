{
 "cells": [
  {
   "cell_type": "markdown",
   "id": "41268c96",
   "metadata": {},
   "source": [
    "local and global variables\n",
    "\n",
    "dictionaries and updates of dictionaries\n",
    "\n",
    "что может оператор * - что еще за repetition operator?\n",
    "\n",
    "The * symbol is commonly used to indicate multiplication, however, it becomes the repetition operator when the operand on the left side of the * is a tuple. The repetition operator duplicates a tuple and links all of them together. Even though tuples are immutable, this can be extended to them. Просто отметить, что в этом контексте это называется sring repetition operator."
   ]
  },
  {
   "cell_type": "code",
   "execution_count": 1,
   "id": "3301231e",
   "metadata": {},
   "outputs": [
    {
     "data": {
      "text/plain": [
       "'22'"
      ]
     },
     "execution_count": 1,
     "metadata": {},
     "output_type": "execute_result"
    }
   ],
   "source": [
    "\"2\" * 2"
   ]
  },
  {
   "cell_type": "markdown",
   "id": "58810f1a",
   "metadata": {},
   "source": [
    "“What is the use of zip () in python ?”\n",
    "\n",
    "“Create a two (multi) dimensional list?"
   ]
  },
  {
   "cell_type": "code",
   "execution_count": 2,
   "id": "08ddbccb",
   "metadata": {},
   "outputs": [
    {
     "name": "stdout",
     "output_type": "stream",
     "text": [
      "[[0, 0, 0], [0, 0, 0], [0, 0, 0]]\n"
     ]
    }
   ],
   "source": [
    "two_dim_list = [[0]*3]*3\n",
    "print(two_dim_list)"
   ]
  },
  {
   "cell_type": "markdown",
   "id": "49b696e4",
   "metadata": {},
   "source": [
    "“What is frozenset() in Python?”"
   ]
  },
  {
   "cell_type": "markdown",
   "id": "1d5ae332",
   "metadata": {},
   "source": [
    "“What is _____name____ in Python?\n",
    "Ans.Python has no inbuilt main function to start the execution of the program. Python has special variable __name__; it provides the functionality of the main function"
   ]
  },
  {
   "cell_type": "markdown",
   "id": "26a68bfc",
   "metadata": {},
   "source": [
    "bitwise operators vs logical operators\n",
    "\n",
    "membership operators\n",
    "\n",
    "“Identity operators: Identity operators compare the memory locations of two objects.”\n",
    "\n",
    "Вообще, неплохо бы знать все операторы"
   ]
  },
  {
   "cell_type": "markdown",
   "id": "7b4635f6",
   "metadata": {},
   "source": [
    "How to call the base class inherited method in the child class?\n",
    "Ans. Using super()"
   ]
  },
  {
   "cell_type": "markdown",
   "id": "cd65c3f0",
   "metadata": {},
   "source": [
    "Is there any destructor in Python?\n",
    "Ans. Destructors are called when an object gets destroyed. Python has a garbage collector that handles memory management automatically. The __del__() method is known as a destructor method in Python. It is called when all references to the object have been deleted.\n",
    "\n",
    "How does Python Garbage collector works?\n",
    "Ans. Python deletes unwanted objects (built-in types or class instances) automatically to free the memory space. Python’s garbage collector runs during program execution and is triggered when an object’s reference count reaches zero. An object’s reference count changes as the number of aliases that points changes. An object’s reference count increases when it is assigned a new name or placed in a container (list, tuple, or dictionary). The object’s reference count decreases when it’s deleted with del, its reference is reassigned, or its reference goes out of scope. When an object’s reference count reaches zero, Python collects it automatically. You can also call del () to delete the unused object."
   ]
  },
  {
   "cell_type": "markdown",
   "id": "9b7cdc17",
   "metadata": {},
   "source": [
    "“What is the difference between the input() method and the raw_input() method?\n",
    "Ans. Theraw_input() method returns string values whereas the input() method returns integer values. The input()method was used in Python 2.x versions whereas Python 3.x and later versions use theraw_input() method. However, the input() method has been replaced by the raw_input() method in Python 3.x.”"
   ]
  },
  {
   "cell_type": "markdown",
   "id": "d2e0b886",
   "metadata": {},
   "source": [
    "“What is the difference between a Lambda and Def?\n",
    "Ans. A Def is a function that can contain multiple expressions whereas a Lambda can contain only one single expression. A Def method can contain return statements whereas a Lambda cannot contain return statements. A Lambda can be used inside lists and dictionaries.”"
   ]
  },
  {
   "cell_type": "markdown",
   "id": "1157876d",
   "metadata": {},
   "source": [
    "“What is the need for File Handling?\n",
    "Ans. Sometimes, data may be large enough and we need to store for future reference. Then we use the local file system to store data so that it can be accessed in the future. Just like in C and other programming languages you can create, read, or write files.\n",
    "Syntax:\n",
    "file_object = open(file_name [, access_mode][, buffering])”\n",
    "\n",
    "“Explain the File access mode.” especially r+ and w+ (but do you need this at all?)"
   ]
  },
  {
   "cell_type": "markdown",
   "id": "264f42ff",
   "metadata": {},
   "source": [
    "“Create a tuple of five elements and unpack it in five different variables.”"
   ]
  },
  {
   "cell_type": "markdown",
   "id": "f824272a",
   "metadata": {},
   "source": [
    "“Write a program to create two tuples and swap them."
   ]
  },
  {
   "cell_type": "code",
   "execution_count": null,
   "id": "7e41c6e4",
   "metadata": {},
   "outputs": [],
   "source": [
    "tuple1 = (10, 20)\n",
    "tuple2 = (100, 200)\n",
    "tuple1, tuple2 = tuple2, tuple1"
   ]
  },
  {
   "cell_type": "markdown",
   "id": "9fadb925",
   "metadata": {},
   "source": [
    "“Create a function fun() such that it can accept variable length of argument and print them.” - good one"
   ]
  },
  {
   "cell_type": "code",
   "execution_count": null,
   "id": "2bca38cd",
   "metadata": {},
   "outputs": [],
   "source": [
    "def fun(*args):\n",
    "    for i in args:\n",
    "    print(i)"
   ]
  },
  {
   "cell_type": "markdown",
   "id": "1b2be1f0",
   "metadata": {},
   "source": [
    "“Create two list and iterate both lists simultaneously such that list1 should display item in the original order and list2 in the reverse order."
   ]
  },
  {
   "cell_type": "code",
   "execution_count": null,
   "id": "545ac6b0",
   "metadata": {},
   "outputs": [],
   "source": [
    "list1 = [10, 20, 30, 40]\n",
    "list2 = [100, 200, 300, 400]\n",
    "for x, y in zip(list1, list2[::-1]):\n",
    "    print(x, y)"
   ]
  },
  {
   "cell_type": "markdown",
   "id": "ea85b840",
   "metadata": {},
   "source": [
    "“How to create a class without any variable and method and a method without the body? - good one, on pass"
   ]
  },
  {
   "cell_type": "code",
   "execution_count": null,
   "id": "0acb4bda",
   "metadata": {},
   "outputs": [],
   "source": [
    "class student:\n",
    "    pass\n",
    "def fun():\n",
    "    pass"
   ]
  },
  {
   "cell_type": "code",
   "execution_count": null,
   "id": "6360be26",
   "metadata": {},
   "outputs": [],
   "source": []
  },
  {
   "cell_type": "code",
   "execution_count": null,
   "id": "e41fdc99",
   "metadata": {},
   "outputs": [],
   "source": []
  },
  {
   "cell_type": "code",
   "execution_count": null,
   "id": "5cf07b59",
   "metadata": {},
   "outputs": [],
   "source": []
  },
  {
   "cell_type": "code",
   "execution_count": null,
   "id": "3b6a7ab1",
   "metadata": {},
   "outputs": [],
   "source": []
  }
 ],
 "metadata": {
  "kernelspec": {
   "display_name": "Python 3 (ipykernel)",
   "language": "python",
   "name": "python3"
  },
  "language_info": {
   "codemirror_mode": {
    "name": "ipython",
    "version": 3
   },
   "file_extension": ".py",
   "mimetype": "text/x-python",
   "name": "python",
   "nbconvert_exporter": "python",
   "pygments_lexer": "ipython3",
   "version": "3.7.12"
  }
 },
 "nbformat": 4,
 "nbformat_minor": 5
}
