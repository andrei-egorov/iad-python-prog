{
 "cells": [
  {
   "cell_type": "markdown",
   "id": "450d3f2e-a3ac-4ff8-8dbb-0543d1335d51",
   "metadata": {},
   "source": [
    "Операторы<br>\n",
    "1. Bitwise vs logical\n",
    "2. Chaining\n",
    "3. Lazy evaluation\n",
    "\n",
    "Трюки управляющих конструкций<br>\n",
    "1. Try... except... raise\n",
    "2. Break and continue (bad practice)\n",
    "3. Else\n",
    "4. Case?\n",
    "\n",
    "Вызывающие затруднение моменты структур данных<br>\n",
    "1. Изменяемые и неизменяемые объекты\n",
    "2. Множество\n",
    "3. Список\n",
    "4. Словарь. Как итерироваться\n",
    "5. Распаковка\n",
    "6. Comprehensions\n",
    "7. Shallow and deep copy\n",
    "\n",
    "Итераторы и генераторы\n",
    "\n",
    "Переменные и параметры:\n",
    "1. Del\n",
    "2. Множественное присваивание\n",
    "3. Глобальные и локальные переменные<br>\n",
    "4. Параметры и аргументы. Args, kwargs\n",
    "\n",
    "ООП<br>\n",
    "1. Классы<br>\n",
    "2. pass<br>\n",
    "    \n",
    "Функциональное программирование<br>\n",
    "1. Немного про функции в целом. Рекурсия\n",
    "2. Анонимные функции. Сортировка по ключу<br>\n",
    "3. Допольнительные специальные функции<br>\n",
    "4. Декораторы\n",
    "\n",
    "Форматирование строк<br>\n",
    "1. Экранирование\n",
    "2. F-строки\n",
    "\n",
    "File handling (в специализированные библиотеки? вместе с модулем os?)<br> \n",
    "\n",
    "Идиомы:\n",
    "1. `If name == __main__:`"
   ]
  },
  {
   "cell_type": "markdown",
   "id": "6c3c778f-a2ca-4269-b43e-32eb4188ec13",
   "metadata": {},
   "source": [
    "## Вещественные числа и их точность"
   ]
  },
  {
   "cell_type": "markdown",
   "id": "03c94f12-4af6-4f81-a692-5ffaaffb9c90",
   "metadata": {},
   "source": [
    "В целом, если можно обойтись без них, нужно обойтись без них. Они проблемные, неточные и медленные"
   ]
  },
  {
   "cell_type": "code",
   "execution_count": 7,
   "id": "83b3e21c-b40f-49d4-8e12-2907ca311c55",
   "metadata": {},
   "outputs": [
    {
     "name": "stdout",
     "output_type": "stream",
     "text": [
      "0.1000000000000000055511151\n"
     ]
    }
   ],
   "source": [
    "x = 0.1 #степени двойки\n",
    "print('{0:.25f}'.format(x))"
   ]
  },
  {
   "cell_type": "markdown",
   "id": "9e66974e-8b89-459c-83d9-f2c507ed88f7",
   "metadata": {},
   "source": [
    "Два вещественных числа равны, если они отличаются не более, чем на `eps`"
   ]
  },
  {
   "cell_type": "code",
   "execution_count": 9,
   "id": "56989d75-ddc9-42c6-8c70-fb8a53f1abe3",
   "metadata": {},
   "outputs": [
    {
     "data": {
      "text/plain": [
       "5.551115123125783e-18"
      ]
     },
     "execution_count": 9,
     "metadata": {},
     "output_type": "execute_result"
    }
   ],
   "source": [
    "x*2**(-54) #погрешность"
   ]
  },
  {
   "cell_type": "markdown",
   "id": "26a68bfc",
   "metadata": {},
   "source": [
    "## Операторы"
   ]
  },
  {
   "cell_type": "markdown",
   "id": "ea85ca61-dc73-4d11-82c4-68003284bde0",
   "metadata": {},
   "source": [
    "#### Полный список операторов:"
   ]
  },
  {
   "cell_type": "markdown",
   "id": "e2b3b1bf-a225-475e-836b-781ede42c5de",
   "metadata": {},
   "source": [
    "Вопрос - какие еще вы знаете операторы?\n",
    "\n",
    "membership operators\n",
    "\n",
    "“Identity operators: Identity operators compare the memory locations of two objects.”"
   ]
  },
  {
   "cell_type": "markdown",
   "id": "a22c03de-8f65-4316-870f-10de9e73bd82",
   "metadata": {},
   "source": [
    "#### bitwise operators vs logical operators"
   ]
  },
  {
   "cell_type": "markdown",
   "id": "d0a6a01d",
   "metadata": {},
   "source": [
    "Небольшое отступление"
   ]
  },
  {
   "cell_type": "code",
   "execution_count": null,
   "id": "ea8dcdb0-a60e-4341-b636-c18ae28143cb",
   "metadata": {},
   "outputs": [],
   "source": [
    "bool(\"False\") #returns True, поскольку аргумент не является пустой строкой"
   ]
  },
  {
   "cell_type": "markdown",
   "id": "1d4d10b4-1697-4eb3-8c66-82c97ce5b6a1",
   "metadata": {},
   "source": [
    "• The following things are considered false: False, None, 0, 0.0, empty strings, empty lists, empty sets, empty tuples, and empty dictionaries."
   ]
  },
  {
   "cell_type": "markdown",
   "id": "a1b51146-7425-4dff-8178-f2fcb6790038",
   "metadata": {},
   "source": [
    "#### Chaining"
   ]
  },
  {
   "cell_type": "markdown",
   "id": "92425d6c",
   "metadata": {
    "tags": []
   },
   "source": [
    "Chaining: Unlike most languages, Python lets you chain comparisons, for example,2<3<4>2. All comparisons are performed pairwise, and the result is True if every in- dividual comparision is True. Можно ли вызвать такую конструкцию? Да, это называется chaining"
   ]
  },
  {
   "cell_type": "code",
   "execution_count": null,
   "id": "2a355ea4-c11d-468d-a7f6-3fbbe437646d",
   "metadata": {},
   "outputs": [],
   "source": [
    "2<3<4>2"
   ]
  },
  {
   "cell_type": "markdown",
   "id": "0076cb36-02fd-492a-8bf8-6e1c19470147",
   "metadata": {},
   "source": [
    "#### Сравнение строк и списков"
   ]
  },
  {
   "cell_type": "code",
   "execution_count": 29,
   "id": "09242c6b-1f74-4e12-9400-e746d51192a1",
   "metadata": {},
   "outputs": [
    {
     "data": {
      "text/plain": [
       "False"
      ]
     },
     "execution_count": 29,
     "metadata": {},
     "output_type": "execute_result"
    }
   ],
   "source": [
    "[1, 2, 3] < [1, 2, 0]"
   ]
  },
  {
   "cell_type": "markdown",
   "id": "6228021f-c8f7-45bf-94df-95d02e406cf8",
   "metadata": {},
   "source": [
    "#### Lazy evaluation"
   ]
  },
  {
   "cell_type": "code",
   "execution_count": null,
   "id": "8948c133-ca30-4fdb-af1c-0822563d332f",
   "metadata": {},
   "outputs": [],
   "source": [
    "True or 5//0==42"
   ]
  },
  {
   "cell_type": "markdown",
   "id": "abc26fca-a4cb-4f85-aa10-3f52c884fefa",
   "metadata": {},
   "source": [
    "## Управляющие конструкции"
   ]
  },
  {
   "cell_type": "markdown",
   "id": "03083995",
   "metadata": {},
   "source": [
    "#### Break and continue and else\n",
    "\n",
    "`break`<br>\n",
    "• If break is executed within a while or for loop, it causes the loop to exit.<br>\n",
    "• If break is executed within nested loops, only the innermost loop is exited.<br>\n",
    "• If the loop exits because of a break, a following else clause will not be executed. (Possibly unique to Python, loops may have an else clause.)\n",
    "\n",
    "`continue`<br>\n",
    "• If continue is executed within a while or for loop, any remaining statements within the loop are skipped over, and control returns to the top of the loop (to the test in a while loop, or the next value in a for loop).<br>\n",
    "• continue within nested loops applies to the innermost loop.\n",
    "\n"
   ]
  },
  {
   "cell_type": "markdown",
   "id": "9da4a710-989b-4964-9d51-2bbc190876ed",
   "metadata": {},
   "source": [
    "#### Else"
   ]
  },
  {
   "cell_type": "markdown",
   "id": "1746cfd1",
   "metadata": {},
   "source": [
    "`else:`<br>\n",
    "• Both a while loop and a for loop may be followed by an else clause. The code in the else clause is executed when the loop exits normally, but is not executed if the loop terminates as the result of a break or a return."
   ]
  },
  {
   "cell_type": "markdown",
   "id": "6b5c74fc",
   "metadata": {},
   "source": [
    "#### Try, except, finally, raise\n",
    "`finally`<br>\n",
    "\n",
    "`raise`<br>\n",
    "• raise Exception raises the named Exception, which might be handled later by a try-except statement. Python provides a large number of exception types, or you can define your own by subclassing Exception.<br>\n",
    "• raise Exception(expression) raises the named Exception, and uses the result of the expression as a message in the exception.<br>\n",
    "• raise by itself in an except clause re-raises the same exception. - откуда вообще берутся исключения"
   ]
  },
  {
   "cell_type": "markdown",
   "id": "25b78c15",
   "metadata": {
    "tags": []
   },
   "source": [
    "#### The walrus operator"
   ]
  },
  {
   "cell_type": "code",
   "execution_count": null,
   "id": "49c30aca-94cc-487e-8112-ddfe08b82b22",
   "metadata": {},
   "outputs": [],
   "source": [
    "n=5\n",
    "while n > 0:\n",
    "    print(n)\n",
    "    n-=1 \n",
    "    print(\"Blast off!\")"
   ]
  },
  {
   "cell_type": "markdown",
   "id": "699dc5f3-6672-4eed-9dc6-5ad1880ac65b",
   "metadata": {},
   "source": [
    "The walrus operator can be used in while loops. The above code is equivalent to:"
   ]
  },
  {
   "cell_type": "code",
   "execution_count": null,
   "id": "a78349af-f36a-4aab-bcf1-5c42826c6865",
   "metadata": {},
   "outputs": [],
   "source": [
    "n=6 \n",
    "while(n:=n-1) > 0:\n",
    "    print(n) \n",
    "    print(\"Blast off!\")"
   ]
  },
  {
   "cell_type": "markdown",
   "id": "30185f3b-537e-4c56-bba7-a14782ac5550",
   "metadata": {},
   "source": [
    "## Структуры данных"
   ]
  },
  {
   "cell_type": "markdown",
   "id": "19a7a5a5-eeba-481a-9442-8f3850edecf3",
   "metadata": {},
   "source": [
    "### Изменяемые и неизменяемые типы данных (напоминание)"
   ]
  },
  {
   "cell_type": "markdown",
   "id": "aaff4f5f-220b-42a5-938a-5f3d9788a30d",
   "metadata": {},
   "source": [
    "Список - ссылка на список ссылок"
   ]
  },
  {
   "cell_type": "code",
   "execution_count": 22,
   "id": "c8040f03-9510-4106-a38a-9066b4257fb6",
   "metadata": {},
   "outputs": [
    {
     "name": "stdout",
     "output_type": "stream",
     "text": [
      "[3, 2]\n"
     ]
    }
   ],
   "source": [
    "a = [1, 2]\n",
    "b = a\n",
    "b[0] = 3\n",
    "print(a)"
   ]
  },
  {
   "cell_type": "code",
   "execution_count": 23,
   "id": "a0591f8f-33ef-4561-8c22-0c3cca0439c4",
   "metadata": {},
   "outputs": [
    {
     "name": "stdout",
     "output_type": "stream",
     "text": [
      "[1, 2]\n"
     ]
    }
   ],
   "source": [
    "a = [1, 2]\n",
    "b = [1, 2]\n",
    "a[0] = 3\n",
    "print(b)"
   ]
  },
  {
   "cell_type": "code",
   "execution_count": 24,
   "id": "e6fdc024-e798-42f9-b020-37e7656df8cc",
   "metadata": {},
   "outputs": [
    {
     "name": "stdout",
     "output_type": "stream",
     "text": [
      "[1, 2]\n"
     ]
    }
   ],
   "source": [
    "a = [1, 2]\n",
    "b = a\n",
    "a = [3, 4]\n",
    "print(b)"
   ]
  },
  {
   "cell_type": "code",
   "execution_count": 25,
   "id": "2eb35c58-c877-4f5a-b9b8-7ef205cbad7c",
   "metadata": {},
   "outputs": [
    {
     "name": "stdout",
     "output_type": "stream",
     "text": [
      "['x', 'b', 'c', 'd', 'e', 'f']\n"
     ]
    }
   ],
   "source": [
    "def replaceFirst(myList):\n",
    "    myList[0] = 'x'\n",
    "\n",
    "nowList = list('abcdef')\n",
    "replaceFirst(nowList)\n",
    "print(nowList)"
   ]
  },
  {
   "cell_type": "code",
   "execution_count": 27,
   "id": "a015686f-9d71-479c-8f47-15dac2940410",
   "metadata": {},
   "outputs": [
    {
     "name": "stdout",
     "output_type": "stream",
     "text": [
      "['a', 'b', 'c']\n"
     ]
    }
   ],
   "source": [
    "def reverseList(funcList):\n",
    "    funcList = funcList[::-1]\n",
    "    \n",
    "mainList = list('abc')\n",
    "reverseList(mainList)\n",
    "print(mainList)"
   ]
  },
  {
   "cell_type": "code",
   "execution_count": null,
   "id": "0ecd9b7f-71ad-47af-8563-214680dd22f3",
   "metadata": {},
   "outputs": [],
   "source": []
  },
  {
   "cell_type": "markdown",
   "id": "d42d503c-a635-4fe0-b7ed-f5a1349d5ad6",
   "metadata": {},
   "source": [
    "### Списки"
   ]
  },
  {
   "cell_type": "markdown",
   "id": "3a036ca9-15a9-4755-a691-9377d9f7621a",
   "metadata": {},
   "source": [
    "Аналог массива в других языках программирования"
   ]
  },
  {
   "cell_type": "markdown",
   "id": "d5a1f597-f590-4754-8fea-516ebea0b298",
   "metadata": {},
   "source": [
    "#### Sort, reverse и изменение списка"
   ]
  },
  {
   "cell_type": "code",
   "execution_count": 28,
   "id": "c5c1f110-4c4e-4d41-b505-a2d98fbf5888",
   "metadata": {},
   "outputs": [],
   "source": [
    "#reverse() - меняет значение по ссылке\n",
    "#myList[::-1]) - создает новый список\n",
    "#key = len"
   ]
  },
  {
   "cell_type": "markdown",
   "id": "7e6e1aa8-7f48-4658-a7dd-6b119d1ac50c",
   "metadata": {},
   "source": [
    "#### Enumerate"
   ]
  },
  {
   "cell_type": "markdown",
   "id": "bb78891c",
   "metadata": {},
   "source": [
    "If you need to work with not only the elements in the list, but also their position in the list, you can use a more complicated version of the for loop:"
   ]
  },
  {
   "cell_type": "code",
   "execution_count": null,
   "id": "fe7607cd-b52a-4253-a85c-64cf324ae8a1",
   "metadata": {},
   "outputs": [],
   "source": [
    "for i in range(0, len(my_list)): \n",
    "    print(my_list[i], \"is at\", i)"
   ]
  },
  {
   "cell_type": "markdown",
   "id": "27753d3f-f388-457d-b65c-8ed1935d7e25",
   "metadata": {},
   "source": [
    "The enumerate function provides a better way to get (index, value) tuples. The above code can be replaced with"
   ]
  },
  {
   "cell_type": "code",
   "execution_count": null,
   "id": "aafe194a-e33e-427e-a42c-1e1a6238f37e",
   "metadata": {},
   "outputs": [],
   "source": [
    "for index, value in enumerate(my_list): \n",
    "    print(value, \"is at\", index)"
   ]
  },
  {
   "cell_type": "markdown",
   "id": "54954c85-7739-4802-bce2-ac718d9bbac2",
   "metadata": {},
   "source": [
    "#### Многомерный список"
   ]
  },
  {
   "cell_type": "markdown",
   "id": "58601151-7274-47aa-a97c-8e36b0e7b162",
   "metadata": {},
   "source": [
    "Q: Create a two (multi) dimensional list?"
   ]
  },
  {
   "cell_type": "code",
   "execution_count": 1,
   "id": "08ddbccb",
   "metadata": {},
   "outputs": [
    {
     "name": "stdout",
     "output_type": "stream",
     "text": [
      "[[0, 0, 0], [0, 0, 0], [0, 0, 0]]\n"
     ]
    }
   ],
   "source": [
    "#wrong answer. why?\n",
    "two_dim_list = [[0]*3]*3\n",
    "print(two_dim_list)"
   ]
  },
  {
   "cell_type": "markdown",
   "id": "3c52b0f9",
   "metadata": {},
   "source": [
    "Caution: Do not attempt to make a list of lists by using a construction such as `[[None]*3]*2`. It will appear to work, but in fact every value in the outer list will be a reference to the same inner list.\n",
    "You can create a “two-dimensional” list with code like this:"
   ]
  },
  {
   "cell_type": "code",
   "execution_count": null,
   "id": "def8e520-a5f6-4096-a4ea-6d828570c53d",
   "metadata": {},
   "outputs": [],
   "source": [
    "x=[0]*3\n",
    "for i in range(0, 3):\n",
    "    x[i]=[0]*5"
   ]
  },
  {
   "cell_type": "markdown",
   "id": "f9f6d810-28fa-46df-9d1d-14846cd7e632",
   "metadata": {},
   "source": [
    "The initial assignment creates an array of zeros, then the loop replaces each zero with an array of zeros. - very interesting, so the solution above was incorrect"
   ]
  },
  {
   "cell_type": "markdown",
   "id": "560ac5e4-8e7e-4b16-b3e8-288ca04bccbc",
   "metadata": {},
   "source": [
    "### Словари"
   ]
  },
  {
   "cell_type": "markdown",
   "id": "d53ce52b",
   "metadata": {},
   "source": [
    "Not everything can be used as a key. Keys must be immutable. That’s a long discussion in itself, but the short form is this: strings, numbers, tuples, and booleans make good keys. Any object for which the components may change (such as lists, sets, and dictionaries) may not be used as keys.\n"
   ]
  },
  {
   "cell_type": "code",
   "execution_count": null,
   "id": "72374f46-7238-4f0a-b35b-ff2b5942b929",
   "metadata": {},
   "outputs": [],
   "source": []
  },
  {
   "cell_type": "markdown",
   "id": "3d30edac",
   "metadata": {},
   "source": [
    "phones.get(key) works like phones[key], except that if the key is not found, the value None is returned.<br>\n",
    "• phones.get(key, default_value) returns the value asso- ciated with key, or the default_value if there is no such key."
   ]
  },
  {
   "cell_type": "markdown",
   "id": "7a727566",
   "metadata": {},
   "source": [
    "Some cool stuff on dicts\n",
    "\n",
    "You can print both keys and values by looping over just the keys and, for each key, looking up the value:"
   ]
  },
  {
   "cell_type": "code",
   "execution_count": null,
   "id": "1de6c242-40eb-4750-b60a-0d3b04435e22",
   "metadata": {},
   "outputs": [],
   "source": [
    "for k in my_dict:\n",
    "print(k, \"->\", my_dict[k])"
   ]
  },
  {
   "cell_type": "markdown",
   "id": "947ba923-94b5-4887-ac8f-639a0933894f",
   "metadata": {},
   "source": [
    "Dictionaries have an additional method, items. This method appears to return a list of (key, value) tuples:"
   ]
  },
  {
   "cell_type": "code",
   "execution_count": null,
   "id": "2ea548de-d1f5-457a-a9a8-1e6bc84bdd8c",
   "metadata": {},
   "outputs": [],
   "source": [
    "for t in my_dict.items():\n",
    "    print(t) # prints (key, value) tuples"
   ]
  },
  {
   "cell_type": "markdown",
   "id": "9dc1a96b-bf88-46e1-9644-a9f4a9e32203",
   "metadata": {},
   "source": [
    "In reality, what items returns is not a list, but is a dynamic view of the dictionary items. Each item returned is in fact a (key, value) tuple, but if you change the contents of the dictionary while looping through it, you could get some unexpected and unwelcome results.\n",
    "Tuples can be unpacked directly in the for loop. The parentheses around the tuple may be omitted."
   ]
  },
  {
   "cell_type": "code",
   "execution_count": null,
   "id": "2fc62cea-98df-4bfb-95ae-b9faa2085b8c",
   "metadata": {},
   "outputs": [],
   "source": [
    "for k, v in my_dict.items(): \n",
    "    print(k, \"is\", v)"
   ]
  },
  {
   "cell_type": "markdown",
   "id": "5baf33a7",
   "metadata": {},
   "source": [
    "When you convert from a dict to any of the other types,\n",
    "you get only the keys, not the values.<br>\n",
    "• You can convert a list, set, or tuple to a dict only if the elements are grouped in twos, for example, a list of 2-tuples (tuples with two elements).<br>\n",
    "• Sets have no intrinsic ordering, so converting to or from a set does not necessarily preserve the order of the elements.\n"
   ]
  },
  {
   "cell_type": "markdown",
   "id": "9535cd36-5268-4eb3-88bb-53b9e660d117",
   "metadata": {},
   "source": []
  },
  {
   "cell_type": "markdown",
   "id": "c0426dcc",
   "metadata": {},
   "source": [
    "### Кортежи\n",
    "\n",
    "Tuples are useful for keeping a small number of values together as a single unit. For example, you might want to write a function that returns the x-y coordinates of an object, or the largest and smallest values in a list.\n",
    "The built-in function divmod returns a tuple. Seven goes into 20 twice, with six left over (20//7==2and20%7==6). If you want both these values, you can use divmod(20, 7), which returns the tuple (2, 6)."
   ]
  },
  {
   "cell_type": "markdown",
   "id": "2adf0fad",
   "metadata": {},
   "source": [
    "A zero-tuple is written as (), while a one-tuple is written by putting a comma after the single value, like this: (3,). These forms probably aren’t very useful in general. Называется синглтон. Обратите внимание:"
   ]
  },
  {
   "cell_type": "code",
   "execution_count": 19,
   "id": "18ff8857-d8ec-4b79-a0e1-5bf9d3f9a5e1",
   "metadata": {},
   "outputs": [
    {
     "name": "stdout",
     "output_type": "stream",
     "text": [
      "3\n",
      "(3,)\n"
     ]
    }
   ],
   "source": [
    "print((1,2,3)[2])\n",
    "print((1,2,3)[2:])"
   ]
  },
  {
   "cell_type": "code",
   "execution_count": 17,
   "id": "5ba19df2-64c2-467a-9850-44264cb7ce19",
   "metadata": {},
   "outputs": [
    {
     "name": "stdout",
     "output_type": "stream",
     "text": [
      "(1, 2, 3, 4, 5, 6)\n"
     ]
    }
   ],
   "source": [
    "a = (1, 2, 3)\n",
    "b = (4, 5, 6)\n",
    "print(a + b)"
   ]
  },
  {
   "cell_type": "code",
   "execution_count": 18,
   "id": "a91a8a0d-8080-43f6-9a01-73d2cad6077a",
   "metadata": {},
   "outputs": [
    {
     "name": "stdout",
     "output_type": "stream",
     "text": [
      "(1, 2, 3, 1, 2, 3)\n"
     ]
    }
   ],
   "source": [
    "print(a*2)"
   ]
  },
  {
   "cell_type": "markdown",
   "id": "d690ca09-a4eb-45ab-9608-1aac01dff916",
   "metadata": {},
   "source": [
    "### Распаковка"
   ]
  },
  {
   "cell_type": "markdown",
   "id": "c1f80047",
   "metadata": {},
   "source": [
    "a,b,c=x - tuple unpacking\n",
    "\n",
    "Чаще в контексте кортежей. Распаковка, строго говоря, это процесс присваивания, в котором кортеж, составленный из отдельных переменных находится в левой части выражения. Справа должен находиться кортеж такой же длины"
   ]
  },
  {
   "cell_type": "markdown",
   "id": "2ce7c28d-356f-4d8f-849e-7cf456b4791e",
   "metadata": {},
   "source": [
    "Создание кортежа - упаковка. Если в одном выражении присваивания происходит и упаковка, и распаковка, то сначала выполняется упаковка, затем распаковка."
   ]
  },
  {
   "cell_type": "code",
   "execution_count": null,
   "id": "44e57997-1776-4402-a403-a8b5c1ed0bee",
   "metadata": {},
   "outputs": [],
   "source": [
    "a, b, c = 1, 2, 3\n",
    "a, b, c = c, b, a\n",
    "print(a, b, c)"
   ]
  },
  {
   "cell_type": "markdown",
   "id": "8344fd24-6394-4993-ba45-5f1a372775c3",
   "metadata": {},
   "source": [
    "(a, b, c) = (c, b, a) != a = c, b = b, c = a"
   ]
  },
  {
   "cell_type": "markdown",
   "id": "64a2edca-8b27-4a63-a5b7-93fd7684652a",
   "metadata": {},
   "source": [
    "### Множество"
   ]
  },
  {
   "cell_type": "markdown",
   "id": "4e569a2a",
   "metadata": {},
   "source": [
    "A set is a collection of values, not necessarily all the same type. A set literal is written as braces around a comma-separated list. For example:\n",
    "s = {10, \"ten\", \"X\"}"
   ]
  },
  {
   "cell_type": "code",
   "execution_count": null,
   "id": "884cf99a",
   "metadata": {},
   "outputs": [],
   "source": []
  },
  {
   "cell_type": "code",
   "execution_count": null,
   "id": "09916523-56c2-4429-8a15-dfc9566851bc",
   "metadata": {},
   "outputs": [],
   "source": []
  },
  {
   "cell_type": "markdown",
   "id": "133b6d73-7475-4439-be66-cd0d55ce0a43",
   "metadata": {},
   "source": [
    "## Переменные и параметры"
   ]
  },
  {
   "cell_type": "markdown",
   "id": "cd65c3f0",
   "metadata": {},
   "source": [
    "### Del\n",
    "\n",
    "Is there any destructor in Python?\n",
    "Ans. Destructors are called when an object gets destroyed. Python has a garbage collector that handles memory management automatically. The __del__() method is known as a destructor method in Python. It is called when all references to the object have been deleted.\n",
    "\n",
    "How does Python Garbage collector works?\n",
    "Ans. Python deletes unwanted objects (built-in types or class instances) automatically to free the memory space. Python’s garbage collector runs during program execution and is triggered when an object’s reference count reaches zero. An object’s reference count changes as the number of aliases that points changes. An object’s reference count increases when it is assigned a new name or placed in a container (list, tuple, or dictionary). The object’s reference count decreases when it’s deleted with del, its reference is reassigned, or its reference goes out of scope. When an object’s reference count reaches zero, Python collects it automatically. You can also call del () to delete the unused object."
   ]
  },
  {
   "cell_type": "markdown",
   "id": "d2e0b886",
   "metadata": {},
   "source": [
    "“What is the difference between a Lambda and Def?\n",
    "Ans. A Def is a function that can contain multiple expressions whereas a Lambda can contain only one single expression. A Def method can contain return statements whereas a Lambda cannot contain return statements. A Lambda can be used inside lists and dictionaries.”"
   ]
  },
  {
   "cell_type": "markdown",
   "id": "5efaa2a4",
   "metadata": {},
   "source": [
    "del variable<br>\n",
    "• Causes the variable to cease to exist (become unbound)."
   ]
  },
  {
   "cell_type": "markdown",
   "id": "41268c96",
   "metadata": {
    "tags": []
   },
   "source": [
    "### Область видимости\n",
    "\n",
    "рассказать про non-local\n",
    "\n",
    "Также бывают и локальные функции"
   ]
  },
  {
   "cell_type": "markdown",
   "id": "751999b0",
   "metadata": {},
   "source": [
    "The scope of a name is the part of the program in which the name has meaning and can be used. Python’s scope rules are unusual; they follow an “LEGB rule”: Local, Enclosed, Global, Built-in. To understand this rule, it helps to remember that (1) variables are defined by being assigned a value and (2) functions/ methods may be nested within other functions/methods."
   ]
  },
  {
   "cell_type": "markdown",
   "id": "ade74720-3255-4be9-892d-728b5133ff75",
   "metadata": {},
   "source": [
    "Как только функция заканчивает работу, локальная переменная уничтожается"
   ]
  },
  {
   "cell_type": "code",
   "execution_count": 15,
   "id": "ec485852-7985-49cc-9412-6e5988ab3897",
   "metadata": {},
   "outputs": [
    {
     "ename": "UnboundLocalError",
     "evalue": "local variable 'a' referenced before assignment",
     "output_type": "error",
     "traceback": [
      "\u001b[0;31m---------------------------------------------------------------------------\u001b[0m",
      "\u001b[0;31mUnboundLocalError\u001b[0m                         Traceback (most recent call last)",
      "Input \u001b[0;32mIn [15]\u001b[0m, in \u001b[0;36m<cell line: 7>\u001b[0;34m()\u001b[0m\n\u001b[1;32m      5\u001b[0m         a \u001b[38;5;241m=\u001b[39m \u001b[38;5;241m0\u001b[39m\n\u001b[1;32m      6\u001b[0m a \u001b[38;5;241m=\u001b[39m \u001b[38;5;241m1\u001b[39m\n\u001b[0;32m----> 7\u001b[0m \u001b[43mf\u001b[49m\u001b[43m(\u001b[49m\u001b[43m)\u001b[49m\n",
      "Input \u001b[0;32mIn [15]\u001b[0m, in \u001b[0;36mf\u001b[0;34m()\u001b[0m\n\u001b[1;32m      2\u001b[0m \u001b[38;5;28;01mdef\u001b[39;00m \u001b[38;5;21mf\u001b[39m():\n\u001b[0;32m----> 3\u001b[0m     \u001b[38;5;28mprint\u001b[39m(\u001b[43ma\u001b[49m)\n\u001b[1;32m      4\u001b[0m     \u001b[38;5;28;01mif\u001b[39;00m \u001b[38;5;28;01mFalse\u001b[39;00m:\n\u001b[1;32m      5\u001b[0m         a \u001b[38;5;241m=\u001b[39m \u001b[38;5;241m0\u001b[39m\n",
      "\u001b[0;31mUnboundLocalError\u001b[0m: local variable 'a' referenced before assignment"
     ]
    }
   ],
   "source": [
    "#this one is pretty good example\n",
    "def f():\n",
    "    print(a)\n",
    "    if False:\n",
    "        a = 0\n",
    "a = 1\n",
    "f()"
   ]
  },
  {
   "cell_type": "code",
   "execution_count": 16,
   "id": "8c7b5d7d-9d5a-4fa4-b6d6-1e16966d5bb9",
   "metadata": {},
   "outputs": [
    {
     "name": "stdout",
     "output_type": "stream",
     "text": [
      "1 1\n"
     ]
    }
   ],
   "source": [
    "def f():\n",
    "    global a #дает доступ к глобальным функциям, даже если не были определены\n",
    "    a = 1\n",
    "    print(a, end=' ')\n",
    "a = 0\n",
    "f()\n",
    "print(a)"
   ]
  },
  {
   "cell_type": "markdown",
   "id": "d5a3078c-3937-42d3-a23b-d2f6ed5706ad",
   "metadata": {},
   "source": [
    "Использование глобальных переменных внутри функций - очень плохо!"
   ]
  },
  {
   "cell_type": "code",
   "execution_count": null,
   "id": "e0e8002c-50e8-4f26-9142-b71ef8d367f2",
   "metadata": {},
   "outputs": [],
   "source": []
  },
  {
   "cell_type": "code",
   "execution_count": null,
   "id": "eeb8625e-69f7-4366-a8d1-e3811eab9306",
   "metadata": {},
   "outputs": [],
   "source": []
  },
  {
   "cell_type": "markdown",
   "id": "264f42ff",
   "metadata": {},
   "source": [
    "### Распаковка\n",
    "\n",
    "“Create a tuple of five elements and unpack it in five different variables.”"
   ]
  },
  {
   "cell_type": "markdown",
   "id": "f824272a",
   "metadata": {},
   "source": [
    "“Write a program to create two tuples and swap them."
   ]
  },
  {
   "cell_type": "code",
   "execution_count": null,
   "id": "7e41c6e4",
   "metadata": {},
   "outputs": [],
   "source": [
    "tuple1 = (10, 20)\n",
    "tuple2 = (100, 200)\n",
    "tuple1, tuple2 = tuple2, tuple1"
   ]
  },
  {
   "cell_type": "markdown",
   "id": "8f6f033b",
   "metadata": {},
   "source": [
    "### args/kwargs"
   ]
  },
  {
   "cell_type": "markdown",
   "id": "ecf88c7b-ceae-4ef6-a36a-36f78e9f2a30",
   "metadata": {},
   "source": [
    "Пример функции, которая принимает неограниченное количество параметров?"
   ]
  },
  {
   "cell_type": "markdown",
   "id": "1cedd8ed-011e-4708-be6f-5c6afc63165a",
   "metadata": {},
   "source": [
    "Что происходит \"под капотом\"? Магии нет, аргументы упаковываются в список, который затем распаковывается. args - просто соглашение, можно назвать как угодно"
   ]
  },
  {
   "cell_type": "markdown",
   "id": "9fadb925",
   "metadata": {},
   "source": [
    "“Create a function fun() such that it can accept variable length of argument and print them.” - good one"
   ]
  },
  {
   "cell_type": "code",
   "execution_count": null,
   "id": "2bca38cd",
   "metadata": {},
   "outputs": [],
   "source": [
    "def fun(*args):\n",
    "    for i in args:\n",
    "    print(i)"
   ]
  },
  {
   "cell_type": "markdown",
   "id": "1b2be1f0",
   "metadata": {},
   "source": [
    "“Create two list and iterate both lists simultaneously such that list1 should display item in the original order and list2 in the reverse order."
   ]
  },
  {
   "cell_type": "code",
   "execution_count": null,
   "id": "545ac6b0",
   "metadata": {},
   "outputs": [],
   "source": [
    "list1 = [10, 20, 30, 40]\n",
    "list2 = [100, 200, 300, 400]\n",
    "for x, y in zip(list1, list2[::-1]):\n",
    "    print(x, y)"
   ]
  },
  {
   "cell_type": "markdown",
   "id": "bb2d6328-b4a7-400f-bfb4-0d9e53ffa210",
   "metadata": {},
   "source": [
    "### pass"
   ]
  },
  {
   "cell_type": "markdown",
   "id": "ea85b840",
   "metadata": {
    "tags": []
   },
   "source": [
    "“How to create a class without any variable and method and a method without the body? - good one, on pass"
   ]
  },
  {
   "cell_type": "code",
   "execution_count": null,
   "id": "0acb4bda",
   "metadata": {},
   "outputs": [],
   "source": [
    "class student:\n",
    "    pass\n",
    "def fun():\n",
    "    pass"
   ]
  },
  {
   "cell_type": "markdown",
   "id": "a1963f46",
   "metadata": {},
   "source": [
    "• The pass statement does nothing. It is occasionally useful when the syntax requires the presence of a statement, but there is nothing in particular to be done.\n",
    "• An ellipsis (three dots, ...) is the same as pass."
   ]
  },
  {
   "cell_type": "markdown",
   "id": "8ac518c5",
   "metadata": {},
   "source": [
    "### Множественное присваивание\n",
    "\n",
    "var1, ... , varN = expr1, ... , exprN"
   ]
  },
  {
   "cell_type": "code",
   "execution_count": null,
   "id": "c0e1d56e-3d56-4546-80d8-02a4667e7f34",
   "metadata": {},
   "outputs": [],
   "source": []
  },
  {
   "cell_type": "markdown",
   "id": "03b6f4ce",
   "metadata": {},
   "source": [
    "### List comprehension"
   ]
  },
  {
   "cell_type": "markdown",
   "id": "dfe42922",
   "metadata": {},
   "source": [
    "Пока лишь беглое знакомство, более детально вернемся в разговоре про функциональное программирование"
   ]
  },
  {
   "cell_type": "code",
   "execution_count": 1,
   "id": "7933e320-4f99-43ff-ab43-1518beb9bf5c",
   "metadata": {},
   "outputs": [
    {
     "data": {
      "text/plain": [
       "['Hello', 'World?', 'World!', 'Not']"
      ]
     },
     "execution_count": 1,
     "metadata": {},
     "output_type": "execute_result"
    }
   ],
   "source": [
    "x = [word.capitalize()\n",
    "     for line in (\"hello world?\", \"world!\", \"or not\")\n",
    "     for word in line.split()\n",
    "if not word.startswith(\"or\")]\n",
    "\n",
    "x\n",
    "['Hello', 'World?', 'World!', 'Not']"
   ]
  },
  {
   "cell_type": "markdown",
   "id": "98d0dd4b",
   "metadata": {},
   "source": [
    "lists built through list comprehension can’t rel4 on the program’s state."
   ]
  },
  {
   "cell_type": "code",
   "execution_count": null,
   "id": "ad1513a0",
   "metadata": {},
   "outputs": [],
   "source": []
  },
  {
   "cell_type": "markdown",
   "id": "da561f87",
   "metadata": {},
   "source": [
    "### Shallow and deep copies"
   ]
  },
  {
   "cell_type": "code",
   "execution_count": null,
   "id": "1d44dd9e-1980-45ee-bad2-4b13f0495ab2",
   "metadata": {},
   "outputs": [],
   "source": [
    "'abc'[1:100] #интересно"
   ]
  },
  {
   "cell_type": "markdown",
   "id": "dec38dd1",
   "metadata": {},
   "source": [
    "## Итераторы и генераторы"
   ]
  },
  {
   "cell_type": "markdown",
   "id": "791d7e1e-64b4-4ff5-afe5-86be1d30929d",
   "metadata": {},
   "source": [
    "iterable - это объекты, к которым можно получить последовательный доступ. Например, range"
   ]
  },
  {
   "cell_type": "code",
   "execution_count": 21,
   "id": "b8af629e-bfe4-4f5b-928d-519e04dc1ec9",
   "metadata": {},
   "outputs": [
    {
     "name": "stdout",
     "output_type": "stream",
     "text": [
      "(0, 1, 2, 3, 4, 5, 6, 7, 8, 9)\n"
     ]
    }
   ],
   "source": [
    "print(tuple(range(10)))"
   ]
  },
  {
   "cell_type": "code",
   "execution_count": null,
   "id": "36737cfe-9703-4b55-b1ef-a9d1eab22459",
   "metadata": {},
   "outputs": [],
   "source": []
  },
  {
   "cell_type": "code",
   "execution_count": null,
   "id": "1189ea36-3b00-4fc7-b124-a62a2011881a",
   "metadata": {},
   "outputs": [],
   "source": []
  },
  {
   "cell_type": "markdown",
   "id": "7feec733-9f77-4c10-a257-6044d8520c99",
   "metadata": {},
   "source": [
    "## ООП"
   ]
  },
  {
   "cell_type": "markdown",
   "id": "5c93863e",
   "metadata": {},
   "source": [
    "classes - self and super"
   ]
  },
  {
   "cell_type": "markdown",
   "id": "7b4635f6",
   "metadata": {},
   "source": [
    "How to call the base class inherited method in the child class?\n",
    "Ans. Using super()"
   ]
  },
  {
   "cell_type": "markdown",
   "id": "f123a344-0333-47f0-aeff-b317b14ff149",
   "metadata": {},
   "source": [
    "## Функциональное программирование.\n",
    "\n",
    "Работаем в основном с неизменяемыми типами данных.\n",
    "Также, что отсюда идет рекомендация не работать с глобальными переменными."
   ]
  },
  {
   "cell_type": "markdown",
   "id": "b7dad83d-5e3d-4488-90c8-51335dcf1af3",
   "metadata": {},
   "source": [
    "### Немного про функции"
   ]
  },
  {
   "cell_type": "markdown",
   "id": "4b264bdc-2443-48e1-b917-c499b4980794",
   "metadata": {},
   "source": [
    "Рекурсия"
   ]
  },
  {
   "cell_type": "markdown",
   "id": "49b696e4",
   "metadata": {
    "tags": []
   },
   "source": [
    "“What is frozenset() in Python?”"
   ]
  },
  {
   "cell_type": "markdown",
   "id": "20d56ecd",
   "metadata": {},
   "source": [
    "Раз уж заговорили про функции, можно про то, что функция возвращает. Есть дефолтный возврат - если не прописываем return, это не значит, что ничего не возвращаем. Вопрос - что вернет следующая функция.\n",
    "\n",
    "Every function returns a value. If you don’t specify a return value, the function will return None. (This is an actual legal value, of type NoneType, so you can assign it to a variable, or ask if a variable is equal to it.)\n",
    "\n",
    "A function may be defined within another function, and is then local to the containing function. - Local function, actually"
   ]
  },
  {
   "cell_type": "code",
   "execution_count": null,
   "id": "9200d54e-a488-4d80-bbac-bea6b02c33f8",
   "metadata": {},
   "outputs": [],
   "source": [
    "print(list(map(len , ['red', 'green', 'blue'])))"
   ]
  },
  {
   "cell_type": "code",
   "execution_count": null,
   "id": "9cd415ef-f20b-4d3a-bf14-ea7437b3bfd4",
   "metadata": {},
   "outputs": [],
   "source": [
    "numList = list(map(int, input().split()))"
   ]
  },
  {
   "cell_type": "code",
   "execution_count": null,
   "id": "1f1bbb43-e553-4d95-9897-85309615ac3f",
   "metadata": {},
   "outputs": [],
   "source": []
  },
  {
   "cell_type": "markdown",
   "id": "58810f1a",
   "metadata": {},
   "source": [
    "“What is the use of zip () in python?”"
   ]
  },
  {
   "cell_type": "markdown",
   "id": "508b4838",
   "metadata": {
    "tags": []
   },
   "source": [
    "lambda functions"
   ]
  },
  {
   "cell_type": "markdown",
   "id": "dbf62de0-6eec-4b46-8eb1-146b143fe09b",
   "metadata": {},
   "source": [
    "Например, если функции так просты, что их не хочется оформлять стандартным образом"
   ]
  },
  {
   "cell_type": "markdown",
   "id": "88cad441-72e0-456d-b041-c620ef9ed28b",
   "metadata": {},
   "source": [
    "Аргументов может быть сколько угодно, в этом случае их надо перечислить через запятую. \n",
    "\n",
    "В основном применение - с map и sorted"
   ]
  },
  {
   "cell_type": "code",
   "execution_count": null,
   "id": "c9f1891a-08e3-4938-86cb-41cb52bd7329",
   "metadata": {},
   "outputs": [],
   "source": []
  },
  {
   "cell_type": "markdown",
   "id": "d1e6b1b8-ea44-45c7-ac23-c05e5584174b",
   "metadata": {},
   "source": [
    "Лямбда функция - это объект, как и все в Питоне. Поэтому теоретически мы можем даже \"исправить\" отсутствие имени:"
   ]
  },
  {
   "cell_type": "code",
   "execution_count": null,
   "id": "eeeea4be-15e2-44da-9df8-0e1f7cb28fa3",
   "metadata": {},
   "outputs": [],
   "source": [
    "lambdaSqr = lambda x : x**2"
   ]
  },
  {
   "cell_type": "markdown",
   "id": "efa40e91-5a8e-489c-89ae-f18ef1344fdf",
   "metadata": {},
   "source": [
    "Изощряться так обычно нет нужды, но может полезно для понимания лямбда-функций"
   ]
  },
  {
   "cell_type": "code",
   "execution_count": null,
   "id": "1f79ebe6-1c70-417f-8dda-c0347d0ca590",
   "metadata": {},
   "outputs": [],
   "source": []
  },
  {
   "cell_type": "markdown",
   "id": "2873f074",
   "metadata": {
    "tags": []
   },
   "source": [
    "decorators"
   ]
  },
  {
   "cell_type": "code",
   "execution_count": null,
   "id": "0cb49ccd",
   "metadata": {},
   "outputs": [],
   "source": []
  },
  {
   "cell_type": "markdown",
   "id": "5892ea81",
   "metadata": {},
   "source": [
    "## F-строки"
   ]
  },
  {
   "cell_type": "code",
   "execution_count": null,
   "id": "78c14553",
   "metadata": {},
   "outputs": [],
   "source": []
  },
  {
   "cell_type": "code",
   "execution_count": null,
   "id": "a89c314e",
   "metadata": {},
   "outputs": [],
   "source": []
  },
  {
   "cell_type": "markdown",
   "id": "807afff0",
   "metadata": {},
   "source": [
    "idiom if name == main"
   ]
  },
  {
   "cell_type": "markdown",
   "id": "1d5ae332",
   "metadata": {},
   "source": [
    "“What is _____name____ in Python?\n",
    "Ans.Python has no inbuilt main function to start the execution of the program. Python has special variable __name__; it provides the functionality of the main function"
   ]
  },
  {
   "cell_type": "markdown",
   "id": "1157876d",
   "metadata": {},
   "source": [
    "“What is the need for File Handling?\n",
    "\n",
    "Может быть лучше в секции про специализированные библиотеки.\n",
    "\n",
    "Ans. Sometimes, data may be large enough and we need to store for future reference. Then we use the local file system to store data so that it can be accessed in the future. Just like in C and other programming languages you can create, read, or write files.\n",
    "Syntax:\n",
    "file_object = open(file_name [, access_mode][, buffering])”\n",
    "\n",
    "“Explain the File access mode.” especially r+ and w+ (but do you need this at all?)"
   ]
  },
  {
   "cell_type": "code",
   "execution_count": null,
   "id": "77ccffe4",
   "metadata": {},
   "outputs": [],
   "source": []
  }
 ],
 "metadata": {
  "kernelspec": {
   "display_name": "Python 3 (ipykernel)",
   "language": "python",
   "name": "python3"
  },
  "language_info": {
   "codemirror_mode": {
    "name": "ipython",
    "version": 3
   },
   "file_extension": ".py",
   "mimetype": "text/x-python",
   "name": "python",
   "nbconvert_exporter": "python",
   "pygments_lexer": "ipython3",
   "version": "3.7.12"
  }
 },
 "nbformat": 4,
 "nbformat_minor": 5
}
