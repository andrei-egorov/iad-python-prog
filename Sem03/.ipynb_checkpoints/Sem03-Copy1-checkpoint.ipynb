{
 "cells": [
  {
   "cell_type": "markdown",
   "id": "41268c96",
   "metadata": {},
   "source": [
    "local and global variables - and non-local\n",
    "\n",
    "dictionaries and updates of dictionaries\n",
    "\n",
    "что может оператор * - что еще за repetition operator?\n",
    "\n",
    "The * symbol is commonly used to indicate multiplication, however, it becomes the repetition operator when the operand on the left side of the * is a tuple. The repetition operator duplicates a tuple and links all of them together. Even though tuples are immutable, this can be extended to them. Просто отметить, что в этом контексте это называется sring repetition operator."
   ]
  },
  {
   "cell_type": "code",
   "execution_count": 1,
   "id": "3301231e",
   "metadata": {},
   "outputs": [
    {
     "data": {
      "text/plain": [
       "'22'"
      ]
     },
     "execution_count": 1,
     "metadata": {},
     "output_type": "execute_result"
    }
   ],
   "source": [
    "\"2\" * 2"
   ]
  },
  {
   "cell_type": "markdown",
   "id": "58810f1a",
   "metadata": {},
   "source": [
    "“What is the use of zip () in python ?”\n",
    "\n",
    "“Create a two (multi) dimensional list?"
   ]
  },
  {
   "cell_type": "code",
   "execution_count": 2,
   "id": "08ddbccb",
   "metadata": {},
   "outputs": [
    {
     "name": "stdout",
     "output_type": "stream",
     "text": [
      "[[0, 0, 0], [0, 0, 0], [0, 0, 0]]\n"
     ]
    }
   ],
   "source": [
    "two_dim_list = [[0]*3]*3\n",
    "print(two_dim_list)"
   ]
  },
  {
   "cell_type": "markdown",
   "id": "49b696e4",
   "metadata": {},
   "source": [
    "“What is frozenset() in Python?”"
   ]
  },
  {
   "cell_type": "markdown",
   "id": "1d5ae332",
   "metadata": {},
   "source": [
    "“What is _____name____ in Python?\n",
    "Ans.Python has no inbuilt main function to start the execution of the program. Python has special variable __name__; it provides the functionality of the main function"
   ]
  },
  {
   "cell_type": "markdown",
   "id": "26a68bfc",
   "metadata": {},
   "source": [
    "bitwise operators vs logical operators\n",
    "\n",
    "membership operators\n",
    "\n",
    "“Identity operators: Identity operators compare the memory locations of two objects.”\n",
    "\n",
    "Вообще, неплохо бы знать все операторы"
   ]
  },
  {
   "cell_type": "markdown",
   "id": "7b4635f6",
   "metadata": {},
   "source": [
    "How to call the base class inherited method in the child class?\n",
    "Ans. Using super()"
   ]
  },
  {
   "cell_type": "markdown",
   "id": "cd65c3f0",
   "metadata": {},
   "source": [
    "Is there any destructor in Python?\n",
    "Ans. Destructors are called when an object gets destroyed. Python has a garbage collector that handles memory management automatically. The __del__() method is known as a destructor method in Python. It is called when all references to the object have been deleted.\n",
    "\n",
    "How does Python Garbage collector works?\n",
    "Ans. Python deletes unwanted objects (built-in types or class instances) automatically to free the memory space. Python’s garbage collector runs during program execution and is triggered when an object’s reference count reaches zero. An object’s reference count changes as the number of aliases that points changes. An object’s reference count increases when it is assigned a new name or placed in a container (list, tuple, or dictionary). The object’s reference count decreases when it’s deleted with del, its reference is reassigned, or its reference goes out of scope. When an object’s reference count reaches zero, Python collects it automatically. You can also call del () to delete the unused object."
   ]
  },
  {
   "cell_type": "markdown",
   "id": "9b7cdc17",
   "metadata": {},
   "source": [
    "“What is the difference between the input() method and the raw_input() method?\n",
    "Ans. Theraw_input() method returns string values whereas the input() method returns integer values. The input()method was used in Python 2.x versions whereas Python 3.x and later versions use theraw_input() method. However, the input() method has been replaced by the raw_input() method in Python 3.x.”"
   ]
  },
  {
   "cell_type": "markdown",
   "id": "d2e0b886",
   "metadata": {},
   "source": [
    "“What is the difference between a Lambda and Def?\n",
    "Ans. A Def is a function that can contain multiple expressions whereas a Lambda can contain only one single expression. A Def method can contain return statements whereas a Lambda cannot contain return statements. A Lambda can be used inside lists and dictionaries.”"
   ]
  },
  {
   "cell_type": "markdown",
   "id": "1157876d",
   "metadata": {},
   "source": [
    "“What is the need for File Handling?\n",
    "Ans. Sometimes, data may be large enough and we need to store for future reference. Then we use the local file system to store data so that it can be accessed in the future. Just like in C and other programming languages you can create, read, or write files.\n",
    "Syntax:\n",
    "file_object = open(file_name [, access_mode][, buffering])”\n",
    "\n",
    "“Explain the File access mode.” especially r+ and w+ (but do you need this at all?)"
   ]
  },
  {
   "cell_type": "markdown",
   "id": "264f42ff",
   "metadata": {},
   "source": [
    "“Create a tuple of five elements and unpack it in five different variables.”"
   ]
  },
  {
   "cell_type": "markdown",
   "id": "f824272a",
   "metadata": {},
   "source": [
    "“Write a program to create two tuples and swap them."
   ]
  },
  {
   "cell_type": "code",
   "execution_count": null,
   "id": "7e41c6e4",
   "metadata": {},
   "outputs": [],
   "source": [
    "tuple1 = (10, 20)\n",
    "tuple2 = (100, 200)\n",
    "tuple1, tuple2 = tuple2, tuple1"
   ]
  },
  {
   "cell_type": "markdown",
   "id": "8f6f033b",
   "metadata": {},
   "source": [
    "args/kwargs"
   ]
  },
  {
   "cell_type": "markdown",
   "id": "9fadb925",
   "metadata": {},
   "source": [
    "“Create a function fun() such that it can accept variable length of argument and print them.” - good one"
   ]
  },
  {
   "cell_type": "code",
   "execution_count": null,
   "id": "2bca38cd",
   "metadata": {},
   "outputs": [],
   "source": [
    "def fun(*args):\n",
    "    for i in args:\n",
    "    print(i)"
   ]
  },
  {
   "cell_type": "markdown",
   "id": "1b2be1f0",
   "metadata": {},
   "source": [
    "“Create two list and iterate both lists simultaneously such that list1 should display item in the original order and list2 in the reverse order."
   ]
  },
  {
   "cell_type": "code",
   "execution_count": null,
   "id": "545ac6b0",
   "metadata": {},
   "outputs": [],
   "source": [
    "list1 = [10, 20, 30, 40]\n",
    "list2 = [100, 200, 300, 400]\n",
    "for x, y in zip(list1, list2[::-1]):\n",
    "    print(x, y)"
   ]
  },
  {
   "cell_type": "markdown",
   "id": "a1963f46",
   "metadata": {},
   "source": [
    "pass\n",
    "• The pass statement does nothing. It is occasionally useful when the syntax requires the presence of a statement, but there is nothing in particular to be done.\n",
    "• An ellipsis (three dots, ...) is the same as pass."
   ]
  },
  {
   "cell_type": "markdown",
   "id": "ea85b840",
   "metadata": {},
   "source": [
    "“How to create a class without any variable and method and a method without the body? - good one, on pass"
   ]
  },
  {
   "cell_type": "code",
   "execution_count": null,
   "id": "0acb4bda",
   "metadata": {},
   "outputs": [],
   "source": [
    "class student:\n",
    "    pass\n",
    "def fun():\n",
    "    pass"
   ]
  },
  {
   "cell_type": "code",
   "execution_count": null,
   "id": "6360be26",
   "metadata": {},
   "outputs": [],
   "source": []
  },
  {
   "cell_type": "markdown",
   "id": "8ac518c5",
   "metadata": {},
   "source": [
    "Множественное присваивание\n",
    "var1, ... , varN = expr1, ... , exprN"
   ]
  },
  {
   "cell_type": "markdown",
   "id": "03083995",
   "metadata": {},
   "source": [
    "Break and continue and else\n",
    "\n",
    "break\n",
    "• If break is executed within a while or for loop, it\n",
    "causes the loop to exit.\n",
    "• If break is executed within nested loops, only the in- nermost loop is exited.\n",
    "• If the loop exits because of a break, a following else clause will not be executed. (Possibly unique to Python, loops may have an else clause.)\n",
    "• continue\n",
    "• If continue is executed within a while or for loop, any remaining statements within the loop are skipped over, and control returns to the top of the loop (to the test in a while loop, or the next value in a for loop).\n",
    "• continue within nested loops applies to the innermost loop."
   ]
  },
  {
   "cell_type": "markdown",
   "id": "1746cfd1",
   "metadata": {},
   "source": [
    " • else:\n",
    "• Both a while loop and a for loop may be followed by an else clause. The code in the else clause is executed when the loop exits normally, but is not executed if the loop terminates as the result of a break or a return.\n"
   ]
  },
  {
   "cell_type": "markdown",
   "id": "5efaa2a4",
   "metadata": {},
   "source": [
    "• del variable\n",
    "• Causes the variable to cease to exist (become unbound)."
   ]
  },
  {
   "cell_type": "markdown",
   "id": "5892ea81",
   "metadata": {},
   "source": [
    "F-STRINGS"
   ]
  },
  {
   "cell_type": "markdown",
   "id": "21cbaa5f",
   "metadata": {},
   "source": [
    "Bitwise operators vs logical operators"
   ]
  },
  {
   "cell_type": "markdown",
   "id": "03b6f4ce",
   "metadata": {},
   "source": [
    "LIST COMPREHENSIONS"
   ]
  },
  {
   "cell_type": "markdown",
   "id": "6b5c74fc",
   "metadata": {},
   "source": [
    "try, except, finally, raise\n",
    "\n",
    "raise\n",
    "• raise Exception raises the named Exception, which might be handled later by a try-except statement. Python provides a large number of exception types, or you can define your own by subclassing Exception.\n",
    "• raise Exception(expression) raises the named Exception, and uses the result of the expression as a message in the exception.\n",
    "• raise by itself in an except clause re-raises the same exception. - откуда вообще берутся исключения"
   ]
  },
  {
   "cell_type": "markdown",
   "id": "dec38dd1",
   "metadata": {},
   "source": [
    "iterators/generators"
   ]
  },
  {
   "cell_type": "markdown",
   "id": "508b4838",
   "metadata": {},
   "source": [
    "lambda functions"
   ]
  },
  {
   "cell_type": "markdown",
   "id": "2873f074",
   "metadata": {},
   "source": [
    "decorators"
   ]
  },
  {
   "cell_type": "markdown",
   "id": "da561f87",
   "metadata": {},
   "source": [
    "shallow and deep copies"
   ]
  },
  {
   "cell_type": "markdown",
   "id": "5c93863e",
   "metadata": {},
   "source": [
    "classes - self and super"
   ]
  },
  {
   "cell_type": "markdown",
   "id": "807afff0",
   "metadata": {},
   "source": [
    "idiom if name == main"
   ]
  },
  {
   "cell_type": "markdown",
   "id": "92425d6c",
   "metadata": {},
   "source": [
    "Chaining: Unlike most languages, Python lets you chain comparisons, for example,2<3<4>2. All comparisons are performed pairwise, and the result is True if every in- dividual comparision is True."
   ]
  },
  {
   "cell_type": "markdown",
   "id": "25b78c15",
   "metadata": {},
   "source": [
    "The walrus operator\n",
    "\n",
    "n=5 whilen>0:\n",
    "print(n)\n",
    "n-=1 print(\"Blast off!\")\n",
    "The walrus operator can be used in while loops. The above code is equivalent to\n",
    "n=6 while(n:=n-1)>0:\n",
    "print(n) print(\"Blast off!\")"
   ]
  },
  {
   "cell_type": "markdown",
   "id": "20d56ecd",
   "metadata": {},
   "source": [
    "Every function returns a value. If you don’t specify a return value, the function will return None. (This is an actual legal value, of type NoneType, so you can assign it to a variable, or ask if a variable is equal to it.)\n",
    "\n",
    "A function may be defined within another function, and is then local to the containing function. - Local function, actually"
   ]
  },
  {
   "cell_type": "markdown",
   "id": "3c52b0f9",
   "metadata": {},
   "source": [
    "Caution: Do not attempt to make a list of lists by using a construction such as[[None]*3]*2. It will appear to work, but in fact every value in the outer list will be a reference to the same inner list.\n",
    "You can create a “two-dimensional” list with code like this:\n",
    "x=[0]*3\n",
    "for i in range(0, 3):\n",
    "x[i]=[0]*5\n",
    "The initial assignment creates an array of zeros, then the loop replaces each zero with an array of zeros. - very interesting, so the solution above was incorrect"
   ]
  },
  {
   "cell_type": "code",
   "execution_count": null,
   "id": "f3e15873",
   "metadata": {},
   "outputs": [],
   "source": []
  },
  {
   "cell_type": "code",
   "execution_count": null,
   "id": "71f9ad52",
   "metadata": {},
   "outputs": [],
   "source": []
  },
  {
   "cell_type": "markdown",
   "id": "c0426dcc",
   "metadata": {},
   "source": [
    "On tuples\n",
    "\n",
    "Tuples are useful for keeping a small number of values together as a single unit. For example, you might want to write a function that returns the x-y coordinates of an object, or the largest and smallest values in a list.\n",
    "The built-in function divmod returns a tuple. Seven goes into 20 twice, with six left over (20//7==2and20%7==6). If you want both these values, you can use divmod(20, 7), which returns the tuple (2, 6)."
   ]
  },
  {
   "cell_type": "markdown",
   "id": "2adf0fad",
   "metadata": {},
   "source": [
    "A zero-tuple is written as (), while a one-tuple is written by putting a comma after the single value, like this: (3,). These forms probably aren’t very useful in general."
   ]
  },
  {
   "cell_type": "markdown",
   "id": "c1f80047",
   "metadata": {},
   "source": [
    "a,b,c=x - tuple unpacking"
   ]
  },
  {
   "cell_type": "code",
   "execution_count": null,
   "id": "884cf99a",
   "metadata": {},
   "outputs": [],
   "source": []
  },
  {
   "cell_type": "markdown",
   "id": "4e569a2a",
   "metadata": {},
   "source": [
    "A set is a collection of values, not necessarily all the same type. A set literal is written as braces around a comma-separated list. For example:\n",
    "s = {10, \"ten\", \"X\"}"
   ]
  },
  {
   "cell_type": "markdown",
   "id": "3d30edac",
   "metadata": {},
   "source": [
    "phones.get(key) works like phones[key], except that if the key is not found, the value None is returned.\n",
    "• phones.get(key, default_value) returns the value asso- ciated with key, or the default_value if there is no such key."
   ]
  },
  {
   "cell_type": "markdown",
   "id": "d53ce52b",
   "metadata": {},
   "source": [
    "Not everything can be used as a key. Keys must be immutable. That’s a long discussion in itself, but the short form is this: strings, numbers, tuples, and booleans make good keys. Any object for which the components may change (such as lists, sets, and dictionaries) may not be used as keys.\n"
   ]
  },
  {
   "cell_type": "markdown",
   "id": "bb78891c",
   "metadata": {},
   "source": [
    "If you need to work with not only the elements in the list, but also their position in the list, you can use a more complicated version of the for loop:\n",
    "for i in range(0, len(my_list)): print(my_list[i], \"is at\", i)\n",
    "The enumerate function provides a better way to get (index, value) tuples. The above code can be replaced with\n",
    "for index, value in enumerate(my_list): print(value, \"is at\", index)\n"
   ]
  },
  {
   "cell_type": "code",
   "execution_count": null,
   "id": "411a4df8",
   "metadata": {},
   "outputs": [],
   "source": []
  },
  {
   "cell_type": "markdown",
   "id": "7a727566",
   "metadata": {},
   "source": [
    "Some cool stuff on dicts\n",
    "\n",
    "You can print both keys and values by looping over just the keys and, for each key, looking up the value:\n",
    "for k in my_dict:\n",
    "print(k, \"->\", my_dict[k])\n",
    "Better Tools ▪ 29\n",
    "30 ▪ Quick Python 3\n",
    "Dictionaries have an additional method, items. This method\n",
    "appears to return a list of (key, value) tuples: for t in my_dict.items():\n",
    "print(t) # prints (key, value) tuples\n",
    "In reality, what items returns is not a list, but is a dynamic view of the dictionary items. Each item returned is in fact a (key, value) tuple, but if you change the contents of the dictionary while looping through it, you could get some unexpected and unwelcome results.\n",
    "Tuples can be unpacked directly in the for loop. The par- entheses around the tuple may be omitted.\n",
    "for k, v in my_dict.items(): print(k, \"is\", v)\n"
   ]
  },
  {
   "cell_type": "markdown",
   "id": "d0a6a01d",
   "metadata": {},
   "source": [
    "bool(\"False\")#returnsTrue\n",
    "• The following things are considered false: False, None, 0, 0.0, empty strings, empty lists, empty sets, empty tuples, and empty dictionaries."
   ]
  },
  {
   "cell_type": "markdown",
   "id": "5baf33a7",
   "metadata": {},
   "source": [
    "When you convert from a dict to any of the other types,\n",
    "you get only the keys, not the values.\n",
    "• You can convert a list, set, or tuple to a dict only if the elements are grouped in twos, for example, a list of 2-tuples (tuples with two elements).\n",
    "• Sets have no intrinsic ordering, so converting to or from a set does not necessarily preserve the order of the elements.\n"
   ]
  },
  {
   "cell_type": "markdown",
   "id": "751999b0",
   "metadata": {},
   "source": [
    "The scope of a name is the part of the program in which the name has meaning and can be used. Python’s scope rules are unusual; they follow an “LEGB rule”: Local, Enclosed, Global, Built-in. To understand this rule, it helps to remember that (1) variables are defined by being assigned a value and (2) functions/ methods may be nested within other functions/methods.\n"
   ]
  },
  {
   "cell_type": "code",
   "execution_count": null,
   "id": "0cb49ccd",
   "metadata": {},
   "outputs": [],
   "source": []
  },
  {
   "cell_type": "code",
   "execution_count": null,
   "id": "78c14553",
   "metadata": {},
   "outputs": [],
   "source": []
  },
  {
   "cell_type": "code",
   "execution_count": null,
   "id": "a89c314e",
   "metadata": {},
   "outputs": [],
   "source": []
  },
  {
   "cell_type": "code",
   "execution_count": null,
   "id": "77ccffe4",
   "metadata": {},
   "outputs": [],
   "source": []
  }
 ],
 "metadata": {
  "kernelspec": {
   "display_name": "Python 3 (ipykernel)",
   "language": "python",
   "name": "python3"
  },
  "language_info": {
   "codemirror_mode": {
    "name": "ipython",
    "version": 3
   },
   "file_extension": ".py",
   "mimetype": "text/x-python",
   "name": "python",
   "nbconvert_exporter": "python",
   "pygments_lexer": "ipython3",
   "version": "3.7.12"
  }
 },
 "nbformat": 4,
 "nbformat_minor": 5
}
