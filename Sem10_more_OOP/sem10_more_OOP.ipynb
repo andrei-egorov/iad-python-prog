{
 "cells": [
  {
   "cell_type": "markdown",
   "id": "6fae5512-2764-492e-81ba-f1545d30ac97",
   "metadata": {},
   "source": [
    "# Cеминар 10. Выборочные моменты ООП и код-стиль."
   ]
  },
  {
   "cell_type": "markdown",
   "id": "3c63c52e-3143-4f57-82dd-5f30e429e64d",
   "metadata": {},
   "source": [
    "На этом, заключительном семинаре, мы обсудим некоторые разрозненные полезные факты про ООП, а закончим обсуждением код-стиля."
   ]
  },
  {
   "cell_type": "markdown",
   "id": "df621ad3-a850-4518-a484-fb20e8b7177c",
   "metadata": {},
   "source": [
    "**ООП**\n",
    "\n",
    "1. Связанные методы\n",
    "2. Наследование от встроенных типов\n",
    "3. Переменные класса и методы класса\n",
    "4. Свойства\n",
    "\n",
    "**Код-стиль**\n",
    "\n",
    "1. Отступы\n",
    "2. Длина строки\n",
    "3. Пробелы"
   ]
  },
  {
   "cell_type": "markdown",
   "id": "57d8f53a-56b1-4f91-81a2-26c48d901845",
   "metadata": {},
   "source": [
    "### Intro"
   ]
  },
  {
   "cell_type": "markdown",
   "id": "952c8371-1afc-45ea-b004-6521c5dff097",
   "metadata": {},
   "source": [
    "Создадим класс, на основе которого мы будем рассматривать наши примеры."
   ]
  },
  {
   "cell_type": "code",
   "execution_count": 2,
   "id": "74bacab4-76a1-4a99-b578-216aafb15a0c",
   "metadata": {},
   "outputs": [],
   "source": [
    "class Account:\n",
    "    '''\n",
    "    Простой банковский счет\n",
    "    '''\n",
    "    owner: str\n",
    "    balance: float\n",
    "    \n",
    "    def __init__(self, owner, balance):\n",
    "        self.owner = owner\n",
    "        self.balance = balance\n",
    "        \n",
    "    def __repr__(self):\n",
    "        return f'Account({self.owner!r}, {self.balance!r})'\n",
    "    \n",
    "    def deposit(self, amount):\n",
    "        self.balance += amount\n",
    "        \n",
    "    def withdraw(self, amount):\n",
    "        self.balance -= amount\n",
    "        \n",
    "    def inquiry(self):\n",
    "        return self.balance"
   ]
  },
  {
   "cell_type": "code",
   "execution_count": 4,
   "id": "ab5385fa-434b-4ce9-ba0d-674dd046fb54",
   "metadata": {},
   "outputs": [],
   "source": [
    "a = Account('Guido', 1000.0)\n",
    "# Вызывает Account.__init__(a, 'Guido', 1000.0)\n",
    "\n",
    "b = Account('Eva', 10.0)\n",
    "# Вызывает Account.__init__(b, 'Eva', 10.0)"
   ]
  },
  {
   "cell_type": "markdown",
   "id": "510fbc2e-84f1-46fb-8814-bff6095426dc",
   "metadata": {},
   "source": [
    "У каждого экземпляра свое состояние. Для просмотра переменных экземпляров есть функция `vars()`:"
   ]
  },
  {
   "cell_type": "code",
   "execution_count": 5,
   "id": "6d683c17-f762-45a7-a120-88db3fc8cbd2",
   "metadata": {},
   "outputs": [
    {
     "data": {
      "text/plain": [
       "{'owner': 'Guido', 'balance': 1000.0}"
      ]
     },
     "execution_count": 5,
     "metadata": {},
     "output_type": "execute_result"
    }
   ],
   "source": [
    "a = Account('Guido', 1000.0)\n",
    "b = Account('Eva', 10.0)\n",
    "vars(a)"
   ]
  },
  {
   "cell_type": "code",
   "execution_count": 6,
   "id": "e9a81b8d-8e72-4d7b-8379-d02953b105ad",
   "metadata": {},
   "outputs": [
    {
     "data": {
      "text/plain": [
       "{'owner': 'Eva', 'balance': 10.0}"
      ]
     },
     "execution_count": 6,
     "metadata": {},
     "output_type": "execute_result"
    }
   ],
   "source": [
    "vars(b)"
   ]
  },
  {
   "cell_type": "markdown",
   "id": "4a6b1958-1eea-4f07-9992-faf881f99ad4",
   "metadata": {},
   "source": [
    "### Связанные методы"
   ]
  },
  {
   "cell_type": "markdown",
   "id": "3ba667bf-c9c5-4636-9876-d07a79680957",
   "metadata": {},
   "source": [
    "Вместо выполнения операций оператором «точка» (`.`) можно передать имя атрибута в строковом виде функциям `getattr()`, `setattr()` и `delattr()`. \n",
    "\n",
    "Функция `hasattr()` проверяет наличие атрибута:"
   ]
  },
  {
   "cell_type": "code",
   "execution_count": 7,
   "id": "f3259626-cc9d-4358-af35-a566bd01af9d",
   "metadata": {},
   "outputs": [
    {
     "data": {
      "text/plain": [
       "'Guido'"
      ]
     },
     "execution_count": 7,
     "metadata": {},
     "output_type": "execute_result"
    }
   ],
   "source": [
    "a = Account('Guido', 1000.0)\n",
    "getattr(a, 'owner')"
   ]
  },
  {
   "cell_type": "code",
   "execution_count": 8,
   "id": "7568e64f-2ef6-4a0f-b3c3-909b5add0d38",
   "metadata": {},
   "outputs": [
    {
     "data": {
      "text/plain": [
       "False"
      ]
     },
     "execution_count": 8,
     "metadata": {},
     "output_type": "execute_result"
    }
   ],
   "source": [
    "setattr(a, 'balance', 750.0)\n",
    "delattr(a, 'balance')\n",
    "hasattr(a, 'balance')"
   ]
  },
  {
   "cell_type": "code",
   "execution_count": 9,
   "id": "c7182604-c359-4b4d-b4a1-3776ff578315",
   "metadata": {},
   "outputs": [
    {
     "ename": "AttributeError",
     "evalue": "'Account' object has no attribute 'balance'",
     "output_type": "error",
     "traceback": [
      "\u001b[0;31m---------------------------------------------------------------------------\u001b[0m",
      "\u001b[0;31mAttributeError\u001b[0m                            Traceback (most recent call last)",
      "Input \u001b[0;32mIn [9]\u001b[0m, in \u001b[0;36m<cell line: 1>\u001b[0;34m()\u001b[0m\n\u001b[0;32m----> 1\u001b[0m \u001b[38;5;28;43mgetattr\u001b[39;49m\u001b[43m(\u001b[49m\u001b[43ma\u001b[49m\u001b[43m,\u001b[49m\u001b[43m \u001b[49m\u001b[38;5;124;43m'\u001b[39;49m\u001b[38;5;124;43mwithdraw\u001b[39;49m\u001b[38;5;124;43m'\u001b[39;49m\u001b[43m)\u001b[49m\u001b[43m(\u001b[49m\u001b[38;5;241;43m100\u001b[39;49m\u001b[43m)\u001b[49m \u001b[38;5;66;03m# Вызов метода\u001b[39;00m\n\u001b[1;32m      2\u001b[0m a\n",
      "Input \u001b[0;32mIn [2]\u001b[0m, in \u001b[0;36mAccount.withdraw\u001b[0;34m(self, amount)\u001b[0m\n\u001b[1;32m     18\u001b[0m \u001b[38;5;28;01mdef\u001b[39;00m \u001b[38;5;21mwithdraw\u001b[39m(\u001b[38;5;28mself\u001b[39m, amount):\n\u001b[0;32m---> 19\u001b[0m     \u001b[38;5;28mself\u001b[39m\u001b[38;5;241m.\u001b[39mbalance \u001b[38;5;241m-\u001b[39m\u001b[38;5;241m=\u001b[39m amount\n",
      "\u001b[0;31mAttributeError\u001b[0m: 'Account' object has no attribute 'balance'"
     ]
    }
   ],
   "source": [
    "getattr(a, 'withdraw')(100) # Вызов метода\n",
    "a"
   ]
  },
  {
   "cell_type": "markdown",
   "id": "97a82dfa-1516-4400-bb2a-19fb284659a2",
   "metadata": {},
   "source": [
    "Обращаясь к методу как к атрибуту, вы получаете объект, называемый связанным методом:"
   ]
  },
  {
   "cell_type": "code",
   "execution_count": 10,
   "id": "143acea0-f645-4cff-96cb-cb20bba1e618",
   "metadata": {},
   "outputs": [
    {
     "data": {
      "text/plain": [
       "<bound method Account.withdraw of Account('Guido', 1000.0)>"
      ]
     },
     "execution_count": 10,
     "metadata": {},
     "output_type": "execute_result"
    }
   ],
   "source": [
    "a = Account('Guido', 1000.0)\n",
    "w = a.withdraw\n",
    "w"
   ]
  },
  {
   "cell_type": "code",
   "execution_count": 11,
   "id": "c7852791-7da5-450d-bd01-09e6a590d58b",
   "metadata": {},
   "outputs": [
    {
     "data": {
      "text/plain": [
       "Account('Guido', 900.0)"
      ]
     },
     "execution_count": 11,
     "metadata": {},
     "output_type": "execute_result"
    }
   ],
   "source": [
    "w(100)\n",
    "a"
   ]
  },
  {
   "cell_type": "markdown",
   "id": "078c75e6-d69a-4273-8e63-830698432167",
   "metadata": {},
   "source": [
    "Связанный метод — это объект, содержащий как экземпляр (`self`), так и функцию, реализующую метод. \n",
    "\n",
    "Когда вы вызываете связанный метод, добавляя круглые скобки и аргументы, он выполняет метод, передавая присоединенный экземпляр в качестве первого аргумента. \n",
    "\n",
    "Например, вызов `w(100)` преобразуется в `Account.withdraw(a, 100)`"
   ]
  },
  {
   "cell_type": "markdown",
   "id": "9ba34e7e-d255-48b1-a349-22a21cdbea04",
   "metadata": {},
   "source": [
    "### Наследование от встроенных типов"
   ]
  },
  {
   "cell_type": "markdown",
   "id": "e49c2c40-73b6-419d-af4c-a3d3c16b3956",
   "metadata": {},
   "source": [
    "Python допускает наследование от встроенных типов. Но оно сопряжено с определенным риском. Например, если вы решили субклассировать `dict`, чтобы принудительно использовать ключи в верхнем регистре, можно переопределить метод `__setitem__()` так:"
   ]
  },
  {
   "cell_type": "code",
   "execution_count": 12,
   "id": "050624fb-2683-4310-ba1b-556eb7b22d32",
   "metadata": {},
   "outputs": [],
   "source": [
    "class udict(dict):\n",
    "    def __setitem__(self, key, value):\n",
    "        super().__setitem__(key.upper(), value)"
   ]
  },
  {
   "cell_type": "markdown",
   "id": "b593e3a3-b60e-4386-8a20-239dc5f31ddc",
   "metadata": {},
   "source": [
    "И на первый взгляд такое решение работает:"
   ]
  },
  {
   "cell_type": "code",
   "execution_count": 13,
   "id": "5260a096-670e-41b3-9f7b-d1584385eac0",
   "metadata": {},
   "outputs": [
    {
     "data": {
      "text/plain": [
       "{'NAME': 'Guido', 'NUMBER': 37}"
      ]
     },
     "execution_count": 13,
     "metadata": {},
     "output_type": "execute_result"
    }
   ],
   "source": [
    "u = udict()\n",
    "u['name'] = 'Guido'\n",
    "u['number'] = 37\n",
    "u"
   ]
  },
  {
   "cell_type": "markdown",
   "id": "234b32ea-ddbb-4954-983f-69224f23cb02",
   "metadata": {},
   "source": [
    "Но потом выясняется, что это не так — вам только казалось, что класс работает. И теперь начинает казаться, что он вообще не работает:"
   ]
  },
  {
   "cell_type": "code",
   "execution_count": 14,
   "id": "cd521082-8c46-483a-a591-ba60835bf799",
   "metadata": {},
   "outputs": [
    {
     "data": {
      "text/plain": [
       "{'NAME': 'Guido', 'NUMBER': 37, 'color': 'blue'}"
      ]
     },
     "execution_count": 14,
     "metadata": {},
     "output_type": "execute_result"
    }
   ],
   "source": [
    "u.update(color='blue')\n",
    "u"
   ]
  },
  {
   "cell_type": "markdown",
   "id": "f8e5bb29-3756-4449-9bd4-40913e5ac425",
   "metadata": {},
   "source": [
    "Проблема в том, что встроенные типы Python не реализуются как нормальные классы Python — они написаны на C. Большинство методов работают в мире C. Например, `dict.update()` напрямую манипулирует данными словаря в обход переопределенного метода `__setitem__()` из вашего класса `udict`.\n",
    "\n",
    "В модуле `collections` есть специальные классы `UserDict`, `UserList` и `UserString`. Они могут использоваться для создания безопасных субклассов `dict`, `list` и `str`. Следующее решение работает гораздо лучше:"
   ]
  },
  {
   "cell_type": "code",
   "execution_count": 15,
   "id": "9a94e5a2-9c6e-4931-a8ce-8af4ef9b7840",
   "metadata": {},
   "outputs": [],
   "source": [
    "from collections import UserDict\n",
    "\n",
    "class udict(UserDict):\n",
    "    def __setitem__(self, key, value):\n",
    "        super().__setitem__(key.upper(), value)"
   ]
  },
  {
   "cell_type": "markdown",
   "id": "04c9f2f9-16e1-4f8a-a859-f34c12776a09",
   "metadata": {},
   "source": [
    "Пример использования новой версии:"
   ]
  },
  {
   "cell_type": "code",
   "execution_count": 16,
   "id": "7cbe51ea-0f5d-4f63-b3f3-5033144b32f7",
   "metadata": {},
   "outputs": [
    {
     "data": {
      "text/plain": [
       "{'NAME': 'Guido', 'NUM': 37, 'COLOR': 'Blue'}"
      ]
     },
     "execution_count": 16,
     "metadata": {},
     "output_type": "execute_result"
    }
   ],
   "source": [
    "u = udict(name='Guido', num=37)\n",
    "u.update(color='Blue')\n",
    "u"
   ]
  },
  {
   "cell_type": "code",
   "execution_count": 17,
   "id": "8542fd68-2cf2-4def-9c42-85832a29904c",
   "metadata": {},
   "outputs": [
    {
     "data": {
      "text/plain": [
       "{'NAME': 'Guido', 'NUM': 37, 'COLOR': 'Blue', 'TITLE': 'Seminar'}"
      ]
     },
     "execution_count": 17,
     "metadata": {},
     "output_type": "execute_result"
    }
   ],
   "source": [
    "v = udict(u)\n",
    "v['title'] = 'Seminar'\n",
    "v"
   ]
  },
  {
   "cell_type": "markdown",
   "id": "dca73194-d033-45f6-a611-ef5cb5653e3a",
   "metadata": {},
   "source": [
    "Обычно субклассирования встроенных типов лучше избегать. Если вам действительно нужно субклассировать встроенный тип, то приготовьтесь, что работы будет больше, чем вам казалось изначально."
   ]
  },
  {
   "cell_type": "markdown",
   "id": "e61350c2-327f-49e4-b58c-17849392ebd6",
   "metadata": {},
   "source": [
    "### Переменные класса и методы класса"
   ]
  },
  {
   "cell_type": "markdown",
   "id": "1fba86fe-c5f7-42ac-a81f-ee5ad0a3fe0c",
   "metadata": {},
   "source": [
    "Вообще говоря, пример использования - счетчик открытых счетов"
   ]
  },
  {
   "cell_type": "code",
   "execution_count": 20,
   "id": "9509b59a-c67f-4cc9-a37b-ab06ca61f417",
   "metadata": {},
   "outputs": [],
   "source": [
    "class Account:\n",
    "    num_accounts = 0\n",
    "    \n",
    "    def __init__(self, owner, balance):\n",
    "        self.owner = owner\n",
    "        self.balance = balance\n",
    "        Account.num_accounts += 1"
   ]
  },
  {
   "cell_type": "markdown",
   "id": "52782d0b-8060-4a8d-aa40-4cde59705c30",
   "metadata": {},
   "source": [
    "Переменные класса определяются за пределами обычного метода `__init__()`. Для их изменения нужно использовать класс, а не `self`:"
   ]
  },
  {
   "cell_type": "code",
   "execution_count": 21,
   "id": "62807348-d15a-458e-bf6c-715362f7c270",
   "metadata": {},
   "outputs": [
    {
     "data": {
      "text/plain": [
       "2"
      ]
     },
     "execution_count": 21,
     "metadata": {},
     "output_type": "execute_result"
    }
   ],
   "source": [
    "a = Account('Guido', 1000.0)\n",
    "b = Account('Eva', 10.0)\n",
    "Account.num_accounts"
   ]
  },
  {
   "cell_type": "markdown",
   "id": "c6ec3306-0821-418c-ab15-fa051a7e5ba3",
   "metadata": {},
   "source": [
    "К переменным класса можно обращаться и через экземпляры, хотя это и немного необычно:"
   ]
  },
  {
   "cell_type": "code",
   "execution_count": 22,
   "id": "513db1f8-a4f6-4f8c-866b-720e7638f677",
   "metadata": {},
   "outputs": [
    {
     "data": {
      "text/plain": [
       "2"
      ]
     },
     "execution_count": 22,
     "metadata": {},
     "output_type": "execute_result"
    }
   ],
   "source": [
    "a.num_accounts"
   ]
  },
  {
   "cell_type": "markdown",
   "id": "472ed399-1dcf-457b-a144-7397c794363f",
   "metadata": {},
   "source": [
    "### @classmethod"
   ]
  },
  {
   "cell_type": "markdown",
   "id": "bcf9ef42-cace-4e34-913f-cdac01b440f1",
   "metadata": {},
   "source": [
    "Также возможно определить и методы класса. Они применяются к самому классу, а не к экземплярам. Обычно методы класса используются для определения альтернативных конструкторов экземпляров. Представьте, что в требованиях была оговорена возможность создания экземпляров Account по унаследованному формату данных корпоративного уровня:"
   ]
  },
  {
   "cell_type": "code",
   "execution_count": null,
   "id": "d07ed9b0-ea7a-48c1-adab-5a3c1d31a04d",
   "metadata": {},
   "outputs": [],
   "source": [
    "data = '''\n",
    "<account>\n",
    "<owner>Guido</owner>\n",
    "<amount>1000.0</amount>\n",
    "</account>\n",
    "'''"
   ]
  },
  {
   "cell_type": "markdown",
   "id": "de67cc26-c869-4c4a-8313-a62f41d7afa5",
   "metadata": {},
   "source": [
    "Для этого можно написать метод класса:"
   ]
  },
  {
   "cell_type": "code",
   "execution_count": null,
   "id": "fe71f1c4-7362-440e-b3e2-0c291df30901",
   "metadata": {},
   "outputs": [],
   "source": [
    "class Account:\n",
    "    def __init__(self, owner, balance):\n",
    "        self.owner = owner\n",
    "        self.balance = balance\n",
    "        \n",
    "    @classmethod\n",
    "    def from_xml(cls, data):\n",
    "        from xml.etree.ElementTree import XML\n",
    "        doc = XML(data)\n",
    "        return cls(doc.findtext('owner'), float(doc.findtext('amount')))\n",
    "    \n",
    "# Пример использования\n",
    "data = '''\n",
    "<account>\n",
    "<owner>Guido</owner>\n",
    "<amount>1000.0</amount>\n",
    "</account>\n",
    "'''\n",
    "a = Account.from_xml(data)"
   ]
  },
  {
   "cell_type": "markdown",
   "id": "3ccf1e33-2a05-41b5-abf5-f358d1031d1e",
   "metadata": {},
   "source": [
    "В первом аргументе метода класса всегда передается сам класс. Этот аргумент часто называется `cls`. Здесь `cls` присваивается `Account`. Если цель метода класса - создание нового экземпляра, для этого должны быть предприняты явные шаги. В последней строке примера вызов `cls(..., ...)` аналогичен вызову `Account(..., ...)` с двумя аргументами."
   ]
  },
  {
   "cell_type": "markdown",
   "id": "c19e9136-ebc4-4042-9c59-9d722394e360",
   "metadata": {},
   "source": [
    "Альтернативное конструирование экземпляров - самое частое применение методов классов. В популярной схеме выбора имен таких методов используется префикс `from_`, например `from_timestamp()`. Эта схема встречается в методах класса в стандартной библиотеке и в сторонних пакетах."
   ]
  },
  {
   "cell_type": "markdown",
   "id": "c29d291a-8265-4778-94b4-e9343497b880",
   "metadata": {},
   "source": [
    "### @staticmethod"
   ]
  },
  {
   "cell_type": "markdown",
   "id": "79af4452-2cb7-4c1d-9d9f-2a7e5b15bfc1",
   "metadata": {},
   "source": [
    "Иногда класс просто используется как пространство имен для функций, объявленных как статические методы с использованием `@staticmethod`. В отличие от обычного метода или метода класса, статический не получает дополнительный аргумент `self` или `cls`. Это обычная функция, которая определяется внутри класса:"
   ]
  },
  {
   "cell_type": "code",
   "execution_count": 23,
   "id": "18d7ebf0-0f82-415f-9a6b-ad3944eff7a6",
   "metadata": {},
   "outputs": [],
   "source": [
    "class Ops:\n",
    "    @staticmethod\n",
    "    def add(x, y):\n",
    "        return x + y\n",
    "    \n",
    "    @staticmethod\n",
    "    def sub(x, y):\n",
    "        return x - y"
   ]
  },
  {
   "cell_type": "markdown",
   "id": "890b458a-0835-4d74-81ca-4458cb150d4c",
   "metadata": {},
   "source": [
    "Экземпляры таких классов обычно не создаются. Вместо этого используется прямой вызов функций через класс:"
   ]
  },
  {
   "cell_type": "code",
   "execution_count": 25,
   "id": "cc4aadf5-6545-445d-b78e-210d63b9614c",
   "metadata": {},
   "outputs": [
    {
     "data": {
      "text/plain": [
       "(5, -1)"
      ]
     },
     "execution_count": 25,
     "metadata": {},
     "output_type": "execute_result"
    }
   ],
   "source": [
    "a = Ops.add(2, 3) # a = 5\n",
    "b = Ops.sub(4, 5) # a = -1\n",
    "a, b"
   ]
  },
  {
   "cell_type": "markdown",
   "id": "834368bc-de55-421e-9ba4-90778e9558bc",
   "metadata": {},
   "source": []
  },
  {
   "cell_type": "markdown",
   "id": "0d4adc35-19e5-488e-8b69-f5725235df5a",
   "metadata": {},
   "source": [
    "### Свойства"
   ]
  },
  {
   "cell_type": "markdown",
   "id": "43404ab9-55ff-40bf-b5fd-0ef71fe66eff",
   "metadata": {},
   "source": [
    "По умолчанию Python не устанавливает никаких ограничений времени выполнения для значений или типов атрибутов. Но такие ограничения возможны. Для этого нужно поместить атрибут под управление свойства. Это разновидность атрибута, которая перехватывает обращения к нему и обрабатывает их методами, определенными пользователем. Такие методы могут управлять атрибутом так, как считают нужным:"
   ]
  },
  {
   "cell_type": "code",
   "execution_count": 26,
   "id": "b9fe7332-b849-4f8f-a1db-cc95a3a427cc",
   "metadata": {},
   "outputs": [],
   "source": [
    "import string\n",
    "\n",
    "class Account:\n",
    "    def __init__(self, owner, balance):\n",
    "        self.owner = owner\n",
    "        self._balance = balance\n",
    "        \n",
    "    @property\n",
    "    def owner(self):\n",
    "        return self._owner\n",
    "    \n",
    "    @owner.setter\n",
    "    def owner(self, value):\n",
    "        if not isinstance(value, str):\n",
    "            raise TypeError('Expected str')\n",
    "        if not all(c in string.ascii_uppercase for c in value):\n",
    "            raise ValueError('Must be uppercase ASCII')\n",
    "        if len(value) > 10:\n",
    "            raise ValueError('Must be 10 characters or less')\n",
    "            self._owner = value"
   ]
  },
  {
   "cell_type": "markdown",
   "id": "9ac83de2-52c6-42e7-a855-2189d267665d",
   "metadata": {},
   "source": [
    "Здесь атрибут owner ограничивается строкой из 10 символов верхнего регистра в кодировке ASCII. Вот, как это работает при использовании класса:"
   ]
  },
  {
   "cell_type": "code",
   "execution_count": 28,
   "id": "cf920ab4-a00d-47c8-a866-4aac60f3fd6a",
   "metadata": {},
   "outputs": [],
   "source": [
    "a = Account('GUIDO', 1000.0)\n",
    "a.owner = 'EVA'"
   ]
  },
  {
   "cell_type": "code",
   "execution_count": 29,
   "id": "27886323-8bff-41b9-864b-18ef6779fb8c",
   "metadata": {},
   "outputs": [
    {
     "ename": "TypeError",
     "evalue": "Expected str",
     "output_type": "error",
     "traceback": [
      "\u001b[0;31m---------------------------------------------------------------------------\u001b[0m",
      "\u001b[0;31mTypeError\u001b[0m                                 Traceback (most recent call last)",
      "Input \u001b[0;32mIn [29]\u001b[0m, in \u001b[0;36m<cell line: 1>\u001b[0;34m()\u001b[0m\n\u001b[0;32m----> 1\u001b[0m a\u001b[38;5;241m.\u001b[39mowner \u001b[38;5;241m=\u001b[39m \u001b[38;5;241m42\u001b[39m\n",
      "Input \u001b[0;32mIn [26]\u001b[0m, in \u001b[0;36mAccount.owner\u001b[0;34m(self, value)\u001b[0m\n\u001b[1;32m     12\u001b[0m \u001b[38;5;129m@owner\u001b[39m\u001b[38;5;241m.\u001b[39msetter\n\u001b[1;32m     13\u001b[0m \u001b[38;5;28;01mdef\u001b[39;00m \u001b[38;5;21mowner\u001b[39m(\u001b[38;5;28mself\u001b[39m, value):\n\u001b[1;32m     14\u001b[0m     \u001b[38;5;28;01mif\u001b[39;00m \u001b[38;5;129;01mnot\u001b[39;00m \u001b[38;5;28misinstance\u001b[39m(value, \u001b[38;5;28mstr\u001b[39m):\n\u001b[0;32m---> 15\u001b[0m         \u001b[38;5;28;01mraise\u001b[39;00m \u001b[38;5;167;01mTypeError\u001b[39;00m(\u001b[38;5;124m'\u001b[39m\u001b[38;5;124mExpected str\u001b[39m\u001b[38;5;124m'\u001b[39m)\n\u001b[1;32m     16\u001b[0m     \u001b[38;5;28;01mif\u001b[39;00m \u001b[38;5;129;01mnot\u001b[39;00m \u001b[38;5;28mall\u001b[39m(c \u001b[38;5;129;01min\u001b[39;00m string\u001b[38;5;241m.\u001b[39mascii_uppercase \u001b[38;5;28;01mfor\u001b[39;00m c \u001b[38;5;129;01min\u001b[39;00m value):\n\u001b[1;32m     17\u001b[0m         \u001b[38;5;28;01mraise\u001b[39;00m \u001b[38;5;167;01mValueError\u001b[39;00m(\u001b[38;5;124m'\u001b[39m\u001b[38;5;124mMust be uppercase ASCII\u001b[39m\u001b[38;5;124m'\u001b[39m)\n",
      "\u001b[0;31mTypeError\u001b[0m: Expected str"
     ]
    }
   ],
   "source": [
    "a.owner = 42"
   ]
  },
  {
   "cell_type": "code",
   "execution_count": 30,
   "id": "bc2d307b-67e0-4390-aaef-40efe47e6413",
   "metadata": {},
   "outputs": [
    {
     "ename": "ValueError",
     "evalue": "Must be uppercase ASCII",
     "output_type": "error",
     "traceback": [
      "\u001b[0;31m---------------------------------------------------------------------------\u001b[0m",
      "\u001b[0;31mValueError\u001b[0m                                Traceback (most recent call last)",
      "Input \u001b[0;32mIn [30]\u001b[0m, in \u001b[0;36m<cell line: 1>\u001b[0;34m()\u001b[0m\n\u001b[0;32m----> 1\u001b[0m a\u001b[38;5;241m.\u001b[39mowner \u001b[38;5;241m=\u001b[39m \u001b[38;5;124m'\u001b[39m\u001b[38;5;124mCarol\u001b[39m\u001b[38;5;124m'\u001b[39m\n",
      "Input \u001b[0;32mIn [26]\u001b[0m, in \u001b[0;36mAccount.owner\u001b[0;34m(self, value)\u001b[0m\n\u001b[1;32m     15\u001b[0m     \u001b[38;5;28;01mraise\u001b[39;00m \u001b[38;5;167;01mTypeError\u001b[39;00m(\u001b[38;5;124m'\u001b[39m\u001b[38;5;124mExpected str\u001b[39m\u001b[38;5;124m'\u001b[39m)\n\u001b[1;32m     16\u001b[0m \u001b[38;5;28;01mif\u001b[39;00m \u001b[38;5;129;01mnot\u001b[39;00m \u001b[38;5;28mall\u001b[39m(c \u001b[38;5;129;01min\u001b[39;00m string\u001b[38;5;241m.\u001b[39mascii_uppercase \u001b[38;5;28;01mfor\u001b[39;00m c \u001b[38;5;129;01min\u001b[39;00m value):\n\u001b[0;32m---> 17\u001b[0m     \u001b[38;5;28;01mraise\u001b[39;00m \u001b[38;5;167;01mValueError\u001b[39;00m(\u001b[38;5;124m'\u001b[39m\u001b[38;5;124mMust be uppercase ASCII\u001b[39m\u001b[38;5;124m'\u001b[39m)\n\u001b[1;32m     18\u001b[0m \u001b[38;5;28;01mif\u001b[39;00m \u001b[38;5;28mlen\u001b[39m(value) \u001b[38;5;241m>\u001b[39m \u001b[38;5;241m10\u001b[39m:\n\u001b[1;32m     19\u001b[0m     \u001b[38;5;28;01mraise\u001b[39;00m \u001b[38;5;167;01mValueError\u001b[39;00m(\u001b[38;5;124m'\u001b[39m\u001b[38;5;124mMust be 10 characters or less\u001b[39m\u001b[38;5;124m'\u001b[39m)\n",
      "\u001b[0;31mValueError\u001b[0m: Must be uppercase ASCII"
     ]
    }
   ],
   "source": [
    "a.owner = 'Carol'"
   ]
  },
  {
   "cell_type": "code",
   "execution_count": 31,
   "id": "4f043e36-5666-48d1-881b-53d19c12821e",
   "metadata": {},
   "outputs": [
    {
     "ename": "ValueError",
     "evalue": "Must be uppercase ASCII",
     "output_type": "error",
     "traceback": [
      "\u001b[0;31m---------------------------------------------------------------------------\u001b[0m",
      "\u001b[0;31mValueError\u001b[0m                                Traceback (most recent call last)",
      "Input \u001b[0;32mIn [31]\u001b[0m, in \u001b[0;36m<cell line: 1>\u001b[0;34m()\u001b[0m\n\u001b[0;32m----> 1\u001b[0m a\u001b[38;5;241m.\u001b[39mowner \u001b[38;5;241m=\u001b[39m \u001b[38;5;124m'\u001b[39m\u001b[38;5;124mRENÉE\u001b[39m\u001b[38;5;124m'\u001b[39m\n",
      "Input \u001b[0;32mIn [26]\u001b[0m, in \u001b[0;36mAccount.owner\u001b[0;34m(self, value)\u001b[0m\n\u001b[1;32m     15\u001b[0m     \u001b[38;5;28;01mraise\u001b[39;00m \u001b[38;5;167;01mTypeError\u001b[39;00m(\u001b[38;5;124m'\u001b[39m\u001b[38;5;124mExpected str\u001b[39m\u001b[38;5;124m'\u001b[39m)\n\u001b[1;32m     16\u001b[0m \u001b[38;5;28;01mif\u001b[39;00m \u001b[38;5;129;01mnot\u001b[39;00m \u001b[38;5;28mall\u001b[39m(c \u001b[38;5;129;01min\u001b[39;00m string\u001b[38;5;241m.\u001b[39mascii_uppercase \u001b[38;5;28;01mfor\u001b[39;00m c \u001b[38;5;129;01min\u001b[39;00m value):\n\u001b[0;32m---> 17\u001b[0m     \u001b[38;5;28;01mraise\u001b[39;00m \u001b[38;5;167;01mValueError\u001b[39;00m(\u001b[38;5;124m'\u001b[39m\u001b[38;5;124mMust be uppercase ASCII\u001b[39m\u001b[38;5;124m'\u001b[39m)\n\u001b[1;32m     18\u001b[0m \u001b[38;5;28;01mif\u001b[39;00m \u001b[38;5;28mlen\u001b[39m(value) \u001b[38;5;241m>\u001b[39m \u001b[38;5;241m10\u001b[39m:\n\u001b[1;32m     19\u001b[0m     \u001b[38;5;28;01mraise\u001b[39;00m \u001b[38;5;167;01mValueError\u001b[39;00m(\u001b[38;5;124m'\u001b[39m\u001b[38;5;124mMust be 10 characters or less\u001b[39m\u001b[38;5;124m'\u001b[39m)\n",
      "\u001b[0;31mValueError\u001b[0m: Must be uppercase ASCII"
     ]
    }
   ],
   "source": [
    "a.owner = 'RENÉE'"
   ]
  },
  {
   "cell_type": "code",
   "execution_count": 32,
   "id": "1fe7a816-9c86-4586-8be4-1412d5346c33",
   "metadata": {},
   "outputs": [
    {
     "ename": "ValueError",
     "evalue": "Must be 10 characters or less",
     "output_type": "error",
     "traceback": [
      "\u001b[0;31m---------------------------------------------------------------------------\u001b[0m",
      "\u001b[0;31mValueError\u001b[0m                                Traceback (most recent call last)",
      "Input \u001b[0;32mIn [32]\u001b[0m, in \u001b[0;36m<cell line: 1>\u001b[0;34m()\u001b[0m\n\u001b[0;32m----> 1\u001b[0m a\u001b[38;5;241m.\u001b[39mowner \u001b[38;5;241m=\u001b[39m \u001b[38;5;124m'\u001b[39m\u001b[38;5;124mRAMAKRISHNAN\u001b[39m\u001b[38;5;124m'\u001b[39m\n",
      "Input \u001b[0;32mIn [26]\u001b[0m, in \u001b[0;36mAccount.owner\u001b[0;34m(self, value)\u001b[0m\n\u001b[1;32m     17\u001b[0m     \u001b[38;5;28;01mraise\u001b[39;00m \u001b[38;5;167;01mValueError\u001b[39;00m(\u001b[38;5;124m'\u001b[39m\u001b[38;5;124mMust be uppercase ASCII\u001b[39m\u001b[38;5;124m'\u001b[39m)\n\u001b[1;32m     18\u001b[0m \u001b[38;5;28;01mif\u001b[39;00m \u001b[38;5;28mlen\u001b[39m(value) \u001b[38;5;241m>\u001b[39m \u001b[38;5;241m10\u001b[39m:\n\u001b[0;32m---> 19\u001b[0m     \u001b[38;5;28;01mraise\u001b[39;00m \u001b[38;5;167;01mValueError\u001b[39;00m(\u001b[38;5;124m'\u001b[39m\u001b[38;5;124mMust be 10 characters or less\u001b[39m\u001b[38;5;124m'\u001b[39m)\n\u001b[1;32m     20\u001b[0m     \u001b[38;5;28mself\u001b[39m\u001b[38;5;241m.\u001b[39m_owner \u001b[38;5;241m=\u001b[39m value\n",
      "\u001b[0;31mValueError\u001b[0m: Must be 10 characters or less"
     ]
    }
   ],
   "source": [
    "a.owner = 'RAMAKRISHNAN'"
   ]
  },
  {
   "cell_type": "markdown",
   "id": "fdcbe3f0-7386-4eee-adc2-5d110ebe7234",
   "metadata": {},
   "source": [
    "`@property` помечает атрибут как свойство. Здесь он применяется к атрибуту `owner`. Этот декоратор всегда применяется к методу, получающему значение атрибута. В этом примере метод возвращает фактическое значение, которое сохраняется в приватном атрибуте `_owner`. Декоратор `@owner.setter` используется для необязательной реализации метода, присваивающего значение атрибута. Этот метод выполняет проверки типа и значения перед сохранением значения в `_owner`.\n",
    "\n",
    "Важнейшая особенность свойств в том, что связанное с ними имя (как `owner` в этом примере) становится «волшебным»: любое использование этого атрибута автоматически направляется через реализованные вами методы чтения/записи. Вам не придется изменять код, чтобы эта схема заработала. Не нужно вносить изменения в метод `Account.__init__()`. \n",
    "\n",
    "Вас это может удивить, ведь `__init__()` выполняет присваивание `self.owner = owner` вместо использования приватного атрибута `self._owner`. Это сделано специально: свойство owner вводилось именно для проверки значений атрибута, что определенно нужно делать при создании экземпляров. Вы увидите, что все работает как предполагалось:"
   ]
  },
  {
   "cell_type": "code",
   "execution_count": 33,
   "id": "07f31275-ee9d-4536-8930-2b6fa9dfd679",
   "metadata": {},
   "outputs": [
    {
     "ename": "ValueError",
     "evalue": "Must be uppercase ASCII",
     "output_type": "error",
     "traceback": [
      "\u001b[0;31m---------------------------------------------------------------------------\u001b[0m",
      "\u001b[0;31mValueError\u001b[0m                                Traceback (most recent call last)",
      "Input \u001b[0;32mIn [33]\u001b[0m, in \u001b[0;36m<cell line: 1>\u001b[0;34m()\u001b[0m\n\u001b[0;32m----> 1\u001b[0m a \u001b[38;5;241m=\u001b[39m \u001b[43mAccount\u001b[49m\u001b[43m(\u001b[49m\u001b[38;5;124;43m'\u001b[39;49m\u001b[38;5;124;43mGuido\u001b[39;49m\u001b[38;5;124;43m'\u001b[39;49m\u001b[43m,\u001b[49m\u001b[43m \u001b[49m\u001b[38;5;241;43m1000.0\u001b[39;49m\u001b[43m)\u001b[49m\n",
      "Input \u001b[0;32mIn [26]\u001b[0m, in \u001b[0;36mAccount.__init__\u001b[0;34m(self, owner, balance)\u001b[0m\n\u001b[1;32m      4\u001b[0m \u001b[38;5;28;01mdef\u001b[39;00m \u001b[38;5;21m__init__\u001b[39m(\u001b[38;5;28mself\u001b[39m, owner, balance):\n\u001b[0;32m----> 5\u001b[0m     \u001b[38;5;28mself\u001b[39m\u001b[38;5;241m.\u001b[39mowner \u001b[38;5;241m=\u001b[39m owner\n\u001b[1;32m      6\u001b[0m     \u001b[38;5;28mself\u001b[39m\u001b[38;5;241m.\u001b[39m_balance \u001b[38;5;241m=\u001b[39m balance\n",
      "Input \u001b[0;32mIn [26]\u001b[0m, in \u001b[0;36mAccount.owner\u001b[0;34m(self, value)\u001b[0m\n\u001b[1;32m     15\u001b[0m     \u001b[38;5;28;01mraise\u001b[39;00m \u001b[38;5;167;01mTypeError\u001b[39;00m(\u001b[38;5;124m'\u001b[39m\u001b[38;5;124mExpected str\u001b[39m\u001b[38;5;124m'\u001b[39m)\n\u001b[1;32m     16\u001b[0m \u001b[38;5;28;01mif\u001b[39;00m \u001b[38;5;129;01mnot\u001b[39;00m \u001b[38;5;28mall\u001b[39m(c \u001b[38;5;129;01min\u001b[39;00m string\u001b[38;5;241m.\u001b[39mascii_uppercase \u001b[38;5;28;01mfor\u001b[39;00m c \u001b[38;5;129;01min\u001b[39;00m value):\n\u001b[0;32m---> 17\u001b[0m     \u001b[38;5;28;01mraise\u001b[39;00m \u001b[38;5;167;01mValueError\u001b[39;00m(\u001b[38;5;124m'\u001b[39m\u001b[38;5;124mMust be uppercase ASCII\u001b[39m\u001b[38;5;124m'\u001b[39m)\n\u001b[1;32m     18\u001b[0m \u001b[38;5;28;01mif\u001b[39;00m \u001b[38;5;28mlen\u001b[39m(value) \u001b[38;5;241m>\u001b[39m \u001b[38;5;241m10\u001b[39m:\n\u001b[1;32m     19\u001b[0m     \u001b[38;5;28;01mraise\u001b[39;00m \u001b[38;5;167;01mValueError\u001b[39;00m(\u001b[38;5;124m'\u001b[39m\u001b[38;5;124mMust be 10 characters or less\u001b[39m\u001b[38;5;124m'\u001b[39m)\n",
      "\u001b[0;31mValueError\u001b[0m: Must be uppercase ASCII"
     ]
    }
   ],
   "source": [
    "a = Account('Guido', 1000.0)"
   ]
  },
  {
   "cell_type": "markdown",
   "id": "5c811f93-bd7e-4683-98f0-8dc5e483e4ab",
   "metadata": {},
   "source": [
    "При каждом обращении к атрибуту свойства автоматически вызывается метод, поэтому реальное значение должно храниться под другим именем. Вот почему внутри методов чтения и записи используется имя _owner. owner не может использоваться для хранения - это приведет к бесконечной рекурсии.\n",
    "Как правило, свойства позволяют перехватывать любое конкретное имя атрибута. Вы можете реализовать методы для чтения, записи или удаления значения атрибута:"
   ]
  },
  {
   "cell_type": "code",
   "execution_count": 34,
   "id": "37262455-009f-40c7-b77c-8cc6fcd09698",
   "metadata": {},
   "outputs": [],
   "source": [
    "class SomeClass:\n",
    "    @property\n",
    "    def attr(self):\n",
    "        print('Getting')\n",
    "        \n",
    "    @attr.setter\n",
    "    def attr(self, value):\n",
    "        print('Setting', value)\n",
    "        \n",
    "    @attr.deleter\n",
    "    def attr(self):\n",
    "        print('Deleting')"
   ]
  },
  {
   "cell_type": "code",
   "execution_count": 35,
   "id": "77cf2c54-11f2-4934-ae6a-b3c64f335f1f",
   "metadata": {},
   "outputs": [
    {
     "name": "stdout",
     "output_type": "stream",
     "text": [
      "Getting\n",
      "Setting 13\n",
      "Deleting\n"
     ]
    }
   ],
   "source": [
    "s = SomeClass()\n",
    "s.attr # Чтение\n",
    "s.attr = 13 # Запись\n",
    "del s.attr # Удаление"
   ]
  },
  {
   "cell_type": "markdown",
   "id": "6073e428-2430-4260-8420-b1913109f518",
   "metadata": {},
   "source": [
    "Реализовать все части свойства необязательно. На самом деле свойства часто используются для реализации атрибутов вычисляемых данных, доступных только для чтения:"
   ]
  },
  {
   "cell_type": "code",
   "execution_count": 37,
   "id": "7e4ee90d-48a4-485a-8ee5-49846a719333",
   "metadata": {},
   "outputs": [
    {
     "name": "stdout",
     "output_type": "stream",
     "text": [
      "20\n",
      "18\n"
     ]
    }
   ],
   "source": [
    "class Box(object):\n",
    "    def __init__(self, width, height):\n",
    "        self.width = width\n",
    "        self.height = height\n",
    "        \n",
    "    @property\n",
    "    def area(self):\n",
    "        return self.width * self.height\n",
    "    \n",
    "    @property\n",
    "    def perimeter(self):\n",
    "        return 2*self.width + 2*self.height\n",
    "    \n",
    "# Пример использования\n",
    "b = Box(4, 5)\n",
    "print(b.area) # -> 20\n",
    "print(b.perimeter) # -> 18"
   ]
  },
  {
   "cell_type": "code",
   "execution_count": 38,
   "id": "bdac5838-d825-4731-9616-3d57600309a5",
   "metadata": {},
   "outputs": [
    {
     "ename": "AttributeError",
     "evalue": "can't set attribute",
     "output_type": "error",
     "traceback": [
      "\u001b[0;31m---------------------------------------------------------------------------\u001b[0m",
      "\u001b[0;31mAttributeError\u001b[0m                            Traceback (most recent call last)",
      "Input \u001b[0;32mIn [38]\u001b[0m, in \u001b[0;36m<cell line: 1>\u001b[0;34m()\u001b[0m\n\u001b[0;32m----> 1\u001b[0m b\u001b[38;5;241m.\u001b[39marea \u001b[38;5;241m=\u001b[39m \u001b[38;5;241m5\u001b[39m\n",
      "\u001b[0;31mAttributeError\u001b[0m: can't set attribute"
     ]
    }
   ],
   "source": [
    "b.area = 5 # Ошибка: невозможно задать атрибут"
   ]
  },
  {
   "cell_type": "markdown",
   "id": "bb3861ad-b3c2-4443-86ab-2217ec9cebf4",
   "metadata": {},
   "source": [
    "## Код-стиль"
   ]
  },
  {
   "cell_type": "markdown",
   "id": "4f10fe18-af4b-4964-bf8e-ceb0848edb7d",
   "metadata": {},
   "source": [
    "### Паттерны - word of caution"
   ]
  },
  {
   "cell_type": "markdown",
   "id": "02f4ca50-34a8-4d84-bccb-b6766b2c91fe",
   "metadata": {},
   "source": [
    "При написании объектно-ориентированных программ многие стремятся реализовать известные паттерны проектирования: «стратегия», «приспособленец», «одиночка» и т. д. Большинство из них происходят из знаменитой книги «Паттерны проектирования» Эрика Гаммы, Ричарда Хелма, Ральфа Джонсона и Джона Влиссидеса. Если вам знакомы эти паттерны, общие принципы проектирования в других языках могут быть применены и в Python. Но многие документированные шаблоны предназначены для решения конкретных проблем, возникающих из-за строгой статической системы типов C++ или Java. Динамическая природа Python делает многие из этих шаблонов устаревшими, излишними или просто ненужными.\n",
    "\n",
    "Есть ряд универсальных принципов написания хорошего кода. Например, стремление писать код простой в отладке, тестировании и расширении. Такие базовые стратегии, как написание классов с полезными методами `__repr__()`, предпочтение композиции перед наследованием\n",
    "\n",
    "Программисты Python предпочитают работать с кодом, который называют питоническим. Это значит, что объекты соблюдают разные встроенные протоколы (перебор, контейнеры или управление контекстом). Например, вместо того чтобы пытаться реализовать какой-то экзотический шаблон обхода данных из книги по программированию на Java, программист Python реализует его с помощью функции-генератора или просто заменит весь шаблон несколькими поисками по словарю."
   ]
  },
  {
   "cell_type": "markdown",
   "id": "daf42bf6-aa8d-476f-a6a8-2e8565edc977",
   "metadata": {},
   "source": [
    "### PEP-8 "
   ]
  },
  {
   "cell_type": "markdown",
   "id": "40f2c96f-44d1-48b9-ac03-15c21b1776d0",
   "metadata": {},
   "source": [
    "**Лейтмотив - код читают гораздо чаще, чем пишут!**"
   ]
  },
  {
   "cell_type": "markdown",
   "id": "aa293e35-9620-4928-83be-3eb89ed4fc2b",
   "metadata": {},
   "source": [
    "### Отступы"
   ]
  },
  {
   "cell_type": "markdown",
   "id": "b8e1bdeb-8a1f-444e-acf7-c0b9ee7cc6fb",
   "metadata": {},
   "source": [
    "**НЕ**правильно:"
   ]
  },
  {
   "cell_type": "code",
   "execution_count": null,
   "id": "93c3ced1-4c1a-47d2-99dc-1528c6892533",
   "metadata": {},
   "outputs": [],
   "source": [
    "# Arguments on first line forbidden when not using vertical alignment.\n",
    "foo = long_function_name(var_one, var_two,\n",
    "    var_three, var_four)\n",
    "\n",
    "# Further indentation required as indentation is not distinguishable.\n",
    "def long_function_name(\n",
    "    var_one, var_two, var_three,\n",
    "    var_four):\n",
    "    print(var_one)"
   ]
  },
  {
   "cell_type": "markdown",
   "id": "7ad9a521-e36a-457a-8596-194888a4d49a",
   "metadata": {},
   "source": [
    "Правильно:"
   ]
  },
  {
   "cell_type": "code",
   "execution_count": null,
   "id": "97e1833e-7bec-46d1-9fea-e6f60e9a67dc",
   "metadata": {},
   "outputs": [],
   "source": [
    "# Aligned with opening delimiter.\n",
    "foo = long_function_name(var_one, var_two,\n",
    "                         var_three, var_four)\n",
    "\n",
    "# Add 4 spaces (an extra level of indentation) to distinguish arguments from the rest.\n",
    "def long_function_name(\n",
    "        var_one, var_two, var_three,\n",
    "        var_four):\n",
    "    print(var_one)\n",
    "\n",
    "# Hanging indents should add a level.\n",
    "foo = long_function_name(\n",
    "    var_one, var_two,\n",
    "    var_three, var_four)"
   ]
  },
  {
   "cell_type": "markdown",
   "id": "448a1c96-01a1-441a-89b7-65172b4155c5",
   "metadata": {},
   "source": [
    "Опционально:"
   ]
  },
  {
   "cell_type": "code",
   "execution_count": null,
   "id": "20bbb327-bbe2-4963-a9a0-0fe3e418e24d",
   "metadata": {},
   "outputs": [],
   "source": [
    "# Hanging indents *may* be indented to other than 4 spaces.\n",
    "foo = long_function_name(\n",
    "  var_one, var_two,\n",
    "  var_three, var_four)"
   ]
  },
  {
   "cell_type": "markdown",
   "id": "6c44e14d-d659-41da-b663-92a9bb90145b",
   "metadata": {},
   "source": [
    "If-конструкции"
   ]
  },
  {
   "cell_type": "code",
   "execution_count": null,
   "id": "7edba64a-0371-4100-81bf-28c755f629b3",
   "metadata": {},
   "outputs": [],
   "source": [
    "# No extra indentation.\n",
    "if (this_is_one_thing and\n",
    "    that_is_another_thing):\n",
    "    do_something()\n",
    "\n",
    "# Add a comment, which will provide some distinction in editors\n",
    "# supporting syntax highlighting.\n",
    "if (this_is_one_thing and\n",
    "    that_is_another_thing):\n",
    "    # Since both conditions are true, we can frobnicate.\n",
    "    do_something()\n",
    "\n",
    "# Add some extra indentation on the conditional continuation line.\n",
    "if (this_is_one_thing\n",
    "        and that_is_another_thing):\n",
    "    do_something()"
   ]
  },
  {
   "cell_type": "markdown",
   "id": "363e2460-2205-44f6-b9e6-6030550414bb",
   "metadata": {},
   "source": [
    "Закрывающая скобка может располагаться так:"
   ]
  },
  {
   "cell_type": "code",
   "execution_count": null,
   "id": "582f748c-8b2b-4bcc-b772-19368da85a6f",
   "metadata": {},
   "outputs": [],
   "source": [
    "my_list = [\n",
    "    1, 2, 3,\n",
    "    4, 5, 6,\n",
    "    ]\n",
    "result = some_function_that_takes_arguments(\n",
    "    'a', 'b', 'c',\n",
    "    'd', 'e', 'f',\n",
    "    )"
   ]
  },
  {
   "cell_type": "markdown",
   "id": "04d47a93-777b-4c57-b2bc-9ac5f4ae8dc4",
   "metadata": {},
   "source": [
    "Или так"
   ]
  },
  {
   "cell_type": "code",
   "execution_count": null,
   "id": "4d8fd384-2548-4933-b0a0-01e6f71e7054",
   "metadata": {},
   "outputs": [],
   "source": [
    "my_list = [\n",
    "    1, 2, 3,\n",
    "    4, 5, 6,\n",
    "]\n",
    "result = some_function_that_takes_arguments(\n",
    "    'a', 'b', 'c',\n",
    "    'd', 'e', 'f',\n",
    ")"
   ]
  },
  {
   "cell_type": "markdown",
   "id": "24327a04-9831-4d6f-ab6a-e5e07c52f3c6",
   "metadata": {},
   "source": [
    "### Длина строки"
   ]
  },
  {
   "cell_type": "markdown",
   "id": "bbcebab0-dade-47a9-bd71-aa2b5790ac68",
   "metadata": {},
   "source": [
    "Максимальная длина строки - 79 символов (по договоренности внутри команды можно 99, но не более) , для докстринга и комментариев - 72 символа."
   ]
  },
  {
   "cell_type": "markdown",
   "id": "d6363dfb-c370-4409-8f23-714dd5f38692",
   "metadata": {},
   "source": [
    "Лучше всего обходиться механизмами, позволяющими объединить строки по умолчанию (такими, как скобки) - должно иметь приоритет перед `\\`, хоть иногда использование последнего и оправдано (например, с контекст-менеджером `with` или `assert`):"
   ]
  },
  {
   "cell_type": "code",
   "execution_count": null,
   "id": "e327f997-61e2-44dc-b37e-2721cd91c6dd",
   "metadata": {},
   "outputs": [],
   "source": [
    "with open('/path/to/some/file/you/want/to/read') as file_1, \\\n",
    "     open('/path/to/some/file/being/written', 'w') as file_2:\n",
    "    file_2.write(file_1.read())"
   ]
  },
  {
   "cell_type": "markdown",
   "id": "6c433584-c093-43d9-932c-c23c425cd0c3",
   "metadata": {},
   "source": [
    "Разрыв строки перед бинарным оператором.\n",
    "\n",
    "**НЕ**правильно:"
   ]
  },
  {
   "cell_type": "code",
   "execution_count": null,
   "id": "d7372b9f-0253-4f45-8635-529d5a45001c",
   "metadata": {},
   "outputs": [],
   "source": [
    "# operators sit far away from their operands\n",
    "income = (gross_wages +\n",
    "          taxable_interest +\n",
    "          (dividends - qualified_dividends) -\n",
    "          ira_deduction -\n",
    "          student_loan_interest)"
   ]
  },
  {
   "cell_type": "markdown",
   "id": "7602d988-5a8a-4797-8394-7fedaa56d1a3",
   "metadata": {},
   "source": [
    "Правильно:"
   ]
  },
  {
   "cell_type": "code",
   "execution_count": null,
   "id": "19dca912-2a9d-499b-b92a-25714a2665e7",
   "metadata": {},
   "outputs": [],
   "source": [
    "# easy to match operators with operands\n",
    "income = (gross_wages\n",
    "          + taxable_interest\n",
    "          + (dividends - qualified_dividends)\n",
    "          - ira_deduction\n",
    "          - student_loan_interest)"
   ]
  },
  {
   "cell_type": "markdown",
   "id": "c1d012aa-6f57-41a3-925e-18d6f3104cc7",
   "metadata": {},
   "source": [
    "### Пробелы"
   ]
  },
  {
   "cell_type": "markdown",
   "id": "132a4c48-67ff-4948-9e71-8e51ee5720c6",
   "metadata": {},
   "source": [
    "Двоеточие не в роли оператора:"
   ]
  },
  {
   "cell_type": "code",
   "execution_count": null,
   "id": "2b6e75a0-9413-4c29-b03d-a8067e4c9dae",
   "metadata": {},
   "outputs": [],
   "source": [
    "# Correct:\n",
    "if x == 4: print(x, y); x, y = y, x"
   ]
  },
  {
   "cell_type": "code",
   "execution_count": null,
   "id": "624a9173-ea62-4d5e-9ee5-fe97276e36cd",
   "metadata": {},
   "outputs": [],
   "source": [
    "# Wrong:\n",
    "if x == 4 : print(x , y) ; x , y = y , x"
   ]
  },
  {
   "cell_type": "markdown",
   "id": "0840c147-5a1c-460d-ab64-5e5cf1a36147",
   "metadata": {},
   "source": [
    "Двоеточие в роли оператора:"
   ]
  },
  {
   "cell_type": "code",
   "execution_count": null,
   "id": "0f61a035-9ec6-4da8-a1b1-6d91d0bb754e",
   "metadata": {},
   "outputs": [],
   "source": [
    "# Correct:\n",
    "ham[1:9], ham[1:9:3], ham[:9:3], ham[1::3], ham[1:9:]\n",
    "ham[lower:upper], ham[lower:upper:], ham[lower::step]\n",
    "ham[lower+offset : upper+offset]\n",
    "ham[: upper_fn(x) : step_fn(x)], ham[:: step_fn(x)]\n",
    "ham[lower + offset : upper + offset]"
   ]
  },
  {
   "cell_type": "code",
   "execution_count": null,
   "id": "80bfc9e1-523d-4564-8a86-9c6aee402954",
   "metadata": {},
   "outputs": [],
   "source": [
    "# Wrong:\n",
    "ham[lower + offset:upper + offset]\n",
    "ham[1: 9], ham[1 :9], ham[1:9 :3]\n",
    "ham[lower : : step]\n",
    "ham[ : upper]"
   ]
  },
  {
   "cell_type": "markdown",
   "id": "b90bb3a2-d49c-47d5-b65a-5cf628f43ca1",
   "metadata": {},
   "source": [
    "Бинарные операторы (=, +=, -=, ==, <, >, !=, <>, <=, >=, in, not in, is, is not, and, or, not) отделяются пробелом с каждой стороны. \n",
    "\n",
    "Если используется несколько операторов с разным приоритетом, пробел добавляется вокруг операторов с самым низким приоритетом. Но использовать разумно - никогда не использовать больше чем один пробел, и использовать одинаковое количество пробелов (ноль или один) по каждую сторону от бинарного оператора:"
   ]
  },
  {
   "cell_type": "code",
   "execution_count": null,
   "id": "170d445d-043f-4672-bccc-691f3c42f289",
   "metadata": {},
   "outputs": [],
   "source": [
    "# Correct:\n",
    "i = i + 1\n",
    "submitted += 1\n",
    "x = x*2 - 1\n",
    "hypot2 = x*x + y*y\n",
    "c = (a+b) * (a-b)"
   ]
  },
  {
   "cell_type": "code",
   "execution_count": null,
   "id": "d8602670-1398-45a6-99fb-d2fce476a0e4",
   "metadata": {},
   "outputs": [],
   "source": [
    "# Wrong:\n",
    "i=i+1\n",
    "submitted +=1\n",
    "x = x * 2 - 1\n",
    "hypot2 = x * x + y * y\n",
    "c = (a + b) * (a - b)"
   ]
  },
  {
   "cell_type": "code",
   "execution_count": null,
   "id": "1ac837c2-65e0-4b47-b18e-c441edac3cd6",
   "metadata": {},
   "outputs": [],
   "source": [
    "# Correct:\n",
    "def munge(input: AnyStr): ...\n",
    "def munge() -> PosInt: ..."
   ]
  },
  {
   "cell_type": "code",
   "execution_count": null,
   "id": "79de51f9-0f51-4ade-8fe9-b20761616736",
   "metadata": {},
   "outputs": [],
   "source": [
    "# Wrong:\n",
    "def munge(input:AnyStr): ...\n",
    "def munge()->PosInt: ..."
   ]
  },
  {
   "cell_type": "markdown",
   "id": "39a89933-17fb-42e1-b710-37af93a48f11",
   "metadata": {},
   "source": [
    "Не используйте пробелы с `=` когда задаете именованный аргумент, или дефолтное значение:"
   ]
  },
  {
   "cell_type": "code",
   "execution_count": null,
   "id": "b9b2e87f-43d4-4aff-8c21-c2c8d739e094",
   "metadata": {},
   "outputs": [],
   "source": [
    "# Correct:\n",
    "def complex(real, imag=0.0):\n",
    "    return magic(r=real, i=imag)"
   ]
  },
  {
   "cell_type": "code",
   "execution_count": null,
   "id": "eebe65d7-4f2b-49f2-bcd4-9866bccc59a8",
   "metadata": {},
   "outputs": [],
   "source": [
    "# Wrong:\n",
    "def complex(real, imag = 0.0):\n",
    "    return magic(r = real, i = imag)"
   ]
  },
  {
   "cell_type": "markdown",
   "id": "37c5ff64-44ce-4e58-bdfe-c3cacfcd4742",
   "metadata": {},
   "source": [
    "Исключение - аннотация типов"
   ]
  },
  {
   "cell_type": "code",
   "execution_count": null,
   "id": "f4e9f4fa-6c50-457c-b20b-54465a8d183b",
   "metadata": {},
   "outputs": [],
   "source": [
    "# Correct:\n",
    "def munge(sep: AnyStr = None): ...\n",
    "def munge(input: AnyStr, sep: AnyStr = None, limit=1000): ..."
   ]
  },
  {
   "cell_type": "code",
   "execution_count": null,
   "id": "9bd07271-0dda-45e1-be09-f419210997fd",
   "metadata": {},
   "outputs": [],
   "source": [
    "# Wrong:\n",
    "def munge(input: AnyStr=None): ...\n",
    "def munge(input: AnyStr, limit = 1000): ..."
   ]
  },
  {
   "cell_type": "markdown",
   "id": "0f6bfac3-cd9e-48d3-b07a-b20965a5f3b5",
   "metadata": {},
   "source": [
    "### Комментарии и докстринг"
   ]
  },
  {
   "cell_type": "code",
   "execution_count": null,
   "id": "0765a95a-b333-41ca-8464-feb5d20b38d6",
   "metadata": {},
   "outputs": [],
   "source": [
    "\"\"\"Return a foobang\n",
    "\n",
    "Optional plotz says to frobnicate the bizbaz first.\n",
    "\"\"\""
   ]
  },
  {
   "cell_type": "code",
   "execution_count": null,
   "id": "ee1189a9-d278-4c00-ab38-14bdf254d39a",
   "metadata": {},
   "outputs": [],
   "source": [
    "\"\"\"Return an ex-parrot.\"\"\""
   ]
  },
  {
   "cell_type": "code",
   "execution_count": null,
   "id": "1aeb83d8-7aa6-491d-9801-0fdc2afafd3b",
   "metadata": {},
   "outputs": [],
   "source": []
  },
  {
   "cell_type": "code",
   "execution_count": null,
   "id": "3d4d8038-7686-44a3-829b-5ee11af39523",
   "metadata": {},
   "outputs": [],
   "source": []
  },
  {
   "cell_type": "markdown",
   "id": "1df5288e-7288-4368-8a3d-f321bc545fe1",
   "metadata": {},
   "source": [
    "# Спасибо за активное участие в курсе! \n",
    "# Успехов на дальнейших дисциплинах майнора!\n",
    "# P.S. и карьере data scientist'а тоже ;)"
   ]
  },
  {
   "cell_type": "code",
   "execution_count": null,
   "id": "8c5c66fb-85f0-4830-8a2f-706927ab6bd1",
   "metadata": {},
   "outputs": [],
   "source": []
  },
  {
   "cell_type": "code",
   "execution_count": null,
   "id": "8274c195-98d6-490c-83cf-3ba968fe9bc6",
   "metadata": {},
   "outputs": [],
   "source": []
  }
 ],
 "metadata": {
  "kernelspec": {
   "display_name": "Python 3 (ipykernel)",
   "language": "python",
   "name": "python3"
  },
  "language_info": {
   "codemirror_mode": {
    "name": "ipython",
    "version": 3
   },
   "file_extension": ".py",
   "mimetype": "text/x-python",
   "name": "python",
   "nbconvert_exporter": "python",
   "pygments_lexer": "ipython3",
   "version": "3.9.7"
  }
 },
 "nbformat": 4,
 "nbformat_minor": 5
}
