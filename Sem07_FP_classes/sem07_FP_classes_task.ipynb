{
 "cells": [
  {
   "cell_type": "markdown",
   "id": "e7f033cc-2552-4d60-8759-6b6e8743f4fe",
   "metadata": {},
   "source": [
    "# Семинар 7. Завершение ФП и разговор про классы"
   ]
  },
  {
   "cell_type": "markdown",
   "id": "be141b4c-0a22-4e1f-a986-1acabd037924",
   "metadata": {},
   "source": [
    "На этом семинаре мы закончим обсуждение элементов функционального программирования и немного поговорим про классы."
   ]
  },
  {
   "cell_type": "markdown",
   "id": "450d3f2e-a3ac-4ff8-8dbb-0543d1335d51",
   "metadata": {},
   "source": [
    "Функциональные элементы\n",
    "\n",
    "1. Итераторы\n",
    "2. Генераторы\n",
    "3. Функции для ФП; functools\n",
    "4. Обратная сторона лямбды\n",
    "\n",
    "Классы\n",
    "\n",
    "1. Базовые понятия\n",
    "2. `__dunder__` методы\n",
    "3. Атрибуты"
   ]
  },
  {
   "cell_type": "markdown",
   "id": "791d7e1e-64b4-4ff5-afe5-86be1d30929d",
   "metadata": {},
   "source": [
    "### Итераторы"
   ]
  },
  {
   "cell_type": "markdown",
   "id": "6496b6b0-cdb5-4a64-90c9-c391121cfaa3",
   "metadata": {},
   "source": [
    "Вопрос: в чем разница между `iterable` и `iterator`?"
   ]
  },
  {
   "cell_type": "code",
   "execution_count": null,
   "id": "b8af629e-bfe4-4f5b-928d-519e04dc1ec9",
   "metadata": {},
   "outputs": [],
   "source": [
    "print(tuple(range(10)))"
   ]
  },
  {
   "cell_type": "markdown",
   "id": "57a2bb9b",
   "metadata": {},
   "source": [
    "Задание: напишите проверку на то, является ли объект перебираемым. Вам помогут функция `iter()`, а также обработчик ошибок"
   ]
  },
  {
   "cell_type": "code",
   "execution_count": null,
   "id": "9250cdd4",
   "metadata": {},
   "outputs": [],
   "source": [
    "arr = ['i', 'love', 'working', 'with', 'Python']\n",
    "b = 45.7\n",
    "\n",
    "###YOUR CODE###"
   ]
  },
  {
   "cell_type": "markdown",
   "id": "f1ddf116-70ef-4fb0-a03c-fb3fd6dd550d",
   "metadata": {},
   "source": [
    "Итератор - объект, который отслеживат свое местонахождение в итерируемым объекте, и по запросу выдает следующее значение. Можно создать итератор по списку, и далее вызывать `next(it)`, пока не получим исключение `StopIteration`"
   ]
  },
  {
   "cell_type": "code",
   "execution_count": null,
   "id": "8a1ea962-4cef-406f-9188-5f99d977b0ab",
   "metadata": {},
   "outputs": [],
   "source": [
    "it = iter([2, 3, 5])"
   ]
  },
  {
   "cell_type": "markdown",
   "id": "90d2331c-c1c9-4dc4-b37a-8fa39b6bb14a",
   "metadata": {},
   "source": [
    "Чтобы вручную реализовать итерацию при помощи итератора: \n",
    "\n",
    "• Класс iterable объекта должен содержать метод  `__iter__` для создания и возрата нового итератора\n",
    "\n",
    "• Класс итератора должен содержать два метода:<br> \n",
    "• метод `__init__` , который принимает `iterable` в качестве аргумента и производит остальные необходимые при инициализации вычисления;<br>\n",
    "• метод `__next__` чтобы найти или вычислить следующее значение. Когда возвращать больше нечего, должен выбрасывать исключение `StopIteration`."
   ]
  },
  {
   "cell_type": "code",
   "execution_count": null,
   "id": "f506f142-8988-4a2e-9c1c-9c8d79b25a8d",
   "metadata": {},
   "outputs": [],
   "source": [
    "class MyList(): \n",
    "    def __init__(self, ls): \n",
    "        self.ls = ls \n",
    "        \n",
    "    def __iter__(self): \n",
    "        return Reverser(self.ls) \n",
    "\n",
    "class Reverser(): \n",
    "    def __init__(self, ls): \n",
    "        self.ls = ls \n",
    "        self.index = len(self.ls) \n",
    "    \n",
    "    def __next__(self): \n",
    "        self.index = self.index - 1\n",
    "        if self.index >= 0: \n",
    "            return self.ls[self.index] \n",
    "        raise StopIteration"
   ]
  },
  {
   "cell_type": "markdown",
   "id": "a406cd48-ec92-4884-8714-9143178ac29f",
   "metadata": {},
   "source": [
    "Как мы видим, итератор использует внутренние переменные для отслеживания своей позиции относительно объекта, по которому мы итерируемся. Поэтому он никак не модифицирует этот объект, и, таким образом, на объекте может быть запущено сразу несколько итераторов параллельно."
   ]
  },
  {
   "cell_type": "markdown",
   "id": "42fb0cda-c03c-45e8-b8b9-edb86955978c",
   "metadata": {},
   "source": [
    "Цикле `for` может быть использован с любым итератором. В цикле `for` исключение `StopIteration` не приводит к ошибке, а просто приводит к выходу из цикла."
   ]
  },
  {
   "cell_type": "code",
   "execution_count": null,
   "id": "8dc8e8d3-43c0-4caf-af02-6b380077387d",
   "metadata": {},
   "outputs": [],
   "source": [
    "ls = MyList([1, 2, 3, 4]) \n",
    "\n",
    "for e in ls: \n",
    "    print(e)"
   ]
  },
  {
   "cell_type": "markdown",
   "id": "6f01ce19-4446-4eec-be42-a0f474cbb654",
   "metadata": {},
   "source": [
    "Задание со звездочкой: реализуйте цикл `for` при помощи итератора. Подсказка: обработчик ошибок вам также в помощь тут"
   ]
  },
  {
   "cell_type": "code",
   "execution_count": null,
   "id": "a48bcf26-9ce0-43f1-9bcb-3db47f3e5d66",
   "metadata": {},
   "outputs": [],
   "source": [
    "###YOUR CODE###"
   ]
  },
  {
   "cell_type": "markdown",
   "id": "24c1aa88-c006-4836-9e46-f2b4b08ce959",
   "metadata": {},
   "source": [
    "Итератор не может быть \"переиспользован\", или же как-то \"перезагружен\" - после того, как он выбросит `StopIteration`, мы можем только создать новый."
   ]
  },
  {
   "cell_type": "markdown",
   "id": "c72243b2-c486-451a-8c7a-2902682d76c0",
   "metadata": {},
   "source": [
    "### Генераторы"
   ]
  },
  {
   "cell_type": "markdown",
   "id": "69139dc6-777c-4d28-b1c3-95961593eea0",
   "metadata": {},
   "source": [
    "Генераторы похожи на итераторы. Они также генерируют значения по одному, однако при этом не обязательно привязаны к какому-то объекту.\n",
    "\n",
    "Генератор можно задать почти как списочное включение, где вместо квадратных скобок будут круглые, и использовать во всех тех же случаях, в которых можно использовать итератор:"
   ]
  },
  {
   "cell_type": "code",
   "execution_count": null,
   "id": "7510e4be-1ab0-4efb-bd26-1639cb17c015",
   "metadata": {},
   "outputs": [],
   "source": [
    "word = 'generator'\n",
    "gen = (c for c in word if c in 'aeiou')\n",
    "for i in gen:\n",
    "    print(i, end=' ')"
   ]
  },
  {
   "cell_type": "markdown",
   "id": "a040a9bb-8e3f-4af9-adc1-8dce54c62f8b",
   "metadata": {},
   "source": [
    "Как и итератор, после полного цикла он принимает пустое значение и больше ничего не вернет."
   ]
  },
  {
   "cell_type": "code",
   "execution_count": null,
   "id": "fd3c1d7d-4c18-459d-8994-f5a56b80690c",
   "metadata": {},
   "outputs": [],
   "source": [
    "for i in gen:\n",
    "    print(i, end=' ')"
   ]
  },
  {
   "cell_type": "markdown",
   "id": "28f02fea-13cb-4ddf-9119-75dd44e5c0f6",
   "metadata": {},
   "source": [
    "Смысл генератора чуть можно лучше прояснить, если попробовать написать функцию, которая ведет себя как генераторы. В таких функциях вместо `return` мы используем `yield`"
   ]
  },
  {
   "cell_type": "code",
   "execution_count": null,
   "id": "4ac6c4e1-5697-4015-a491-5065b87906a2",
   "metadata": {},
   "outputs": [],
   "source": [
    "def powers_of_two():\n",
    "    n = 2\n",
    "    for i in range(0, 5):\n",
    "        yield n\n",
    "        n *= 2"
   ]
  },
  {
   "cell_type": "markdown",
   "id": "c16d8dd0-d17b-42e7-b34b-0667645bb91f",
   "metadata": {},
   "source": [
    "При вызове функции возвращается не число, а генератор, который мы затем можем использовать"
   ]
  },
  {
   "cell_type": "code",
   "execution_count": null,
   "id": "b99e6044-bd15-4e7a-b134-35549b207cac",
   "metadata": {},
   "outputs": [],
   "source": [
    "gen = powers_of_two()\n",
    "for n in gen:\n",
    "    print(n)"
   ]
  },
  {
   "cell_type": "markdown",
   "id": "9f4b3c1c-41c7-4b0f-a592-e96edd5e38ff",
   "metadata": {},
   "source": [
    "Генерируем следующее значение, и обрабатываем исключение"
   ]
  },
  {
   "cell_type": "code",
   "execution_count": null,
   "id": "0519400d-37e8-417d-809c-5ed9ad152650",
   "metadata": {},
   "outputs": [],
   "source": [
    "gen = powers_of_two()\n",
    "while True:\n",
    "    try:\n",
    "        print(next(gen))\n",
    "    except StopIteration:\n",
    "        break"
   ]
  },
  {
   "cell_type": "markdown",
   "id": "a04d3f41-d7c4-45fa-94dd-d100a3400b84",
   "metadata": {},
   "source": [
    "Что тут происходит:<br>\n",
    "• Вызов `gen = powers_of_two()` возвращает генератор и кладет в переменную `gen`.<br>\n",
    "• Первый вызов `next(gen)` исполнит код генератора до `yield` и вернет необходимое значение, как обычный `return`. Однако вдобавок генератор запомнит свое состояние.<br>\n",
    "• Следующий вызов `next(gen)` вернется к исполнению кода в генераторе с предыдущего состояния, то есть сразу после `yield`. Все значения локальных переменных будут восстановлены - как будто бы `yield` не происходил. В нашем примере, цикл `for` продолжит исполнение (кстати, `yield` можно использовать более одного раза в рамках одной функции).<br>\n",
    "• В конце - все так же `StopIteration`."
   ]
  },
  {
   "cell_type": "markdown",
   "id": "b0064350",
   "metadata": {},
   "source": [
    "#### Генераторы и память"
   ]
  },
  {
   "cell_type": "code",
   "execution_count": null,
   "id": "dd5cd321",
   "metadata": {},
   "outputs": [],
   "source": [
    "import sys\n",
    "\n",
    "# проверяем расход памяти\n",
    "def memory_size(_, code):\n",
    "    size = sys.getsizeof(code)\n",
    "    return f'{_}: allocated memory is {size} bytes'\n",
    "\n",
    "print(memory_size('generator', (num**2 for num in range(10000))))\n",
    "print(memory_size('list comprehension', [num**2 for num in range(10000)]))"
   ]
  },
  {
   "cell_type": "markdown",
   "id": "93cdbeac",
   "metadata": {},
   "source": [
    "Генераторы позволяют нам работать с большими датасетами с минимальными затратами памяти."
   ]
  },
  {
   "cell_type": "code",
   "execution_count": null,
   "id": "9b1ff146-a1ee-41c1-af85-22b7fc63eac7",
   "metadata": {},
   "outputs": [],
   "source": []
  },
  {
   "cell_type": "markdown",
   "id": "fb1d86b9",
   "metadata": {
    "tags": []
   },
   "source": [
    "### Прочие функциональные инструменты"
   ]
  },
  {
   "cell_type": "markdown",
   "id": "1dec2f41",
   "metadata": {},
   "source": [
    "Питон располагает рядом встроенных инструментов:\n",
    "\n",
    "`map(function, iterable)` применяет функцию к каждому элементу в перечисляемом объекте и возвращает перечисляемый объект `map`"
   ]
  },
  {
   "cell_type": "code",
   "execution_count": null,
   "id": "5235f5c5",
   "metadata": {},
   "outputs": [],
   "source": [
    "print(map(lambda x: x + \"bzz!\", [\"I think\", \"I'm good\"]))\n",
    "list(map(lambda x: x + \"bzz!\", [\"I think\", \"I'm good\"]))"
   ]
  },
  {
   "cell_type": "markdown",
   "id": "fca94e5a",
   "metadata": {},
   "source": [
    "`filter(function or None, iterable)` отбирает элементы из перечисляемого объекта на основании результата применения к ним функции, и возвращает перечисляемый объект `filter`"
   ]
  },
  {
   "cell_type": "code",
   "execution_count": null,
   "id": "a8bba30a",
   "metadata": {},
   "outputs": [],
   "source": [
    "print(filter(lambda x: x.startswith(\"I \"), [\"I think\", \"I'm good\"]))\n",
    "list(filter(lambda x: x.startswith(\"I \"), [\"I think\", \"I'm good\"]))"
   ]
  },
  {
   "cell_type": "markdown",
   "id": "ed5ba0b9",
   "metadata": {},
   "source": [
    "`zip(iter1 [,iter2 [...]])` принимает на вход последовательности одной длины, и поэлементно собирает их в последовательность кортежей. Полезно, например, если нам нужно объединить список ключей и список значений в словарь. Возвращает перечисляемый объект `zip`"
   ]
  },
  {
   "cell_type": "code",
   "execution_count": null,
   "id": "861106b0",
   "metadata": {},
   "outputs": [],
   "source": [
    "keys = [\"foobar\", \"barzz\", \"ba!\"]\n",
    "print(zip(keys, map(len, keys)))\n",
    "print(list(zip(keys, map(len, keys))))\n",
    "print(dict(zip(keys, map(len, keys))))"
   ]
  },
  {
   "cell_type": "markdown",
   "id": "0acb6aa1-6c46-4580-89e9-3297bb1dbe40",
   "metadata": {},
   "source": [
    "При помощи `zip` можно проитерироваться по двум спискам сразу. Задание: попробуйте реализовать это"
   ]
  },
  {
   "cell_type": "code",
   "execution_count": null,
   "id": "c6cd0727-cf25-49ac-b3fe-e57670b27452",
   "metadata": {},
   "outputs": [],
   "source": [
    "first_names = ['George','Keith', 'Art']\n",
    "last_names = ['Luke', 'Dell','Funnel']\n",
    "\n",
    "###YOUR CODE###"
   ]
  },
  {
   "cell_type": "code",
   "execution_count": null,
   "id": "6a293e4b-5eac-4096-a9a0-3967efc0f02c",
   "metadata": {},
   "outputs": [],
   "source": []
  },
  {
   "cell_type": "markdown",
   "id": "ea8523f6",
   "metadata": {},
   "source": [
    "`functools.reduce(binaryFunction, iterable)` применяет бинарную функцию к первым двум элементам перечисляемого объекта. Затем операция последовательно повторяется по отношению к результату применения функции и следующему элементу, пока перечисляемый объект не свернется в одно результирующее значение. (NB: `reduce` необходимо импортировать из библиотеки `functools`)."
   ]
  },
  {
   "cell_type": "code",
   "execution_count": null,
   "id": "10227a7a",
   "metadata": {},
   "outputs": [],
   "source": [
    "my_list = [3, 1, 4, 1, 6]\n",
    "from functools import reduce\n",
    "reduce(lambda x, y: x + y, my_list)"
   ]
  },
  {
   "cell_type": "markdown",
   "id": "4e5ab612-6dc2-4ee6-b6b3-ece29783b06b",
   "metadata": {},
   "source": [
    "Задание: реализуйте факториал в одну строчку кода (hint: может пригодиться `range()`)"
   ]
  },
  {
   "cell_type": "code",
   "execution_count": null,
   "id": "dde7c919-257e-416f-9cd4-1a2ca366424f",
   "metadata": {},
   "outputs": [],
   "source": [
    "from functools import reduce\n",
    "num = 9\n",
    "\n",
    "###YOUR CODE HERE###"
   ]
  },
  {
   "cell_type": "code",
   "execution_count": null,
   "id": "81526602-8517-4ac0-8a6d-c7587bbe147d",
   "metadata": {},
   "outputs": [],
   "source": []
  },
  {
   "cell_type": "markdown",
   "id": "e85111a5",
   "metadata": {},
   "source": [
    "`any(iterable)` и `all(iterable)` возвращают булево значение в зависимости от значений на элементах перечисляегого объекта. Они эквивалентны следующему:"
   ]
  },
  {
   "cell_type": "code",
   "execution_count": null,
   "id": "fbad9a49",
   "metadata": {},
   "outputs": [],
   "source": [
    "def all(iterable):\n",
    "    for x in iterable:\n",
    "        if not x:\n",
    "            return False\n",
    "    return True"
   ]
  },
  {
   "cell_type": "code",
   "execution_count": null,
   "id": "09c96cfe",
   "metadata": {},
   "outputs": [],
   "source": [
    "def any(iterable):\n",
    "    for x in iterable:\n",
    "        if x:\n",
    "            return True\n",
    "    return False"
   ]
  },
  {
   "cell_type": "markdown",
   "id": "f9412bbb",
   "metadata": {},
   "source": [
    "Их удобно применять в том случае, если нужно проверить, соответствуют ли все / хоть один элемент в перечисляемом объекте условию:"
   ]
  },
  {
   "cell_type": "code",
   "execution_count": null,
   "id": "81d8d192",
   "metadata": {},
   "outputs": [],
   "source": [
    "mylist = [0, 1, 3, -1]\n",
    "if all(map(lambda x: x > 0, mylist)):\n",
    "    print(\"All items are greater than 0\")\n",
    "if any(map(lambda x: x > 0, mylist)):\n",
    "    print(\"At least one item is greater than 0\")"
   ]
  },
  {
   "cell_type": "code",
   "execution_count": null,
   "id": "7d08f9e8",
   "metadata": {},
   "outputs": [],
   "source": []
  },
  {
   "cell_type": "markdown",
   "id": "e831d4d1",
   "metadata": {},
   "source": [
    "#### Вернемся к списочным включениям в этом контексте"
   ]
  },
  {
   "cell_type": "markdown",
   "id": "a26641fb",
   "metadata": {},
   "source": [
    "Как мы выяснили, списочные включения - это отличный способ задания списков. Стоит отметить, что списки, которые заданы при помощи включений, ни в чем не опираются на состояние программы, и потому вписываются в парадигму функционального программирования (и именно в силу этого является столь элегантным и легким к восприятию приемом)."
   ]
  },
  {
   "cell_type": "markdown",
   "id": "d8313d76",
   "metadata": {},
   "source": [
    "Задание: напишите эквивалент `filter` и `map` при помощи списочного включения:"
   ]
  },
  {
   "cell_type": "code",
   "execution_count": null,
   "id": "58b23cb9-51af-4f46-8f91-dfb1c8f4723f",
   "metadata": {},
   "outputs": [],
   "source": []
  },
  {
   "cell_type": "markdown",
   "id": "277792df",
   "metadata": {},
   "source": [
    "`map`"
   ]
  },
  {
   "cell_type": "code",
   "execution_count": null,
   "id": "4b92f408",
   "metadata": {},
   "outputs": [],
   "source": [
    "###YOUR CODE###"
   ]
  },
  {
   "cell_type": "markdown",
   "id": "91b184ab",
   "metadata": {},
   "source": [
    "`filter`"
   ]
  },
  {
   "cell_type": "code",
   "execution_count": null,
   "id": "f09e35f7",
   "metadata": {},
   "outputs": [],
   "source": [
    "###YOUR CODE###"
   ]
  },
  {
   "cell_type": "code",
   "execution_count": null,
   "id": "430b5b22",
   "metadata": {},
   "outputs": [],
   "source": []
  },
  {
   "cell_type": "markdown",
   "id": "88a7ef89-4813-4d14-8751-ea8464962cf5",
   "metadata": {},
   "source": [
    "### Обратная сторона лямбды"
   ]
  },
  {
   "cell_type": "markdown",
   "id": "94bb7ebc-c70a-4741-8e3b-c280bbeed099",
   "metadata": {},
   "source": [
    "Подоплека: когда мы работаем со списками, часто встает задача найти первый элемент, удовлетворяющий определенному условию. Обычно эта задача решается при помощи конструкции наподобие следующей:"
   ]
  },
  {
   "cell_type": "code",
   "execution_count": null,
   "id": "6271b348",
   "metadata": {},
   "outputs": [],
   "source": [
    "def first_positive_number(numbers):\n",
    "    for n in numbers:\n",
    "        if n > 0:\n",
    "    return n"
   ]
  },
  {
   "cell_type": "markdown",
   "id": "63537011-2730-4261-9550-e37fd37627e7",
   "metadata": {},
   "source": [
    "В функциональном стиле можно переписать так:"
   ]
  },
  {
   "cell_type": "code",
   "execution_count": null,
   "id": "f699bc7a",
   "metadata": {},
   "outputs": [],
   "source": [
    "def first(predicate, items):\n",
    "    for item in items:\n",
    "        if predicate(item):\n",
    "    return item\n",
    "\n",
    "first(lambda x: x > 0, [-1, 0, 1, 2])"
   ]
  },
  {
   "cell_type": "code",
   "execution_count": null,
   "id": "e0a63589",
   "metadata": {},
   "outputs": [],
   "source": [
    "# Less efficient\n",
    "list(filter(lambda x: x > 0, [-1, 0, 1, 2]))[0]\n",
    "# Efficient\n",
    "next(filter(lambda x: x > 0, [-1, 0, 1, 2]))"
   ]
  },
  {
   "cell_type": "markdown",
   "id": "7141c364-4354-401e-a066-fea043b2e8a4",
   "metadata": {},
   "source": [
    "Вопрос: какую вы видите проблему с первым вариантом?"
   ]
  },
  {
   "cell_type": "markdown",
   "id": "4db558b1-cb1c-4f2d-8615-34daf8245255",
   "metadata": {},
   "source": [
    "Можно немного упростить себе жизнь, воспользовавшись небольшой полезной библиотекой first:"
   ]
  },
  {
   "cell_type": "code",
   "execution_count": null,
   "id": "a7caa4a7",
   "metadata": {},
   "outputs": [],
   "source": [
    "from first import first\n",
    "\n",
    "a = first([0, False, None, [], (), 42])\n",
    "b = first([-1, 0, 1, 2])\n",
    "c = first([-1, 0, 1, 2], key=lambda x: x > 0)\n",
    "print(a, b, c)"
   ]
  },
  {
   "cell_type": "markdown",
   "id": "9d6c1714-e5a4-42b2-b0f8-d1f143e28421",
   "metadata": {},
   "source": [
    "Здесь мы используем именованный аргумент `key` с тем, чтобы передать в него функцию, которая поочередно оценивает каждый аргумент на соответствие условию.\n",
    "\n",
    "Как можно увидеть, в семинаре мы повсеместно используем для подобных случаев `lambda`. Вообще говоря, `lambda` была включена в Python в первую очередь для удобства использования функциональных `map()` и `filter()`, который в противном случае потребовали бы определять новую функцию каждый раз когда нужно проверить какое-то новое условие."
   ]
  },
  {
   "cell_type": "code",
   "execution_count": null,
   "id": "1096f9b1",
   "metadata": {},
   "outputs": [],
   "source": [
    "import operator\n",
    "from first import first\n",
    "\n",
    "def greater_than_zero(number):\n",
    "    return number > 0\n",
    "\n",
    "first([-1, 0, 1, 2], key=greater_than_zero)"
   ]
  },
  {
   "cell_type": "markdown",
   "id": "8de47a63-8387-44a8-8b8d-eafc314ced2f",
   "metadata": {},
   "source": [
    "Код выше работает аналогично предыдущей ячейке, но он гораздо более громоздкий. Если, например, нам понадобится найти первое число в последовательности, которое превосходит, скажем, 42, то нам бы пришлось определять соответствующую отдельную функцию вместо того, чтобы определить ее в одной строке с вызовом `first`.\n",
    "\n",
    "Несмотря на всю полезность в подобных ситуациях, `lambda` не лишена проблем. Самое очевидное, мы не можем таким образом передать в ключ функцию длиной более одной строчки кода. Однако означает ли это, что в этой ситуации у нас нет другого выхода, кроме как определять отдельную функцию? Не совсем.\n",
    "\n",
    "`functools.partial` предоставляет альтернативу лямбда-выражению, причем даже более гибкую. Эта конструкция позволяет создать функцию-обертку с интересной особенностью: вместо того, чтобы менять поведение функции, мы взамен меняем аргументы, которые она получает на вход. Например:"
   ]
  },
  {
   "cell_type": "code",
   "execution_count": null,
   "id": "f0bf0abf",
   "metadata": {},
   "outputs": [],
   "source": [
    "from functools import partial\n",
    "from first import first\n",
    "\n",
    "def greater_than(number, min=0):\n",
    "    return number > min\n",
    "\n",
    "first([-1, 0, 1, 2], key=partial(greater_than, min=42))"
   ]
  },
  {
   "cell_type": "markdown",
   "id": "c24b95c5-015d-4ffc-b0fa-381ecb4eba68",
   "metadata": {},
   "source": [
    "Теперь наша функция `greater_than` по умолчанию работает как прежняя, но вдобавок мы можем указать значение, с которым мы сравниваем передаваемый в нее аргумент. В данном случае, мы передаем в `functools.partial` нашу исходную функцию и значение, которым мы переопределим `min`, и в результате получим новую функцию, которая сравнивает числа на входе с 42, ровно как мы и хотели бы. Другими словами, мы можем задать функцию, и затем кастомизировать ее при помощи `functools.partial` так, как нам необходимо в данной ситуации.\n",
    "\n",
    "Строго говоря, в данном конкретном случае наша запись все еще избыточна, ведь все, что мы делаем, это сравнение двух чисел. В Питон присутствует специальный модуль `operator` для подобного рода простых операций:"
   ]
  },
  {
   "cell_type": "code",
   "execution_count": null,
   "id": "68abaa0b",
   "metadata": {},
   "outputs": [],
   "source": [
    "import operator\n",
    "from functools import partial\n",
    "from first import first\n",
    "\n",
    "first([-1, 0, 1, 2], key=partial(operator.le, 0))"
   ]
  },
  {
   "cell_type": "markdown",
   "id": "43e61fd0-9c5d-45fb-960f-013691562c94",
   "metadata": {},
   "source": [
    "Как мы можем убедиться, `functools.partial` работает и с позиционными аргументами тоже. В данном примере `operator.le(a, b)` принимает на вход два числа и возвращает булево значение в зависимости от того, больше или равно первое второму или нет. Ноль, который мы передаем в `functools.partial`, уходит в переменную `a`, в то время как то, что уходит в функцию, которую мы получаем на выходе из `functools.partial`, уходит в `b`. Таким образом, используя `le` (а не `ge`, как могло бы показаться), наш пример работает должным образом без необходимости в лямбда-выражении и задании каких-либо дополнительных функций."
   ]
  },
  {
   "cell_type": "markdown",
   "id": "7128def5-82f3-473b-a8d0-608bc3230f8e",
   "metadata": {},
   "source": [
    "`functools.partial` особенно полезна в качестве замены `lambda` - которую, к слову сказать, даже планировали убрать из третьей версии Пайтон! - и считается предпочтительной альтернативой. Лямбда-выражения являются некоторой аномалией ввиду ограничения на длину в одну стоку. С другой стороны, `functools.partial` предоставляет удобную обертку вокруг исходной функции."
   ]
  },
  {
   "cell_type": "code",
   "execution_count": null,
   "id": "8cf57d46-6156-482d-af72-03ccb05c4e2f",
   "metadata": {},
   "outputs": [],
   "source": [
    "from functools import partial\n",
    "binStrToInt = partial(int, base=2)\n",
    "print(binStrToInt('10010'))"
   ]
  },
  {
   "cell_type": "markdown",
   "id": "5aef1386-501b-4a78-b9fa-85b181bf486d",
   "metadata": {},
   "source": [
    "Вообще говоря, модуль `itertools` в составе Python Standard Library содержит целый ряд полезных функций, которые неплохо держать в уме. Очень часто можно встретить примеры, когда разработчики прописывают свои версии данных функций... называя вещи своими именами, изобретают велосипед, когда есть отличные готовые реализации:\n",
    "\n",
    "• `chain(*iterables)` итерация по элементам перечисляемого объекта без явного построения промежуточного списка всех элементов<br>\n",
    "• `combinations(iterable, r)` генерирует все комбинации длины `r` из данного перечисляемого объекта<br>\n",
    "• `compress(data, selectors)` применяет булеву маску из `selectors` к данным и возвращает только те значения из них, где соответствующие элемент селектора истинен<br>\n",
    "• `count(start, step)` генерирует бесконечную последовательность значений, начиная со `start` и увеличиваясь на `step` на каждом вызове<br>\n",
    "• `cycle(iterable)` циклически перебирает элементы в перечисляемом объекте<br>\n",
    "• `dropwhile(predicate, iterable)` отфильтровывает элементы перечисляемого объекта с начала и до момента когда предикат оценится как ложный<br>\n",
    "• `groupby(iterable, keyfunc)` создает итератор, который группирует элементы по результату, который возвращает на них функция `keyfunc`<br>\n",
    "• `permutations(iterable[, r])` возвращает последовательные перестановки элементов перечисляемого объекта длины `r`<br>\n",
    "• `product(*iterables)` возвращает перечисляемый объект декартова произведения перечисляемых объектов без задействования вложенных циклов<br>\n",
    "• `takewhile(predicate, iterable)` возвращает элементы перечисляемого объекта с начала и до момента когда предикат оценится как ложный<br>\n",
    "\n",
    "Наибольшую мощь эти функции приобретают в комбинации с модулем `operator`; сочетание `itertools` и `operator` может заменить собой `lambda` практически во всех ситуациях:"
   ]
  },
  {
   "cell_type": "code",
   "execution_count": null,
   "id": "0b636553",
   "metadata": {},
   "outputs": [],
   "source": [
    "import itertools\n",
    "\n",
    "a = [{'foo': 'bar'}, {'foo': 'bar', 'x': 42}, {'foo': 'baz', 'y': 43}]\n",
    "\n",
    "import operator\n",
    "\n",
    "print(list(itertools.groupby(a, operator.itemgetter('foo'))))\n",
    "[(key, list(group)) for key, group in list(itertools.groupby(a, operator.itemgetter('foo')))]"
   ]
  },
  {
   "cell_type": "markdown",
   "id": "bacc80f9-3dca-47ec-aad3-b481317935ce",
   "metadata": {},
   "source": [
    "В данном случае можно было бы воспользоваться конструкцией `lambda x: x['foo']`, однако использование `operator` позволяет совсем отказаться от лямбда-выражения."
   ]
  },
  {
   "cell_type": "code",
   "execution_count": null,
   "id": "605675d5-7e72-4993-a150-fb383e794d11",
   "metadata": {},
   "outputs": [],
   "source": []
  },
  {
   "cell_type": "markdown",
   "id": "e19851bc-70d9-46e4-b70f-ac5300e6b875",
   "metadata": {},
   "source": [
    "# Элементы ООП"
   ]
  },
  {
   "cell_type": "markdown",
   "id": "12e2becf-227f-45ee-bde4-6e8f9b962f5a",
   "metadata": {},
   "source": [
    "### Базовые сведения про классы"
   ]
  },
  {
   "cell_type": "markdown",
   "id": "1a1593c4-c499-47e9-b7f0-56ff3a05775d",
   "metadata": {},
   "source": [
    "Классы - ключевая концепция в ООП чтобы определять новые типы объектов. Классы позволяют нам абстрагироваться от имплементации объекта и манипулировать ими более верхнеуровнево через внешний интерфейс."
   ]
  },
  {
   "cell_type": "code",
   "execution_count": null,
   "id": "508efa78-289e-49da-b6d1-d478ab09d343",
   "metadata": {},
   "outputs": [],
   "source": [
    "class MyClass:\n",
    "    pass"
   ]
  },
  {
   "cell_type": "code",
   "execution_count": null,
   "id": "f9bca7c2-be59-4f26-9714-b6d002dc214c",
   "metadata": {},
   "outputs": [],
   "source": [
    "my_object = MyClass()\n",
    "my_object"
   ]
  },
  {
   "cell_type": "markdown",
   "id": "bc6f39be-01fd-4aeb-8e3b-c224e721f8e8",
   "metadata": {},
   "source": [
    "В классе мы можем определить связанные с ним методы, определяющие поведение объекта и/или производящие операции над его свойствами. Первым параметром метода всегда является переменная, ссылающаяся на сам класс. По соглашению (и не более того) ее именуют `self`."
   ]
  },
  {
   "cell_type": "code",
   "execution_count": null,
   "id": "cfeb8263-3f6a-4776-ac42-48992fa679f3",
   "metadata": {},
   "outputs": [],
   "source": [
    "class MyClass:\n",
    "    def my_method(self):\n",
    "        print(\"Hello from my_method!\")"
   ]
  },
  {
   "cell_type": "code",
   "execution_count": null,
   "id": "2b8eca70-20cd-41bc-bee6-7e1f714a9af4",
   "metadata": {},
   "outputs": [],
   "source": [
    "my_object.my_method()"
   ]
  },
  {
   "cell_type": "markdown",
   "id": "04a96bcd-697c-4b04-adca-08840d7ca368",
   "metadata": {},
   "source": [
    "Разумеется, методы могут иметь и другие параметры и возвращать значения, по аналогии с функциями"
   ]
  },
  {
   "cell_type": "code",
   "execution_count": null,
   "id": "2d2108d7-fd1b-4ce0-8814-5f73e75fbdbd",
   "metadata": {},
   "outputs": [],
   "source": [
    "class MyClass:\n",
    "    def add(self, a, b):\n",
    "        return a + b\n",
    "\n",
    "my_object = MyClass()\n",
    "result = my_object.add(2, 3)\n",
    "result"
   ]
  },
  {
   "cell_type": "markdown",
   "id": "89e6d14a-1875-4a6d-877d-641f6a077699",
   "metadata": {},
   "source": [
    "И вообще, в каком-то смысле методы и есть функции, привязанные к пространству имен класса. В функциональном смысле нет никакой разницы между"
   ]
  },
  {
   "cell_type": "code",
   "execution_count": null,
   "id": "a37e69f4-0e53-434f-a653-eaff06575c1f",
   "metadata": {},
   "outputs": [],
   "source": [
    "str.join(\"\", ('a', 'b'))"
   ]
  },
  {
   "cell_type": "markdown",
   "id": "4b9f31fb-5859-46e6-a32d-c531d507f4c0",
   "metadata": {},
   "source": [
    "и"
   ]
  },
  {
   "cell_type": "code",
   "execution_count": null,
   "id": "425e9d21-a4b0-45fc-a59f-91a7998a835b",
   "metadata": {},
   "outputs": [],
   "source": [
    "\"\".join(('a', 'b'))"
   ]
  },
  {
   "cell_type": "markdown",
   "id": "1979a56f-19f3-4397-b495-f3f8d1493720",
   "metadata": {},
   "source": [
    "Наконец, мы можем наследовать подкласс от надкласса (`superclass`)."
   ]
  },
  {
   "cell_type": "code",
   "execution_count": null,
   "id": "b1c6927c-cb3a-4400-b045-95b177981a56",
   "metadata": {},
   "outputs": [],
   "source": [
    "class YourClass:\n",
    "    def subtrace(self, a, b):\n",
    "        return a - b\n",
    "\n",
    "class MyClass(YourClass):\n",
    "    pass\n",
    "\n",
    "my_object = MyClass()\n",
    "result = my_object.subtract(2, 3)\n",
    "result"
   ]
  },
  {
   "cell_type": "markdown",
   "id": "247c9834-9872-459e-8b52-c810712c0d5a",
   "metadata": {},
   "source": [
    "Вообще, можно заменить, что вызывая `type()` от многих объектов, зачастую возвращается класс"
   ]
  },
  {
   "cell_type": "code",
   "execution_count": null,
   "id": "9c7caa18-96f7-4d56-bd19-b2d4caa6ccfc",
   "metadata": {},
   "outputs": [],
   "source": [
    "x = \"Hello!\"\n",
    "type(x)"
   ]
  },
  {
   "cell_type": "markdown",
   "id": "ff82b3ee-1d79-4668-bb04-9c367029a820",
   "metadata": {},
   "source": [
    "Все эти встроенные в Питон типы имеют свои методы - к примеру, в классе `str` определен `join()`, который принимает в качестве аргумента вызывающий объект, т.е. строку, как `self`, и набор прочих строк, которые соединяются между собой с `self` в качестве разделителя."
   ]
  },
  {
   "cell_type": "code",
   "execution_count": null,
   "id": "91bf1174-dcdb-4562-bca2-1916804a5156",
   "metadata": {},
   "outputs": [],
   "source": [
    "\" \".join(('a', 'b', 'c'))"
   ]
  },
  {
   "cell_type": "markdown",
   "id": "a6c15f38-ba09-4f28-95a8-f55fb005a326",
   "metadata": {},
   "source": [
    "Принимая во внимание данный факт, мы также можем вызвать метод напрямую от класса, задав в таком случае аргумент `self` явно:"
   ]
  },
  {
   "cell_type": "code",
   "execution_count": null,
   "id": "13cef6be-4c99-42ec-8734-6fc415648c11",
   "metadata": {},
   "outputs": [],
   "source": [
    "str.join(\" \", ('a', 'b', 'c'))"
   ]
  },
  {
   "cell_type": "markdown",
   "id": "404e6b52-3b41-4a19-a1af-3d48eac0732b",
   "metadata": {},
   "source": [
    "### `__dunder__` методы"
   ]
  },
  {
   "cell_type": "markdown",
   "id": "31cd465a-c4b5-4e27-8b71-b08ae77bc555",
   "metadata": {},
   "source": [
    "“dunder” (“double underscore”) еще называют “magic методами” - это специальные методы со специальным значением, определяющие особое поведение объектов, например, `__init__` или `__len__`. Пока остановимся подробнее над\n",
    "`__init__`.\n",
    "\n",
    "`__init__` вызывается автоматически, когда создается объект, и служит для инициализации атрибутов объекта. Важно: `__init__` **не** является конструктором, это инициализатор, который вызывается автоматически **из** конструктора (когда, собственно, конструируется новый объект).\n",
    "\n",
    "После того, как мы определили `__init__`, мы можем создать экземпляр класса и передать в него аргументы, посредством вызова класса с соответствующими параметрами. При этом аргументы будут переданы в вызов метода `__init__`, и будут присвоены экземпляру класса `self` как атрибуты."
   ]
  },
  {
   "cell_type": "code",
   "execution_count": null,
   "id": "0145077f-a973-4928-bd26-67f678d6c5ee",
   "metadata": {},
   "outputs": [],
   "source": [
    "class MyClass:\n",
    "    def __init__(self, my_value):\n",
    "        self.my_value = my_value\n",
    "\n",
    "my_object = MyClass(5)\n",
    "my_object.my_value"
   ]
  },
  {
   "cell_type": "code",
   "execution_count": null,
   "id": "b188d463-10b9-4f3b-a37e-ecafd4a4a0bc",
   "metadata": {},
   "outputs": [],
   "source": [
    "class MyClass:\n",
    "    def __init__(self, my_value):\n",
    "        self.my_value = my_value\n",
    "        \n",
    "    def my_method(a):\n",
    "        print(\"Hello from my_method!\")\n",
    "\n",
    "my_object = MyClass(5)\n",
    "my_object.my_value\n",
    "my_object.my_method()"
   ]
  },
  {
   "cell_type": "code",
   "execution_count": null,
   "id": "116175fb-5fbb-4548-910e-682b199c2a5f",
   "metadata": {},
   "outputs": [],
   "source": [
    "class MyClass:\n",
    "    def __init__(self, my_value):\n",
    "        self.my_value = my_value\n",
    "        \n",
    "    def my_method(a):\n",
    "        print(a.my_value)\n",
    "        print(\"Hello from my_method!\")\n",
    "\n",
    "my_object = MyClass(5)\n",
    "my_object.my_value\n",
    "my_object.my_method()"
   ]
  },
  {
   "cell_type": "markdown",
   "id": "6fce98cf-2760-4bb5-93ff-f93d52f1dfc6",
   "metadata": {},
   "source": [
    "### Собственно, атрибуты\n",
    "\n",
    "Атрибуты - это переменные, ассоциированные с классом или экземпляром класса. В них хранится состояние объекта, и доступ к ним осуществляется через `.`\n",
    "\n",
    "Самый распространенный способ задания атрибутов - как переменные экземпляра класса внутри любого метода класса через `self` (или то, что его заменяет в случае отхода от соглашения). Именно это мы сделали в примере с `__init__`.\n",
    "\n",
    "Еще примеры:"
   ]
  },
  {
   "cell_type": "code",
   "execution_count": null,
   "id": "eb28b681-c7c6-41b3-8323-4a5d976c7442",
   "metadata": {},
   "outputs": [],
   "source": [
    "my_object = MyClass(5)\n",
    "my_object.my_value"
   ]
  },
  {
   "cell_type": "code",
   "execution_count": null,
   "id": "4f74c597-7441-4d91-aefe-5f189eb9d6ef",
   "metadata": {},
   "outputs": [],
   "source": [
    "my_object.my_value = 10\n",
    "my_object.my_value"
   ]
  },
  {
   "cell_type": "markdown",
   "id": "723f7b3e-1385-4fc3-bcd0-1ec317bd007f",
   "metadata": {},
   "source": [
    "Атрибуты класса - переменные, определенные на уровне класса, а не экземпляра класса. Доступ к ним возможен как через наименование экземепляра класса, так и через наименование самого класса."
   ]
  },
  {
   "cell_type": "code",
   "execution_count": null,
   "id": "5da297dd-111d-440f-a0f7-38ffabf2dbde",
   "metadata": {},
   "outputs": [],
   "source": [
    "class MyClass:\n",
    "    class_attribute = \"I am a class attribute.\"\n",
    "\n",
    "obj1 = MyClass()\n",
    "obj2 = MyClass()\n",
    "\n",
    "obj1.class_attribute"
   ]
  },
  {
   "cell_type": "code",
   "execution_count": null,
   "id": "a7d6676f-ea2d-44c4-99c2-412684349ccf",
   "metadata": {},
   "outputs": [],
   "source": [
    "obj2.class_attribute"
   ]
  },
  {
   "cell_type": "code",
   "execution_count": null,
   "id": "89a6613b-2264-4ae8-b695-50c0288a97aa",
   "metadata": {},
   "outputs": [],
   "source": [
    "MyClass.class_attribute"
   ]
  },
  {
   "cell_type": "markdown",
   "id": "c75964f4-b5da-4f99-a07f-51f186171a6b",
   "metadata": {},
   "source": [
    "В случае использования изменяемого типа в качестве атрибута класса важно не попасть в хорошо знакомую нам ловушку:"
   ]
  },
  {
   "cell_type": "code",
   "execution_count": null,
   "id": "8f433191-ddf9-4e94-a9e3-b6dfafab006a",
   "metadata": {},
   "outputs": [],
   "source": [
    "class One:\n",
    "    items = []\n",
    "\n",
    "a = One()\n",
    "b = One()\n",
    "\n",
    "a.items.append(1)\n",
    "b.items"
   ]
  }
 ],
 "metadata": {
  "kernelspec": {
   "display_name": "Python 3 (ipykernel)",
   "language": "python",
   "name": "python3"
  },
  "language_info": {
   "codemirror_mode": {
    "name": "ipython",
    "version": 3
   },
   "file_extension": ".py",
   "mimetype": "text/x-python",
   "name": "python",
   "nbconvert_exporter": "python",
   "pygments_lexer": "ipython3",
   "version": "3.9.7"
  }
 },
 "nbformat": 4,
 "nbformat_minor": 5
}
